{
  "nbformat": 4,
  "nbformat_minor": 0,
  "metadata": {
    "colab": {
      "provenance": [],
      "machine_shape": "hm",
      "gpuType": "V28",
      "authorship_tag": "ABX9TyP7BXgUEQ4TGUl5R9UUx3H3",
      "include_colab_link": true
    },
    "kernelspec": {
      "name": "python3",
      "display_name": "Python 3"
    },
    "language_info": {
      "name": "python"
    },
    "accelerator": "TPU"
  },
  "cells": [
    {
      "cell_type": "markdown",
      "metadata": {
        "id": "view-in-github",
        "colab_type": "text"
      },
      "source": [
        "<a href=\"https://colab.research.google.com/github/sean-otoole/HODD/blob/main/PDTx_pipeline/PDTx_02_Tokenization.ipynb\" target=\"_parent\"><img src=\"https://colab.research.google.com/assets/colab-badge.svg\" alt=\"Open In Colab\"/></a>"
      ]
    },
    {
      "cell_type": "code",
      "execution_count": 2,
      "metadata": {
        "id": "44VJt_eTgFtC",
        "colab": {
          "base_uri": "https://localhost:8080/"
        },
        "outputId": "ab223d84-9d1a-46ca-d7cf-edae2510caf2"
      },
      "outputs": [
        {
          "output_type": "stream",
          "name": "stdout",
          "text": [
            "Mounted at /content/drive\n",
            "Git LFS initialized.\n",
            "/content/drive/MyDrive/HODD/Geneformer\n",
            "Processing /content/drive/MyDrive/HODD/Geneformer\n",
            "  Installing build dependencies ... \u001b[?25l\u001b[?25hdone\n",
            "  Getting requirements to build wheel ... \u001b[?25l\u001b[?25hdone\n",
            "  Preparing metadata (pyproject.toml) ... \u001b[?25l\u001b[?25hdone\n",
            "Requirement already satisfied: anndata in /usr/local/lib/python3.11/dist-packages (from geneformer==0.1.0) (0.11.4)\n",
            "Collecting datasets (from geneformer==0.1.0)\n",
            "  Downloading datasets-3.6.0-py3-none-any.whl.metadata (19 kB)\n",
            "Collecting loompy (from geneformer==0.1.0)\n",
            "  Downloading loompy-3.0.8.tar.gz (49 kB)\n",
            "\u001b[2K     \u001b[90m━━━━━━━━━━━━━━━━━━━━━━━━━━━━━━━━━━━━━━━━\u001b[0m \u001b[32m49.6/49.6 kB\u001b[0m \u001b[31m2.1 MB/s\u001b[0m eta \u001b[36m0:00:00\u001b[0m\n",
            "\u001b[?25h  Installing build dependencies ... \u001b[?25l\u001b[?25hdone\n",
            "  Getting requirements to build wheel ... \u001b[?25l\u001b[?25hdone\n",
            "  Preparing metadata (pyproject.toml) ... \u001b[?25l\u001b[?25hdone\n",
            "Requirement already satisfied: matplotlib in /usr/local/lib/python3.11/dist-packages (from geneformer==0.1.0) (3.10.0)\n",
            "Requirement already satisfied: numpy in /usr/local/lib/python3.11/dist-packages (from geneformer==0.1.0) (2.0.2)\n",
            "Collecting optuna (from geneformer==0.1.0)\n",
            "  Downloading optuna-4.3.0-py3-none-any.whl.metadata (17 kB)\n",
            "Collecting optuna-integration (from geneformer==0.1.0)\n",
            "  Downloading optuna_integration-4.3.0-py3-none-any.whl.metadata (12 kB)\n",
            "Requirement already satisfied: packaging in /usr/local/lib/python3.11/dist-packages (from geneformer==0.1.0) (25.0)\n",
            "Requirement already satisfied: pandas in /usr/local/lib/python3.11/dist-packages (from geneformer==0.1.0) (2.2.2)\n",
            "Collecting peft (from geneformer==0.1.0)\n",
            "  Downloading peft-0.15.2-py3-none-any.whl.metadata (13 kB)\n",
            "Requirement already satisfied: pyarrow in /usr/local/lib/python3.11/dist-packages (from geneformer==0.1.0) (20.0.0)\n",
            "Requirement already satisfied: pytz in /usr/local/lib/python3.11/dist-packages (from geneformer==0.1.0) (2025.2)\n",
            "Collecting ray (from geneformer==0.1.0)\n",
            "  Downloading ray-2.46.0-cp311-cp311-manylinux2014_x86_64.whl.metadata (19 kB)\n",
            "Requirement already satisfied: scanpy in /usr/local/lib/python3.11/dist-packages (from geneformer==0.1.0) (1.11.2)\n",
            "Requirement already satisfied: scikit-learn in /usr/local/lib/python3.11/dist-packages (from geneformer==0.1.0) (1.6.1)\n",
            "Requirement already satisfied: scipy in /usr/local/lib/python3.11/dist-packages (from geneformer==0.1.0) (1.15.3)\n",
            "Requirement already satisfied: seaborn in /usr/local/lib/python3.11/dist-packages (from geneformer==0.1.0) (0.13.2)\n",
            "Requirement already satisfied: setuptools in /usr/local/lib/python3.11/dist-packages (from geneformer==0.1.0) (75.2.0)\n",
            "Requirement already satisfied: statsmodels in /usr/local/lib/python3.11/dist-packages (from geneformer==0.1.0) (0.14.4)\n",
            "Collecting tdigest (from geneformer==0.1.0)\n",
            "  Downloading tdigest-0.5.2.2-py3-none-any.whl.metadata (4.9 kB)\n",
            "Collecting tensorboard (from geneformer==0.1.0)\n",
            "  Downloading tensorboard-2.19.0-py3-none-any.whl.metadata (1.8 kB)\n",
            "Requirement already satisfied: torch in /usr/local/lib/python3.11/dist-packages (from geneformer==0.1.0) (2.6.0+cpu)\n",
            "Requirement already satisfied: tqdm in /usr/local/lib/python3.11/dist-packages (from geneformer==0.1.0) (4.67.1)\n",
            "Requirement already satisfied: transformers in /usr/local/lib/python3.11/dist-packages (from geneformer==0.1.0) (4.52.3)\n",
            "Requirement already satisfied: array-api-compat!=1.5,>1.4 in /usr/local/lib/python3.11/dist-packages (from anndata->geneformer==0.1.0) (1.12.0)\n",
            "Requirement already satisfied: h5py>=3.7 in /usr/local/lib/python3.11/dist-packages (from anndata->geneformer==0.1.0) (3.13.0)\n",
            "Requirement already satisfied: natsort in /usr/local/lib/python3.11/dist-packages (from anndata->geneformer==0.1.0) (8.4.0)\n",
            "Requirement already satisfied: python-dateutil>=2.8.2 in /usr/local/lib/python3.11/dist-packages (from pandas->geneformer==0.1.0) (2.9.0.post0)\n",
            "Requirement already satisfied: tzdata>=2022.7 in /usr/local/lib/python3.11/dist-packages (from pandas->geneformer==0.1.0) (2025.2)\n",
            "Requirement already satisfied: filelock in /usr/local/lib/python3.11/dist-packages (from datasets->geneformer==0.1.0) (3.18.0)\n",
            "Collecting dill<0.3.9,>=0.3.0 (from datasets->geneformer==0.1.0)\n",
            "  Downloading dill-0.3.8-py3-none-any.whl.metadata (10 kB)\n",
            "Requirement already satisfied: requests>=2.32.2 in /usr/local/lib/python3.11/dist-packages (from datasets->geneformer==0.1.0) (2.32.3)\n",
            "Collecting xxhash (from datasets->geneformer==0.1.0)\n",
            "  Downloading xxhash-3.5.0-cp311-cp311-manylinux_2_17_x86_64.manylinux2014_x86_64.whl.metadata (12 kB)\n",
            "Collecting multiprocess<0.70.17 (from datasets->geneformer==0.1.0)\n",
            "  Downloading multiprocess-0.70.16-py311-none-any.whl.metadata (7.2 kB)\n",
            "Collecting fsspec<=2025.3.0,>=2023.1.0 (from fsspec[http]<=2025.3.0,>=2023.1.0->datasets->geneformer==0.1.0)\n",
            "  Downloading fsspec-2025.3.0-py3-none-any.whl.metadata (11 kB)\n",
            "Requirement already satisfied: huggingface-hub>=0.24.0 in /usr/local/lib/python3.11/dist-packages (from datasets->geneformer==0.1.0) (0.32.2)\n",
            "Requirement already satisfied: pyyaml>=5.1 in /usr/local/lib/python3.11/dist-packages (from datasets->geneformer==0.1.0) (6.0.2)\n",
            "Requirement already satisfied: numba in /usr/local/lib/python3.11/dist-packages (from loompy->geneformer==0.1.0) (0.61.2)\n",
            "Requirement already satisfied: click in /usr/local/lib/python3.11/dist-packages (from loompy->geneformer==0.1.0) (8.2.1)\n",
            "Collecting numpy-groupies (from loompy->geneformer==0.1.0)\n",
            "  Downloading numpy_groupies-0.11.3-py3-none-any.whl.metadata (18 kB)\n",
            "Requirement already satisfied: contourpy>=1.0.1 in /usr/local/lib/python3.11/dist-packages (from matplotlib->geneformer==0.1.0) (1.3.2)\n",
            "Requirement already satisfied: cycler>=0.10 in /usr/local/lib/python3.11/dist-packages (from matplotlib->geneformer==0.1.0) (0.12.1)\n",
            "Requirement already satisfied: fonttools>=4.22.0 in /usr/local/lib/python3.11/dist-packages (from matplotlib->geneformer==0.1.0) (4.58.1)\n",
            "Requirement already satisfied: kiwisolver>=1.3.1 in /usr/local/lib/python3.11/dist-packages (from matplotlib->geneformer==0.1.0) (1.4.8)\n",
            "Requirement already satisfied: pillow>=8 in /usr/local/lib/python3.11/dist-packages (from matplotlib->geneformer==0.1.0) (11.2.1)\n",
            "Requirement already satisfied: pyparsing>=2.3.1 in /usr/local/lib/python3.11/dist-packages (from matplotlib->geneformer==0.1.0) (3.2.3)\n",
            "Collecting alembic>=1.5.0 (from optuna->geneformer==0.1.0)\n",
            "  Downloading alembic-1.16.1-py3-none-any.whl.metadata (7.3 kB)\n",
            "Collecting colorlog (from optuna->geneformer==0.1.0)\n",
            "  Downloading colorlog-6.9.0-py3-none-any.whl.metadata (10 kB)\n",
            "Collecting sqlalchemy>=1.4.2 (from optuna->geneformer==0.1.0)\n",
            "  Downloading sqlalchemy-2.0.41-cp311-cp311-manylinux_2_17_x86_64.manylinux2014_x86_64.whl.metadata (9.6 kB)\n",
            "Requirement already satisfied: psutil in /usr/local/lib/python3.11/dist-packages (from peft->geneformer==0.1.0) (5.9.5)\n",
            "Requirement already satisfied: accelerate>=0.21.0 in /usr/local/lib/python3.11/dist-packages (from peft->geneformer==0.1.0) (1.7.0)\n",
            "Requirement already satisfied: safetensors in /usr/local/lib/python3.11/dist-packages (from peft->geneformer==0.1.0) (0.5.3)\n",
            "Requirement already satisfied: typing-extensions>=4.10.0 in /usr/local/lib/python3.11/dist-packages (from torch->geneformer==0.1.0) (4.13.2)\n",
            "Requirement already satisfied: networkx in /usr/local/lib/python3.11/dist-packages (from torch->geneformer==0.1.0) (3.5)\n",
            "Requirement already satisfied: jinja2 in /usr/local/lib/python3.11/dist-packages (from torch->geneformer==0.1.0) (3.1.6)\n",
            "Requirement already satisfied: sympy==1.13.1 in /usr/local/lib/python3.11/dist-packages (from torch->geneformer==0.1.0) (1.13.1)\n",
            "Requirement already satisfied: mpmath<1.4,>=1.1.0 in /usr/local/lib/python3.11/dist-packages (from sympy==1.13.1->torch->geneformer==0.1.0) (1.3.0)\n",
            "Requirement already satisfied: jsonschema in /usr/local/lib/python3.11/dist-packages (from ray->geneformer==0.1.0) (4.24.0)\n",
            "Requirement already satisfied: msgpack<2.0.0,>=1.0.0 in /usr/local/lib/python3.11/dist-packages (from ray->geneformer==0.1.0) (1.1.0)\n",
            "Requirement already satisfied: protobuf!=3.19.5,>=3.15.3 in /usr/local/lib/python3.11/dist-packages (from ray->geneformer==0.1.0) (5.29.5)\n",
            "Requirement already satisfied: joblib in /usr/local/lib/python3.11/dist-packages (from scanpy->geneformer==0.1.0) (1.5.1)\n",
            "Requirement already satisfied: legacy-api-wrap>=1.4.1 in /usr/local/lib/python3.11/dist-packages (from scanpy->geneformer==0.1.0) (1.4.1)\n",
            "Requirement already satisfied: patsy!=1.0.0 in /usr/local/lib/python3.11/dist-packages (from scanpy->geneformer==0.1.0) (1.0.1)\n",
            "Requirement already satisfied: pynndescent>=0.5.13 in /usr/local/lib/python3.11/dist-packages (from scanpy->geneformer==0.1.0) (0.5.13)\n",
            "Requirement already satisfied: session-info2 in /usr/local/lib/python3.11/dist-packages (from scanpy->geneformer==0.1.0) (0.1.2)\n",
            "Requirement already satisfied: umap-learn>=0.5.6 in /usr/local/lib/python3.11/dist-packages (from scanpy->geneformer==0.1.0) (0.5.7)\n",
            "Requirement already satisfied: threadpoolctl>=3.1.0 in /usr/local/lib/python3.11/dist-packages (from scikit-learn->geneformer==0.1.0) (3.6.0)\n",
            "Collecting accumulation-tree (from tdigest->geneformer==0.1.0)\n",
            "  Downloading accumulation_tree-0.6.4.tar.gz (12 kB)\n",
            "  Installing build dependencies ... \u001b[?25l\u001b[?25hdone\n",
            "  Getting requirements to build wheel ... \u001b[?25l\u001b[?25hdone\n",
            "  Preparing metadata (pyproject.toml) ... \u001b[?25l\u001b[?25hdone\n",
            "Collecting pyudorandom (from tdigest->geneformer==0.1.0)\n",
            "  Downloading pyudorandom-1.0.0.tar.gz (1.6 kB)\n",
            "  Installing build dependencies ... \u001b[?25l\u001b[?25hdone\n",
            "  Getting requirements to build wheel ... \u001b[?25l\u001b[?25hdone\n",
            "  Preparing metadata (pyproject.toml) ... \u001b[?25l\u001b[?25hdone\n",
            "Requirement already satisfied: absl-py>=0.4 in /usr/local/lib/python3.11/dist-packages (from tensorboard->geneformer==0.1.0) (1.4.0)\n",
            "Requirement already satisfied: grpcio>=1.48.2 in /usr/local/lib/python3.11/dist-packages (from tensorboard->geneformer==0.1.0) (1.71.0)\n",
            "Requirement already satisfied: markdown>=2.6.8 in /usr/lib/python3/dist-packages (from tensorboard->geneformer==0.1.0) (3.3.6)\n",
            "Requirement already satisfied: six>1.9 in /usr/local/lib/python3.11/dist-packages (from tensorboard->geneformer==0.1.0) (1.17.0)\n",
            "Collecting tensorboard-data-server<0.8.0,>=0.7.0 (from tensorboard->geneformer==0.1.0)\n",
            "  Downloading tensorboard_data_server-0.7.2-py3-none-manylinux_2_31_x86_64.whl.metadata (1.1 kB)\n",
            "Collecting werkzeug>=1.0.1 (from tensorboard->geneformer==0.1.0)\n",
            "  Downloading werkzeug-3.1.3-py3-none-any.whl.metadata (3.7 kB)\n",
            "Requirement already satisfied: regex!=2019.12.17 in /usr/local/lib/python3.11/dist-packages (from transformers->geneformer==0.1.0) (2024.11.6)\n",
            "Requirement already satisfied: tokenizers<0.22,>=0.21 in /usr/local/lib/python3.11/dist-packages (from transformers->geneformer==0.1.0) (0.21.1)\n",
            "Requirement already satisfied: Mako in /usr/lib/python3/dist-packages (from alembic>=1.5.0->optuna->geneformer==0.1.0) (1.1.3)\n",
            "Requirement already satisfied: aiohttp!=4.0.0a0,!=4.0.0a1 in /usr/local/lib/python3.11/dist-packages (from fsspec[http]<=2025.3.0,>=2023.1.0->datasets->geneformer==0.1.0) (3.11.15)\n",
            "Requirement already satisfied: hf-xet<2.0.0,>=1.1.2 in /usr/local/lib/python3.11/dist-packages (from huggingface-hub>=0.24.0->datasets->geneformer==0.1.0) (1.1.2)\n",
            "Requirement already satisfied: llvmlite<0.45,>=0.44.0dev0 in /usr/local/lib/python3.11/dist-packages (from numba->loompy->geneformer==0.1.0) (0.44.0)\n",
            "Requirement already satisfied: charset-normalizer<4,>=2 in /usr/local/lib/python3.11/dist-packages (from requests>=2.32.2->datasets->geneformer==0.1.0) (3.4.2)\n",
            "Requirement already satisfied: idna<4,>=2.5 in /usr/local/lib/python3.11/dist-packages (from requests>=2.32.2->datasets->geneformer==0.1.0) (3.10)\n",
            "Requirement already satisfied: urllib3<3,>=1.21.1 in /usr/local/lib/python3.11/dist-packages (from requests>=2.32.2->datasets->geneformer==0.1.0) (2.4.0)\n",
            "Requirement already satisfied: certifi>=2017.4.17 in /usr/local/lib/python3.11/dist-packages (from requests>=2.32.2->datasets->geneformer==0.1.0) (2025.4.26)\n",
            "Collecting greenlet>=1 (from sqlalchemy>=1.4.2->optuna->geneformer==0.1.0)\n",
            "  Downloading greenlet-3.2.2-cp311-cp311-manylinux_2_24_x86_64.manylinux_2_28_x86_64.whl.metadata (4.1 kB)\n",
            "Requirement already satisfied: MarkupSafe>=2.1.1 in /usr/local/lib/python3.11/dist-packages (from werkzeug>=1.0.1->tensorboard->geneformer==0.1.0) (3.0.2)\n",
            "Requirement already satisfied: attrs>=22.2.0 in /usr/local/lib/python3.11/dist-packages (from jsonschema->ray->geneformer==0.1.0) (25.3.0)\n",
            "Requirement already satisfied: jsonschema-specifications>=2023.03.6 in /usr/local/lib/python3.11/dist-packages (from jsonschema->ray->geneformer==0.1.0) (2025.4.1)\n",
            "Requirement already satisfied: referencing>=0.28.4 in /usr/local/lib/python3.11/dist-packages (from jsonschema->ray->geneformer==0.1.0) (0.36.2)\n",
            "Requirement already satisfied: rpds-py>=0.7.1 in /usr/local/lib/python3.11/dist-packages (from jsonschema->ray->geneformer==0.1.0) (0.25.1)\n",
            "Requirement already satisfied: aiohappyeyeballs>=2.3.0 in /usr/local/lib/python3.11/dist-packages (from aiohttp!=4.0.0a0,!=4.0.0a1->fsspec[http]<=2025.3.0,>=2023.1.0->datasets->geneformer==0.1.0) (2.6.1)\n",
            "Requirement already satisfied: aiosignal>=1.1.2 in /usr/local/lib/python3.11/dist-packages (from aiohttp!=4.0.0a0,!=4.0.0a1->fsspec[http]<=2025.3.0,>=2023.1.0->datasets->geneformer==0.1.0) (1.3.2)\n",
            "Requirement already satisfied: frozenlist>=1.1.1 in /usr/local/lib/python3.11/dist-packages (from aiohttp!=4.0.0a0,!=4.0.0a1->fsspec[http]<=2025.3.0,>=2023.1.0->datasets->geneformer==0.1.0) (1.6.0)\n",
            "Requirement already satisfied: multidict<7.0,>=4.5 in /usr/local/lib/python3.11/dist-packages (from aiohttp!=4.0.0a0,!=4.0.0a1->fsspec[http]<=2025.3.0,>=2023.1.0->datasets->geneformer==0.1.0) (6.4.4)\n",
            "Requirement already satisfied: propcache>=0.2.0 in /usr/local/lib/python3.11/dist-packages (from aiohttp!=4.0.0a0,!=4.0.0a1->fsspec[http]<=2025.3.0,>=2023.1.0->datasets->geneformer==0.1.0) (0.3.1)\n",
            "Requirement already satisfied: yarl<2.0,>=1.17.0 in /usr/local/lib/python3.11/dist-packages (from aiohttp!=4.0.0a0,!=4.0.0a1->fsspec[http]<=2025.3.0,>=2023.1.0->datasets->geneformer==0.1.0) (1.20.0)\n",
            "Downloading datasets-3.6.0-py3-none-any.whl (491 kB)\n",
            "\u001b[2K   \u001b[90m━━━━━━━━━━━━━━━━━━━━━━━━━━━━━━━━━━━━━━━━\u001b[0m \u001b[32m491.5/491.5 kB\u001b[0m \u001b[31m11.2 MB/s\u001b[0m eta \u001b[36m0:00:00\u001b[0m\n",
            "\u001b[?25hDownloading optuna-4.3.0-py3-none-any.whl (386 kB)\n",
            "\u001b[2K   \u001b[90m━━━━━━━━━━━━━━━━━━━━━━━━━━━━━━━━━━━━━━━━\u001b[0m \u001b[32m386.6/386.6 kB\u001b[0m \u001b[31m25.9 MB/s\u001b[0m eta \u001b[36m0:00:00\u001b[0m\n",
            "\u001b[?25hDownloading optuna_integration-4.3.0-py3-none-any.whl (98 kB)\n",
            "\u001b[2K   \u001b[90m━━━━━━━━━━━━━━━━━━━━━━━━━━━━━━━━━━━━━━━━\u001b[0m \u001b[32m98.5/98.5 kB\u001b[0m \u001b[31m7.4 MB/s\u001b[0m eta \u001b[36m0:00:00\u001b[0m\n",
            "\u001b[?25hDownloading peft-0.15.2-py3-none-any.whl (411 kB)\n",
            "\u001b[2K   \u001b[90m━━━━━━━━━━━━━━━━━━━━━━━━━━━━━━━━━━━━━━━━\u001b[0m \u001b[32m411.1/411.1 kB\u001b[0m \u001b[31m32.3 MB/s\u001b[0m eta \u001b[36m0:00:00\u001b[0m\n",
            "\u001b[?25hDownloading ray-2.46.0-cp311-cp311-manylinux2014_x86_64.whl (68.5 MB)\n",
            "\u001b[2K   \u001b[90m━━━━━━━━━━━━━━━━━━━━━━━━━━━━━━━━━━━━━━━━\u001b[0m \u001b[32m68.5/68.5 MB\u001b[0m \u001b[31m18.1 MB/s\u001b[0m eta \u001b[36m0:00:00\u001b[0m\n",
            "\u001b[?25hDownloading tdigest-0.5.2.2-py3-none-any.whl (9.4 kB)\n",
            "Downloading tensorboard-2.19.0-py3-none-any.whl (5.5 MB)\n",
            "\u001b[2K   \u001b[90m━━━━━━━━━━━━━━━━━━━━━━━━━━━━━━━━━━━━━━━━\u001b[0m \u001b[32m5.5/5.5 MB\u001b[0m \u001b[31m118.4 MB/s\u001b[0m eta \u001b[36m0:00:00\u001b[0m\n",
            "\u001b[?25hDownloading alembic-1.16.1-py3-none-any.whl (242 kB)\n",
            "\u001b[2K   \u001b[90m━━━━━━━━━━━━━━━━━━━━━━━━━━━━━━━━━━━━━━━━\u001b[0m \u001b[32m242.5/242.5 kB\u001b[0m \u001b[31m19.7 MB/s\u001b[0m eta \u001b[36m0:00:00\u001b[0m\n",
            "\u001b[?25hDownloading dill-0.3.8-py3-none-any.whl (116 kB)\n",
            "\u001b[2K   \u001b[90m━━━━━━━━━━━━━━━━━━━━━━━━━━━━━━━━━━━━━━━━\u001b[0m \u001b[32m116.3/116.3 kB\u001b[0m \u001b[31m9.2 MB/s\u001b[0m eta \u001b[36m0:00:00\u001b[0m\n",
            "\u001b[?25hDownloading fsspec-2025.3.0-py3-none-any.whl (193 kB)\n",
            "\u001b[2K   \u001b[90m━━━━━━━━━━━━━━━━━━━━━━━━━━━━━━━━━━━━━━━━\u001b[0m \u001b[32m193.6/193.6 kB\u001b[0m \u001b[31m15.5 MB/s\u001b[0m eta \u001b[36m0:00:00\u001b[0m\n",
            "\u001b[?25hDownloading multiprocess-0.70.16-py311-none-any.whl (143 kB)\n",
            "\u001b[2K   \u001b[90m━━━━━━━━━━━━━━━━━━━━━━━━━━━━━━━━━━━━━━━━\u001b[0m \u001b[32m143.5/143.5 kB\u001b[0m \u001b[31m11.7 MB/s\u001b[0m eta \u001b[36m0:00:00\u001b[0m\n",
            "\u001b[?25hDownloading sqlalchemy-2.0.41-cp311-cp311-manylinux_2_17_x86_64.manylinux2014_x86_64.whl (3.3 MB)\n",
            "\u001b[2K   \u001b[90m━━━━━━━━━━━━━━━━━━━━━━━━━━━━━━━━━━━━━━━━\u001b[0m \u001b[32m3.3/3.3 MB\u001b[0m \u001b[31m91.6 MB/s\u001b[0m eta \u001b[36m0:00:00\u001b[0m\n",
            "\u001b[?25hDownloading tensorboard_data_server-0.7.2-py3-none-manylinux_2_31_x86_64.whl (6.6 MB)\n",
            "\u001b[2K   \u001b[90m━━━━━━━━━━━━━━━━━━━━━━━━━━━━━━━━━━━━━━━━\u001b[0m \u001b[32m6.6/6.6 MB\u001b[0m \u001b[31m116.2 MB/s\u001b[0m eta \u001b[36m0:00:00\u001b[0m\n",
            "\u001b[?25hDownloading werkzeug-3.1.3-py3-none-any.whl (224 kB)\n",
            "\u001b[2K   \u001b[90m━━━━━━━━━━━━━━━━━━━━━━━━━━━━━━━━━━━━━━━━\u001b[0m \u001b[32m224.5/224.5 kB\u001b[0m \u001b[31m17.3 MB/s\u001b[0m eta \u001b[36m0:00:00\u001b[0m\n",
            "\u001b[?25hDownloading colorlog-6.9.0-py3-none-any.whl (11 kB)\n",
            "Downloading numpy_groupies-0.11.3-py3-none-any.whl (40 kB)\n",
            "\u001b[2K   \u001b[90m━━━━━━━━━━━━━━━━━━━━━━━━━━━━━━━━━━━━━━━━\u001b[0m \u001b[32m40.8/40.8 kB\u001b[0m \u001b[31m3.0 MB/s\u001b[0m eta \u001b[36m0:00:00\u001b[0m\n",
            "\u001b[?25hDownloading xxhash-3.5.0-cp311-cp311-manylinux_2_17_x86_64.manylinux2014_x86_64.whl (194 kB)\n",
            "\u001b[2K   \u001b[90m━━━━━━━━━━━━━━━━━━━━━━━━━━━━━━━━━━━━━━━━\u001b[0m \u001b[32m194.8/194.8 kB\u001b[0m \u001b[31m14.4 MB/s\u001b[0m eta \u001b[36m0:00:00\u001b[0m\n",
            "\u001b[?25hDownloading greenlet-3.2.2-cp311-cp311-manylinux_2_24_x86_64.manylinux_2_28_x86_64.whl (583 kB)\n",
            "\u001b[2K   \u001b[90m━━━━━━━━━━━━━━━━━━━━━━━━━━━━━━━━━━━━━━━━\u001b[0m \u001b[32m583.9/583.9 kB\u001b[0m \u001b[31m33.1 MB/s\u001b[0m eta \u001b[36m0:00:00\u001b[0m\n",
            "\u001b[?25hBuilding wheels for collected packages: geneformer, loompy, accumulation-tree, pyudorandom\n",
            "  Building wheel for geneformer (pyproject.toml) ... \u001b[?25l\u001b[?25hdone\n",
            "  Created wheel for geneformer: filename=geneformer-0.1.0-py3-none-any.whl size=2108026 sha256=62ec1a4f26c760e55e46ad029707f8cf3730eadc89b3767ab98f29b789125ed6\n",
            "  Stored in directory: /tmp/pip-ephem-wheel-cache-kqqk6dlr/wheels/cb/4a/82/85f3ca798e83d69ac023bfad48225e88e8fb2b2d2a968a51b0\n",
            "  Building wheel for loompy (pyproject.toml) ... \u001b[?25l\u001b[?25hdone\n",
            "  Created wheel for loompy: filename=loompy-3.0.8-py3-none-any.whl size=54099 sha256=e4f524a3ca9d360c14deca8ea1c20c904012e7c44258127a055f31fce5efb5b6\n",
            "  Stored in directory: /root/.cache/pip/wheels/0a/65/00/30ea772562c1e326e9a076e6a526216abc6c5456852cc2e0e4\n",
            "  Building wheel for accumulation-tree (pyproject.toml) ... \u001b[?25l\u001b[?25hdone\n",
            "  Created wheel for accumulation-tree: filename=accumulation_tree-0.6.4-cp311-cp311-linux_x86_64.whl size=366990 sha256=0f92b81d18d30699eb5693b9c812e97f2df1e5d420ca98b478225e5aa14696a5\n",
            "  Stored in directory: /root/.cache/pip/wheels/e9/e7/ee/2d9f17d273e58197be57a017c6f0d7e97a68d8fbe73e472dcb\n",
            "  Building wheel for pyudorandom (pyproject.toml) ... \u001b[?25l\u001b[?25hdone\n",
            "  Created wheel for pyudorandom: filename=pyudorandom-1.0.0-py3-none-any.whl size=2218 sha256=ab8003a43b20e9d19509869355902827b11d56a454745e8132a01a0a36306a7c\n",
            "  Stored in directory: /root/.cache/pip/wheels/a5/6d/e9/29f0512b6cb296c100b7459c6c5e0f62deb0451e07a0a70874\n",
            "Successfully built geneformer loompy accumulation-tree pyudorandom\n",
            "Installing collected packages: pyudorandom, accumulation-tree, xxhash, werkzeug, tensorboard-data-server, tdigest, numpy-groupies, greenlet, fsspec, dill, colorlog, tensorboard, sqlalchemy, multiprocess, loompy, alembic, ray, optuna, datasets, peft, optuna-integration, geneformer\n",
            "  Attempting uninstall: fsspec\n",
            "    Found existing installation: fsspec 2025.5.1\n",
            "    Uninstalling fsspec-2025.5.1:\n",
            "      Successfully uninstalled fsspec-2025.5.1\n",
            "Successfully installed accumulation-tree-0.6.4 alembic-1.16.1 colorlog-6.9.0 datasets-3.6.0 dill-0.3.8 fsspec-2025.3.0 geneformer-0.1.0 greenlet-3.2.2 loompy-3.0.8 multiprocess-0.70.16 numpy-groupies-0.11.3 optuna-4.3.0 optuna-integration-4.3.0 peft-0.15.2 pyudorandom-1.0.0 ray-2.46.0 sqlalchemy-2.0.41 tdigest-0.5.2.2 tensorboard-2.19.0 tensorboard-data-server-0.7.2 werkzeug-3.1.3 xxhash-3.5.0\n"
          ]
        },
        {
          "output_type": "stream",
          "name": "stderr",
          "text": [
            "/usr/local/lib/python3.11/dist-packages/numba/np/ufunc/parallel.py:371: NumbaWarning: The TBB threading layer requires TBB version 2021 update 6 or later i.e., TBB_INTERFACE_VERSION >= 12060. Found TBB_INTERFACE_VERSION = 12050. The TBB threading layer is disabled.\n",
            "  warnings.warn(problem)\n"
          ]
        }
      ],
      "source": [
        "# Install required libraries without outputting installation logs\n",
        "!pip install scanpy anndata umap-learn python-igraph louvain h5py leidenalg > /dev/null 2>&1\n",
        "\n",
        "# Import necessary modules and libraries\n",
        "from google.colab import drive\n",
        "import os\n",
        "import scanpy as sc\n",
        "import pandas as pd\n",
        "from scipy.io import mmread\n",
        "import scipy.sparse\n",
        "import pickle\n",
        "\n",
        "# Mount Google Drive to access files\n",
        "drive.mount('/content/drive')\n",
        "\n",
        "# Change the working directory to the project folder in Google Drive\n",
        "os.chdir(\"/content/drive/MyDrive/HODD/\")\n",
        "\n",
        "# Install Git Large File Storage (LFS) for handling large files in Git repositories\n",
        "!git lfs install\n",
        "\n",
        "# Clone the Geneformer repository (commented out to avoid repeated cloning)\n",
        "# !git clone https://huggingface.co/ctheodoris/Geneformer\n",
        "\n",
        "# Navigate to the Geneformer directory\n",
        "%cd Geneformer\n",
        "\n",
        "# Install Geneformer package locally\n",
        "!pip install .\n",
        "\n",
        "# Import the TranscriptomeTokenizer from Geneformer\n",
        "from geneformer import TranscriptomeTokenizer\n",
        "\n",
        "# Prepare the data using Geneformer Preprocessor\n",
        "# data_directory = '/content/drive/MyDrive/HODD/Geneformer_parkinsons_files'  # Directory containing data\n",
        "# output_path = data_directory  # Output path for processed data\n",
        "# output_prefix = 'dopamine_subset_tokenized'  # Prefix for output files\n",
        "\n",
        "# Initialize the tokenizer with relevant parameters\n",
        "# tk = TranscriptomeTokenizer({\"disease_state_numeric\": \"disease_state_numeric\",\"disease_state\":\"disease_state\",\"sex\":\"sex\",\"Donor_Age\":\"Donor_Age\",\"Cause_of_Death\":\"Cause_of_Death\",\"donor_id\":\"donor_id\"}, nproc=4)\n",
        "\n",
        "# tk = TranscriptomeTokenizer({\"disease_state\": \"disease_state_numeric\"}, nproc=4)\n",
        "\n",
        "# Tokenize the data, saving the output in the specified directory with the given prefix\n",
        "# tk.tokenize_data(data_directory, output_path, output_prefix, file_format=\"h5ad\")\n",
        "\n"
      ]
    },
    {
      "cell_type": "code",
      "source": [
        "# tokenization for donor splitting\n",
        "tk = TranscriptomeTokenizer({\"disease_state_numeric\": \"disease_state_numeric\",\"disease_state\":\"disease_state\",\"sex\":\"sex\",\"Donor_Age\":\"Donor_Age\",\"Cause_of_Death\":\"Cause_of_Death\",\"donor_id\":\"donor_id\"}, nproc=4)\n",
        "\n",
        "# tokenize the donor specific test and train splits as well\n",
        "data_directory_train = '/content/drive/MyDrive/HODD/Geneformer_parkinsons_files/dopamine_train/'  # Directory containing data\n",
        "data_directory_test = '/content/drive/MyDrive/HODD/Geneformer_parkinsons_files/dopamine_test/'  # Directory containing data\n",
        "output_path = '/content/drive/MyDrive/HODD/Geneformer_parkinsons_files'  # Directory containing data\n",
        "output_prefix_train = 'dopamine_subset_train_tokenized'  # Prefix for output files\n",
        "output_prefix_test = 'dopamine_subset_test_tokenized'  # Prefix for output files\n",
        "\n",
        "tk.tokenize_data(data_directory_train, output_path, output_prefix_train, file_format=\"h5ad\")\n",
        "tk.tokenize_data(data_directory_test, output_path, output_prefix_test, file_format=\"h5ad\")"
      ],
      "metadata": {
        "colab": {
          "base_uri": "https://localhost:8080/"
        },
        "id": "h8hwM9shgpR7",
        "outputId": "11477b18-4deb-4721-8a54-f41dc605cbab"
      },
      "execution_count": 3,
      "outputs": [
        {
          "output_type": "stream",
          "name": "stdout",
          "text": [
            "Tokenizing /content/drive/MyDrive/HODD/Geneformer_parkinsons_files/dopamine_train/dopamine_subset_train_pre_tokenization.h5ad\n"
          ]
        },
        {
          "output_type": "stream",
          "name": "stderr",
          "text": [
            "100%|██████████| 29/29 [11:15<00:00, 23.28s/it]\n",
            "/usr/local/lib/python3.11/dist-packages/anndata/_core/anndata.py:787: ImplicitModificationWarning: Trying to modify index of attribute `.obs` of view, initializing view as actual.\n",
            "  getattr(self, attr).index = value\n",
            "/usr/local/lib/python3.11/dist-packages/anndata/_core/anndata.py:1758: UserWarning: Variable names are not unique. To make them unique, call `.var_names_make_unique`.\n",
            "  utils.warn_names_duplicates(\"var\")\n",
            "/content/drive/MyDrive/HODD/Geneformer/geneformer/tokenizer.py:495: FutureWarning: Series.__getitem__ treating keys as positions is deprecated. In a future version, integer keys will always be treated as labels (consistent with DataFrame behavior). To access a value by position, use `ser.iloc[pos]`\n",
            "  for i in adata.var[\"ensembl_id_collapsed\"][coding_miRNA_loc]\n",
            "/content/drive/MyDrive/HODD/Geneformer/geneformer/tokenizer.py:498: FutureWarning: Series.__getitem__ treating keys as positions is deprecated. In a future version, integer keys will always be treated as labels (consistent with DataFrame behavior). To access a value by position, use `ser.iloc[pos]`\n",
            "  coding_miRNA_ids = adata.var[\"ensembl_id_collapsed\"][coding_miRNA_loc]\n"
          ]
        },
        {
          "output_type": "stream",
          "name": "stdout",
          "text": [
            "/content/drive/MyDrive/HODD/Geneformer_parkinsons_files/dopamine_train/dopamine_subset_train_pre_tokenization.h5ad has no column attribute 'filter_pass'; tokenizing all cells.\n",
            "Creating dataset.\n",
            "Tokenizing /content/drive/MyDrive/HODD/Geneformer_parkinsons_files/dopamine_test/dopamine_subset_test_pre_tokenization.h5ad\n"
          ]
        },
        {
          "output_type": "stream",
          "name": "stderr",
          "text": [
            "100%|██████████| 5/5 [01:51<00:00, 22.39s/it]\n",
            "/usr/local/lib/python3.11/dist-packages/anndata/_core/anndata.py:787: ImplicitModificationWarning: Trying to modify index of attribute `.obs` of view, initializing view as actual.\n",
            "  getattr(self, attr).index = value\n",
            "/usr/local/lib/python3.11/dist-packages/anndata/_core/anndata.py:1758: UserWarning: Variable names are not unique. To make them unique, call `.var_names_make_unique`.\n",
            "  utils.warn_names_duplicates(\"var\")\n",
            "/content/drive/MyDrive/HODD/Geneformer/geneformer/tokenizer.py:495: FutureWarning: Series.__getitem__ treating keys as positions is deprecated. In a future version, integer keys will always be treated as labels (consistent with DataFrame behavior). To access a value by position, use `ser.iloc[pos]`\n",
            "  for i in adata.var[\"ensembl_id_collapsed\"][coding_miRNA_loc]\n",
            "/content/drive/MyDrive/HODD/Geneformer/geneformer/tokenizer.py:498: FutureWarning: Series.__getitem__ treating keys as positions is deprecated. In a future version, integer keys will always be treated as labels (consistent with DataFrame behavior). To access a value by position, use `ser.iloc[pos]`\n",
            "  coding_miRNA_ids = adata.var[\"ensembl_id_collapsed\"][coding_miRNA_loc]\n"
          ]
        },
        {
          "output_type": "stream",
          "name": "stdout",
          "text": [
            "/content/drive/MyDrive/HODD/Geneformer_parkinsons_files/dopamine_test/dopamine_subset_test_pre_tokenization.h5ad has no column attribute 'filter_pass'; tokenizing all cells.\n",
            "Creating dataset.\n"
          ]
        }
      ]
    },
    {
      "cell_type": "code",
      "source": [
        "# Import necessary modules and libraries\n",
        "from google.colab import drive\n",
        "import os\n",
        "import pandas as pd\n",
        "import pickle\n",
        "\n",
        "# Mount Google Drive to access files\n",
        "drive.mount('/content/drive')\n",
        "\n",
        "# Change the working directory to the project folder in Google Drive\n",
        "os.chdir(\"/content/drive/MyDrive/HODD/Geneformer_parkinsons_files/\")"
      ],
      "metadata": {
        "id": "-Vo96ct7lRUu",
        "colab": {
          "base_uri": "https://localhost:8080/"
        },
        "outputId": "989aaea9-2fba-4b6c-ee22-a24667c9dbcf"
      },
      "execution_count": 4,
      "outputs": [
        {
          "output_type": "stream",
          "name": "stdout",
          "text": [
            "Drive already mounted at /content/drive; to attempt to forcibly remount, call drive.mount(\"/content/drive\", force_remount=True).\n"
          ]
        }
      ]
    },
    {
      "cell_type": "code",
      "source": [
        "!pip install datasets\n",
        "%cd Geneformer_parkinsons_files"
      ],
      "metadata": {
        "id": "NEq4hk2glybY",
        "colab": {
          "base_uri": "https://localhost:8080/"
        },
        "outputId": "e6e3b6f1-06a4-4c66-f0da-b5be6dbdec6d"
      },
      "execution_count": 5,
      "outputs": [
        {
          "output_type": "stream",
          "name": "stdout",
          "text": [
            "Requirement already satisfied: datasets in /usr/local/lib/python3.11/dist-packages (3.6.0)\n",
            "Requirement already satisfied: filelock in /usr/local/lib/python3.11/dist-packages (from datasets) (3.18.0)\n",
            "Requirement already satisfied: numpy>=1.17 in /usr/local/lib/python3.11/dist-packages (from datasets) (2.0.2)\n",
            "Requirement already satisfied: pyarrow>=15.0.0 in /usr/local/lib/python3.11/dist-packages (from datasets) (20.0.0)\n",
            "Requirement already satisfied: dill<0.3.9,>=0.3.0 in /usr/local/lib/python3.11/dist-packages (from datasets) (0.3.8)\n",
            "Requirement already satisfied: pandas in /usr/local/lib/python3.11/dist-packages (from datasets) (2.2.2)\n",
            "Requirement already satisfied: requests>=2.32.2 in /usr/local/lib/python3.11/dist-packages (from datasets) (2.32.3)\n",
            "Requirement already satisfied: tqdm>=4.66.3 in /usr/local/lib/python3.11/dist-packages (from datasets) (4.67.1)\n",
            "Requirement already satisfied: xxhash in /usr/local/lib/python3.11/dist-packages (from datasets) (3.5.0)\n",
            "Requirement already satisfied: multiprocess<0.70.17 in /usr/local/lib/python3.11/dist-packages (from datasets) (0.70.16)\n",
            "Requirement already satisfied: fsspec<=2025.3.0,>=2023.1.0 in /usr/local/lib/python3.11/dist-packages (from fsspec[http]<=2025.3.0,>=2023.1.0->datasets) (2025.3.0)\n",
            "Requirement already satisfied: huggingface-hub>=0.24.0 in /usr/local/lib/python3.11/dist-packages (from datasets) (0.32.2)\n",
            "Requirement already satisfied: packaging in /usr/local/lib/python3.11/dist-packages (from datasets) (25.0)\n",
            "Requirement already satisfied: pyyaml>=5.1 in /usr/local/lib/python3.11/dist-packages (from datasets) (6.0.2)\n",
            "Requirement already satisfied: aiohttp!=4.0.0a0,!=4.0.0a1 in /usr/local/lib/python3.11/dist-packages (from fsspec[http]<=2025.3.0,>=2023.1.0->datasets) (3.11.15)\n",
            "Requirement already satisfied: typing-extensions>=3.7.4.3 in /usr/local/lib/python3.11/dist-packages (from huggingface-hub>=0.24.0->datasets) (4.13.2)\n",
            "Requirement already satisfied: hf-xet<2.0.0,>=1.1.2 in /usr/local/lib/python3.11/dist-packages (from huggingface-hub>=0.24.0->datasets) (1.1.2)\n",
            "Requirement already satisfied: charset-normalizer<4,>=2 in /usr/local/lib/python3.11/dist-packages (from requests>=2.32.2->datasets) (3.4.2)\n",
            "Requirement already satisfied: idna<4,>=2.5 in /usr/local/lib/python3.11/dist-packages (from requests>=2.32.2->datasets) (3.10)\n",
            "Requirement already satisfied: urllib3<3,>=1.21.1 in /usr/local/lib/python3.11/dist-packages (from requests>=2.32.2->datasets) (2.4.0)\n",
            "Requirement already satisfied: certifi>=2017.4.17 in /usr/local/lib/python3.11/dist-packages (from requests>=2.32.2->datasets) (2025.4.26)\n",
            "Requirement already satisfied: python-dateutil>=2.8.2 in /usr/local/lib/python3.11/dist-packages (from pandas->datasets) (2.9.0.post0)\n",
            "Requirement already satisfied: pytz>=2020.1 in /usr/local/lib/python3.11/dist-packages (from pandas->datasets) (2025.2)\n",
            "Requirement already satisfied: tzdata>=2022.7 in /usr/local/lib/python3.11/dist-packages (from pandas->datasets) (2025.2)\n",
            "Requirement already satisfied: aiohappyeyeballs>=2.3.0 in /usr/local/lib/python3.11/dist-packages (from aiohttp!=4.0.0a0,!=4.0.0a1->fsspec[http]<=2025.3.0,>=2023.1.0->datasets) (2.6.1)\n",
            "Requirement already satisfied: aiosignal>=1.1.2 in /usr/local/lib/python3.11/dist-packages (from aiohttp!=4.0.0a0,!=4.0.0a1->fsspec[http]<=2025.3.0,>=2023.1.0->datasets) (1.3.2)\n",
            "Requirement already satisfied: attrs>=17.3.0 in /usr/local/lib/python3.11/dist-packages (from aiohttp!=4.0.0a0,!=4.0.0a1->fsspec[http]<=2025.3.0,>=2023.1.0->datasets) (25.3.0)\n",
            "Requirement already satisfied: frozenlist>=1.1.1 in /usr/local/lib/python3.11/dist-packages (from aiohttp!=4.0.0a0,!=4.0.0a1->fsspec[http]<=2025.3.0,>=2023.1.0->datasets) (1.6.0)\n",
            "Requirement already satisfied: multidict<7.0,>=4.5 in /usr/local/lib/python3.11/dist-packages (from aiohttp!=4.0.0a0,!=4.0.0a1->fsspec[http]<=2025.3.0,>=2023.1.0->datasets) (6.4.4)\n",
            "Requirement already satisfied: propcache>=0.2.0 in /usr/local/lib/python3.11/dist-packages (from aiohttp!=4.0.0a0,!=4.0.0a1->fsspec[http]<=2025.3.0,>=2023.1.0->datasets) (0.3.1)\n",
            "Requirement already satisfied: yarl<2.0,>=1.17.0 in /usr/local/lib/python3.11/dist-packages (from aiohttp!=4.0.0a0,!=4.0.0a1->fsspec[http]<=2025.3.0,>=2023.1.0->datasets) (1.20.0)\n",
            "Requirement already satisfied: six>=1.5 in /usr/local/lib/python3.11/dist-packages (from python-dateutil>=2.8.2->pandas->datasets) (1.17.0)\n",
            "/content/drive/MyDrive/HODD/Geneformer_parkinsons_files\n"
          ]
        }
      ]
    },
    {
      "cell_type": "code",
      "source": [
        "from datasets import load_from_disk\n",
        "token_dataset = load_from_disk(\"dopamine_subset_train_tokenized.dataset\")\n",
        "print(type(token_dataset))"
      ],
      "metadata": {
        "id": "_i_qhJJml5B2",
        "colab": {
          "base_uri": "https://localhost:8080/"
        },
        "outputId": "676e0937-a2b7-480d-c6ab-88756cbc433a"
      },
      "execution_count": 6,
      "outputs": [
        {
          "output_type": "stream",
          "name": "stdout",
          "text": [
            "<class 'datasets.arrow_dataset.Dataset'>\n"
          ]
        }
      ]
    },
    {
      "cell_type": "code",
      "source": [
        "print(token_dataset)\n",
        "print(token_dataset.shape)\n",
        "print(token_dataset[0])\n",
        "print(len(token_dataset[0]['input_ids']))"
      ],
      "metadata": {
        "id": "OzOojEr-mkhj",
        "colab": {
          "base_uri": "https://localhost:8080/"
        },
        "outputId": "62708f94-baed-4768-d26f-72a6bc3be7af"
      },
      "execution_count": 7,
      "outputs": [
        {
          "output_type": "stream",
          "name": "stdout",
          "text": [
            "Dataset({\n",
            "    features: ['input_ids', 'disease_state_numeric', 'disease_state', 'sex', 'Donor_Age', 'Cause_of_Death', 'donor_id', 'length'],\n",
            "    num_rows: 14826\n",
            "})\n",
            "(14826, 8)\n",
            "{'input_ids': [2, 13407, 9962, 9161, 7452, 4148, 7469, 7421, 13231, 9156, 17431, 10675, 10044, 12628, 15100, 15304, 15300, 478, 9242, 14212, 1016, 8452, 410, 12492, 697, 15316, 15680, 9065, 3360, 5162, 9276, 782, 8321, 13020, 8882, 11106, 15339, 13000, 8474, 9919, 2548, 15141, 13406, 15364, 5991, 14719, 2575, 15182, 8855, 15008, 8727, 9162, 10085, 6950, 2169, 9221, 9455, 10891, 8891, 12789, 946, 1473, 11456, 14701, 19715, 9322, 12197, 13049, 14657, 5173, 2527, 5413, 9560, 11481, 12366, 15732, 14798, 9906, 7924, 7777, 18956, 7664, 16267, 14259, 9693, 16677, 13010, 13403, 1077, 9794, 12192, 14811, 4256, 7685, 14801, 16107, 3373, 2411, 819, 16622, 970, 16200, 9546, 8097, 11221, 12877, 9317, 8582, 4135, 12848, 16888, 12804, 6652, 11807, 4801, 9215, 13006, 18360, 15295, 13527, 9026, 7333, 2228, 6029, 12284, 9056, 9236, 16044, 9337, 15513, 6548, 4556, 7397, 3989, 8588, 13524, 818, 7656, 8434, 6754, 6936, 6941, 15884, 1930, 1399, 9502, 6391, 12493, 6577, 897, 237, 15105, 2893, 16173, 380, 9255, 3633, 8570, 17388, 14077, 6738, 14334, 7003, 4688, 6188, 8061, 15588, 667, 1043, 3378, 16088, 3731, 8427, 4309, 1513, 2482, 3299, 1539, 7979, 9501, 12494, 635, 7844, 11648, 5619, 10066, 934, 5849, 9035, 8909, 9780, 3433, 3832, 17719, 13100, 9542, 13165, 11385, 2701, 11255, 7708, 17688, 16545, 6723, 2849, 17473, 15957, 15683, 4388, 108, 16802, 20, 16094, 6682, 8725, 16856, 1980, 157, 714, 9945, 6294, 9348, 5869, 8478, 4430, 15115, 16400, 11325, 15799, 10862, 9526, 13163, 728, 7973, 9305, 1483, 13866, 1573, 11792, 4454, 11745, 7913, 12453, 19560, 12304, 12509, 8980, 504, 11379, 8110, 3910, 4770, 11353, 19609, 6855, 9648, 17148, 14011, 9790, 4085, 8428, 7039, 3032, 3167, 17137, 15653, 712, 5950, 6793, 15055, 11404, 7993, 11354, 9234, 1373, 1905, 1185, 14189, 12158, 9606, 6587, 6596, 9778, 8977, 1726, 9978, 919, 6003, 551, 9511, 7876, 12369, 9064, 15684, 7131, 12708, 3326, 737, 1389, 16950, 990, 9251, 13733, 16671, 9795, 12586, 7789, 5341, 1326, 8594, 9180, 235, 2682, 17687, 1900, 7368, 15276, 6660, 6773, 8209, 10052, 154, 15065, 16701, 1700, 5233, 18278, 5648, 2427, 4499, 10545, 17722, 16269, 8437, 14779, 14698, 8141, 4940, 14347, 8290, 6465, 6149, 1738, 9145, 18538, 9245, 2800, 766, 12758, 8617, 6295, 12874, 1401, 13296, 776, 5024, 4058, 8399, 3081, 1368, 5290, 810, 10147, 3981, 2826, 8573, 14022, 3707, 3461, 9728, 3369, 2866, 6594, 6342, 8988, 1446, 3357, 4266, 574, 8618, 11789, 604, 10305, 4809, 9369, 6772, 750, 13935, 15531, 3283, 2353, 7608, 12713, 3936, 10040, 642, 9854, 4766, 8444, 15195, 3993, 11393, 2900, 128, 1372, 565, 12644, 5569, 10697, 876, 1658, 868, 16304, 12949, 7879, 4744, 10200, 12474, 275, 13655, 15153, 5716, 8419, 6378, 13392, 14709, 684, 6739, 9338, 2930, 9876, 10139, 3406, 15027, 6158, 9860, 4754, 30, 10630, 1285, 17835, 9861, 6399, 8934, 5525, 6920, 1409, 4705, 14317, 8094, 8476, 4294, 2377, 8877, 1571, 10186, 936, 1558, 505, 16717, 1464, 14280, 648, 8713, 3010, 4463, 7437, 236, 8965, 4402, 1630, 15920, 12464, 6696, 15264, 4370, 9961, 2704, 1188, 4863, 3790, 6710, 9247, 6533, 16807, 11596, 4008, 17052, 9510, 9890, 8229, 8914, 13648, 2830, 6000, 10339, 15923, 7281, 11695, 302, 18039, 11390, 7992, 3858, 6901, 15450, 9543, 15241, 10009, 889, 13945, 12083, 5281, 18404, 6613, 10175, 16787, 12104, 1817, 14726, 6478, 9609, 3493, 11366, 11342, 5959, 4287, 5962, 14662, 12645, 5288, 3435, 10333, 3651, 8919, 7901, 16158, 3448, 14088, 501, 9574, 7966, 16898, 9554, 5960, 2624, 3168, 1935, 6516, 16153, 1990, 16346, 6601, 14416, 2263, 7188, 18828, 5138, 13210, 997, 11384, 17817, 12568, 11574, 3229, 10244, 9047, 8757, 15898, 8507, 10342, 8449, 17645, 16959, 11118, 4930, 9776, 7792, 10518, 6360, 2058, 823, 7369, 11370, 6181, 1769, 1746, 11002, 14723, 481, 8825, 14955, 13164, 3607, 7262, 7981, 4368, 8623, 9327, 11403, 16822, 6616, 2902, 16763, 3763, 2853, 3646, 1685, 46, 11304, 1560, 7019, 7699, 7391, 1417, 15390, 4014, 17240, 13251, 4549, 5724, 1784, 5474, 8930, 11427, 5256, 16506, 4762, 9977, 9627, 16508, 5654, 9256, 11802, 13152, 11311, 7990, 5721, 3418, 8489, 1580, 3034, 8831, 2851, 2681, 1910, 8843, 106, 1816, 12358, 8569, 16756, 13203, 9408, 10067, 9380, 992, 7244, 3408, 17071, 9599, 8844, 9637, 8793, 13481, 647, 553, 14553, 12940, 8981, 7203, 16909, 2453, 4542, 2200, 986, 9581, 15850, 8448, 9274, 12449, 383, 6291, 14627, 733, 3940, 665, 3744, 10866, 4062, 5283, 402, 167, 11848, 70, 12673, 8841, 1803, 4771, 136, 3061, 496, 12090, 14583, 3666, 955, 6890, 11533, 13605, 7997, 14659, 16828, 13137, 4271, 14710, 14295, 16886, 12860, 649, 11186, 12837, 17077, 1168, 36, 18226, 5697, 517, 3348, 12434, 2246, 15427, 8207, 1892, 9336, 7890, 18507, 12606, 14399, 8678, 8469, 8738, 8375, 5316, 8662, 14187, 4352, 16509, 12688, 984, 9850, 141, 4980, 4024, 7146, 650, 3416, 2650, 1777, 15186, 8787, 17515, 1375, 12112, 16939, 4474, 879, 15607, 4867, 1810, 7853, 3996, 7058, 15136, 10978, 6025, 14863, 9730, 8038, 15538, 9164, 8592, 3121, 7770, 7767, 11200, 1627, 8039, 439, 13173, 5411, 2132, 16270, 15890, 2670, 8223, 958, 9681, 13616, 16830, 5771, 1250, 419, 96, 5852, 13609, 6394, 211, 13860, 9287, 3384, 5809, 8731, 12905, 13926, 3439, 4348, 6812, 8364, 6895, 2671, 93, 10904, 9186, 4037, 11557, 40, 9243, 881, 16929, 502, 2688, 5220, 1903, 2471, 10363, 9674, 3912, 3442, 9908, 6856, 10736, 12531, 4624, 6579, 8526, 1629, 2363, 1849, 9049, 1496, 379, 9503, 726, 3090, 11264, 5898, 9700, 2311, 375, 8520, 4837, 16468, 3319, 13106, 3991, 7847, 116, 8350, 1244, 12028, 16381, 11969, 2536, 10280, 14023, 3161, 4233, 7764, 5793, 780, 4614, 368, 19441, 8152, 4217, 6170, 4769, 5417, 2417, 9197, 9907, 5184, 2314, 567, 11196, 540, 16207, 11583, 12662, 11755, 19078, 2190, 778, 7552, 4223, 6959, 13501, 6803, 8353, 59, 470, 2684, 6217, 948, 16730, 16375, 9601, 8506, 7237, 8251, 10157, 11045, 14457, 13518, 10556, 3823, 14472, 16016, 10080, 11448, 9872, 16387, 16740, 1051, 11510, 16077, 7194, 9469, 8655, 9187, 5307, 5113, 5994, 7951, 1343, 672, 5855, 7669, 401, 8492, 616, 3116, 5967, 8430, 6923, 11723, 12293, 9292, 1714, 16743, 10633, 3417, 15041, 1684, 11933, 4237, 7628, 14518, 2623, 8567, 10977, 3983, 16001, 14787, 20155, 7459, 13697, 10829, 1500, 1716, 15666, 1408, 156, 9777, 7292, 16861, 10472, 202, 9889, 16352, 4109, 12435, 2250, 9262, 7231, 4621, 16465, 10304, 8211, 1303, 2042, 11556, 17769, 6882, 16935, 4028, 11773, 829, 707, 3771, 5141, 7426, 1144, 1916, 9371, 9017, 9484, 1414, 17913, 11719, 9417, 5112, 3328, 2910, 5360, 8028, 363, 1232, 4719, 14754, 1243, 15197, 7492, 16862, 18348, 8781, 1013, 3334, 3761, 10316, 3256, 13881, 6519, 7294, 9862, 13182, 4215, 2945, 12384, 8587, 9582, 9500, 7969, 7986, 9584, 4541, 10902, 10796, 7592, 7644, 13397, 4381, 7104, 9325, 7766, 9994, 9021, 12923, 10134, 17670, 7556, 16809, 2328, 1295, 11047, 427, 6014, 84, 1548, 1224, 7097, 7515, 13322, 7988, 5155, 6794, 573, 6564, 10673, 8990, 8976, 1249, 3172, 613, 6311, 6725, 1021, 8907, 17763, 4293, 8917, 14752, 7673, 5635, 6280, 11603, 13264, 56, 1400, 4385, 2307, 2545, 17054, 6949, 9353, 17056, 631, 6150, 4716, 1982, 6464, 1415, 3321, 6358, 16821, 8596, 2360, 12751, 3644, 9498, 1951, 3341, 3941, 1026, 5808, 1559, 13841, 3686, 6084, 5470, 7797, 4912, 1246, 1301, 12448, 9307, 14035, 1186, 3330, 15498, 9268, 6348, 2707, 12247, 11202, 2060, 8398, 1764, 358, 292, 12724, 9007, 16130, 6258, 4983, 321, 12076, 1194, 9075, 274, 214, 289, 9785, 1487, 4147, 6771, 5576, 16167, 3884, 6999, 18944, 803, 9590, 12810, 7976, 623, 9620, 12052, 11169, 3250, 5021, 19259, 12260, 2886, 16587, 10693, 9023, 11306, 1230, 14536, 9580, 18975, 12584, 5779, 15064, 618, 2327, 4094, 9754, 18928, 2288, 319, 5948, 2061, 1574, 1349, 7554, 3813, 2585, 9983, 6954, 5254, 8752, 311, 6554, 5041, 1590, 2659, 16177, 7335, 8955, 2550, 18298, 725, 11625, 632, 11107, 730, 7605, 3132, 12068, 15208, 3332, 11442, 506, 6449, 6869, 10932, 3476, 3892, 3083, 4531, 201, 10340, 4143, 1403, 10818, 7267, 2908, 16957, 4708, 9796, 9463, 7318, 1507, 7202, 13628, 12342, 7094, 7667, 8025, 4018, 13670, 14173, 4897, 15348, 7032, 7850, 17812, 12303, 9783, 6588, 9731, 16837, 5276, 1911, 5769, 12505, 2541, 1832, 16484, 5886, 9993, 3284, 4981, 16947, 1104, 12515, 16944, 16857, 7796, 9605, 2895, 7640, 5873, 2904, 17638, 5796, 9460, 4789, 7031, 2781, 8560, 7460, 13107, 9951, 6742, 8539, 15444, 1105, 13742, 3505, 12728, 3637, 646, 2120, 14264, 10921, 9747, 1505, 614, 9506, 9512, 6171, 17795, 1038, 69, 16926, 12409, 1265, 9952, 9911, 1101, 8267, 5305, 17361, 4557, 10248, 15285, 10131, 3613, 3365, 8033, 4262, 7495, 3627, 14866, 16261, 17285, 6390, 15323, 2341, 14228, 5999, 16670, 9439, 10724, 13816, 12871, 4493, 12712, 1890, 13800, 5956, 7200, 6445, 786, 13380, 9577, 1296, 11240, 15411, 6678, 14895, 8288, 758, 6499, 18387, 8698, 11705, 18467, 8922, 12571, 8815, 5899, 7353, 4155, 7790, 1430, 605, 703, 2408, 14781, 9976, 1406, 2728, 1673, 15597, 784, 9695, 10723, 1819, 17512, 4213, 1171, 8337, 16525, 1896, 8461, 6699, 4060, 1426, 4377, 1648, 5718, 8299, 12998, 16867, 1677, 2267, 11041, 10286, 4241, 3923, 15685, 2280, 10227, 12538, 86, 2528, 7001, 522, 1561, 2846, 1634, 12802, 12932, 10746, 11710, 16734, 6695, 12892, 9060, 1202, 9561, 16625, 11662, 7537, 3361, 11099, 7221, 11104, 16819, 11672, 6947, 10720, 9321, 1103, 1485, 3948, 4177, 9270, 13533, 4813, 9413, 2584, 8219, 4046, 15988, 7567, 9195, 10923, 999, 6328, 1048, 2473, 1639, 3459, 1090, 9547, 14739, 5066, 11362, 4875, 16646, 8323, 1354, 4396, 326, 8992, 2708, 983, 1471, 7157, 12337, 17518, 293, 4959, 12459, 16879, 10842, 888, 10466, 15391, 15478, 6839, 8332, 6307, 16406, 11016, 17321, 4554, 7451, 13130, 3960, 7380, 5882, 2598, 4802, 1361, 1806, 9564, 15633, 2247, 5013, 6604, 8215, 12899, 640, 9948, 1884, 5551, 8447, 8487, 10418, 4721, 911, 45, 2270, 7190, 3456, 1878, 14778, 10561, 536, 3610, 5446, 16220, 7116, 16559, 796, 4285, 6698, 996, 11431, 5477, 5020, 6796, 2082, 10815, 10787, 882, 8728, 16323, 6183, 11621, 16731, 13319, 19052, 4444, 4469, 11457, 4702, 906, 1332, 7420, 2425, 16889, 13504, 3742, 5901, 9227, 11102, 12242, 7619, 3889, 10972, 7638, 5303, 11100, 1766, 3843, 1242, 1152, 3022, 9170, 9713, 3655, 2931, 9046, 11344, 11256, 2762, 8432, 17010, 4842, 1988, 5781, 10277, 5194, 2793, 5559, 3657, 13196, 2477, 12550, 12772, 12725, 845, 5460, 2742, 5378, 8532, 5611, 15841, 11085, 4572, 8414, 10604, 4206, 9179, 423, 12113, 16419, 16118, 3626, 9496, 2683, 15673, 9052, 2405, 16513, 1964, 420, 4978, 5168, 12808, 10065, 2163, 3522, 17468, 1108, 16454, 4133, 2068, 18475, 4260, 11462, 18428, 11144, 4865, 2033, 5657, 9228, 8404, 3463, 16178, 228, 9611, 3376, 1086, 10727, 11846, 10517, 4079, 8888, 12933, 6506, 11043, 8771, 19547, 12532, 16414, 6779, 19329, 10859, 9768, 2599, 9696, 7783, 1379, 6190, 16842, 9239, 3509, 2005, 137, 2213, 9610, 14197, 3198, 10659, 4188, 9150, 7985, 3254, 8178, 16917, 1420, 4315, 795, 426, 171, 8556, 5923, 3875, 13899, 273, 7670, 221, 3664, 14533, 981, 17849, 4323, 10893, 3796, 13386, 12616, 7946, 7888, 4682, 13863, 11610, 15515, 2658, 5251, 513, 13216, 15419, 2277, 6813, 6818, 763, 4366, 12181, 14349, 290, 11612, 2857, 16111, 15220, 2813, 15340, 3037, 9818, 13248, 12222, 2662, 3808, 11822, 1508, 17682, 800, 4893, 8335, 811, 9330, 938, 19298, 8863, 8989, 12592, 5248, 1927, 16942, 753, 5979, 10330, 4091, 3344, 16949, 4001, 16395, 4108, 15336, 15293, 696, 19157, 7998, 14398, 11296, 11750, 14132, 1365, 4050, 8256, 16192, 12813, 17048, 13861, 12851, 11762, 5951, 6711, 723, 409, 8978, 8575, 13587, 224, 1008, 9411, 5624, 227, 11821, 10112, 10637, 8794, 18308, 15668, 8326, 1519, 5085, 5298, 3479, 9225, 7059, 5981, 3170, 8485, 928, 1268, 2734, 4061, 12432, 5272, 16423, 9826, 17746, 9426, 18785, 246, 11211, 7273, 6045, 3454, 1170, 8420, 15070, 10565, 14708, 10132, 7541, 10915, 15266, 4796, 1644, 2678, 8422, 6952, 7801, 1897, 16804, 7757, 11184, 7023, 1489, 11767, 1139, 9657, 2432, 7377, 7091, 2008, 9982, 1597, 7927, 16750, 13181, 14045, 1037, 13413, 13779, 1298, 7816, 17733, 10290, 2382, 14607, 112, 3553, 1522, 3207, 9666, 7176, 14327, 3894, 10051, 4249, 10740, 908, 9334, 12451, 16570, 14061, 4110, 3555, 10113, 2070, 7372, 5230, 8736, 9665, 916, 8811, 929, 10235, 4168, 1979, 9690, 1739, 2459, 16788, 13765, 3305, 12169, 8105, 103, 4335, 1192, 976, 6083, 10851, 16814, 3428, 7587, 15334, 3623, 16476, 4333, 5971, 1594, 17469, 4655, 9427, 11668, 1792, 1583, 15989, 3780, 17057, 2747, 15146, 11302, 15558, 10308, 5226, 16932, 15256, 1536, 4732, 706, 1578, 9062, 11220, 6345, 11241, 2918, 8283, 14121, 6777, 8161, 4927, 4667, 2463, 10090, 2660, 7499, 10559, 11332, 7862, 17480, 10547, 307, 1886, 19390, 5287, 1431, 298, 6918, 15407, 1741, 6638, 13769, 6874, 2404, 3517, 831, 9163, 10896, 6994, 2894, 17185, 4777, 5990, 14318, 14274, 9489, 1002, 14012, 5097, 4913, 3869, 2757, 894, 6285, 6857, 19065, 8711, 11105, 1499, 8184, 2293, 10119, 6909, 4729, 6671, 7606, 12027, 11592, 3908, 11539, 13833, 4519, 4265, 4507, 16863, 595, 16329, 12210, 1082, 2709, 546, 1351, 7296, 1618, 14548, 6175, 11600, 8116, 16928, 13189, 1475, 12816, 11236, 17073, 14178, 12172, 15294, 3635, 16923, 3217, 6004, 6615, 430, 6339, 4761, 6877, 6729, 1665, 68, 480, 2535, 4478, 13570, 18242, 558, 777, 2331, 5996, 16801, 12263, 12618, 452, 2281, 653, 15214, 6851, 6591, 11520, 1277, 13300, 9972, 1057, 11401, 4896, 3586, 16868, 13791, 5822, 113, 15938, 15415, 9284, 9536, 4839, 9072, 5620, 8840, 3415, 16470, 6784, 1207, 1005, 13289, 8619, 10728, 9252, 13572, 745, 9146, 474, 1778, 9979, 13375, 4038, 14630, 5132, 5354, 3756, 3720, 4268, 12773, 17243, 5304, 11273, 584, 16160, 519, 14929, 17053, 13702, 3868, 3472, 1427, 2822, 18394, 17334, 1204, 4636, 1889, 7805, 15196, 13636, 7067, 16053, 6484, 8804, 4528, 7657, 15856, 18471, 6140, 3774, 846, 11412, 1160, 297, 15852, 13273, 9591, 9278, 14527, 4130, 1432, 16040, 4833, 3453, 11676, 4953, 7962, 2032, 2027, 4616, 15412, 833, 15049, 4611, 5765, 16664, 16241, 1616, 5785, 11274, 11086, 7272, 17979, 11179, 16685, 532, 5816, 488, 19367, 9567, 3492, 8295, 3398, 9596, 11025, 17107, 12469, 3462, 12742, 1387, 9991, 8284, 9366, 866, 9424, 2410, 16170, 7054, 674, 6382, 2467, 3919, 1053, 14052, 4696, 16738, 1854, 4073, 4275, 16710, 4579, 252, 11204, 1609, 12047, 1646, 12069, 9571, 17009, 12087, 4453, 9555, 13925, 1660, 5595, 680, 8664, 12682, 6219, 14772, 13352, 5144, 2803, 14452, 4220, 16839, 8710, 3385, 16974, 1119, 1680, 2532, 12086, 4632, 338, 743, 6259, 7232, 15263, 5179, 8704, 15464, 11908, 17802, 9401, 6426, 572, 834, 11944, 1575, 7164, 16526, 10365, 14883, 12681, 2339, 15337, 7413, 3379, 14277, 8669, 4007, 12140, 4928, 16924, 8859, 7349, 2794, 6914, 2672, 1429, 6338, 1664, 950, 3877, 3331, 16512, 12913, 1451, 8644, 6, 6026, 16425, 18803, 11297, 4594, 9927, 2882, 16485, 4191, 7362, 6836, 17072, 12470, 4097, 4752, 11543, 15669, 15758, 2773, 3226, 10800, 1585, 2594, 3705, 12482, 8972, 1214, 8777, 7528, 15025, 13113, 9823, 19598, 10865, 10196, 3752, 1881, 359, 1501, 14238, 7080, 5068, 559, 11477, 9996, 1504, 10677, 4825, 8585, 9757, 1581, 8001, 296, 8064, 8121, 16281, 4124, 38, 3419, 17026, 16068, 5915, 8096, 5832, 411, 17525, 7800, 14776, 5568, 2421, 13120, 5348, 16447, 11088, 11474, 6368, 1953, 13603, 8464, 11883, 3776, 1364, 19453, 12495, 153, 17305, 15945, 3528, 12301, 5309, 14510, 7561, 7138, 2222, 8193, 12830, 1300, 1098, 914, 1670, 13882, 5787, 18306, 6526, 6446, 6673, 15089, 3653, 6352, 9355, 9528, 8558, 13711, 4089, 13679, 14744, 7275, 11380, 14365, 5447, 3609, 7501, 12614, 6539, 6428, 4211, 15147, 2523, 3225, 2590, 8724, 4122, 16318, 5533, 11011, 15717, 3046, 16362, 15940, 13473, 4473, 13566, 7381, 8783, 10091, 7223, 12633, 104, 12243, 953, 1318, 14632, 4472, 1591, 8460, 13065, 16690, 12580, 6346, 8701, 3322, 8351, 14208, 6429, 10429, 9441, 15134, 3973, 9527, 6988, 9273, 12908, 6875, 3975, 5019, 2657, 9624, 16758, 10440, 12569, 3444, 475, 7010, 11159, 9375, 1669, 1731, 6404, 11097, 8633, 5871, 1388, 195, 16417, 746, 14367, 2724, 7257, 12729, 2645, 95, 4965, 11301, 2393, 13144, 13975, 598, 5156, 3998, 8879, 2485, 3307, 3484, 11606, 146, 10831, 2620, 9701, 7065, 4892, 7776, 11197, 14885, 16383, 2049, 12110, 17458, 7562, 15998, 13299, 12710, 15959, 13625, 5374, 7617, 14737, 231, 15795, 3538, 9265, 1338, 775, 14465, 11916, 15465, 2552, 16838, 11331, 5992, 14841, 398, 10927, 2993, 9393, 9279, 188, 5902, 1273, 16122, 1468, 244, 14591, 14358, 3335, 2920, 4901, 8893, 2655, 9450, 10747, 7113, 7480, 11864, 1444, 9106, 10567, 459, 16228, 13677, 16969, 3380, 11310, 8495, 14785, 2151, 8818, 3162, 11838, 438, 3825, 9211, 17727, 2816, 13514, 16374, 3687, 10464, 6431, 1276, 10906, 3970, 11708, 9988, 6658, 10563, 12601, 3701, 7620, 7549, 3570, 2113, 11194, 8486, 5077, 2283, 6002, 11726, 5084, 514, 4827, 15177, 15661, 3698, 14689, 2193, 4957, 5268, 503, 3745, 4751, 9385, 1390, 1280, 2390, 5218, 16330, 16127, 719, 17, 16815, 3480, 3990, 4234, 1492, 902, 7130, 187, 2833, 6419, 9332, 7327, 7613, 3576, 7942, 16239, 7791, 8548, 4525, 4313, 6602, 14761, 13727, 7526, 1111, 7078, 8344, 11500, 13685, 434, 10509, 4498, 7683, 8647, 6297, 9342, 13858, 2887, 11155, 8333, 7402, 3685, 4224, 16687, 1270, 13190, 9240, 7536, 7929, 12572, 8137, 8099, 9593, 16904, 8832, 2843, 7900, 10622, 15034, 1754, 12835, 12352, 9405, 10881, 2539, 9920, 14265, 10948, 8973, 8880, 9660, 11145, 3356, 4200, 13747, 3169, 8475, 14209, 234, 5955, 12433, 15432, 7819, 11646, 7530, 5668, 896, 1310, 3434, 9863, 14773, 9841, 19474, 3005, 13184, 5049, 12268, 4623, 4494, 17376, 12512, 15585, 15166, 7389, 1555, 7092, 11476, 4530, 686, 12011, 1066, 1705, 1010, 2069, 15613, 9969, 13464, 3628, 3781, 3057, 10301, 12875, 1651, 6227, 11415, 8045, 4543, 6203, 2490, 3695, 5216, 7376, 979, 9663, 7609, 493, 7540, 6448, 933, 15975, 13268, 12323, 3197, 144, 22, 11424, 4937, 16854, 14767, 1044, 16206, 17320, 11213, 1602, 17220, 11946, 4251, 9027, 12727, 18628, 2098, 6964, 7090, 13957, 11348, 19296, 7014, 16190, 1663, 17183, 2540, 5922, 4475, 14320, 4909, 2665, 6608, 14362, 9462, 284, 3507, 12437, 5496, 13687, 6347, 807, 3950, 16916, 1557, 12132, 11243, 9874, 2836, 13567, 14796, 2764, 14925, 15660, 3446, 16577, 7087, 16256, 14397, 13410, 4010, 7479, 11451, 14298, 6275, 3768, 16579, 3753, 16606, 1175, 2366, 5210, 8522, 9685, 7266, 12034, 11464, 4640, 8694, 4627, 4510, 4199, 14162, 3270, 443, 2791, 2198, 10414, 13583, 17753, 15074, 13318, 9304, 2863, 12278, 13094, 15431, 13495, 9219, 6093, 18879, 4250, 11222, 10006, 2744, 49, 4712, 12702, 13539, 3682, 6817, 6709, 12466, 2454, 3689, 2676, 18882, 2815, 10953, 9069, 4179, 705, 6576, 2491, 11120, 7893, 3787, 12514, 2675, 6985, 11897, 11594, 5093, 5076, 7424, 6781, 14959, 10709, 6585, 1137, 1071, 692, 14134, 1486, 6570, 3498, 13146, 2445, 19315, 6528, 14029, 1007, 6092, 4305, 182, 6623, 13098, 13671, 12917, 7475, 7482, 13232, 5592, 3079, 13910, 2654, 17241, 2736, 12840, 11562, 16337, 14067, 9801, 247, 1020, 4462, 5475, 12672, 3485, 508, 6876, 11637, 11851, 11071, 9120, 5843, 400, 17456, 2824, 17166, 2821, 880, 3533, 13367, 2873, 6736, 16061, 8926, 16865, 9204, 2413, 10729, 13172, 1701, 9358, 14168, 6415, 16518, 15122, 7269, 1562, 4545, 4096, 473, 11397, 11718, 9923, 8433, 16405, 13564, 10049, 5881, 13479, 5403, 10267, 7472, 9237, 14550, 7753, 17939, 2470, 15472, 8987, 10242, 14889, 7036, 7843, 18617, 15634, 15838, 11092, 3268, 2592, 2021, 15, 11651, 18167, 16873, 7839, 14639, 3585, 5121, 6207, 3944, 7740, 5040, 1847, 11432, 13633, 4529, 1619, 11666, 19594, 16908, 3174, 16520, 12588, 8511, 11677, 8609, 12199, 16350, 4968, 5122, 6490, 9415, 492, 2939, 8172, 15191, 700, 16307, 16927, 2188, 4560, 13503, 1169, 8833, 1068, 1706, 9702, 13850, 15697, 594, 4781, 2867, 11775, 15642, 2354, 3045, 2617, 12274, 2828, 13490, 5353, 6637, 9432, 3737, 5042, 2928, 6482, 10615, 11400, 14978, 5146, 1730, 6451, 6441, 806, 2373, 8029, 7085, 19510, 16183, 17650, 1999, 7637, 412, 16635, 10015, 10760, 2533, 13334, 7719, 13045, 17209, 2181, 4022, 11275, 13523, 16705, 55, 8640, 10634, 3275, 5429, 17614, 4929, 10245, 16214, 6858, 19231, 11146, 425, 9171, 3890, 9722, 7077, 9891, 11978, 7154, 10870, 10620, 2542, 3374, 11841, 13198, 17628, 16849, 101, 11082, 8700, 837, 6583, 9198, 15280, 9870, 3086, 14135, 5444, 3113, 3393, 15275, 10519, 1987, 334, 10279, 4885, 11641, 10621, 7560, 8210, 11305, 18337, 11005, 1024, 10269, 11387, 7341, 3292, 7295, 4551, 6476, 12611, 3501, 2481, 11375, 7042, 16291, 13426, 12397, 4216, 3181, 13087, 6048, 17529, 1531, 3882, 15230, 495, 9250, 993, 15541, 3400, 6380, 7845, 16872, 3441, 5344, 90, 9246, 9698, 13525, 16922, 4127, 6524, 6514, 1448, 7624, 5193, 16681, 11357, 6269, 6494, 7858, 11771, 2240, 7758, 3715, 2002, 15079, 1954, 14202, 11090, 9882, 15393, 4029, 5044, 11209, 9604, 1369, 5530, 4176, 3969, 10241, 4757, 9868, 16244, 2854, 19086, 5806, 10990, 9437, 6759, 8394, 6065, 6684, 7511, 18554, 5980, 2072, 10558, 5546, 77, 15189, 6443, 816, 3741, 9941, 10520, 16236, 629, 18521, 3377, 9956, 6309, 8799, 673, 265, 6942, 3963, 10046, 6376, 11154, 1649, 14137, 8051, 5172, 1631, 6108, 2784, 16071, 10768, 2669, 11876, 4087, 7574, 2370, 13335, 7081, 6932, 13545, 13032, 1022, 8431, 7983, 10678, 9483, 8897, 1173, 7177, 14794, 1004, 1842, 8463, 3801, 18861, 4835, 5693, 2498, 3449, 11396, 4982, 305, 12223, 4822, 7193, 14887, 11856, 7306, 1036, 5555, 15996, 863, 11847, 4292, 626, 2309, 1595, 14079, 9494, 15734, 9286, 14771, 15154, 17421, 3939, 279, 4563, 1292, 11465, 7883, 8898, 12960, 12436, 6801, 1652, 1346, 1210, 14418, 13438, 4181, 14190, 7575, 8484, 4527, 14041, 6316, 4252, 1544, 19915, 3233, 14989, 17521, 2166, 9755, 3625, 2108, 17943, 17631, 14498, 7243, 809, 9308, 1180, 8816, 1530, 4780, 2121, 19326, 1470, 6467, 12398, 4857, 5127, 12781, 17947, 7618, 5301, 2751, 9368, 16141, 3152, 7793, 8996, 5799, 7905, 3631, 10788, 9654, 13382, 5897, 14930, 4166, 5870, 541, 10618, 114, 1113, 10937, 7461, 11044, 7466, 12166, 3804, 9320, 10780, 8763, 13405, 11459, 2403, 9558, 4853, 1694, 16273, 16305, 1798, 12649, 12093, 9647, 16025, 15017, 9769, 11367, 15157, 2896, 14331, 11177, 11226, 3693, 9669, 11661, 7573, 5329, 5596, 5224, 4818, 17292, 7623, 12503, 2738, 6701, 11411, 549, 7894, 15305, 23, 2562, 17235, 785, 3743, 1742, 2442, 4281, 893, 5812, 12529, 1102, 18862, 3962, 397, 5821, 295, 4140, 16779, 5346, 6804, 4521, 14118, 13846, 11819, 18409, 654, 865, 10433, 10309, 12890, 13293, 16357, 17336, 9631, 9932, 11505, 13579, 7247, 3042, 6085, 4849, 7444, 6896, 14848, 3898, 864, 7182, 6210, 4587, 139, 3295, 9683, 7224, 2146, 7941, 1199, 7410, 10347, 10777, 15237, 2348, 3098, 17340, 15503, 445, 7481, 5526, 2725, 6842, 7841, 3359, 14446, 15872, 8451, 852, 11770, 19226, 8886, 17234, 7833, 3288, 3518, 5659, 6225, 7441, 4620, 3568, 2386, 11288, 5158, 3915, 13575, 6934, 13288, 12259, 11686, 10538, 10140, 10321, 11902, 2769, 1547, 12771, 3602, 13734, 8788, 16684, 2055, 8079, 12829, 262, 1386, 11111, 10027, 547, 8250, 10358, 1853, 1117, 19074, 7227, 52, 609, 8663, 6072, 9694, 2926, 4684, 2512, 972, 12174, 7722, 1407, 5681, 17690, 13992, 3739, 19028, 10034, 7213, 19566, 14438, 17970, 16799, 5408, 3298, 6881, 3495, 5052, 3794, 4495, 2547, 10750, 6807, 1918, 9235, 8688, 11315, 16568, 9493, 10802, 5850, 7724, 2905, 12872, 1439, 15534, 2227, 13631, 19054, 11658, 16082, 4671, 10403, 11544, 10880, 12638, 6704, 7715, 3267, 8303, 13970, 477, 13820, 11961, 10210, 18162, 5487, 7902, 6452, 393, 13546, 5099, 4787, 8384, 1428, 12267, 11714, 13768, 16805, 3793, 1737, 4823, 5520, 1085, 12308, 4700, 6274, 16744, 16172, 10814, 6766, 2956, 16152, 7999, 7204, 3431, 7152, 3708, 13140, 12583, 2001, 4282, 9852, 7815, 11619, 8737, 3306, 7197, 6910, 12975, 7636, 4303, 13155, 5640, 1645, 6935, 6184, 9068, 13799, 15164, 4117, 9989, 1944, 1129, 3410, 2450, 8847, 7103, 8656, 2474, 643, 9787, 7621, 14103, 10329, 3024, 9672, 11046, 17516, 6435, 14623, 2768, 16067, 4646, 4841, 16302, 17860, 15508, 3110, 14871, 12556, 5213, 10254, 17570, 5813, 3925, 4595, 16148, 7052, 9588, 2879, 7312, 8265, 15098, 18618, 3729, 5448, 6953, 3725, 16711, 1922, 14076, 11029, 825, 3712, 16416, 6226, 4658, 11960, 17385, 6504, 7378, 12668, 3865, 4895, 7698, 7150, 2312, 10566, 8878, 4971, 12866, 8923, 9053, 2349, 14831, 11334, 4941, 5613, 3662, 4180, 10631, 16252, 11098, 5198, 1182, 16595, 14089, 9036, 11670, 13821, 7434, 12050, 4487, 2521, 4637, 10228, 9392, 16409, 1569, 4300, 15489, 10605, 11781, 7346, 17064, 11595, 13275, 16936, 8708, 16938, 7100, 14316, 8614, 15048, 1835, 12788, 15066, 6409, 8109, 1874, 16654, 109, 12300, 12072, 12445, 7446, 9840, 13663, 9272, 7045, 10758, 912, 4950, 7920, 739, 9275, 19875, 12610, 9477, 18379, 16193, 10063, 14177, 11937, 16131, 6247, 12361, 5670, 4467, 5381, 12280, 16393, 11345, 6960, 9821, 3325, 1767, 3354, 8274, 10759, 14093, 16397, 12643, 16611, 1491, 2287, 1837, 3536, 12346, 5322, 9100, 12030, 11599, 17845, 16946, 2461, 7960, 1917, 9492, 1870, 7814, 16624, 5075, 15248, 4817, 14681, 523, 7529, 9822, 716, 16557, 6838, 17873, 9866, 1337, 3684, 3574, 8268, 1452, 16818, 13576, 10221, 3440, 8336, 2571, 19485, 13446, 4677, 16757, 10407, 11580, 11850, 5862, 4597, 10334, 9779, 3719, 4002, 10185, 8544, 1212, 7109, 9688, 1611, 3323, 13884, 2606, 8637, 5319, 907, 15424, 1568, 7160, 10919, 4850, 12942, 8968, 5227, 3881, 6846, 4460, 5896, 14973, 12224, 6148, 18592, 1062, 12980, 3734, 10839, 6124, 17717, 8579, 4446, 9973, 9950, 12419, 5205, 6737, 7597, 254, 2695, 7744, 7518, 4408, 6008, 16777, 5270, 14746, 4537, 6612, 16238, 16733, 5006, 7595, 4629, 1577, 1219, 1807, 9473, 9283, 4738, 18638, 10251, 11483, 3835, 15922, 11642, 16231, 11528, 32, 6607, 353, 4949, 5665, 9793, 7118, 3906, 1848, 7956, 8440, 8680, 11526, 7484, 12745, 5486, 9960, 16824, 830, 17470, 350, 13116, 8527, 3523, 11265, 16887, 941, 15882, 11649, 5547, 12201, 7358, 12845, 14218, 15235, 3310, 16832, 12902, 8643, 3855, 5866, 18802, 7082, 1621, 7, 1133, 16276, 15547, 11551, 12392, 12350, 4689, 5069, 10141, 12978, 10281, 1553, 9566, 7825, 11554, 11313, 16194, 608, 18555, 8856, 14561, 345, 3], 'disease_state_numeric': 0, 'disease_state': 'normal', 'sex': 'female', 'Donor_Age': '91', 'Cause_of_Death': 'Congestive Heart failure', 'donor_id': '3346', 'length': 4096}\n",
            "4096\n"
          ]
        }
      ]
    },
    {
      "cell_type": "code",
      "source": [],
      "metadata": {
        "id": "6eAd6CTX5BUm"
      },
      "execution_count": null,
      "outputs": []
    }
  ]
}