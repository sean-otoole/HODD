{
  "nbformat": 4,
  "nbformat_minor": 0,
  "metadata": {
    "colab": {
      "provenance": [],
      "machine_shape": "hm",
      "authorship_tag": "ABX9TyOJar9eaWGiivVod7k8KWd7",
      "include_colab_link": true
    },
    "kernelspec": {
      "name": "python3",
      "display_name": "Python 3"
    },
    "language_info": {
      "name": "python"
    }
  },
  "cells": [
    {
      "cell_type": "markdown",
      "metadata": {
        "id": "view-in-github",
        "colab_type": "text"
      },
      "source": [
        "<a href=\"https://colab.research.google.com/github/sean-otoole/HODD/blob/main/PDTx_pipeline/PDTx_02_Tokenization_DA.ipynb\" target=\"_parent\"><img src=\"https://colab.research.google.com/assets/colab-badge.svg\" alt=\"Open In Colab\"/></a>"
      ]
    },
    {
      "cell_type": "code",
      "execution_count": 1,
      "metadata": {
        "id": "44VJt_eTgFtC"
      },
      "outputs": [],
      "source": [
        "# Install required libraries without outputting installation logs\n",
        "!pip install scanpy anndata umap-learn python-igraph louvain h5py leidenalg > /dev/null 2>&1\n",
        "\n",
        "# Import necessary modules and libraries\n",
        "from google.colab import drive\n",
        "import os\n",
        "import scanpy as sc\n",
        "import pandas as pd\n",
        "from scipy.io import mmread\n",
        "import scipy.sparse\n",
        "import pickle\n",
        "\n",
        "# Mount Google Drive to access files\n",
        "drive.mount('/content/drive')\n",
        "\n",
        "# Change the working directory to the project folder in Google Drive\n",
        "os.chdir(\"/content/drive/MyDrive/HODD/\")\n",
        "\n",
        "# Install Git Large File Storage (LFS) for handling large files in Git repositories\n",
        "!git lfs install\n",
        "\n",
        "# Clone the Geneformer repository (commented out to avoid repeated cloning)\n",
        "# !git clone https://huggingface.co/ctheodoris/Geneformer\n",
        "\n",
        "# Navigate to the Geneformer directory\n",
        "%cd Geneformer\n",
        "\n",
        "# Install Geneformer package locally\n",
        "!pip install .\n",
        "\n",
        "# Import the TranscriptomeTokenizer from Geneformer\n",
        "from geneformer import TranscriptomeTokenizer\n",
        "\n",
        "# Prepare the data using Geneformer Preprocessor\n",
        "data_directory = '/content/drive/MyDrive/HODD/Geneformer_parkinsons_files'  # Directory containing data\n",
        "output_path = data_directory  # Output path for processed data\n",
        "output_prefix = 'dopamine_subset_tokenized'  # Prefix for output files\n",
        "\n",
        "# Initialize the tokenizer with relevant parameters\n",
        "tk = TranscriptomeTokenizer({\"disease_state\": \"disease_state_numeric\"}, nproc=4)\n",
        "\n",
        "# Tokenize the data, saving the output in the specified directory with the given prefix\n",
        "tk.tokenize_data(data_directory, output_path, output_prefix, file_format=\"h5ad\")"
      ]
    }
  ]
}