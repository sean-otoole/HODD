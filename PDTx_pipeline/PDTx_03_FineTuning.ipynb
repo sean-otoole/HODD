{
  "nbformat": 4,
  "nbformat_minor": 0,
  "metadata": {
    "colab": {
      "provenance": [],
      "machine_shape": "hm",
      "gpuType": "A100",
      "authorship_tag": "ABX9TyP+iwyGhqzILy7OoCzgIjse",
      "include_colab_link": true
    },
    "kernelspec": {
      "name": "python3",
      "display_name": "Python 3"
    },
    "language_info": {
      "name": "python"
    },
    "accelerator": "GPU",
    "widgets": {
      "application/vnd.jupyter.widget-state+json": {
        "c19a8a3a2e8546b1ac68044ca454991a": {
          "model_module": "@jupyter-widgets/controls",
          "model_name": "HBoxModel",
          "model_module_version": "1.5.0",
          "state": {
            "_dom_classes": [],
            "_model_module": "@jupyter-widgets/controls",
            "_model_module_version": "1.5.0",
            "_model_name": "HBoxModel",
            "_view_count": null,
            "_view_module": "@jupyter-widgets/controls",
            "_view_module_version": "1.5.0",
            "_view_name": "HBoxView",
            "box_style": "",
            "children": [
              "IPY_MODEL_f46dfa883c0d43cf92b1acedbf580623",
              "IPY_MODEL_da6b9b11dc5b4f19980cb49dc708f0aa",
              "IPY_MODEL_9f7343f3fc374234975056817a48cbae"
            ],
            "layout": "IPY_MODEL_7d7db3e3a76f41abba054501e2e683da"
          }
        },
        "f46dfa883c0d43cf92b1acedbf580623": {
          "model_module": "@jupyter-widgets/controls",
          "model_name": "HTMLModel",
          "model_module_version": "1.5.0",
          "state": {
            "_dom_classes": [],
            "_model_module": "@jupyter-widgets/controls",
            "_model_module_version": "1.5.0",
            "_model_name": "HTMLModel",
            "_view_count": null,
            "_view_module": "@jupyter-widgets/controls",
            "_view_module_version": "1.5.0",
            "_view_name": "HTMLView",
            "description": "",
            "description_tooltip": null,
            "layout": "IPY_MODEL_66151aba69674525b368dde8ca5e4f9b",
            "placeholder": "​",
            "style": "IPY_MODEL_a9af8982f3c3400d90f6825c00cf3633",
            "value": "100%"
          }
        },
        "da6b9b11dc5b4f19980cb49dc708f0aa": {
          "model_module": "@jupyter-widgets/controls",
          "model_name": "FloatProgressModel",
          "model_module_version": "1.5.0",
          "state": {
            "_dom_classes": [],
            "_model_module": "@jupyter-widgets/controls",
            "_model_module_version": "1.5.0",
            "_model_name": "FloatProgressModel",
            "_view_count": null,
            "_view_module": "@jupyter-widgets/controls",
            "_view_module_version": "1.5.0",
            "_view_name": "ProgressView",
            "bar_style": "success",
            "description": "",
            "description_tooltip": null,
            "layout": "IPY_MODEL_7e185f1d96b249afa1ceaffd1cac72ba",
            "max": 1,
            "min": 0,
            "orientation": "horizontal",
            "style": "IPY_MODEL_9297177962a24fdd94ed824b91644384",
            "value": 1
          }
        },
        "9f7343f3fc374234975056817a48cbae": {
          "model_module": "@jupyter-widgets/controls",
          "model_name": "HTMLModel",
          "model_module_version": "1.5.0",
          "state": {
            "_dom_classes": [],
            "_model_module": "@jupyter-widgets/controls",
            "_model_module_version": "1.5.0",
            "_model_name": "HTMLModel",
            "_view_count": null,
            "_view_module": "@jupyter-widgets/controls",
            "_view_module_version": "1.5.0",
            "_view_name": "HTMLView",
            "description": "",
            "description_tooltip": null,
            "layout": "IPY_MODEL_c75572b06696461f81b2013471aa6173",
            "placeholder": "​",
            "style": "IPY_MODEL_592d347d49ba4d9a93cb6e0dc78ad0d0",
            "value": " 1/1 [22:29&lt;00:00, 1349.74s/it]"
          }
        },
        "7d7db3e3a76f41abba054501e2e683da": {
          "model_module": "@jupyter-widgets/base",
          "model_name": "LayoutModel",
          "model_module_version": "1.2.0",
          "state": {
            "_model_module": "@jupyter-widgets/base",
            "_model_module_version": "1.2.0",
            "_model_name": "LayoutModel",
            "_view_count": null,
            "_view_module": "@jupyter-widgets/base",
            "_view_module_version": "1.2.0",
            "_view_name": "LayoutView",
            "align_content": null,
            "align_items": null,
            "align_self": null,
            "border": null,
            "bottom": null,
            "display": null,
            "flex": null,
            "flex_flow": null,
            "grid_area": null,
            "grid_auto_columns": null,
            "grid_auto_flow": null,
            "grid_auto_rows": null,
            "grid_column": null,
            "grid_gap": null,
            "grid_row": null,
            "grid_template_areas": null,
            "grid_template_columns": null,
            "grid_template_rows": null,
            "height": null,
            "justify_content": null,
            "justify_items": null,
            "left": null,
            "margin": null,
            "max_height": null,
            "max_width": null,
            "min_height": null,
            "min_width": null,
            "object_fit": null,
            "object_position": null,
            "order": null,
            "overflow": null,
            "overflow_x": null,
            "overflow_y": null,
            "padding": null,
            "right": null,
            "top": null,
            "visibility": null,
            "width": null
          }
        },
        "66151aba69674525b368dde8ca5e4f9b": {
          "model_module": "@jupyter-widgets/base",
          "model_name": "LayoutModel",
          "model_module_version": "1.2.0",
          "state": {
            "_model_module": "@jupyter-widgets/base",
            "_model_module_version": "1.2.0",
            "_model_name": "LayoutModel",
            "_view_count": null,
            "_view_module": "@jupyter-widgets/base",
            "_view_module_version": "1.2.0",
            "_view_name": "LayoutView",
            "align_content": null,
            "align_items": null,
            "align_self": null,
            "border": null,
            "bottom": null,
            "display": null,
            "flex": null,
            "flex_flow": null,
            "grid_area": null,
            "grid_auto_columns": null,
            "grid_auto_flow": null,
            "grid_auto_rows": null,
            "grid_column": null,
            "grid_gap": null,
            "grid_row": null,
            "grid_template_areas": null,
            "grid_template_columns": null,
            "grid_template_rows": null,
            "height": null,
            "justify_content": null,
            "justify_items": null,
            "left": null,
            "margin": null,
            "max_height": null,
            "max_width": null,
            "min_height": null,
            "min_width": null,
            "object_fit": null,
            "object_position": null,
            "order": null,
            "overflow": null,
            "overflow_x": null,
            "overflow_y": null,
            "padding": null,
            "right": null,
            "top": null,
            "visibility": null,
            "width": null
          }
        },
        "a9af8982f3c3400d90f6825c00cf3633": {
          "model_module": "@jupyter-widgets/controls",
          "model_name": "DescriptionStyleModel",
          "model_module_version": "1.5.0",
          "state": {
            "_model_module": "@jupyter-widgets/controls",
            "_model_module_version": "1.5.0",
            "_model_name": "DescriptionStyleModel",
            "_view_count": null,
            "_view_module": "@jupyter-widgets/base",
            "_view_module_version": "1.2.0",
            "_view_name": "StyleView",
            "description_width": ""
          }
        },
        "7e185f1d96b249afa1ceaffd1cac72ba": {
          "model_module": "@jupyter-widgets/base",
          "model_name": "LayoutModel",
          "model_module_version": "1.2.0",
          "state": {
            "_model_module": "@jupyter-widgets/base",
            "_model_module_version": "1.2.0",
            "_model_name": "LayoutModel",
            "_view_count": null,
            "_view_module": "@jupyter-widgets/base",
            "_view_module_version": "1.2.0",
            "_view_name": "LayoutView",
            "align_content": null,
            "align_items": null,
            "align_self": null,
            "border": null,
            "bottom": null,
            "display": null,
            "flex": null,
            "flex_flow": null,
            "grid_area": null,
            "grid_auto_columns": null,
            "grid_auto_flow": null,
            "grid_auto_rows": null,
            "grid_column": null,
            "grid_gap": null,
            "grid_row": null,
            "grid_template_areas": null,
            "grid_template_columns": null,
            "grid_template_rows": null,
            "height": null,
            "justify_content": null,
            "justify_items": null,
            "left": null,
            "margin": null,
            "max_height": null,
            "max_width": null,
            "min_height": null,
            "min_width": null,
            "object_fit": null,
            "object_position": null,
            "order": null,
            "overflow": null,
            "overflow_x": null,
            "overflow_y": null,
            "padding": null,
            "right": null,
            "top": null,
            "visibility": null,
            "width": null
          }
        },
        "9297177962a24fdd94ed824b91644384": {
          "model_module": "@jupyter-widgets/controls",
          "model_name": "ProgressStyleModel",
          "model_module_version": "1.5.0",
          "state": {
            "_model_module": "@jupyter-widgets/controls",
            "_model_module_version": "1.5.0",
            "_model_name": "ProgressStyleModel",
            "_view_count": null,
            "_view_module": "@jupyter-widgets/base",
            "_view_module_version": "1.2.0",
            "_view_name": "StyleView",
            "bar_color": null,
            "description_width": ""
          }
        },
        "c75572b06696461f81b2013471aa6173": {
          "model_module": "@jupyter-widgets/base",
          "model_name": "LayoutModel",
          "model_module_version": "1.2.0",
          "state": {
            "_model_module": "@jupyter-widgets/base",
            "_model_module_version": "1.2.0",
            "_model_name": "LayoutModel",
            "_view_count": null,
            "_view_module": "@jupyter-widgets/base",
            "_view_module_version": "1.2.0",
            "_view_name": "LayoutView",
            "align_content": null,
            "align_items": null,
            "align_self": null,
            "border": null,
            "bottom": null,
            "display": null,
            "flex": null,
            "flex_flow": null,
            "grid_area": null,
            "grid_auto_columns": null,
            "grid_auto_flow": null,
            "grid_auto_rows": null,
            "grid_column": null,
            "grid_gap": null,
            "grid_row": null,
            "grid_template_areas": null,
            "grid_template_columns": null,
            "grid_template_rows": null,
            "height": null,
            "justify_content": null,
            "justify_items": null,
            "left": null,
            "margin": null,
            "max_height": null,
            "max_width": null,
            "min_height": null,
            "min_width": null,
            "object_fit": null,
            "object_position": null,
            "order": null,
            "overflow": null,
            "overflow_x": null,
            "overflow_y": null,
            "padding": null,
            "right": null,
            "top": null,
            "visibility": null,
            "width": null
          }
        },
        "592d347d49ba4d9a93cb6e0dc78ad0d0": {
          "model_module": "@jupyter-widgets/controls",
          "model_name": "DescriptionStyleModel",
          "model_module_version": "1.5.0",
          "state": {
            "_model_module": "@jupyter-widgets/controls",
            "_model_module_version": "1.5.0",
            "_model_name": "DescriptionStyleModel",
            "_view_count": null,
            "_view_module": "@jupyter-widgets/base",
            "_view_module_version": "1.2.0",
            "_view_name": "StyleView",
            "description_width": ""
          }
        },
        "120af208fe444f6289c26c1761489d04": {
          "model_module": "@jupyter-widgets/controls",
          "model_name": "HBoxModel",
          "model_module_version": "1.5.0",
          "state": {
            "_dom_classes": [],
            "_model_module": "@jupyter-widgets/controls",
            "_model_module_version": "1.5.0",
            "_model_name": "HBoxModel",
            "_view_count": null,
            "_view_module": "@jupyter-widgets/controls",
            "_view_module_version": "1.5.0",
            "_view_name": "HBoxView",
            "box_style": "",
            "children": [
              "IPY_MODEL_1c387eac2c92443297257832446a0caf",
              "IPY_MODEL_dd350311e2a3416180d9714b3bb3ad6d",
              "IPY_MODEL_bc129336b6584d128a46a161ac8976a5"
            ],
            "layout": "IPY_MODEL_677af949a2d9444dbc2e42d4b2f1bfe8"
          }
        },
        "1c387eac2c92443297257832446a0caf": {
          "model_module": "@jupyter-widgets/controls",
          "model_name": "HTMLModel",
          "model_module_version": "1.5.0",
          "state": {
            "_dom_classes": [],
            "_model_module": "@jupyter-widgets/controls",
            "_model_module_version": "1.5.0",
            "_model_name": "HTMLModel",
            "_view_count": null,
            "_view_module": "@jupyter-widgets/controls",
            "_view_module_version": "1.5.0",
            "_view_name": "HTMLView",
            "description": "",
            "description_tooltip": null,
            "layout": "IPY_MODEL_f982ff4dcf21494480721c01de7fcc20",
            "placeholder": "​",
            "style": "IPY_MODEL_3c4010a687714074966ef287ec403c9b",
            "value": "100%"
          }
        },
        "dd350311e2a3416180d9714b3bb3ad6d": {
          "model_module": "@jupyter-widgets/controls",
          "model_name": "FloatProgressModel",
          "model_module_version": "1.5.0",
          "state": {
            "_dom_classes": [],
            "_model_module": "@jupyter-widgets/controls",
            "_model_module_version": "1.5.0",
            "_model_name": "FloatProgressModel",
            "_view_count": null,
            "_view_module": "@jupyter-widgets/controls",
            "_view_module_version": "1.5.0",
            "_view_name": "ProgressView",
            "bar_style": "success",
            "description": "",
            "description_tooltip": null,
            "layout": "IPY_MODEL_a9e37a595efd4f4eadb5cbd3a70d2c1b",
            "max": 85,
            "min": 0,
            "orientation": "horizontal",
            "style": "IPY_MODEL_e7404976f54a411ba84f3277943f6eed",
            "value": 85
          }
        },
        "bc129336b6584d128a46a161ac8976a5": {
          "model_module": "@jupyter-widgets/controls",
          "model_name": "HTMLModel",
          "model_module_version": "1.5.0",
          "state": {
            "_dom_classes": [],
            "_model_module": "@jupyter-widgets/controls",
            "_model_module_version": "1.5.0",
            "_model_name": "HTMLModel",
            "_view_count": null,
            "_view_module": "@jupyter-widgets/controls",
            "_view_module_version": "1.5.0",
            "_view_name": "HTMLView",
            "description": "",
            "description_tooltip": null,
            "layout": "IPY_MODEL_3e96a120ad2a476a8aad8039817fda5b",
            "placeholder": "​",
            "style": "IPY_MODEL_909691879fc94992a94f86b405e9d5fc",
            "value": " 85/85 [00:43&lt;00:00,  2.15it/s]"
          }
        },
        "677af949a2d9444dbc2e42d4b2f1bfe8": {
          "model_module": "@jupyter-widgets/base",
          "model_name": "LayoutModel",
          "model_module_version": "1.2.0",
          "state": {
            "_model_module": "@jupyter-widgets/base",
            "_model_module_version": "1.2.0",
            "_model_name": "LayoutModel",
            "_view_count": null,
            "_view_module": "@jupyter-widgets/base",
            "_view_module_version": "1.2.0",
            "_view_name": "LayoutView",
            "align_content": null,
            "align_items": null,
            "align_self": null,
            "border": null,
            "bottom": null,
            "display": null,
            "flex": null,
            "flex_flow": null,
            "grid_area": null,
            "grid_auto_columns": null,
            "grid_auto_flow": null,
            "grid_auto_rows": null,
            "grid_column": null,
            "grid_gap": null,
            "grid_row": null,
            "grid_template_areas": null,
            "grid_template_columns": null,
            "grid_template_rows": null,
            "height": null,
            "justify_content": null,
            "justify_items": null,
            "left": null,
            "margin": null,
            "max_height": null,
            "max_width": null,
            "min_height": null,
            "min_width": null,
            "object_fit": null,
            "object_position": null,
            "order": null,
            "overflow": null,
            "overflow_x": null,
            "overflow_y": null,
            "padding": null,
            "right": null,
            "top": null,
            "visibility": null,
            "width": null
          }
        },
        "f982ff4dcf21494480721c01de7fcc20": {
          "model_module": "@jupyter-widgets/base",
          "model_name": "LayoutModel",
          "model_module_version": "1.2.0",
          "state": {
            "_model_module": "@jupyter-widgets/base",
            "_model_module_version": "1.2.0",
            "_model_name": "LayoutModel",
            "_view_count": null,
            "_view_module": "@jupyter-widgets/base",
            "_view_module_version": "1.2.0",
            "_view_name": "LayoutView",
            "align_content": null,
            "align_items": null,
            "align_self": null,
            "border": null,
            "bottom": null,
            "display": null,
            "flex": null,
            "flex_flow": null,
            "grid_area": null,
            "grid_auto_columns": null,
            "grid_auto_flow": null,
            "grid_auto_rows": null,
            "grid_column": null,
            "grid_gap": null,
            "grid_row": null,
            "grid_template_areas": null,
            "grid_template_columns": null,
            "grid_template_rows": null,
            "height": null,
            "justify_content": null,
            "justify_items": null,
            "left": null,
            "margin": null,
            "max_height": null,
            "max_width": null,
            "min_height": null,
            "min_width": null,
            "object_fit": null,
            "object_position": null,
            "order": null,
            "overflow": null,
            "overflow_x": null,
            "overflow_y": null,
            "padding": null,
            "right": null,
            "top": null,
            "visibility": null,
            "width": null
          }
        },
        "3c4010a687714074966ef287ec403c9b": {
          "model_module": "@jupyter-widgets/controls",
          "model_name": "DescriptionStyleModel",
          "model_module_version": "1.5.0",
          "state": {
            "_model_module": "@jupyter-widgets/controls",
            "_model_module_version": "1.5.0",
            "_model_name": "DescriptionStyleModel",
            "_view_count": null,
            "_view_module": "@jupyter-widgets/base",
            "_view_module_version": "1.2.0",
            "_view_name": "StyleView",
            "description_width": ""
          }
        },
        "a9e37a595efd4f4eadb5cbd3a70d2c1b": {
          "model_module": "@jupyter-widgets/base",
          "model_name": "LayoutModel",
          "model_module_version": "1.2.0",
          "state": {
            "_model_module": "@jupyter-widgets/base",
            "_model_module_version": "1.2.0",
            "_model_name": "LayoutModel",
            "_view_count": null,
            "_view_module": "@jupyter-widgets/base",
            "_view_module_version": "1.2.0",
            "_view_name": "LayoutView",
            "align_content": null,
            "align_items": null,
            "align_self": null,
            "border": null,
            "bottom": null,
            "display": null,
            "flex": null,
            "flex_flow": null,
            "grid_area": null,
            "grid_auto_columns": null,
            "grid_auto_flow": null,
            "grid_auto_rows": null,
            "grid_column": null,
            "grid_gap": null,
            "grid_row": null,
            "grid_template_areas": null,
            "grid_template_columns": null,
            "grid_template_rows": null,
            "height": null,
            "justify_content": null,
            "justify_items": null,
            "left": null,
            "margin": null,
            "max_height": null,
            "max_width": null,
            "min_height": null,
            "min_width": null,
            "object_fit": null,
            "object_position": null,
            "order": null,
            "overflow": null,
            "overflow_x": null,
            "overflow_y": null,
            "padding": null,
            "right": null,
            "top": null,
            "visibility": null,
            "width": null
          }
        },
        "e7404976f54a411ba84f3277943f6eed": {
          "model_module": "@jupyter-widgets/controls",
          "model_name": "ProgressStyleModel",
          "model_module_version": "1.5.0",
          "state": {
            "_model_module": "@jupyter-widgets/controls",
            "_model_module_version": "1.5.0",
            "_model_name": "ProgressStyleModel",
            "_view_count": null,
            "_view_module": "@jupyter-widgets/base",
            "_view_module_version": "1.2.0",
            "_view_name": "StyleView",
            "bar_color": null,
            "description_width": ""
          }
        },
        "3e96a120ad2a476a8aad8039817fda5b": {
          "model_module": "@jupyter-widgets/base",
          "model_name": "LayoutModel",
          "model_module_version": "1.2.0",
          "state": {
            "_model_module": "@jupyter-widgets/base",
            "_model_module_version": "1.2.0",
            "_model_name": "LayoutModel",
            "_view_count": null,
            "_view_module": "@jupyter-widgets/base",
            "_view_module_version": "1.2.0",
            "_view_name": "LayoutView",
            "align_content": null,
            "align_items": null,
            "align_self": null,
            "border": null,
            "bottom": null,
            "display": null,
            "flex": null,
            "flex_flow": null,
            "grid_area": null,
            "grid_auto_columns": null,
            "grid_auto_flow": null,
            "grid_auto_rows": null,
            "grid_column": null,
            "grid_gap": null,
            "grid_row": null,
            "grid_template_areas": null,
            "grid_template_columns": null,
            "grid_template_rows": null,
            "height": null,
            "justify_content": null,
            "justify_items": null,
            "left": null,
            "margin": null,
            "max_height": null,
            "max_width": null,
            "min_height": null,
            "min_width": null,
            "object_fit": null,
            "object_position": null,
            "order": null,
            "overflow": null,
            "overflow_x": null,
            "overflow_y": null,
            "padding": null,
            "right": null,
            "top": null,
            "visibility": null,
            "width": null
          }
        },
        "909691879fc94992a94f86b405e9d5fc": {
          "model_module": "@jupyter-widgets/controls",
          "model_name": "DescriptionStyleModel",
          "model_module_version": "1.5.0",
          "state": {
            "_model_module": "@jupyter-widgets/controls",
            "_model_module_version": "1.5.0",
            "_model_name": "DescriptionStyleModel",
            "_view_count": null,
            "_view_module": "@jupyter-widgets/base",
            "_view_module_version": "1.2.0",
            "_view_name": "StyleView",
            "description_width": ""
          }
        },
        "ca47b17fd5a8456b8632f49d794be566": {
          "model_module": "@jupyter-widgets/controls",
          "model_name": "HBoxModel",
          "model_module_version": "1.5.0",
          "state": {
            "_dom_classes": [],
            "_model_module": "@jupyter-widgets/controls",
            "_model_module_version": "1.5.0",
            "_model_name": "HBoxModel",
            "_view_count": null,
            "_view_module": "@jupyter-widgets/controls",
            "_view_module_version": "1.5.0",
            "_view_name": "HBoxView",
            "box_style": "",
            "children": [
              "IPY_MODEL_db24d95669094ebfa3b7bdfda5c6ea9d",
              "IPY_MODEL_fd6a45c160c24e4bb56213a5b32faf8c",
              "IPY_MODEL_e82cef15e36c48be89f916374e6807c0"
            ],
            "layout": "IPY_MODEL_057b95422b5946d6b1d94c31056cde6a"
          }
        },
        "db24d95669094ebfa3b7bdfda5c6ea9d": {
          "model_module": "@jupyter-widgets/controls",
          "model_name": "HTMLModel",
          "model_module_version": "1.5.0",
          "state": {
            "_dom_classes": [],
            "_model_module": "@jupyter-widgets/controls",
            "_model_module_version": "1.5.0",
            "_model_name": "HTMLModel",
            "_view_count": null,
            "_view_module": "@jupyter-widgets/controls",
            "_view_module_version": "1.5.0",
            "_view_name": "HTMLView",
            "description": "",
            "description_tooltip": null,
            "layout": "IPY_MODEL_6e5dd7afd5a940be80e0ab1b86ac070b",
            "placeholder": "​",
            "style": "IPY_MODEL_43dd4b203b1a4e43948d641067af1e55",
            "value": "Casting the dataset: 100%"
          }
        },
        "fd6a45c160c24e4bb56213a5b32faf8c": {
          "model_module": "@jupyter-widgets/controls",
          "model_name": "FloatProgressModel",
          "model_module_version": "1.5.0",
          "state": {
            "_dom_classes": [],
            "_model_module": "@jupyter-widgets/controls",
            "_model_module_version": "1.5.0",
            "_model_name": "FloatProgressModel",
            "_view_count": null,
            "_view_module": "@jupyter-widgets/controls",
            "_view_module_version": "1.5.0",
            "_view_name": "ProgressView",
            "bar_style": "success",
            "description": "",
            "description_tooltip": null,
            "layout": "IPY_MODEL_a2a796164624400b99131e5db9b877e0",
            "max": 3561,
            "min": 0,
            "orientation": "horizontal",
            "style": "IPY_MODEL_e55b4a2b3c01427fba979ad8c9f4a7fb",
            "value": 3561
          }
        },
        "e82cef15e36c48be89f916374e6807c0": {
          "model_module": "@jupyter-widgets/controls",
          "model_name": "HTMLModel",
          "model_module_version": "1.5.0",
          "state": {
            "_dom_classes": [],
            "_model_module": "@jupyter-widgets/controls",
            "_model_module_version": "1.5.0",
            "_model_name": "HTMLModel",
            "_view_count": null,
            "_view_module": "@jupyter-widgets/controls",
            "_view_module_version": "1.5.0",
            "_view_name": "HTMLView",
            "description": "",
            "description_tooltip": null,
            "layout": "IPY_MODEL_4ff5ad14f5694453a2f0250361c48ec6",
            "placeholder": "​",
            "style": "IPY_MODEL_5a53af62f85a42c49e408f60e410501f",
            "value": " 3561/3561 [00:00&lt;00:00, 41877.54 examples/s]"
          }
        },
        "057b95422b5946d6b1d94c31056cde6a": {
          "model_module": "@jupyter-widgets/base",
          "model_name": "LayoutModel",
          "model_module_version": "1.2.0",
          "state": {
            "_model_module": "@jupyter-widgets/base",
            "_model_module_version": "1.2.0",
            "_model_name": "LayoutModel",
            "_view_count": null,
            "_view_module": "@jupyter-widgets/base",
            "_view_module_version": "1.2.0",
            "_view_name": "LayoutView",
            "align_content": null,
            "align_items": null,
            "align_self": null,
            "border": null,
            "bottom": null,
            "display": null,
            "flex": null,
            "flex_flow": null,
            "grid_area": null,
            "grid_auto_columns": null,
            "grid_auto_flow": null,
            "grid_auto_rows": null,
            "grid_column": null,
            "grid_gap": null,
            "grid_row": null,
            "grid_template_areas": null,
            "grid_template_columns": null,
            "grid_template_rows": null,
            "height": null,
            "justify_content": null,
            "justify_items": null,
            "left": null,
            "margin": null,
            "max_height": null,
            "max_width": null,
            "min_height": null,
            "min_width": null,
            "object_fit": null,
            "object_position": null,
            "order": null,
            "overflow": null,
            "overflow_x": null,
            "overflow_y": null,
            "padding": null,
            "right": null,
            "top": null,
            "visibility": null,
            "width": null
          }
        },
        "6e5dd7afd5a940be80e0ab1b86ac070b": {
          "model_module": "@jupyter-widgets/base",
          "model_name": "LayoutModel",
          "model_module_version": "1.2.0",
          "state": {
            "_model_module": "@jupyter-widgets/base",
            "_model_module_version": "1.2.0",
            "_model_name": "LayoutModel",
            "_view_count": null,
            "_view_module": "@jupyter-widgets/base",
            "_view_module_version": "1.2.0",
            "_view_name": "LayoutView",
            "align_content": null,
            "align_items": null,
            "align_self": null,
            "border": null,
            "bottom": null,
            "display": null,
            "flex": null,
            "flex_flow": null,
            "grid_area": null,
            "grid_auto_columns": null,
            "grid_auto_flow": null,
            "grid_auto_rows": null,
            "grid_column": null,
            "grid_gap": null,
            "grid_row": null,
            "grid_template_areas": null,
            "grid_template_columns": null,
            "grid_template_rows": null,
            "height": null,
            "justify_content": null,
            "justify_items": null,
            "left": null,
            "margin": null,
            "max_height": null,
            "max_width": null,
            "min_height": null,
            "min_width": null,
            "object_fit": null,
            "object_position": null,
            "order": null,
            "overflow": null,
            "overflow_x": null,
            "overflow_y": null,
            "padding": null,
            "right": null,
            "top": null,
            "visibility": null,
            "width": null
          }
        },
        "43dd4b203b1a4e43948d641067af1e55": {
          "model_module": "@jupyter-widgets/controls",
          "model_name": "DescriptionStyleModel",
          "model_module_version": "1.5.0",
          "state": {
            "_model_module": "@jupyter-widgets/controls",
            "_model_module_version": "1.5.0",
            "_model_name": "DescriptionStyleModel",
            "_view_count": null,
            "_view_module": "@jupyter-widgets/base",
            "_view_module_version": "1.2.0",
            "_view_name": "StyleView",
            "description_width": ""
          }
        },
        "a2a796164624400b99131e5db9b877e0": {
          "model_module": "@jupyter-widgets/base",
          "model_name": "LayoutModel",
          "model_module_version": "1.2.0",
          "state": {
            "_model_module": "@jupyter-widgets/base",
            "_model_module_version": "1.2.0",
            "_model_name": "LayoutModel",
            "_view_count": null,
            "_view_module": "@jupyter-widgets/base",
            "_view_module_version": "1.2.0",
            "_view_name": "LayoutView",
            "align_content": null,
            "align_items": null,
            "align_self": null,
            "border": null,
            "bottom": null,
            "display": null,
            "flex": null,
            "flex_flow": null,
            "grid_area": null,
            "grid_auto_columns": null,
            "grid_auto_flow": null,
            "grid_auto_rows": null,
            "grid_column": null,
            "grid_gap": null,
            "grid_row": null,
            "grid_template_areas": null,
            "grid_template_columns": null,
            "grid_template_rows": null,
            "height": null,
            "justify_content": null,
            "justify_items": null,
            "left": null,
            "margin": null,
            "max_height": null,
            "max_width": null,
            "min_height": null,
            "min_width": null,
            "object_fit": null,
            "object_position": null,
            "order": null,
            "overflow": null,
            "overflow_x": null,
            "overflow_y": null,
            "padding": null,
            "right": null,
            "top": null,
            "visibility": null,
            "width": null
          }
        },
        "e55b4a2b3c01427fba979ad8c9f4a7fb": {
          "model_module": "@jupyter-widgets/controls",
          "model_name": "ProgressStyleModel",
          "model_module_version": "1.5.0",
          "state": {
            "_model_module": "@jupyter-widgets/controls",
            "_model_module_version": "1.5.0",
            "_model_name": "ProgressStyleModel",
            "_view_count": null,
            "_view_module": "@jupyter-widgets/base",
            "_view_module_version": "1.2.0",
            "_view_name": "StyleView",
            "bar_color": null,
            "description_width": ""
          }
        },
        "4ff5ad14f5694453a2f0250361c48ec6": {
          "model_module": "@jupyter-widgets/base",
          "model_name": "LayoutModel",
          "model_module_version": "1.2.0",
          "state": {
            "_model_module": "@jupyter-widgets/base",
            "_model_module_version": "1.2.0",
            "_model_name": "LayoutModel",
            "_view_count": null,
            "_view_module": "@jupyter-widgets/base",
            "_view_module_version": "1.2.0",
            "_view_name": "LayoutView",
            "align_content": null,
            "align_items": null,
            "align_self": null,
            "border": null,
            "bottom": null,
            "display": null,
            "flex": null,
            "flex_flow": null,
            "grid_area": null,
            "grid_auto_columns": null,
            "grid_auto_flow": null,
            "grid_auto_rows": null,
            "grid_column": null,
            "grid_gap": null,
            "grid_row": null,
            "grid_template_areas": null,
            "grid_template_columns": null,
            "grid_template_rows": null,
            "height": null,
            "justify_content": null,
            "justify_items": null,
            "left": null,
            "margin": null,
            "max_height": null,
            "max_width": null,
            "min_height": null,
            "min_width": null,
            "object_fit": null,
            "object_position": null,
            "order": null,
            "overflow": null,
            "overflow_x": null,
            "overflow_y": null,
            "padding": null,
            "right": null,
            "top": null,
            "visibility": null,
            "width": null
          }
        },
        "5a53af62f85a42c49e408f60e410501f": {
          "model_module": "@jupyter-widgets/controls",
          "model_name": "DescriptionStyleModel",
          "model_module_version": "1.5.0",
          "state": {
            "_model_module": "@jupyter-widgets/controls",
            "_model_module_version": "1.5.0",
            "_model_name": "DescriptionStyleModel",
            "_view_count": null,
            "_view_module": "@jupyter-widgets/base",
            "_view_module_version": "1.2.0",
            "_view_name": "StyleView",
            "description_width": ""
          }
        },
        "ecf6173f31c24cc7a02e16ca859f32a3": {
          "model_module": "@jupyter-widgets/controls",
          "model_name": "HBoxModel",
          "model_module_version": "1.5.0",
          "state": {
            "_dom_classes": [],
            "_model_module": "@jupyter-widgets/controls",
            "_model_module_version": "1.5.0",
            "_model_name": "HBoxModel",
            "_view_count": null,
            "_view_module": "@jupyter-widgets/controls",
            "_view_module_version": "1.5.0",
            "_view_name": "HBoxView",
            "box_style": "",
            "children": [
              "IPY_MODEL_2b9dd26b69fa4bba9aa4f2cdb8c83bd7",
              "IPY_MODEL_a428fa0819fe49b6999b488325eb063f",
              "IPY_MODEL_d41cd717a0174eb3ac00141c937b34a6"
            ],
            "layout": "IPY_MODEL_4ef611cb9edf415aaf97ec047135b37a"
          }
        },
        "2b9dd26b69fa4bba9aa4f2cdb8c83bd7": {
          "model_module": "@jupyter-widgets/controls",
          "model_name": "HTMLModel",
          "model_module_version": "1.5.0",
          "state": {
            "_dom_classes": [],
            "_model_module": "@jupyter-widgets/controls",
            "_model_module_version": "1.5.0",
            "_model_name": "HTMLModel",
            "_view_count": null,
            "_view_module": "@jupyter-widgets/controls",
            "_view_module_version": "1.5.0",
            "_view_name": "HTMLView",
            "description": "",
            "description_tooltip": null,
            "layout": "IPY_MODEL_33df86bbc1284c2391aa544176bb0621",
            "placeholder": "​",
            "style": "IPY_MODEL_187d64915f064dbf88ca744ee1801ec3",
            "value": "Saving the dataset (1/1 shards): 100%"
          }
        },
        "a428fa0819fe49b6999b488325eb063f": {
          "model_module": "@jupyter-widgets/controls",
          "model_name": "FloatProgressModel",
          "model_module_version": "1.5.0",
          "state": {
            "_dom_classes": [],
            "_model_module": "@jupyter-widgets/controls",
            "_model_module_version": "1.5.0",
            "_model_name": "FloatProgressModel",
            "_view_count": null,
            "_view_module": "@jupyter-widgets/controls",
            "_view_module_version": "1.5.0",
            "_view_name": "ProgressView",
            "bar_style": "success",
            "description": "",
            "description_tooltip": null,
            "layout": "IPY_MODEL_c4e078f8f190442db3fd9a2dfc2ec03b",
            "max": 3561,
            "min": 0,
            "orientation": "horizontal",
            "style": "IPY_MODEL_c07a014d77ba448bb29427cda679858b",
            "value": 3561
          }
        },
        "d41cd717a0174eb3ac00141c937b34a6": {
          "model_module": "@jupyter-widgets/controls",
          "model_name": "HTMLModel",
          "model_module_version": "1.5.0",
          "state": {
            "_dom_classes": [],
            "_model_module": "@jupyter-widgets/controls",
            "_model_module_version": "1.5.0",
            "_model_name": "HTMLModel",
            "_view_count": null,
            "_view_module": "@jupyter-widgets/controls",
            "_view_module_version": "1.5.0",
            "_view_name": "HTMLView",
            "description": "",
            "description_tooltip": null,
            "layout": "IPY_MODEL_09b3883e965b415c9ae718738aca3ae7",
            "placeholder": "​",
            "style": "IPY_MODEL_4148ff2daa94479d8182e98c67d5fd7b",
            "value": " 3561/3561 [00:00&lt;00:00, 28243.91 examples/s]"
          }
        },
        "4ef611cb9edf415aaf97ec047135b37a": {
          "model_module": "@jupyter-widgets/base",
          "model_name": "LayoutModel",
          "model_module_version": "1.2.0",
          "state": {
            "_model_module": "@jupyter-widgets/base",
            "_model_module_version": "1.2.0",
            "_model_name": "LayoutModel",
            "_view_count": null,
            "_view_module": "@jupyter-widgets/base",
            "_view_module_version": "1.2.0",
            "_view_name": "LayoutView",
            "align_content": null,
            "align_items": null,
            "align_self": null,
            "border": null,
            "bottom": null,
            "display": null,
            "flex": null,
            "flex_flow": null,
            "grid_area": null,
            "grid_auto_columns": null,
            "grid_auto_flow": null,
            "grid_auto_rows": null,
            "grid_column": null,
            "grid_gap": null,
            "grid_row": null,
            "grid_template_areas": null,
            "grid_template_columns": null,
            "grid_template_rows": null,
            "height": null,
            "justify_content": null,
            "justify_items": null,
            "left": null,
            "margin": null,
            "max_height": null,
            "max_width": null,
            "min_height": null,
            "min_width": null,
            "object_fit": null,
            "object_position": null,
            "order": null,
            "overflow": null,
            "overflow_x": null,
            "overflow_y": null,
            "padding": null,
            "right": null,
            "top": null,
            "visibility": null,
            "width": null
          }
        },
        "33df86bbc1284c2391aa544176bb0621": {
          "model_module": "@jupyter-widgets/base",
          "model_name": "LayoutModel",
          "model_module_version": "1.2.0",
          "state": {
            "_model_module": "@jupyter-widgets/base",
            "_model_module_version": "1.2.0",
            "_model_name": "LayoutModel",
            "_view_count": null,
            "_view_module": "@jupyter-widgets/base",
            "_view_module_version": "1.2.0",
            "_view_name": "LayoutView",
            "align_content": null,
            "align_items": null,
            "align_self": null,
            "border": null,
            "bottom": null,
            "display": null,
            "flex": null,
            "flex_flow": null,
            "grid_area": null,
            "grid_auto_columns": null,
            "grid_auto_flow": null,
            "grid_auto_rows": null,
            "grid_column": null,
            "grid_gap": null,
            "grid_row": null,
            "grid_template_areas": null,
            "grid_template_columns": null,
            "grid_template_rows": null,
            "height": null,
            "justify_content": null,
            "justify_items": null,
            "left": null,
            "margin": null,
            "max_height": null,
            "max_width": null,
            "min_height": null,
            "min_width": null,
            "object_fit": null,
            "object_position": null,
            "order": null,
            "overflow": null,
            "overflow_x": null,
            "overflow_y": null,
            "padding": null,
            "right": null,
            "top": null,
            "visibility": null,
            "width": null
          }
        },
        "187d64915f064dbf88ca744ee1801ec3": {
          "model_module": "@jupyter-widgets/controls",
          "model_name": "DescriptionStyleModel",
          "model_module_version": "1.5.0",
          "state": {
            "_model_module": "@jupyter-widgets/controls",
            "_model_module_version": "1.5.0",
            "_model_name": "DescriptionStyleModel",
            "_view_count": null,
            "_view_module": "@jupyter-widgets/base",
            "_view_module_version": "1.2.0",
            "_view_name": "StyleView",
            "description_width": ""
          }
        },
        "c4e078f8f190442db3fd9a2dfc2ec03b": {
          "model_module": "@jupyter-widgets/base",
          "model_name": "LayoutModel",
          "model_module_version": "1.2.0",
          "state": {
            "_model_module": "@jupyter-widgets/base",
            "_model_module_version": "1.2.0",
            "_model_name": "LayoutModel",
            "_view_count": null,
            "_view_module": "@jupyter-widgets/base",
            "_view_module_version": "1.2.0",
            "_view_name": "LayoutView",
            "align_content": null,
            "align_items": null,
            "align_self": null,
            "border": null,
            "bottom": null,
            "display": null,
            "flex": null,
            "flex_flow": null,
            "grid_area": null,
            "grid_auto_columns": null,
            "grid_auto_flow": null,
            "grid_auto_rows": null,
            "grid_column": null,
            "grid_gap": null,
            "grid_row": null,
            "grid_template_areas": null,
            "grid_template_columns": null,
            "grid_template_rows": null,
            "height": null,
            "justify_content": null,
            "justify_items": null,
            "left": null,
            "margin": null,
            "max_height": null,
            "max_width": null,
            "min_height": null,
            "min_width": null,
            "object_fit": null,
            "object_position": null,
            "order": null,
            "overflow": null,
            "overflow_x": null,
            "overflow_y": null,
            "padding": null,
            "right": null,
            "top": null,
            "visibility": null,
            "width": null
          }
        },
        "c07a014d77ba448bb29427cda679858b": {
          "model_module": "@jupyter-widgets/controls",
          "model_name": "ProgressStyleModel",
          "model_module_version": "1.5.0",
          "state": {
            "_model_module": "@jupyter-widgets/controls",
            "_model_module_version": "1.5.0",
            "_model_name": "ProgressStyleModel",
            "_view_count": null,
            "_view_module": "@jupyter-widgets/base",
            "_view_module_version": "1.2.0",
            "_view_name": "StyleView",
            "bar_color": null,
            "description_width": ""
          }
        },
        "09b3883e965b415c9ae718738aca3ae7": {
          "model_module": "@jupyter-widgets/base",
          "model_name": "LayoutModel",
          "model_module_version": "1.2.0",
          "state": {
            "_model_module": "@jupyter-widgets/base",
            "_model_module_version": "1.2.0",
            "_model_name": "LayoutModel",
            "_view_count": null,
            "_view_module": "@jupyter-widgets/base",
            "_view_module_version": "1.2.0",
            "_view_name": "LayoutView",
            "align_content": null,
            "align_items": null,
            "align_self": null,
            "border": null,
            "bottom": null,
            "display": null,
            "flex": null,
            "flex_flow": null,
            "grid_area": null,
            "grid_auto_columns": null,
            "grid_auto_flow": null,
            "grid_auto_rows": null,
            "grid_column": null,
            "grid_gap": null,
            "grid_row": null,
            "grid_template_areas": null,
            "grid_template_columns": null,
            "grid_template_rows": null,
            "height": null,
            "justify_content": null,
            "justify_items": null,
            "left": null,
            "margin": null,
            "max_height": null,
            "max_width": null,
            "min_height": null,
            "min_width": null,
            "object_fit": null,
            "object_position": null,
            "order": null,
            "overflow": null,
            "overflow_x": null,
            "overflow_y": null,
            "padding": null,
            "right": null,
            "top": null,
            "visibility": null,
            "width": null
          }
        },
        "4148ff2daa94479d8182e98c67d5fd7b": {
          "model_module": "@jupyter-widgets/controls",
          "model_name": "DescriptionStyleModel",
          "model_module_version": "1.5.0",
          "state": {
            "_model_module": "@jupyter-widgets/controls",
            "_model_module_version": "1.5.0",
            "_model_name": "DescriptionStyleModel",
            "_view_count": null,
            "_view_module": "@jupyter-widgets/base",
            "_view_module_version": "1.2.0",
            "_view_name": "StyleView",
            "description_width": ""
          }
        },
        "36c70fae483448c3a515cc15750ef4d4": {
          "model_module": "@jupyter-widgets/controls",
          "model_name": "HBoxModel",
          "model_module_version": "1.5.0",
          "state": {
            "_dom_classes": [],
            "_model_module": "@jupyter-widgets/controls",
            "_model_module_version": "1.5.0",
            "_model_name": "HBoxModel",
            "_view_count": null,
            "_view_module": "@jupyter-widgets/controls",
            "_view_module_version": "1.5.0",
            "_view_name": "HBoxView",
            "box_style": "",
            "children": [
              "IPY_MODEL_6d83c283a715480b99679f07815225bf",
              "IPY_MODEL_9e937efffcb7492b9b06d899d29d7fe2",
              "IPY_MODEL_6d1081281f644181b1114a218f2c87b5"
            ],
            "layout": "IPY_MODEL_c28c4e25d1fc400eb65f47586c41c712"
          }
        },
        "6d83c283a715480b99679f07815225bf": {
          "model_module": "@jupyter-widgets/controls",
          "model_name": "HTMLModel",
          "model_module_version": "1.5.0",
          "state": {
            "_dom_classes": [],
            "_model_module": "@jupyter-widgets/controls",
            "_model_module_version": "1.5.0",
            "_model_name": "HTMLModel",
            "_view_count": null,
            "_view_module": "@jupyter-widgets/controls",
            "_view_module_version": "1.5.0",
            "_view_name": "HTMLView",
            "description": "",
            "description_tooltip": null,
            "layout": "IPY_MODEL_fb31525d16c942e484326d529a630856",
            "placeholder": "​",
            "style": "IPY_MODEL_a328e3b5963c4eec8c0bec8fa89e057f",
            "value": "100%"
          }
        },
        "9e937efffcb7492b9b06d899d29d7fe2": {
          "model_module": "@jupyter-widgets/controls",
          "model_name": "FloatProgressModel",
          "model_module_version": "1.5.0",
          "state": {
            "_dom_classes": [],
            "_model_module": "@jupyter-widgets/controls",
            "_model_module_version": "1.5.0",
            "_model_name": "FloatProgressModel",
            "_view_count": null,
            "_view_module": "@jupyter-widgets/controls",
            "_view_module_version": "1.5.0",
            "_view_name": "ProgressView",
            "bar_style": "success",
            "description": "",
            "description_tooltip": null,
            "layout": "IPY_MODEL_7e090e72ea0544f8a6711e7b2cb0b08f",
            "max": 99,
            "min": 0,
            "orientation": "horizontal",
            "style": "IPY_MODEL_11f41c653eac48b88aa71d1f94e38254",
            "value": 99
          }
        },
        "6d1081281f644181b1114a218f2c87b5": {
          "model_module": "@jupyter-widgets/controls",
          "model_name": "HTMLModel",
          "model_module_version": "1.5.0",
          "state": {
            "_dom_classes": [],
            "_model_module": "@jupyter-widgets/controls",
            "_model_module_version": "1.5.0",
            "_model_name": "HTMLModel",
            "_view_count": null,
            "_view_module": "@jupyter-widgets/controls",
            "_view_module_version": "1.5.0",
            "_view_name": "HTMLView",
            "description": "",
            "description_tooltip": null,
            "layout": "IPY_MODEL_963a3d4c2e0044648b04ed24b6eacd80",
            "placeholder": "​",
            "style": "IPY_MODEL_3d0ca422b20246b98d641544af94981b",
            "value": " 99/99 [02:12&lt;00:00,  1.35s/it]"
          }
        },
        "c28c4e25d1fc400eb65f47586c41c712": {
          "model_module": "@jupyter-widgets/base",
          "model_name": "LayoutModel",
          "model_module_version": "1.2.0",
          "state": {
            "_model_module": "@jupyter-widgets/base",
            "_model_module_version": "1.2.0",
            "_model_name": "LayoutModel",
            "_view_count": null,
            "_view_module": "@jupyter-widgets/base",
            "_view_module_version": "1.2.0",
            "_view_name": "LayoutView",
            "align_content": null,
            "align_items": null,
            "align_self": null,
            "border": null,
            "bottom": null,
            "display": null,
            "flex": null,
            "flex_flow": null,
            "grid_area": null,
            "grid_auto_columns": null,
            "grid_auto_flow": null,
            "grid_auto_rows": null,
            "grid_column": null,
            "grid_gap": null,
            "grid_row": null,
            "grid_template_areas": null,
            "grid_template_columns": null,
            "grid_template_rows": null,
            "height": null,
            "justify_content": null,
            "justify_items": null,
            "left": null,
            "margin": null,
            "max_height": null,
            "max_width": null,
            "min_height": null,
            "min_width": null,
            "object_fit": null,
            "object_position": null,
            "order": null,
            "overflow": null,
            "overflow_x": null,
            "overflow_y": null,
            "padding": null,
            "right": null,
            "top": null,
            "visibility": null,
            "width": null
          }
        },
        "fb31525d16c942e484326d529a630856": {
          "model_module": "@jupyter-widgets/base",
          "model_name": "LayoutModel",
          "model_module_version": "1.2.0",
          "state": {
            "_model_module": "@jupyter-widgets/base",
            "_model_module_version": "1.2.0",
            "_model_name": "LayoutModel",
            "_view_count": null,
            "_view_module": "@jupyter-widgets/base",
            "_view_module_version": "1.2.0",
            "_view_name": "LayoutView",
            "align_content": null,
            "align_items": null,
            "align_self": null,
            "border": null,
            "bottom": null,
            "display": null,
            "flex": null,
            "flex_flow": null,
            "grid_area": null,
            "grid_auto_columns": null,
            "grid_auto_flow": null,
            "grid_auto_rows": null,
            "grid_column": null,
            "grid_gap": null,
            "grid_row": null,
            "grid_template_areas": null,
            "grid_template_columns": null,
            "grid_template_rows": null,
            "height": null,
            "justify_content": null,
            "justify_items": null,
            "left": null,
            "margin": null,
            "max_height": null,
            "max_width": null,
            "min_height": null,
            "min_width": null,
            "object_fit": null,
            "object_position": null,
            "order": null,
            "overflow": null,
            "overflow_x": null,
            "overflow_y": null,
            "padding": null,
            "right": null,
            "top": null,
            "visibility": null,
            "width": null
          }
        },
        "a328e3b5963c4eec8c0bec8fa89e057f": {
          "model_module": "@jupyter-widgets/controls",
          "model_name": "DescriptionStyleModel",
          "model_module_version": "1.5.0",
          "state": {
            "_model_module": "@jupyter-widgets/controls",
            "_model_module_version": "1.5.0",
            "_model_name": "DescriptionStyleModel",
            "_view_count": null,
            "_view_module": "@jupyter-widgets/base",
            "_view_module_version": "1.2.0",
            "_view_name": "StyleView",
            "description_width": ""
          }
        },
        "7e090e72ea0544f8a6711e7b2cb0b08f": {
          "model_module": "@jupyter-widgets/base",
          "model_name": "LayoutModel",
          "model_module_version": "1.2.0",
          "state": {
            "_model_module": "@jupyter-widgets/base",
            "_model_module_version": "1.2.0",
            "_model_name": "LayoutModel",
            "_view_count": null,
            "_view_module": "@jupyter-widgets/base",
            "_view_module_version": "1.2.0",
            "_view_name": "LayoutView",
            "align_content": null,
            "align_items": null,
            "align_self": null,
            "border": null,
            "bottom": null,
            "display": null,
            "flex": null,
            "flex_flow": null,
            "grid_area": null,
            "grid_auto_columns": null,
            "grid_auto_flow": null,
            "grid_auto_rows": null,
            "grid_column": null,
            "grid_gap": null,
            "grid_row": null,
            "grid_template_areas": null,
            "grid_template_columns": null,
            "grid_template_rows": null,
            "height": null,
            "justify_content": null,
            "justify_items": null,
            "left": null,
            "margin": null,
            "max_height": null,
            "max_width": null,
            "min_height": null,
            "min_width": null,
            "object_fit": null,
            "object_position": null,
            "order": null,
            "overflow": null,
            "overflow_x": null,
            "overflow_y": null,
            "padding": null,
            "right": null,
            "top": null,
            "visibility": null,
            "width": null
          }
        },
        "11f41c653eac48b88aa71d1f94e38254": {
          "model_module": "@jupyter-widgets/controls",
          "model_name": "ProgressStyleModel",
          "model_module_version": "1.5.0",
          "state": {
            "_model_module": "@jupyter-widgets/controls",
            "_model_module_version": "1.5.0",
            "_model_name": "ProgressStyleModel",
            "_view_count": null,
            "_view_module": "@jupyter-widgets/base",
            "_view_module_version": "1.2.0",
            "_view_name": "StyleView",
            "bar_color": null,
            "description_width": ""
          }
        },
        "963a3d4c2e0044648b04ed24b6eacd80": {
          "model_module": "@jupyter-widgets/base",
          "model_name": "LayoutModel",
          "model_module_version": "1.2.0",
          "state": {
            "_model_module": "@jupyter-widgets/base",
            "_model_module_version": "1.2.0",
            "_model_name": "LayoutModel",
            "_view_count": null,
            "_view_module": "@jupyter-widgets/base",
            "_view_module_version": "1.2.0",
            "_view_name": "LayoutView",
            "align_content": null,
            "align_items": null,
            "align_self": null,
            "border": null,
            "bottom": null,
            "display": null,
            "flex": null,
            "flex_flow": null,
            "grid_area": null,
            "grid_auto_columns": null,
            "grid_auto_flow": null,
            "grid_auto_rows": null,
            "grid_column": null,
            "grid_gap": null,
            "grid_row": null,
            "grid_template_areas": null,
            "grid_template_columns": null,
            "grid_template_rows": null,
            "height": null,
            "justify_content": null,
            "justify_items": null,
            "left": null,
            "margin": null,
            "max_height": null,
            "max_width": null,
            "min_height": null,
            "min_width": null,
            "object_fit": null,
            "object_position": null,
            "order": null,
            "overflow": null,
            "overflow_x": null,
            "overflow_y": null,
            "padding": null,
            "right": null,
            "top": null,
            "visibility": null,
            "width": null
          }
        },
        "3d0ca422b20246b98d641544af94981b": {
          "model_module": "@jupyter-widgets/controls",
          "model_name": "DescriptionStyleModel",
          "model_module_version": "1.5.0",
          "state": {
            "_model_module": "@jupyter-widgets/controls",
            "_model_module_version": "1.5.0",
            "_model_name": "DescriptionStyleModel",
            "_view_count": null,
            "_view_module": "@jupyter-widgets/base",
            "_view_module_version": "1.2.0",
            "_view_name": "StyleView",
            "description_width": ""
          }
        }
      }
    }
  },
  "cells": [
    {
      "cell_type": "markdown",
      "metadata": {
        "id": "view-in-github",
        "colab_type": "text"
      },
      "source": [
        "<a href=\"https://colab.research.google.com/github/sean-otoole/HODD/blob/main/PDTx_pipeline/PDTx_03_FineTuning.ipynb\" target=\"_parent\"><img src=\"https://colab.research.google.com/assets/colab-badge.svg\" alt=\"Open In Colab\"/></a>"
      ]
    },
    {
      "cell_type": "markdown",
      "source": [
        ":Please note, it is necceesary to restart the session especially after the package downgrades for this code to work properly."
      ],
      "metadata": {
        "id": "NmDevdVBxhAa"
      }
    },
    {
      "cell_type": "code",
      "source": [
        "# downgrade numpy\n",
        "!pip uninstall numpy -y\n",
        "!pip install numpy==1.26.4\n",
        "\n",
        "# fixes a compatibility issue with the PrecollatorForGeneAndCellClassification class\n",
        "!pip install --upgrade transformers==4.41\n",
        "!pip install peft==0.10.0\n",
        "\n",
        "# Uninstall and reinstall scipy and scikit-learn to ensure compatibility with the specified numpy version\n",
        "!pip uninstall scipy -y\n",
        "!pip uninstall scikit-learn -y\n",
        "!pip install scipy\n",
        "!pip install scikit-learn\n",
        "!pip install wandb"
      ],
      "metadata": {
        "id": "6ptj23DKQbgg",
        "collapsed": true
      },
      "execution_count": null,
      "outputs": []
    },
    {
      "cell_type": "code",
      "execution_count": null,
      "metadata": {
        "id": "44VJt_eTgFtC",
        "collapsed": true
      },
      "outputs": [],
      "source": [
        "# mount the drive\n",
        "\n",
        "from google.colab import drive\n",
        "import os\n",
        "\n",
        "# Mount Google Drive to access files\n",
        "drive.mount('/content/drive')\n",
        "\n",
        "# Change the working directory to the project folder in Google Drive\n",
        "os.chdir(\"/content/drive/MyDrive/HODD/\")\n",
        "\n",
        "# Install Git Large File Storage (LFS) for handling large files in Git repositories\n",
        "# !git lfs install\n",
        "\n",
        "#Clone the Geneformer repository (commented out to avoid repeated cloning)\n",
        "# !git clone https://huggingface.co/ctheodoris/Geneformer\n",
        "\n",
        "# Navigate to the Geneformer directory\n",
        "%cd Geneformer\n",
        "\n",
        "# Install Geneformer package locally\n",
        "# I found that installing Genformer first helped with a lot of the version conflict issues\n",
        "!pip install .\n",
        "\n",
        "# Install required libraries without outputting installation logs\n",
        "!pip install anndata scanpy tdigest datasets\n",
        "\n",
        "# Import necessary modules and libraries\n",
        "import numpy\n",
        "import transformers\n",
        "import sklearn\n",
        "import pickle\n",
        "import sklearn\n",
        "\n",
        "print(numpy.__version__)"
      ]
    },
    {
      "cell_type": "code",
      "source": [
        "import pickle\n",
        "\n",
        "# bulding the mapping dictionary\n",
        "\n",
        "# Define class mapping: 0 = Parkinson's, 1 = Normal\n",
        "new_id_class_dict = {\n",
        "    0: \"normal\",\n",
        "    1: \"Parkinson_disease\",\n",
        "}\n",
        "\n",
        "# Overwrite the existing mapping file\n",
        "file_path = '/content/drive/MyDrive/HODD/datasets/park_classifier_id_class_dict.pkl'\n",
        "with open(file_path, 'wb') as f:\n",
        "    pickle.dump(new_id_class_dict, f)\n",
        "\n",
        "print(\"Mapping file saved.\")\n",
        "\n",
        "# Reload and print to confirm\n",
        "with open(file_path, 'rb') as f:\n",
        "    loaded_dict = pickle.load(f)\n",
        "\n",
        "print(\"Loaded class mapping:\")\n",
        "for k, v in loaded_dict.items():\n",
        "    print(f\"{k}: {v}\")"
      ],
      "metadata": {
        "id": "t2H0Na6V7y1r",
        "outputId": "59fddea9-078c-482d-faaf-adb3b28e0ceb",
        "colab": {
          "base_uri": "https://localhost:8080/"
        }
      },
      "execution_count": 2,
      "outputs": [
        {
          "output_type": "stream",
          "name": "stdout",
          "text": [
            "Mapping file saved.\n",
            "Loaded class mapping:\n",
            "0: normal\n",
            "1: Parkinson_disease\n"
          ]
        }
      ]
    },
    {
      "cell_type": "code",
      "source": [
        "output_prefix = \"park_classifier\"\n",
        "\n",
        "data_directory = '/content/drive/MyDrive/HODD/Geneformer_parkinsons_files/'\n",
        "\n",
        "output_dir = f\"/content/drive/MyDrive/HODD/models/geneformer_finetuned_v2\"\n",
        "!mkdir $output_dir\n",
        "\n",
        "park_data_path = '/content/drive/MyDrive/HODD/Geneformer_parkinsons_files/dopamine_subset_train_tokenized.dataset/'\n",
        "\n",
        "geneformer_directory = '/content/drive/MyDrive/HODD/Geneformer/gf-12L-95M-i4096'"
      ],
      "metadata": {
        "id": "K1CcoN-CyWg-",
        "outputId": "03b726eb-b319-4914-a521-3c3e61599de6",
        "colab": {
          "base_uri": "https://localhost:8080/"
        }
      },
      "execution_count": 3,
      "outputs": [
        {
          "output_type": "stream",
          "name": "stdout",
          "text": [
            "mkdir: cannot create directory ‘/content/drive/MyDrive/HODD/models/geneformer_finetuned_v2’: File exists\n"
          ]
        }
      ]
    },
    {
      "cell_type": "markdown",
      "source": [
        "##Fine-tune the model for cell state classification"
      ],
      "metadata": {
        "id": "6y4j1Eh7c_Cw"
      }
    },
    {
      "cell_type": "code",
      "source": [
        "from geneformer import Classifier\n",
        "from transformers import TrainingArguments\n",
        "\n",
        "hf_args = TrainingArguments(\n",
        "    output_dir=output_dir,\n",
        "    num_train_epochs=1.5,                         # updated\n",
        "    learning_rate= 5e-5,                       # updated\n",
        "    lr_scheduler_type=\"polynomial\",              # already correct\n",
        "    warmup_steps=500,                            # updated\n",
        "    weight_decay=0.25,                        # updated\n",
        "    per_device_train_batch_size=8,              # updated\n",
        "    seed=73,                                      # already correct\n",
        "    bf16=True,                                    # preserved\n",
        "    evaluation_strategy=\"epoch\",                 # preserved\n",
        "    save_strategy=\"epoch\",                       # preserved\n",
        "    load_best_model_at_end=True,                 # preserved\n",
        "    metric_for_best_model=\"eval_loss\",           # preserved\n",
        "    greater_is_better=False,                     # preserved\n",
        "    logging_dir=f\"{output_dir}/logs\",            # preserved\n",
        "    logging_steps=50,                            # preserved\n",
        "    report_to=\"none\",                            # preserved\n",
        ")\n",
        "\n",
        "training_args_dict = hf_args.to_dict()\n",
        "\n",
        "cc = Classifier(\n",
        "    classifier=\"cell\",\n",
        "    cell_state_dict={\"state_key\": \"disease_state\", \"states\": \"all\"},\n",
        "    training_args=training_args_dict,  # pass as dict, not object\n",
        "    max_ncells=None,\n",
        "    freeze_layers=2,\n",
        "    num_crossval_splits=1,\n",
        "    forward_batch_size=32,\n",
        "    nproc=16\n",
        ")\n",
        "\n",
        "print(cc.training_args[\"num_train_epochs\"])  # should print 1.5"
      ],
      "metadata": {
        "colab": {
          "base_uri": "https://localhost:8080/"
        },
        "id": "FnuIsFKTOJnp",
        "outputId": "129ffb18-0745-42ce-cfa7-4012c59ee383"
      },
      "execution_count": 4,
      "outputs": [
        {
          "output_type": "stream",
          "name": "stdout",
          "text": [
            "1.5\n"
          ]
        },
        {
          "output_type": "stream",
          "name": "stderr",
          "text": [
            "/usr/local/lib/python3.11/dist-packages/transformers/training_args.py:1474: FutureWarning: `evaluation_strategy` is deprecated and will be removed in version 4.46 of 🤗 Transformers. Use `eval_strategy` instead\n",
            "  warnings.warn(\n"
          ]
        }
      ]
    },
    {
      "cell_type": "code",
      "source": [
        "from datasets import load_from_disk\n",
        "\n",
        "original_path = '/content/drive/MyDrive/HODD/Geneformer_parkinsons_files/dopamine_subset_train_tokenized.dataset/'\n",
        "original_data = load_from_disk(original_path)\n",
        "print(\"Original dataset length:\", len(original_data))"
      ],
      "metadata": {
        "id": "eiA7_HXB3Odj",
        "outputId": "e079136a-1068-4b0b-8598-f41227bd5014",
        "colab": {
          "base_uri": "https://localhost:8080/"
        }
      },
      "execution_count": 5,
      "outputs": [
        {
          "output_type": "stream",
          "name": "stdout",
          "text": [
            "Original dataset length: 13533\n"
          ]
        }
      ]
    },
    {
      "cell_type": "code",
      "source": [
        "#datsets imports for handling tokenized dataset\n",
        "from datasets import load_dataset, load_from_disk, ClassLabel, concatenate_datasets\n",
        "import numpy as np\n",
        "\n",
        "\n",
        "#load the training data\n",
        "park_data_path = '/content/drive/MyDrive/HODD/Geneformer_parkinsons_files/dopamine_subset_train_tokenized.dataset/'\n",
        "park_data = load_from_disk(park_data_path)\n",
        "\n",
        "# Add an 'id' column that stores the original index\n",
        "park_data = park_data.add_column(\"id\", list(range(len(park_data))))\n",
        "\n",
        "# Explicit class ordering: 0 = Normal, 1 = Parkinson's,\n",
        "classes = [\"normal\",\"Parkinson_disease\"]\n",
        "\n",
        "# make the disease state column a classlabel\n",
        "park_data = park_data.cast_column(\"disease_state\", ClassLabel(names=classes))  #convert the disease state numeric column to a class label\n",
        "\n",
        "park_data = park_data.rename_column(\"disease_state\", \"label\")  # for compatibility with classifier_utils call in classifer.train_classifier\n",
        "\n",
        "# get the test and eval splits\n",
        "split_data = park_data.train_test_split(test_size=0.2, seed=42, stratify_by_column=\"label\") #establish train and eval with stratification\n",
        "\n",
        "# check the label mapping\n",
        "print(\"Label mapping:\", park_data.features[\"label\"])\n",
        "\n",
        "# split test and eval\n",
        "train_data = split_data['train']\n",
        "eval_data = split_data['test']\n",
        "\n",
        "### oversampling of the parkinsons cells for class balance during fine-tuning\n",
        "\n",
        "# Split the dataset\n",
        "normal = train_data.filter(lambda x: x['label'] == 0)\n",
        "parkinson = train_data.filter(lambda x: x['label'] == 1)\n",
        "\n",
        "# Calculate how many times to repeat Parkinson's samples\n",
        "repeat_factor = len(normal) // len(parkinson)\n",
        "extra = len(normal) % len(parkinson)\n",
        "\n",
        "# Repeat and slice\n",
        "parkinson_oversampled = parkinson.select(np.tile(range(len(parkinson)), repeat_factor).tolist())\n",
        "if extra > 0:\n",
        "    extra_samples = parkinson.select(np.random.choice(range(len(parkinson)), size=extra, replace=False).tolist())\n",
        "    parkinson_oversampled = concatenate_datasets([parkinson_oversampled, extra_samples])\n",
        "\n",
        "# Combine oversampled Parkinson's with normal class\n",
        "train_data_balanced = concatenate_datasets([normal, parkinson_oversampled]).shuffle(seed=42)\n",
        "\n",
        "# Update IDs\n",
        "train_ids = train_data_balanced[\"id\"]\n",
        "train_data = train_data_balanced\n",
        "\n",
        "# put the training and eval data back together for recall by the validate function as a file\n",
        "park_data_with_id_path = '/content/drive/MyDrive/HODD/Geneformer_parkinsons_files/dopamine_subset_train_with_id_tokenized.dataset/'\n",
        "park_data = concatenate_datasets([train_data, eval_data])\n",
        "park_data.save_to_disk(park_data_with_id_path)\n",
        "\n",
        "print(len(park_data))\n",
        "print(len(train_data))\n",
        "print(len(eval_data))\n",
        "\n",
        "# Get ids for dictionary construction\n",
        "train_ids = train_data[\"id\"]\n",
        "eval_ids = eval_data[\"id\"]\n",
        "\n",
        "# generate dictionary for validate method\n",
        "train_valid_id_split_dict = {\"attr_key\": \"id\",\n",
        "                            \"train\": train_ids,\n",
        "                            \"eval\": eval_ids}"
      ],
      "metadata": {
        "colab": {
          "base_uri": "https://localhost:8080/"
        },
        "id": "lQyOXgdn0sxw",
        "outputId": "cfe64d70-2e9c-4d52-865f-e8bbf56b1fd6"
      },
      "execution_count": 6,
      "outputs": [
        {
          "output_type": "stream",
          "name": "stderr",
          "text": [
            "/usr/local/lib/python3.11/dist-packages/datasets/table.py:1387: FutureWarning: promote has been superseded by promote_options='default'.\n",
            "  return cls._concat_blocks(pa_tables_to_concat_vertically, axis=0)\n"
          ]
        },
        {
          "output_type": "stream",
          "name": "stdout",
          "text": [
            "Label mapping: ClassLabel(names=['normal', 'Parkinson_disease'], id=None)\n"
          ]
        },
        {
          "output_type": "stream",
          "name": "stderr",
          "text": [
            "/usr/local/lib/python3.11/dist-packages/datasets/table.py:1395: FutureWarning: promote has been superseded by promote_options='default'.\n",
            "  block_group = [InMemoryTable(cls._concat_blocks(list(block_group), axis=axis))]\n",
            "/usr/local/lib/python3.11/dist-packages/datasets/table.py:1421: FutureWarning: promote has been superseded by promote_options='default'.\n",
            "  table = cls._concat_blocks(blocks, axis=0)\n"
          ]
        },
        {
          "output_type": "stream",
          "name": "stdout",
          "text": [
            "21245\n",
            "18538\n",
            "2707\n"
          ]
        }
      ]
    },
    {
      "cell_type": "code",
      "source": [
        "import os\n",
        "import torch\n",
        "torch.cuda.empty_cache()\n",
        "\n",
        "os.environ[\"WANDB_DISABLED\"] = \"true\"\n",
        "\n",
        "# fine tune the model\n",
        "all_metrics = cc.validate(model_directory=geneformer_directory,\n",
        "                          prepared_input_data_file = park_data_with_id_path,\n",
        "                          id_class_dict_file= '/content/drive/MyDrive/HODD/datasets/park_classifier_id_class_dict.pkl',\n",
        "                          output_directory=output_dir,\n",
        "                          output_prefix=output_prefix,\n",
        "                          split_id_dict=train_valid_id_split_dict)"
      ],
      "metadata": {
        "id": "2619aszwWgn-",
        "outputId": "0cf314e5-7519-4bd9-8a65-4666a70d4895",
        "colab": {
          "base_uri": "https://localhost:8080/",
          "height": 449,
          "referenced_widgets": [
            "c19a8a3a2e8546b1ac68044ca454991a",
            "f46dfa883c0d43cf92b1acedbf580623",
            "da6b9b11dc5b4f19980cb49dc708f0aa",
            "9f7343f3fc374234975056817a48cbae",
            "7d7db3e3a76f41abba054501e2e683da",
            "66151aba69674525b368dde8ca5e4f9b",
            "a9af8982f3c3400d90f6825c00cf3633",
            "7e185f1d96b249afa1ceaffd1cac72ba",
            "9297177962a24fdd94ed824b91644384",
            "c75572b06696461f81b2013471aa6173",
            "592d347d49ba4d9a93cb6e0dc78ad0d0",
            "120af208fe444f6289c26c1761489d04",
            "1c387eac2c92443297257832446a0caf",
            "dd350311e2a3416180d9714b3bb3ad6d",
            "bc129336b6584d128a46a161ac8976a5",
            "677af949a2d9444dbc2e42d4b2f1bfe8",
            "f982ff4dcf21494480721c01de7fcc20",
            "3c4010a687714074966ef287ec403c9b",
            "a9e37a595efd4f4eadb5cbd3a70d2c1b",
            "e7404976f54a411ba84f3277943f6eed",
            "3e96a120ad2a476a8aad8039817fda5b",
            "909691879fc94992a94f86b405e9d5fc"
          ]
        }
      },
      "execution_count": 7,
      "outputs": [
        {
          "output_type": "display_data",
          "data": {
            "text/plain": [
              "  0%|          | 0/1 [00:00<?, ?it/s]"
            ],
            "application/vnd.jupyter.widget-view+json": {
              "version_major": 2,
              "version_minor": 0,
              "model_id": "c19a8a3a2e8546b1ac68044ca454991a"
            }
          },
          "metadata": {}
        },
        {
          "output_type": "stream",
          "name": "stdout",
          "text": [
            "****** Validation split: 1/1 ******\n",
            "\n"
          ]
        },
        {
          "output_type": "stream",
          "name": "stderr",
          "text": [
            "/usr/local/lib/python3.11/dist-packages/datasets/table.py:1421: FutureWarning: promote has been superseded by promote_options='default'.\n",
            "  table = cls._concat_blocks(blocks, axis=0)\n",
            "/usr/local/lib/python3.11/dist-packages/datasets/table.py:1421: FutureWarning: promote has been superseded by promote_options='default'.\n",
            "  table = cls._concat_blocks(blocks, axis=0)\n",
            "Some weights of BertForSequenceClassification were not initialized from the model checkpoint at /content/drive/MyDrive/HODD/Geneformer/gf-12L-95M-i4096 and are newly initialized: ['bert.pooler.dense.bias', 'bert.pooler.dense.weight', 'classifier.bias', 'classifier.weight']\n",
            "You should probably TRAIN this model on a down-stream task to be able to use it for predictions and inference.\n",
            "/usr/local/lib/python3.11/dist-packages/transformers/training_args.py:1474: FutureWarning: `evaluation_strategy` is deprecated and will be removed in version 4.46 of 🤗 Transformers. Use `eval_strategy` instead\n",
            "  warnings.warn(\n",
            "/usr/local/lib/python3.11/dist-packages/transformers/training_args.py:1965: FutureWarning: `--push_to_hub_token` is deprecated and will be removed in version 5 of 🤗 Transformers. Use `--hub_token` instead.\n",
            "  warnings.warn(\n",
            "/content/drive/MyDrive/HODD/Geneformer/geneformer/collator_for_classification.py:644: UserWarning: To copy construct from a tensor, it is recommended to use sourceTensor.clone().detach() or sourceTensor.clone().detach().requires_grad_(True), rather than torch.tensor(sourceTensor).\n",
            "  batch = {k: torch.tensor(v, dtype=torch.int64) for k, v in batch.items()}\n"
          ]
        },
        {
          "output_type": "display_data",
          "data": {
            "text/plain": [
              "<IPython.core.display.HTML object>"
            ],
            "text/html": [
              "\n",
              "    <div>\n",
              "      \n",
              "      <progress value='3477' max='3477' style='width:300px; height:20px; vertical-align: middle;'></progress>\n",
              "      [3477/3477 21:26, Epoch 1/2]\n",
              "    </div>\n",
              "    <table border=\"1\" class=\"dataframe\">\n",
              "  <thead>\n",
              " <tr style=\"text-align: left;\">\n",
              "      <th>Epoch</th>\n",
              "      <th>Training Loss</th>\n",
              "      <th>Validation Loss</th>\n",
              "      <th>Accuracy</th>\n",
              "      <th>Macro F1</th>\n",
              "    </tr>\n",
              "  </thead>\n",
              "  <tbody>\n",
              "    <tr>\n",
              "      <td>1</td>\n",
              "      <td>0.001900</td>\n",
              "      <td>0.011543</td>\n",
              "      <td>0.998153</td>\n",
              "      <td>0.996251</td>\n",
              "    </tr>\n",
              "  </tbody>\n",
              "</table><p>"
            ]
          },
          "metadata": {}
        },
        {
          "output_type": "stream",
          "name": "stderr",
          "text": [
            "/content/drive/MyDrive/HODD/Geneformer/geneformer/collator_for_classification.py:644: UserWarning: To copy construct from a tensor, it is recommended to use sourceTensor.clone().detach() or sourceTensor.clone().detach().requires_grad_(True), rather than torch.tensor(sourceTensor).\n",
            "  batch = {k: torch.tensor(v, dtype=torch.int64) for k, v in batch.items()}\n"
          ]
        },
        {
          "output_type": "display_data",
          "data": {
            "text/plain": [
              "  0%|          | 0/85 [00:00<?, ?it/s]"
            ],
            "application/vnd.jupyter.widget-view+json": {
              "version_major": 2,
              "version_minor": 0,
              "model_id": "120af208fe444f6289c26c1761489d04"
            }
          },
          "metadata": {}
        }
      ]
    },
    {
      "cell_type": "code",
      "source": [
        "all_metrics"
      ],
      "metadata": {
        "id": "IlfJ4Pr3zakV",
        "outputId": "c632f688-43a0-421a-d28b-3ca4555df48b",
        "colab": {
          "base_uri": "https://localhost:8080/"
        }
      },
      "execution_count": 9,
      "outputs": [
        {
          "output_type": "execute_result",
          "data": {
            "text/plain": [
              "{'conf_matrix':                    normal  Parkinson_disease\n",
              " normal             2315.0                3.0\n",
              " Parkinson_disease     2.0              387.0,\n",
              " 'macro_f1': [0.9962513830554759],\n",
              " 'acc': [0.9981529368304396],\n",
              " 'all_roc_metrics': {'mean_tpr': array([0.        , 0.99485861, 0.99742931, 0.99742931, 0.99742931,\n",
              "         0.99742931, 0.99742931, 0.99742931, 0.99742931, 0.99742931,\n",
              "         0.99742931, 0.99742931, 0.99742931, 0.99742931, 0.99742931,\n",
              "         0.99742931, 0.99742931, 0.99742931, 0.99742931, 0.99814235,\n",
              "         0.99934616, 1.        , 1.        , 1.        , 1.        ,\n",
              "         1.        , 1.        , 1.        , 1.        , 1.        ,\n",
              "         1.        , 1.        , 1.        , 1.        , 1.        ,\n",
              "         1.        , 1.        , 1.        , 1.        , 1.        ,\n",
              "         1.        , 1.        , 1.        , 1.        , 1.        ,\n",
              "         1.        , 1.        , 1.        , 1.        , 1.        ,\n",
              "         1.        , 1.        , 1.        , 1.        , 1.        ,\n",
              "         1.        , 1.        , 1.        , 1.        , 1.        ,\n",
              "         1.        , 1.        , 1.        , 1.        , 1.        ,\n",
              "         1.        , 1.        , 1.        , 1.        , 1.        ,\n",
              "         1.        , 1.        , 1.        , 1.        , 1.        ,\n",
              "         1.        , 1.        , 1.        , 1.        , 1.        ,\n",
              "         1.        , 1.        , 1.        , 1.        , 1.        ,\n",
              "         1.        , 1.        , 1.        , 1.        , 1.        ,\n",
              "         1.        , 1.        , 1.        , 1.        , 1.        ,\n",
              "         1.        , 1.        , 1.        , 1.        , 1.        ]),\n",
              "  'mean_fpr': array([0.        , 0.01010101, 0.02020202, 0.03030303, 0.04040404,\n",
              "         0.05050505, 0.06060606, 0.07070707, 0.08080808, 0.09090909,\n",
              "         0.1010101 , 0.11111111, 0.12121212, 0.13131313, 0.14141414,\n",
              "         0.15151515, 0.16161616, 0.17171717, 0.18181818, 0.19191919,\n",
              "         0.2020202 , 0.21212121, 0.22222222, 0.23232323, 0.24242424,\n",
              "         0.25252525, 0.26262626, 0.27272727, 0.28282828, 0.29292929,\n",
              "         0.3030303 , 0.31313131, 0.32323232, 0.33333333, 0.34343434,\n",
              "         0.35353535, 0.36363636, 0.37373737, 0.38383838, 0.39393939,\n",
              "         0.4040404 , 0.41414141, 0.42424242, 0.43434343, 0.44444444,\n",
              "         0.45454545, 0.46464646, 0.47474747, 0.48484848, 0.49494949,\n",
              "         0.50505051, 0.51515152, 0.52525253, 0.53535354, 0.54545455,\n",
              "         0.55555556, 0.56565657, 0.57575758, 0.58585859, 0.5959596 ,\n",
              "         0.60606061, 0.61616162, 0.62626263, 0.63636364, 0.64646465,\n",
              "         0.65656566, 0.66666667, 0.67676768, 0.68686869, 0.6969697 ,\n",
              "         0.70707071, 0.71717172, 0.72727273, 0.73737374, 0.74747475,\n",
              "         0.75757576, 0.76767677, 0.77777778, 0.78787879, 0.7979798 ,\n",
              "         0.80808081, 0.81818182, 0.82828283, 0.83838384, 0.84848485,\n",
              "         0.85858586, 0.86868687, 0.87878788, 0.88888889, 0.8989899 ,\n",
              "         0.90909091, 0.91919192, 0.92929293, 0.93939394, 0.94949495,\n",
              "         0.95959596, 0.96969697, 0.97979798, 0.98989899, 1.        ]),\n",
              "  'all_roc_auc': [0.9994482656132514],\n",
              "  'roc_auc': 0.9994482656132514,\n",
              "  'roc_auc_sd': 0.0}}"
            ]
          },
          "metadata": {},
          "execution_count": 9
        }
      ]
    },
    {
      "cell_type": "markdown",
      "source": [
        "##Evaluate the model"
      ],
      "metadata": {
        "id": "K2F9xDTIdGBu"
      }
    },
    {
      "cell_type": "code",
      "source": [
        "#add ids to the test data\n",
        "\n",
        "#load the test data\n",
        "park_data_test_path = '/content/drive/MyDrive/HODD/Geneformer_parkinsons_files/dopamine_subset_test_tokenized.dataset/'\n",
        "park_data_test = load_from_disk(park_data_test_path)\n",
        "\n",
        "# Add an 'id' column that stores the original index\n",
        "park_data_test = park_data_test.add_column(\"id\", list(range(len(park_data_test))))\n",
        "\n",
        "# Explicit class ordering: 0 = Normal, 1 = Parkinson's,\n",
        "classes = [\"normal\",\"Parkinson_disease\"]\n",
        "\n",
        "# make the disease state column a classlabel\n",
        "park_data_test = park_data_test.cast_column(\"disease_state\", ClassLabel(names=classes))  #convert the disease state numeric column to a class label\n",
        "\n",
        "#rename the disease_state column as label\n",
        "\n",
        "park_data_test = park_data_test.rename_column(\"disease_state\", \"label\")\n",
        "\n",
        "# save it back to disk\n",
        "\n",
        "park_data_test_with_id_path = '/content/drive/MyDrive/HODD/Geneformer_parkinsons_files/dopamine_subset_test_labeled_tokenized.dataset/'\n",
        "\n",
        "park_data_test.save_to_disk(park_data_test_with_id_path)"
      ],
      "metadata": {
        "id": "d0KnomR0oglc",
        "outputId": "9b1c198c-728b-4262-a414-3445308a5df5",
        "colab": {
          "base_uri": "https://localhost:8080/",
          "height": 116,
          "referenced_widgets": [
            "ca47b17fd5a8456b8632f49d794be566",
            "db24d95669094ebfa3b7bdfda5c6ea9d",
            "fd6a45c160c24e4bb56213a5b32faf8c",
            "e82cef15e36c48be89f916374e6807c0",
            "057b95422b5946d6b1d94c31056cde6a",
            "6e5dd7afd5a940be80e0ab1b86ac070b",
            "43dd4b203b1a4e43948d641067af1e55",
            "a2a796164624400b99131e5db9b877e0",
            "e55b4a2b3c01427fba979ad8c9f4a7fb",
            "4ff5ad14f5694453a2f0250361c48ec6",
            "5a53af62f85a42c49e408f60e410501f",
            "ecf6173f31c24cc7a02e16ca859f32a3",
            "2b9dd26b69fa4bba9aa4f2cdb8c83bd7",
            "a428fa0819fe49b6999b488325eb063f",
            "d41cd717a0174eb3ac00141c937b34a6",
            "4ef611cb9edf415aaf97ec047135b37a",
            "33df86bbc1284c2391aa544176bb0621",
            "187d64915f064dbf88ca744ee1801ec3",
            "c4e078f8f190442db3fd9a2dfc2ec03b",
            "c07a014d77ba448bb29427cda679858b",
            "09b3883e965b415c9ae718738aca3ae7",
            "4148ff2daa94479d8182e98c67d5fd7b"
          ]
        }
      },
      "execution_count": 16,
      "outputs": [
        {
          "output_type": "stream",
          "name": "stderr",
          "text": [
            "/usr/local/lib/python3.11/dist-packages/datasets/table.py:1387: FutureWarning: promote has been superseded by promote_options='default'.\n",
            "  return cls._concat_blocks(pa_tables_to_concat_vertically, axis=0)\n"
          ]
        },
        {
          "output_type": "display_data",
          "data": {
            "text/plain": [
              "Casting the dataset:   0%|          | 0/3561 [00:00<?, ? examples/s]"
            ],
            "application/vnd.jupyter.widget-view+json": {
              "version_major": 2,
              "version_minor": 0,
              "model_id": "ca47b17fd5a8456b8632f49d794be566"
            }
          },
          "metadata": {}
        },
        {
          "output_type": "display_data",
          "data": {
            "text/plain": [
              "Saving the dataset (0/1 shards):   0%|          | 0/3561 [00:00<?, ? examples/s]"
            ],
            "application/vnd.jupyter.widget-view+json": {
              "version_major": 2,
              "version_minor": 0,
              "model_id": "ecf6173f31c24cc7a02e16ca859f32a3"
            }
          },
          "metadata": {}
        }
      ]
    },
    {
      "cell_type": "code",
      "source": [
        "#saved previous model locations due to gpu memory issues\n",
        "\n",
        "current_model = '/content/drive/MyDrive/HODD/models/geneformer_finetuned_v2/250605_geneformer_cellClassifier_park_classifier/ksplit1/'\n",
        "current_dict = '/content/drive/MyDrive/HODD/datasets/park_classifier_id_class_dict.pkl'\n",
        "test_data_file = park_data_test_with_id_path\n",
        "output_dir = '/content/drive/MyDrive/HODD/models/geneformer_finetuned_v2/'\n",
        "output_prefix = \"park_classifier\""
      ],
      "metadata": {
        "id": "N_8q0Wgm3FcP"
      },
      "execution_count": 17,
      "outputs": []
    },
    {
      "cell_type": "code",
      "source": [
        "from geneformer import Classifier\n",
        "\n",
        "cc = Classifier(classifier=\"cell\",\n",
        "                cell_state_dict = {\"state_key\": \"disease_state\", \"states\": \"all\"},\n",
        "                forward_batch_size=36,\n",
        "                nproc=16)"
      ],
      "metadata": {
        "id": "o77t4HccdL7f",
        "outputId": "626ed653-8a7a-4d28-9b45-512efb7e9783",
        "colab": {
          "base_uri": "https://localhost:8080/"
        }
      },
      "execution_count": 18,
      "outputs": [
        {
          "output_type": "stream",
          "name": "stderr",
          "text": [
            "WARNING:geneformer.classifier:Hyperparameter tuning is highly recommended for optimal results. No training_args provided; using default hyperparameters.\n"
          ]
        }
      ]
    },
    {
      "cell_type": "code",
      "source": [
        "all_metrics_test = cc.evaluate_saved_model(\n",
        "        model_directory=current_model,\n",
        "        id_class_dict_file=current_dict,\n",
        "        test_data_file = test_data_file,\n",
        "        output_directory=output_dir,\n",
        "        output_prefix=output_prefix,\n",
        "    )"
      ],
      "metadata": {
        "id": "aTmIsLqZdL4n",
        "outputId": "df7f841b-f7c0-4832-8fac-f6e66fdbb179",
        "colab": {
          "base_uri": "https://localhost:8080/",
          "height": 49,
          "referenced_widgets": [
            "36c70fae483448c3a515cc15750ef4d4",
            "6d83c283a715480b99679f07815225bf",
            "9e937efffcb7492b9b06d899d29d7fe2",
            "6d1081281f644181b1114a218f2c87b5",
            "c28c4e25d1fc400eb65f47586c41c712",
            "fb31525d16c942e484326d529a630856",
            "a328e3b5963c4eec8c0bec8fa89e057f",
            "7e090e72ea0544f8a6711e7b2cb0b08f",
            "11f41c653eac48b88aa71d1f94e38254",
            "963a3d4c2e0044648b04ed24b6eacd80",
            "3d0ca422b20246b98d641544af94981b"
          ]
        }
      },
      "execution_count": 19,
      "outputs": [
        {
          "output_type": "display_data",
          "data": {
            "text/plain": [
              "  0%|          | 0/99 [00:00<?, ?it/s]"
            ],
            "application/vnd.jupyter.widget-view+json": {
              "version_major": 2,
              "version_minor": 0,
              "model_id": "36c70fae483448c3a515cc15750ef4d4"
            }
          },
          "metadata": {}
        }
      ]
    },
    {
      "cell_type": "code",
      "source": [
        "cc.plot_conf_mat(\n",
        "        conf_mat_dict={\"Geneformer\": all_metrics_test[\"conf_matrix\"]},\n",
        "        output_directory=output_dir,\n",
        "        output_prefix=output_prefix,\n",
        ")"
      ],
      "metadata": {
        "id": "ynFJdrCwdL2D",
        "outputId": "49e29cad-50c9-42c1-ed20-2c922adb1601",
        "colab": {
          "base_uri": "https://localhost:8080/",
          "height": 516
        }
      },
      "execution_count": 20,
      "outputs": [
        {
          "output_type": "display_data",
          "data": {
            "text/plain": [
              "<Figure size 1000x1000 with 0 Axes>"
            ]
          },
          "metadata": {}
        },
        {
          "output_type": "display_data",
          "data": {
            "text/plain": [
              "<Figure size 640x480 with 2 Axes>"
            ],
            "image/png": "[encoded data removed]"
          },
          "metadata": {}
        }
      ]
    },
    {
      "cell_type": "code",
      "source": [
        "cc.plot_predictions(\n",
        "    predictions_file=f\"{output_dir}{output_prefix}_pred_dict.pkl\",\n",
        "    id_class_dict_file = current_dict,\n",
        "    title=\"disease\",\n",
        "    output_directory=output_dir,\n",
        "    output_prefix=output_prefix,\n",
        ")"
      ],
      "metadata": {
        "id": "X4QCMEqFdLza",
        "collapsed": true,
        "outputId": "f62a0625-01e5-4ac0-e1c5-4184d7a5e3a0",
        "colab": {
          "base_uri": "https://localhost:8080/",
          "height": 1000
        }
      },
      "execution_count": 21,
      "outputs": [
        {
          "output_type": "display_data",
          "data": {
            "text/plain": [
              "<Figure size 1500x1500 with 0 Axes>"
            ]
          },
          "metadata": {}
        },
        {
          "output_type": "display_data",
          "data": {
            "text/plain": [
              "<Figure size 1000x1000 with 6 Axes>"
            ],
            "image/png": "[encoded data removed]"
          },
          "metadata": {}
        }
      ]
    },
    {
      "cell_type": "code",
      "source": [],
      "metadata": {
        "id": "amShEfNOHJQb"
      },
      "execution_count": null,
      "outputs": []
    }
  ]
}