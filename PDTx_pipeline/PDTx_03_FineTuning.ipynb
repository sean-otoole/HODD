{
  "nbformat": 4,
  "nbformat_minor": 0,
  "metadata": {
    "colab": {
      "provenance": [],
      "machine_shape": "hm",
      "gpuType": "A100",
      "authorship_tag": "ABX9TyOA0C/4OJg+RFn27ib5oKXX",
      "include_colab_link": true
    },
    "kernelspec": {
      "name": "python3",
      "display_name": "Python 3"
    },
    "language_info": {
      "name": "python"
    },
    "accelerator": "GPU"
  },
  "cells": [
    {
      "cell_type": "markdown",
      "metadata": {
        "id": "view-in-github",
        "colab_type": "text"
      },
      "source": [
        "<a href=\"https://colab.research.google.com/github/sean-otoole/HODD/blob/main/PDTx_pipeline/PDTx_03_FineTuning.ipynb\" target=\"_parent\"><img src=\"https://colab.research.google.com/assets/colab-badge.svg\" alt=\"Open In Colab\"/></a>"
      ]
    },
    {
      "cell_type": "code",
      "source": [
        "# downgrade numpy\n",
        "!pip uninstall numpy -y\n",
        "!pip install numpy==1.26.4\n",
        "\n",
        "# fixes a compatibility issue with the PrecollatorForGeneAndCellClassification class\n",
        "!pip install --upgrade transformers==4.41\n",
        "!pip install peft==0.10.0\n",
        "\n",
        "# Uninstall and reinstall scipy and scikit-learn to ensure compatibility with the specified numpy version\n",
        "!pip uninstall scipy -y\n",
        "!pip uninstall scikit-learn -y\n",
        "!pip install scipy\n",
        "!pip install scikit-learn\n",
        "!pip install wandb"
      ],
      "metadata": {
        "id": "6ptj23DKQbgg",
        "collapsed": true
      },
      "execution_count": null,
      "outputs": []
    },
    {
      "cell_type": "code",
      "source": [
        "!rm /content/drive/MyDrive/HODD/geneformer_modified/.git/hooks/post-checkout"
      ],
      "metadata": {
        "colab": {
          "base_uri": "https://localhost:8080/"
        },
        "id": "ECJkdzhZCbFR",
        "outputId": "daea150b-f77e-4a90-bc33-bf58cbf301ff"
      },
      "execution_count": 5,
      "outputs": [
        {
          "output_type": "stream",
          "name": "stdout",
          "text": [
            "rm: cannot remove '/content/drive/MyDrive/HODD/geneformer_modified/.git/hooks/post-checkout': No such file or directory\n"
          ]
        }
      ]
    },
    {
      "cell_type": "markdown",
      "source": [
        "Please note, it is necceesary to restart the session especially after the package downgrades for this code to work properly. So, simply restart after running the previous cell."
      ],
      "metadata": {
        "id": "27C1i-vqruid"
      }
    },
    {
      "cell_type": "code",
      "execution_count": null,
      "metadata": {
        "id": "44VJt_eTgFtC",
        "collapsed": true
      },
      "outputs": [],
      "source": [
        "# mount the drive\n",
        "\n",
        "from google.colab import drive\n",
        "import os\n",
        "\n",
        "# Mount Google Drive to access files\n",
        "drive.mount('/content/drive')\n",
        "\n",
        "# Change the working directory to the project folder in Google Drive\n",
        "os.chdir(\"/content/drive/MyDrive/HODD/\")\n",
        "\n",
        "## cloning the modified verison, to incorporate Weighted cross-entropy loss\n",
        "!git lfs install\n",
        "!git clone https://huggingface.co/sotoole/geneformer_modified\n",
        "%cd geneformer_modified\n",
        "\n",
        "# Install Geneformer modified locally\n",
        "!pip install .\n",
        "\n",
        "# Install required libraries without outputting installation logs\n",
        "!pip install anndata scanpy tdigest datasets\n",
        "\n",
        "# Import necessary modules and libraries\n",
        "import numpy\n",
        "import transformers\n",
        "import sklearn\n",
        "import pickle\n",
        "import sklearn\n",
        "\n",
        "print(numpy.__version__)"
      ]
    },
    {
      "cell_type": "code",
      "source": [
        "import pickle\n",
        "\n",
        "# bulding the mapping dictionary\n",
        "\n",
        "# Define class mapping: 0 = Parkinson's, 1 = Normal\n",
        "new_id_class_dict = {\n",
        "    0: \"normal\",\n",
        "    1: \"Parkinson_disease\",\n",
        "}\n",
        "\n",
        "# Overwrite the existing mapping file\n",
        "file_path = '/content/drive/MyDrive/HODD/datasets/park_classifier_id_class_dict.pkl'\n",
        "with open(file_path, 'wb') as f:\n",
        "    pickle.dump(new_id_class_dict, f)\n",
        "\n",
        "print(\"Mapping file saved.\")\n",
        "\n",
        "# Reload and print to confirm\n",
        "with open(file_path, 'rb') as f:\n",
        "    loaded_dict = pickle.load(f)\n",
        "\n",
        "print(\"Loaded class mapping:\")\n",
        "for k, v in loaded_dict.items():\n",
        "    print(f\"{k}: {v}\")"
      ],
      "metadata": {
        "id": "t2H0Na6V7y1r",
        "outputId": "d7cb13b4-7b6e-4ca3-b83f-d0259df2cfc9",
        "colab": {
          "base_uri": "https://localhost:8080/"
        }
      },
      "execution_count": 2,
      "outputs": [
        {
          "output_type": "stream",
          "name": "stdout",
          "text": [
            "Mapping file saved.\n",
            "Loaded class mapping:\n",
            "0: normal\n",
            "1: Parkinson_disease\n"
          ]
        }
      ]
    },
    {
      "cell_type": "code",
      "source": [
        "import datetime\n",
        "\n",
        "current_date = datetime.datetime.now()\n",
        "datestamp = f\"{str(current_date.year)[-2:]}{current_date.month:02d}{current_date.day:02d}{current_date.hour:02d}{current_date.minute:02d}{current_date.second:02d}\"\n",
        "datestamp_min = f\"{str(current_date.year)[-2:]}{current_date.month:02d}{current_date.day:02d}\"\n",
        "\n",
        "output_prefix = \"parkinsons\"\n",
        "output_dir = f\"/content/drive/MyDrive/HODD/models/{datestamp}\"\n",
        "\n",
        "!mkdir $output_dir\n",
        "\n",
        "print(output_dir)\n",
        "\n",
        "# park_data_path = '/content/drive/MyDrive/HODD/Geneformer_parkinsons_files/dopamine_subset_train_tokenized.dataset/'\n",
        "park_data_path = '/content/drive/MyDrive/HODD/Geneformer_parkinsons_files/dopamine_subset_tokenized.dataset/'\n",
        "geneformer_directory = '/content/drive/MyDrive/HODD/Geneformer/gf-12L-95M-i4096'"
      ],
      "metadata": {
        "colab": {
          "base_uri": "https://localhost:8080/"
        },
        "id": "AgHUST_lxK9a",
        "outputId": "57adf0af-1740-42fb-906a-93cdf9a3b308"
      },
      "execution_count": 3,
      "outputs": [
        {
          "output_type": "stream",
          "name": "stdout",
          "text": [
            "/content/drive/MyDrive/HODD/models/250610185333\n"
          ]
        }
      ]
    },
    {
      "cell_type": "markdown",
      "source": [
        "##Prepare the data"
      ],
      "metadata": {
        "id": "QOwurLE-rYDq"
      }
    },
    {
      "cell_type": "code",
      "source": [
        "# preparation for dopaminergic population\n",
        "\n",
        "from datasets import load_dataset, load_from_disk, ClassLabel, concatenate_datasets\n",
        "import numpy as np\n",
        "from collections import Counter\n",
        "from sklearn.utils.class_weight import compute_class_weight\n",
        "\n",
        "# Load the dataset\n",
        "park_data = load_from_disk(park_data_path)"
      ],
      "metadata": {
        "id": "TtxLtOW_BpO7"
      },
      "execution_count": 4,
      "outputs": []
    },
    {
      "cell_type": "code",
      "source": [
        "# Add ID column for tracking\n",
        "park_data = park_data.add_column(\"id\", list(range(len(park_data))))\n",
        "\n",
        "# Define classes explicitly\n",
        "classes = [\"normal\", \"Parkinson_disease\"]\n",
        "\n",
        "# will be needed for setting the class label after stratfication\n",
        "park_data = park_data.rename_column(\"disease_state\", \"label\")  # must be named \"label\" for classifier"
      ],
      "metadata": {
        "colab": {
          "base_uri": "https://localhost:8080/"
        },
        "id": "8W8jVpXAB9Kw",
        "outputId": "c4434e22-0fa5-4fb7-c266-812ab5d936d5"
      },
      "execution_count": 5,
      "outputs": [
        {
          "output_type": "stream",
          "name": "stderr",
          "text": [
            "/usr/local/lib/python3.11/dist-packages/datasets/table.py:1387: FutureWarning: promote has been superseded by promote_options='default'.\n",
            "  return cls._concat_blocks(pa_tables_to_concat_vertically, axis=0)\n"
          ]
        }
      ]
    },
    {
      "cell_type": "code",
      "source": [
        "park_data = park_data.map(lambda example: {\"label\": str(example[\"label\"])})\n",
        "stratification_labels = [f\"{label}{donor_id}\" for label, donor_id in zip(park_data['label'], park_data['donor_id'])]\n",
        "\n",
        "strat_counts = Counter(stratification_labels)\n",
        "print(\"Disease and donor counts for stratificaiton:\", strat_counts)\n",
        "\n",
        "park_data = park_data.add_column(\"stratify\", stratification_labels)"
      ],
      "metadata": {
        "id": "c8U7CLTnHbd9"
      },
      "execution_count": null,
      "outputs": []
    },
    {
      "cell_type": "code",
      "source": [
        "# Split into train/eval\n",
        "\n",
        "park_data = park_data.cast_column(\"stratify\", ClassLabel(names=list(set(stratification_labels))))\n",
        "\n",
        "split_data = park_data.train_test_split(test_size=0.2, seed=42, stratify_by_column=\"stratify\")\n",
        "train_data = split_data[\"train\"]\n",
        "test_data = split_data[\"test\"]\n",
        "\n",
        "split_train = train_data.train_test_split(test_size=0.25, seed=42, stratify_by_column=\"stratify\")\n",
        "train_data = split_train[\"train\"]\n",
        "eval_data = split_train[\"test\"]\n",
        "\n",
        "# cast the label column for the classifier\n",
        "train_data = train_data.cast_column(\"label\", ClassLabel(names=classes))\n",
        "eval_data = eval_data.cast_column(\"label\", ClassLabel(names=classes))\n",
        "test_data = test_data.cast_column(\"label\", ClassLabel(names=classes))"
      ],
      "metadata": {
        "id": "RewZ2UTmEOib"
      },
      "execution_count": null,
      "outputs": []
    },
    {
      "cell_type": "code",
      "source": [
        "# save the test dataset for later\n",
        "park_data_test_path = '/content/drive/MyDrive/HODD/Geneformer_parkinsons_files/dopamine_subset_test_labeled_tokenized.dataset/'\n",
        "test_data.save_to_disk(park_data_test_path)"
      ],
      "metadata": {
        "id": "msIxjZSfQKyw"
      },
      "execution_count": null,
      "outputs": []
    },
    {
      "cell_type": "code",
      "source": [
        "# this code should measure and report proportions for train, test and eval\n",
        "\n",
        "# checking various matrics for examining the stratfication\n",
        "train_counts = Counter(train_data[\"label\"])\n",
        "print(\"Health vs parkinsons:\", train_counts)\n",
        "\n",
        "donor_counts = Counter(train_data[\"donor_id\"])\n",
        "print(\"Donor counts:\", donor_counts)"
      ],
      "metadata": {
        "colab": {
          "base_uri": "https://localhost:8080/"
        },
        "id": "T_tVWQv_B9RZ",
        "outputId": "9f8464e5-6784-43c9-a7cd-f0a0378eab41"
      },
      "execution_count": 9,
      "outputs": [
        {
          "output_type": "stream",
          "name": "stdout",
          "text": [
            "Health vs parkinsons: Counter({0: 8926, 1: 1330})\n",
            "Donoro counts: Counter({'4956': 3883, '3345': 1743, '4560': 1145, '3482': 967, '6173': 891, '3346': 853, '5610': 323, '3322': 232, '3873': 116, '3887': 46, '3298': 34, '2142': 11, '1963': 8, '4568': 4})\n"
          ]
        }
      ]
    },
    {
      "cell_type": "code",
      "source": [
        "# prior data preparation pipeline\n",
        "\n",
        "# from datasets import load_dataset, load_from_disk, ClassLabel, concatenate_datasets\n",
        "# import numpy as np\n",
        "# from collections import Counter\n",
        "# from sklearn.utils.class_weight import compute_class_weight\n",
        "\n",
        "# # Load the dataset\n",
        "# park_data_path = '/content/drive/MyDrive/HODD/Geneformer_parkinsons_files/dopamine_subset_train_tokenized.dataset/'\n",
        "# park_data = load_from_disk(park_data_path)\n",
        "\n",
        "# # Add ID column for tracking\n",
        "# park_data = park_data.add_column(\"id\", list(range(len(park_data))))\n",
        "\n",
        "# # Define classes explicitly\n",
        "# classes = [\"normal\", \"Parkinson_disease\"]\n",
        "\n",
        "# # Convert label to ClassLabel type\n",
        "# park_data = park_data.cast_column(\"disease_state\", ClassLabel(names=classes))\n",
        "# park_data = park_data.rename_column(\"disease_state\", \"label\")  # must be named \"label\" for classifier\n",
        "\n",
        "# # Split into train/eval\n",
        "# split_data = park_data.train_test_split(test_size=0.2, seed=42, stratify_by_column=\"label\")\n",
        "# train_data = split_data[\"train\"]\n",
        "# eval_data = split_data[\"test\"]\n",
        "\n",
        "# # Class distribution in original training data\n",
        "# original_counts = Counter(train_data[\"label\"])\n",
        "# print(\"Original class distribution:\", original_counts)\n",
        "\n",
        "# ===  COMPUTE CLASS WEIGHTS ===\n",
        "y_train = train_data[\"label\"]\n",
        "unique_labels = np.unique(y_train)\n",
        "weights = compute_class_weight(class_weight=\"balanced\", classes=unique_labels, y=y_train)\n",
        "class_weights_list = weights.tolist()\n",
        "print(\"Computed class weights:\", class_weights_list)\n",
        "\n",
        "# === NO DOWNSAMPLING — keep full training data ===\n",
        "\n",
        "# Prepare merged dataset for later validation\n",
        "park_data_with_id_path = '/content/drive/MyDrive/HODD/Geneformer_parkinsons_files/dopamine_subset_train_with_id_tokenized.dataset/'\n",
        "park_data = concatenate_datasets([train_data, eval_data])\n",
        "park_data.save_to_disk(park_data_with_id_path)\n",
        "\n",
        "print(len(park_data))\n",
        "print(len(train_data))\n",
        "print(len(eval_data))\n",
        "\n",
        "# Prepare ID dictionary\n",
        "train_ids = train_data[\"id\"]\n",
        "eval_ids = eval_data[\"id\"]\n",
        "\n",
        "train_valid_id_split_dict = {\n",
        "    \"attr_key\": \"id\",\n",
        "    \"train\": train_ids,\n",
        "    \"eval\": eval_ids\n",
        "}"
      ],
      "metadata": {
        "id": "I_ystPjIrLqo"
      },
      "execution_count": null,
      "outputs": []
    },
    {
      "cell_type": "markdown",
      "source": [
        "##Fine-tune the model for cell state classification"
      ],
      "metadata": {
        "id": "6y4j1Eh7c_Cw"
      }
    },
    {
      "cell_type": "code",
      "source": [
        "from geneformer import Classifier\n",
        "from transformers import TrainingArguments\n",
        "\n",
        "training_args = {\n",
        "    \"num_train_epochs\": 2,\n",
        "    \"learning_rate\": 5e-6,\n",
        "    \"lr_scheduler_type\": \"polynomial\",\n",
        "    \"warmup_steps\": 500,\n",
        "    \"weight_decay\":0.25, #was 0.01\n",
        "    \"per_device_train_batch_size\": 32,\n",
        "    \"seed\": 73,\n",
        "    \"class_weights_list\":class_weights_list\n",
        "}\n",
        "\n",
        "cc = Classifier(\n",
        "    classifier=\"cell\",\n",
        "    cell_state_dict={\"state_key\": \"disease_state\", \"states\": \"all\"},\n",
        "    training_args=training_args,  # pass as dict, not object\n",
        "    max_ncells=None,\n",
        "    freeze_layers=2,\n",
        "    num_crossval_splits=1,\n",
        "    forward_batch_size=64,   #dropped from 32\n",
        "    nproc=16\n",
        ")\n",
        "\n",
        "# The print statement should now work as expected if the value was correctly passed\n",
        "print(cc.training_args[\"num_train_epochs\"])\n",
        "\n",
        "print(cc.training_args[\"class_weights_list\"])"
      ],
      "metadata": {
        "colab": {
          "base_uri": "https://localhost:8080/"
        },
        "id": "FnuIsFKTOJnp",
        "outputId": "491fdfe8-9152-46ed-9066-f7ecff7fc94b"
      },
      "execution_count": 20,
      "outputs": [
        {
          "output_type": "stream",
          "name": "stdout",
          "text": [
            "2\n",
            "[0.5745014564194488, 3.855639097744361]\n"
          ]
        }
      ]
    },
    {
      "cell_type": "code",
      "source": [
        "import os\n",
        "import torch\n",
        "torch.cuda.empty_cache()\n",
        "\n",
        "os.environ[\"WANDB_DISABLED\"] = \"true\"\n",
        "\n",
        "# fine tune the model\n",
        "all_metrics = cc.validate(model_directory=geneformer_directory,\n",
        "                          prepared_input_data_file = park_data_with_id_path,\n",
        "                          id_class_dict_file= '/content/drive/MyDrive/HODD/datasets/park_classifier_id_class_dict.pkl',\n",
        "                          output_directory=output_dir,\n",
        "                          output_prefix=output_prefix,\n",
        "                          split_id_dict=train_valid_id_split_dict)"
      ],
      "metadata": {
        "id": "2619aszwWgn-"
      },
      "execution_count": null,
      "outputs": []
    },
    {
      "cell_type": "code",
      "source": [
        "all_metrics"
      ],
      "metadata": {
        "id": "IlfJ4Pr3zakV",
        "outputId": "3ceb9747-2414-475c-9223-0b6dae350069",
        "colab": {
          "base_uri": "https://localhost:8080/"
        }
      },
      "execution_count": 22,
      "outputs": [
        {
          "output_type": "execute_result",
          "data": {
            "text/plain": [
              "{'conf_matrix':                    normal  Parkinson_disease\n",
              " normal             2731.0              246.0\n",
              " Parkinson_disease    48.0              394.0,\n",
              " 'macro_f1': [0.8386019121411845],\n",
              " 'acc': [0.9140099444281954],\n",
              " 'all_roc_metrics': {'mean_tpr': array([0.        , 0.66515837, 0.79411765, 0.82352941, 0.84841629,\n",
              "         0.86877828, 0.87556561, 0.8800905 , 0.89140271, 0.89819005,\n",
              "         0.91176471, 0.91402715, 0.91855204, 0.92081448, 0.92986425,\n",
              "         0.9321267 , 0.93438914, 0.93665158, 0.94117647, 0.9479638 ,\n",
              "         0.95248869, 0.95248869, 0.95475113, 0.96153846, 0.96153846,\n",
              "         0.96153846, 0.96153846, 0.96153846, 0.96153846, 0.9638009 ,\n",
              "         0.9638009 , 0.9638009 , 0.9638009 , 0.96832579, 0.96832579,\n",
              "         0.97058824, 0.97058824, 0.97058824, 0.97285068, 0.97511312,\n",
              "         0.97511312, 0.97511312, 0.97511312, 0.97511312, 0.97737557,\n",
              "         0.97737557, 0.97963801, 0.97963801, 0.97963801, 0.97963801,\n",
              "         0.97963801, 0.97963801, 0.97963801, 0.97963801, 0.9841629 ,\n",
              "         0.9841629 , 0.98642534, 0.98642534, 0.98642534, 0.98642534,\n",
              "         0.98642534, 0.98642534, 0.99095023, 0.99095023, 0.99095023,\n",
              "         0.99095023, 0.99095023, 0.99321267, 0.99321267, 0.99321267,\n",
              "         0.99321267, 0.99547511, 0.99547511, 0.99547511, 0.99773756,\n",
              "         0.99773756, 0.99773756, 0.99773756, 0.99773756, 0.99773756,\n",
              "         0.99773756, 1.        , 1.        , 1.        , 1.        ,\n",
              "         1.        , 1.        , 1.        , 1.        , 1.        ,\n",
              "         1.        , 1.        , 1.        , 1.        , 1.        ,\n",
              "         1.        , 1.        , 1.        , 1.        , 1.        ]),\n",
              "  'mean_fpr': array([0.        , 0.01010101, 0.02020202, 0.03030303, 0.04040404,\n",
              "         0.05050505, 0.06060606, 0.07070707, 0.08080808, 0.09090909,\n",
              "         0.1010101 , 0.11111111, 0.12121212, 0.13131313, 0.14141414,\n",
              "         0.15151515, 0.16161616, 0.17171717, 0.18181818, 0.19191919,\n",
              "         0.2020202 , 0.21212121, 0.22222222, 0.23232323, 0.24242424,\n",
              "         0.25252525, 0.26262626, 0.27272727, 0.28282828, 0.29292929,\n",
              "         0.3030303 , 0.31313131, 0.32323232, 0.33333333, 0.34343434,\n",
              "         0.35353535, 0.36363636, 0.37373737, 0.38383838, 0.39393939,\n",
              "         0.4040404 , 0.41414141, 0.42424242, 0.43434343, 0.44444444,\n",
              "         0.45454545, 0.46464646, 0.47474747, 0.48484848, 0.49494949,\n",
              "         0.50505051, 0.51515152, 0.52525253, 0.53535354, 0.54545455,\n",
              "         0.55555556, 0.56565657, 0.57575758, 0.58585859, 0.5959596 ,\n",
              "         0.60606061, 0.61616162, 0.62626263, 0.63636364, 0.64646465,\n",
              "         0.65656566, 0.66666667, 0.67676768, 0.68686869, 0.6969697 ,\n",
              "         0.70707071, 0.71717172, 0.72727273, 0.73737374, 0.74747475,\n",
              "         0.75757576, 0.76767677, 0.77777778, 0.78787879, 0.7979798 ,\n",
              "         0.80808081, 0.81818182, 0.82828283, 0.83838384, 0.84848485,\n",
              "         0.85858586, 0.86868687, 0.87878788, 0.88888889, 0.8989899 ,\n",
              "         0.90909091, 0.91919192, 0.92929293, 0.93939394, 0.94949495,\n",
              "         0.95959596, 0.96969697, 0.97979798, 0.98989899, 1.        ]),\n",
              "  'all_roc_auc': [0.9621168019674214],\n",
              "  'roc_auc': 0.9621168019674214,\n",
              "  'roc_auc_sd': 0.0}}"
            ]
          },
          "metadata": {},
          "execution_count": 22
        }
      ]
    },
    {
      "cell_type": "markdown",
      "source": [
        "##Evaluate the model"
      ],
      "metadata": {
        "id": "K2F9xDTIdGBu"
      }
    },
    {
      "cell_type": "code",
      "source": [
        "# the test set split and label casting are now done along withe the stratifcation, this code is now deprecated\n",
        "\n",
        "# #add ids to the test data\n",
        "\n",
        "# #load the test data\n",
        "# park_data_test_path = '/content/drive/MyDrive/HODD/Geneformer_parkinsons_files/dopamine_subset_test_tokenized.dataset/'\n",
        "# park_data_test = load_from_disk(park_data_test_path)\n",
        "\n",
        "# # Add an 'id' column that stores the original index\n",
        "# park_data_test = park_data_test.add_column(\"id\", list(range(len(park_data_test))))\n",
        "\n",
        "# # Explicit class ordering: 0 = Normal, 1 = Parkinson's,\n",
        "# classes = [\"normal\",\"Parkinson_disease\"]\n",
        "\n",
        "# # make the disease state column a classlabel\n",
        "# park_data_test = park_data_test.cast_column(\"disease_state\", ClassLabel(names=classes))  #convert the disease state numeric column to a class label\n",
        "\n",
        "# #rename the disease_state column as label\n",
        "\n",
        "# park_data_test = park_data_test.rename_column(\"disease_state\", \"label\")\n",
        "\n",
        "# save it back to disk\n",
        "\n",
        "# park_data_test_with_id_path = '/content/drive/MyDrive/HODD/Geneformer_parkinsons_files/dopamine_subset_test_labeled_tokenized.dataset/'\n",
        "\n",
        "# park_data_test.save_to_disk(park_data_test_with_id_path)"
      ],
      "metadata": {
        "id": "d0KnomR0oglc"
      },
      "execution_count": 23,
      "outputs": []
    },
    {
      "cell_type": "code",
      "source": [
        "#saved previous model locations due to gpu memory issues\n",
        "\n",
        "current_dict = '/content/drive/MyDrive/HODD/datasets/park_classifier_id_class_dict.pkl'\n",
        "test_data_file = park_data_test_path\n",
        "output_prefix = \"parkinsons\""
      ],
      "metadata": {
        "id": "N_8q0Wgm3FcP"
      },
      "execution_count": 24,
      "outputs": []
    },
    {
      "cell_type": "code",
      "source": [
        "from geneformer import Classifier\n",
        "\n",
        "cc = Classifier(classifier=\"cell\",\n",
        "                cell_state_dict = {\"state_key\": \"disease_state\", \"states\": \"all\"},\n",
        "                forward_batch_size=36,\n",
        "                nproc=16)"
      ],
      "metadata": {
        "id": "o77t4HccdL7f",
        "outputId": "d90bd45e-c87b-4f8e-e03f-0111cba4fc44",
        "colab": {
          "base_uri": "https://localhost:8080/"
        }
      },
      "execution_count": 25,
      "outputs": [
        {
          "output_type": "stream",
          "name": "stderr",
          "text": [
            "WARNING:geneformer.classifier:Hyperparameter tuning is highly recommended for optimal results. No training_args provided; using default hyperparameters.\n"
          ]
        }
      ]
    },
    {
      "cell_type": "code",
      "source": [
        "all_metrics_test = cc.evaluate_saved_model(\n",
        "        model_directory=f\"{output_dir}/{datestamp_min}_geneformer_cellClassifier_{output_prefix}/ksplit1/\",\n",
        "        id_class_dict_file=current_dict,\n",
        "        test_data_file=test_data_file,\n",
        "        output_directory=output_dir,\n",
        "        output_prefix=output_prefix,\n",
        "    )"
      ],
      "metadata": {
        "id": "aTmIsLqZdL4n"
      },
      "execution_count": null,
      "outputs": []
    },
    {
      "cell_type": "code",
      "source": [
        "cc.plot_conf_mat(\n",
        "        conf_mat_dict={\"Geneformer\": all_metrics_test[\"conf_matrix\"]},\n",
        "        output_directory=output_dir,\n",
        "        output_prefix=output_prefix,\n",
        ")"
      ],
      "metadata": {
        "id": "ynFJdrCwdL2D",
        "outputId": "aad0d7d7-17e7-4914-c6ac-072f110fa2ce",
        "colab": {
          "base_uri": "https://localhost:8080/",
          "height": 516
        }
      },
      "execution_count": 27,
      "outputs": [
        {
          "output_type": "display_data",
          "data": {
            "text/plain": [
              "<Figure size 1000x1000 with 0 Axes>"
            ]
          },
          "metadata": {}
        },
        {
          "output_type": "display_data",
          "data": {
            "text/plain": [
              "<Figure size 640x480 with 2 Axes>"
            ],
            "image/png": "[encoded data removed]"
          },
          "metadata": {}
        }
      ]
    },
    {
      "cell_type": "code",
      "source": [
        "cc.plot_predictions(\n",
        "    predictions_file=f\"{output_dir}/{output_prefix}_pred_dict.pkl\",\n",
        "    id_class_dict_file=current_dict,\n",
        "    title=\"disease\",\n",
        "    output_directory=output_dir,\n",
        "    output_prefix=output_prefix,\n",
        ")"
      ],
      "metadata": {
        "id": "X4QCMEqFdLza",
        "collapsed": true,
        "outputId": "12334f6d-502c-4658-ee24-4e0592ba11f3",
        "colab": {
          "base_uri": "https://localhost:8080/",
          "height": 1000
        }
      },
      "execution_count": 28,
      "outputs": [
        {
          "output_type": "display_data",
          "data": {
            "text/plain": [
              "<Figure size 1500x1500 with 0 Axes>"
            ]
          },
          "metadata": {}
        },
        {
          "output_type": "display_data",
          "data": {
            "text/plain": [
              "<Figure size 1000x1000 with 6 Axes>"
            ],
            "image/png": "[encoded data removed]"
          },
          "metadata": {}
        }
      ]
    },
    {
      "cell_type": "code",
      "source": [
        "f\"{output_dir}/{datestamp_min}_geneformer_cellClassifier_{output_prefix}/ksplit1/\""
      ],
      "metadata": {
        "colab": {
          "base_uri": "https://localhost:8080/",
          "height": 35
        },
        "id": "83vY2ojCjnx8",
        "outputId": "6971c7b4-40a8-4cab-b582-28f223b4e9d4"
      },
      "execution_count": 30,
      "outputs": [
        {
          "output_type": "execute_result",
          "data": {
            "text/plain": [
              "'/content/drive/MyDrive/HODD/models/250610185333/250610_geneformer_cellClassifier_parkinsons/ksplit1/'"
            ],
            "application/vnd.google.colaboratory.intrinsic+json": {
              "type": "string"
            }
          },
          "metadata": {},
          "execution_count": 30
        }
      ]
    },
    {
      "cell_type": "code",
      "source": [],
      "metadata": {
        "id": "DXMYr9XLjuEB"
      },
      "execution_count": null,
      "outputs": []
    }
  ]
}