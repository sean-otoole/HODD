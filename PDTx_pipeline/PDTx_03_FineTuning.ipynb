{
  "nbformat": 4,
  "nbformat_minor": 0,
  "metadata": {
    "colab": {
      "provenance": [],
      "machine_shape": "hm",
      "gpuType": "A100",
      "authorship_tag": "ABX9TyNsVOp7EtT/6HdSq0PTkPK5",
      "include_colab_link": true
    },
    "kernelspec": {
      "name": "python3",
      "display_name": "Python 3"
    },
    "language_info": {
      "name": "python"
    },
    "accelerator": "GPU",
    "widgets": {
      "application/vnd.jupyter.widget-state+json": {
        "b2b94477c36f4bb09534183d54c1ca5e": {
          "model_module": "@jupyter-widgets/controls",
          "model_name": "HBoxModel",
          "model_module_version": "1.5.0",
          "state": {
            "_dom_classes": [],
            "_model_module": "@jupyter-widgets/controls",
            "_model_module_version": "1.5.0",
            "_model_name": "HBoxModel",
            "_view_count": null,
            "_view_module": "@jupyter-widgets/controls",
            "_view_module_version": "1.5.0",
            "_view_name": "HBoxView",
            "box_style": "",
            "children": [
              "IPY_MODEL_485b2034955d47b08c7f8efbaa8b51d7",
              "IPY_MODEL_ff06a22bac2548c8a769690a03e3188a",
              "IPY_MODEL_b1093d7d697941a8886f700b2bd6d8b3"
            ],
            "layout": "IPY_MODEL_4f8031e7cd804dcb8de6570a40b8500b"
          }
        },
        "485b2034955d47b08c7f8efbaa8b51d7": {
          "model_module": "@jupyter-widgets/controls",
          "model_name": "HTMLModel",
          "model_module_version": "1.5.0",
          "state": {
            "_dom_classes": [],
            "_model_module": "@jupyter-widgets/controls",
            "_model_module_version": "1.5.0",
            "_model_name": "HTMLModel",
            "_view_count": null,
            "_view_module": "@jupyter-widgets/controls",
            "_view_module_version": "1.5.0",
            "_view_name": "HTMLView",
            "description": "",
            "description_tooltip": null,
            "layout": "IPY_MODEL_a5c7ec9378464193a877209a13b87598",
            "placeholder": "​",
            "style": "IPY_MODEL_79b7b75dcf054cdea41bd522249ac1e4",
            "value": "Casting the dataset: 100%"
          }
        },
        "ff06a22bac2548c8a769690a03e3188a": {
          "model_module": "@jupyter-widgets/controls",
          "model_name": "FloatProgressModel",
          "model_module_version": "1.5.0",
          "state": {
            "_dom_classes": [],
            "_model_module": "@jupyter-widgets/controls",
            "_model_module_version": "1.5.0",
            "_model_name": "FloatProgressModel",
            "_view_count": null,
            "_view_module": "@jupyter-widgets/controls",
            "_view_module_version": "1.5.0",
            "_view_name": "ProgressView",
            "bar_style": "success",
            "description": "",
            "description_tooltip": null,
            "layout": "IPY_MODEL_730261bf4f8a43cc80fde3da49ee0c46",
            "max": 13533,
            "min": 0,
            "orientation": "horizontal",
            "style": "IPY_MODEL_7384a78205e74c1a8752dda523e06115",
            "value": 13533
          }
        },
        "b1093d7d697941a8886f700b2bd6d8b3": {
          "model_module": "@jupyter-widgets/controls",
          "model_name": "HTMLModel",
          "model_module_version": "1.5.0",
          "state": {
            "_dom_classes": [],
            "_model_module": "@jupyter-widgets/controls",
            "_model_module_version": "1.5.0",
            "_model_name": "HTMLModel",
            "_view_count": null,
            "_view_module": "@jupyter-widgets/controls",
            "_view_module_version": "1.5.0",
            "_view_name": "HTMLView",
            "description": "",
            "description_tooltip": null,
            "layout": "IPY_MODEL_71d1b1f6a4b545c98c29c4e233a103a8",
            "placeholder": "​",
            "style": "IPY_MODEL_6b435830b2ab4e4d8fed0ff7bb62e731",
            "value": " 13533/13533 [00:00&lt;00:00, 42975.56 examples/s]"
          }
        },
        "4f8031e7cd804dcb8de6570a40b8500b": {
          "model_module": "@jupyter-widgets/base",
          "model_name": "LayoutModel",
          "model_module_version": "1.2.0",
          "state": {
            "_model_module": "@jupyter-widgets/base",
            "_model_module_version": "1.2.0",
            "_model_name": "LayoutModel",
            "_view_count": null,
            "_view_module": "@jupyter-widgets/base",
            "_view_module_version": "1.2.0",
            "_view_name": "LayoutView",
            "align_content": null,
            "align_items": null,
            "align_self": null,
            "border": null,
            "bottom": null,
            "display": null,
            "flex": null,
            "flex_flow": null,
            "grid_area": null,
            "grid_auto_columns": null,
            "grid_auto_flow": null,
            "grid_auto_rows": null,
            "grid_column": null,
            "grid_gap": null,
            "grid_row": null,
            "grid_template_areas": null,
            "grid_template_columns": null,
            "grid_template_rows": null,
            "height": null,
            "justify_content": null,
            "justify_items": null,
            "left": null,
            "margin": null,
            "max_height": null,
            "max_width": null,
            "min_height": null,
            "min_width": null,
            "object_fit": null,
            "object_position": null,
            "order": null,
            "overflow": null,
            "overflow_x": null,
            "overflow_y": null,
            "padding": null,
            "right": null,
            "top": null,
            "visibility": null,
            "width": null
          }
        },
        "a5c7ec9378464193a877209a13b87598": {
          "model_module": "@jupyter-widgets/base",
          "model_name": "LayoutModel",
          "model_module_version": "1.2.0",
          "state": {
            "_model_module": "@jupyter-widgets/base",
            "_model_module_version": "1.2.0",
            "_model_name": "LayoutModel",
            "_view_count": null,
            "_view_module": "@jupyter-widgets/base",
            "_view_module_version": "1.2.0",
            "_view_name": "LayoutView",
            "align_content": null,
            "align_items": null,
            "align_self": null,
            "border": null,
            "bottom": null,
            "display": null,
            "flex": null,
            "flex_flow": null,
            "grid_area": null,
            "grid_auto_columns": null,
            "grid_auto_flow": null,
            "grid_auto_rows": null,
            "grid_column": null,
            "grid_gap": null,
            "grid_row": null,
            "grid_template_areas": null,
            "grid_template_columns": null,
            "grid_template_rows": null,
            "height": null,
            "justify_content": null,
            "justify_items": null,
            "left": null,
            "margin": null,
            "max_height": null,
            "max_width": null,
            "min_height": null,
            "min_width": null,
            "object_fit": null,
            "object_position": null,
            "order": null,
            "overflow": null,
            "overflow_x": null,
            "overflow_y": null,
            "padding": null,
            "right": null,
            "top": null,
            "visibility": null,
            "width": null
          }
        },
        "79b7b75dcf054cdea41bd522249ac1e4": {
          "model_module": "@jupyter-widgets/controls",
          "model_name": "DescriptionStyleModel",
          "model_module_version": "1.5.0",
          "state": {
            "_model_module": "@jupyter-widgets/controls",
            "_model_module_version": "1.5.0",
            "_model_name": "DescriptionStyleModel",
            "_view_count": null,
            "_view_module": "@jupyter-widgets/base",
            "_view_module_version": "1.2.0",
            "_view_name": "StyleView",
            "description_width": ""
          }
        },
        "730261bf4f8a43cc80fde3da49ee0c46": {
          "model_module": "@jupyter-widgets/base",
          "model_name": "LayoutModel",
          "model_module_version": "1.2.0",
          "state": {
            "_model_module": "@jupyter-widgets/base",
            "_model_module_version": "1.2.0",
            "_model_name": "LayoutModel",
            "_view_count": null,
            "_view_module": "@jupyter-widgets/base",
            "_view_module_version": "1.2.0",
            "_view_name": "LayoutView",
            "align_content": null,
            "align_items": null,
            "align_self": null,
            "border": null,
            "bottom": null,
            "display": null,
            "flex": null,
            "flex_flow": null,
            "grid_area": null,
            "grid_auto_columns": null,
            "grid_auto_flow": null,
            "grid_auto_rows": null,
            "grid_column": null,
            "grid_gap": null,
            "grid_row": null,
            "grid_template_areas": null,
            "grid_template_columns": null,
            "grid_template_rows": null,
            "height": null,
            "justify_content": null,
            "justify_items": null,
            "left": null,
            "margin": null,
            "max_height": null,
            "max_width": null,
            "min_height": null,
            "min_width": null,
            "object_fit": null,
            "object_position": null,
            "order": null,
            "overflow": null,
            "overflow_x": null,
            "overflow_y": null,
            "padding": null,
            "right": null,
            "top": null,
            "visibility": null,
            "width": null
          }
        },
        "7384a78205e74c1a8752dda523e06115": {
          "model_module": "@jupyter-widgets/controls",
          "model_name": "ProgressStyleModel",
          "model_module_version": "1.5.0",
          "state": {
            "_model_module": "@jupyter-widgets/controls",
            "_model_module_version": "1.5.0",
            "_model_name": "ProgressStyleModel",
            "_view_count": null,
            "_view_module": "@jupyter-widgets/base",
            "_view_module_version": "1.2.0",
            "_view_name": "StyleView",
            "bar_color": null,
            "description_width": ""
          }
        },
        "71d1b1f6a4b545c98c29c4e233a103a8": {
          "model_module": "@jupyter-widgets/base",
          "model_name": "LayoutModel",
          "model_module_version": "1.2.0",
          "state": {
            "_model_module": "@jupyter-widgets/base",
            "_model_module_version": "1.2.0",
            "_model_name": "LayoutModel",
            "_view_count": null,
            "_view_module": "@jupyter-widgets/base",
            "_view_module_version": "1.2.0",
            "_view_name": "LayoutView",
            "align_content": null,
            "align_items": null,
            "align_self": null,
            "border": null,
            "bottom": null,
            "display": null,
            "flex": null,
            "flex_flow": null,
            "grid_area": null,
            "grid_auto_columns": null,
            "grid_auto_flow": null,
            "grid_auto_rows": null,
            "grid_column": null,
            "grid_gap": null,
            "grid_row": null,
            "grid_template_areas": null,
            "grid_template_columns": null,
            "grid_template_rows": null,
            "height": null,
            "justify_content": null,
            "justify_items": null,
            "left": null,
            "margin": null,
            "max_height": null,
            "max_width": null,
            "min_height": null,
            "min_width": null,
            "object_fit": null,
            "object_position": null,
            "order": null,
            "overflow": null,
            "overflow_x": null,
            "overflow_y": null,
            "padding": null,
            "right": null,
            "top": null,
            "visibility": null,
            "width": null
          }
        },
        "6b435830b2ab4e4d8fed0ff7bb62e731": {
          "model_module": "@jupyter-widgets/controls",
          "model_name": "DescriptionStyleModel",
          "model_module_version": "1.5.0",
          "state": {
            "_model_module": "@jupyter-widgets/controls",
            "_model_module_version": "1.5.0",
            "_model_name": "DescriptionStyleModel",
            "_view_count": null,
            "_view_module": "@jupyter-widgets/base",
            "_view_module_version": "1.2.0",
            "_view_name": "StyleView",
            "description_width": ""
          }
        },
        "da08540c57524f6793a43f136ebfd1e2": {
          "model_module": "@jupyter-widgets/controls",
          "model_name": "HBoxModel",
          "model_module_version": "1.5.0",
          "state": {
            "_dom_classes": [],
            "_model_module": "@jupyter-widgets/controls",
            "_model_module_version": "1.5.0",
            "_model_name": "HBoxModel",
            "_view_count": null,
            "_view_module": "@jupyter-widgets/controls",
            "_view_module_version": "1.5.0",
            "_view_name": "HBoxView",
            "box_style": "",
            "children": [
              "IPY_MODEL_91c87a85c91c414fafacd803136aaae6",
              "IPY_MODEL_8b9613d1dd464a37a4a0eaa422709a80",
              "IPY_MODEL_8ea5c03900144c1ba5bc198065b923d8"
            ],
            "layout": "IPY_MODEL_2f5ca3f686f544939e458161d91a3002"
          }
        },
        "91c87a85c91c414fafacd803136aaae6": {
          "model_module": "@jupyter-widgets/controls",
          "model_name": "HTMLModel",
          "model_module_version": "1.5.0",
          "state": {
            "_dom_classes": [],
            "_model_module": "@jupyter-widgets/controls",
            "_model_module_version": "1.5.0",
            "_model_name": "HTMLModel",
            "_view_count": null,
            "_view_module": "@jupyter-widgets/controls",
            "_view_module_version": "1.5.0",
            "_view_name": "HTMLView",
            "description": "",
            "description_tooltip": null,
            "layout": "IPY_MODEL_0586e5eecde1478fa4c84b683645e2c6",
            "placeholder": "​",
            "style": "IPY_MODEL_f5178f82133940ebaead71c2efd32827",
            "value": "Saving the dataset (1/1 shards): 100%"
          }
        },
        "8b9613d1dd464a37a4a0eaa422709a80": {
          "model_module": "@jupyter-widgets/controls",
          "model_name": "FloatProgressModel",
          "model_module_version": "1.5.0",
          "state": {
            "_dom_classes": [],
            "_model_module": "@jupyter-widgets/controls",
            "_model_module_version": "1.5.0",
            "_model_name": "FloatProgressModel",
            "_view_count": null,
            "_view_module": "@jupyter-widgets/controls",
            "_view_module_version": "1.5.0",
            "_view_name": "ProgressView",
            "bar_style": "success",
            "description": "",
            "description_tooltip": null,
            "layout": "IPY_MODEL_a3bc84844084492785ef026b0888edf2",
            "max": 13533,
            "min": 0,
            "orientation": "horizontal",
            "style": "IPY_MODEL_02dcc924114646fb9a5668455cd9ce20",
            "value": 13533
          }
        },
        "8ea5c03900144c1ba5bc198065b923d8": {
          "model_module": "@jupyter-widgets/controls",
          "model_name": "HTMLModel",
          "model_module_version": "1.5.0",
          "state": {
            "_dom_classes": [],
            "_model_module": "@jupyter-widgets/controls",
            "_model_module_version": "1.5.0",
            "_model_name": "HTMLModel",
            "_view_count": null,
            "_view_module": "@jupyter-widgets/controls",
            "_view_module_version": "1.5.0",
            "_view_name": "HTMLView",
            "description": "",
            "description_tooltip": null,
            "layout": "IPY_MODEL_93a59f19336e4601b948a60dd336b34f",
            "placeholder": "​",
            "style": "IPY_MODEL_64b5a00226644d56a1e3ed6cfb447edc",
            "value": " 13533/13533 [00:08&lt;00:00, 2779.88 examples/s]"
          }
        },
        "2f5ca3f686f544939e458161d91a3002": {
          "model_module": "@jupyter-widgets/base",
          "model_name": "LayoutModel",
          "model_module_version": "1.2.0",
          "state": {
            "_model_module": "@jupyter-widgets/base",
            "_model_module_version": "1.2.0",
            "_model_name": "LayoutModel",
            "_view_count": null,
            "_view_module": "@jupyter-widgets/base",
            "_view_module_version": "1.2.0",
            "_view_name": "LayoutView",
            "align_content": null,
            "align_items": null,
            "align_self": null,
            "border": null,
            "bottom": null,
            "display": null,
            "flex": null,
            "flex_flow": null,
            "grid_area": null,
            "grid_auto_columns": null,
            "grid_auto_flow": null,
            "grid_auto_rows": null,
            "grid_column": null,
            "grid_gap": null,
            "grid_row": null,
            "grid_template_areas": null,
            "grid_template_columns": null,
            "grid_template_rows": null,
            "height": null,
            "justify_content": null,
            "justify_items": null,
            "left": null,
            "margin": null,
            "max_height": null,
            "max_width": null,
            "min_height": null,
            "min_width": null,
            "object_fit": null,
            "object_position": null,
            "order": null,
            "overflow": null,
            "overflow_x": null,
            "overflow_y": null,
            "padding": null,
            "right": null,
            "top": null,
            "visibility": null,
            "width": null
          }
        },
        "0586e5eecde1478fa4c84b683645e2c6": {
          "model_module": "@jupyter-widgets/base",
          "model_name": "LayoutModel",
          "model_module_version": "1.2.0",
          "state": {
            "_model_module": "@jupyter-widgets/base",
            "_model_module_version": "1.2.0",
            "_model_name": "LayoutModel",
            "_view_count": null,
            "_view_module": "@jupyter-widgets/base",
            "_view_module_version": "1.2.0",
            "_view_name": "LayoutView",
            "align_content": null,
            "align_items": null,
            "align_self": null,
            "border": null,
            "bottom": null,
            "display": null,
            "flex": null,
            "flex_flow": null,
            "grid_area": null,
            "grid_auto_columns": null,
            "grid_auto_flow": null,
            "grid_auto_rows": null,
            "grid_column": null,
            "grid_gap": null,
            "grid_row": null,
            "grid_template_areas": null,
            "grid_template_columns": null,
            "grid_template_rows": null,
            "height": null,
            "justify_content": null,
            "justify_items": null,
            "left": null,
            "margin": null,
            "max_height": null,
            "max_width": null,
            "min_height": null,
            "min_width": null,
            "object_fit": null,
            "object_position": null,
            "order": null,
            "overflow": null,
            "overflow_x": null,
            "overflow_y": null,
            "padding": null,
            "right": null,
            "top": null,
            "visibility": null,
            "width": null
          }
        },
        "f5178f82133940ebaead71c2efd32827": {
          "model_module": "@jupyter-widgets/controls",
          "model_name": "DescriptionStyleModel",
          "model_module_version": "1.5.0",
          "state": {
            "_model_module": "@jupyter-widgets/controls",
            "_model_module_version": "1.5.0",
            "_model_name": "DescriptionStyleModel",
            "_view_count": null,
            "_view_module": "@jupyter-widgets/base",
            "_view_module_version": "1.2.0",
            "_view_name": "StyleView",
            "description_width": ""
          }
        },
        "a3bc84844084492785ef026b0888edf2": {
          "model_module": "@jupyter-widgets/base",
          "model_name": "LayoutModel",
          "model_module_version": "1.2.0",
          "state": {
            "_model_module": "@jupyter-widgets/base",
            "_model_module_version": "1.2.0",
            "_model_name": "LayoutModel",
            "_view_count": null,
            "_view_module": "@jupyter-widgets/base",
            "_view_module_version": "1.2.0",
            "_view_name": "LayoutView",
            "align_content": null,
            "align_items": null,
            "align_self": null,
            "border": null,
            "bottom": null,
            "display": null,
            "flex": null,
            "flex_flow": null,
            "grid_area": null,
            "grid_auto_columns": null,
            "grid_auto_flow": null,
            "grid_auto_rows": null,
            "grid_column": null,
            "grid_gap": null,
            "grid_row": null,
            "grid_template_areas": null,
            "grid_template_columns": null,
            "grid_template_rows": null,
            "height": null,
            "justify_content": null,
            "justify_items": null,
            "left": null,
            "margin": null,
            "max_height": null,
            "max_width": null,
            "min_height": null,
            "min_width": null,
            "object_fit": null,
            "object_position": null,
            "order": null,
            "overflow": null,
            "overflow_x": null,
            "overflow_y": null,
            "padding": null,
            "right": null,
            "top": null,
            "visibility": null,
            "width": null
          }
        },
        "02dcc924114646fb9a5668455cd9ce20": {
          "model_module": "@jupyter-widgets/controls",
          "model_name": "ProgressStyleModel",
          "model_module_version": "1.5.0",
          "state": {
            "_model_module": "@jupyter-widgets/controls",
            "_model_module_version": "1.5.0",
            "_model_name": "ProgressStyleModel",
            "_view_count": null,
            "_view_module": "@jupyter-widgets/base",
            "_view_module_version": "1.2.0",
            "_view_name": "StyleView",
            "bar_color": null,
            "description_width": ""
          }
        },
        "93a59f19336e4601b948a60dd336b34f": {
          "model_module": "@jupyter-widgets/base",
          "model_name": "LayoutModel",
          "model_module_version": "1.2.0",
          "state": {
            "_model_module": "@jupyter-widgets/base",
            "_model_module_version": "1.2.0",
            "_model_name": "LayoutModel",
            "_view_count": null,
            "_view_module": "@jupyter-widgets/base",
            "_view_module_version": "1.2.0",
            "_view_name": "LayoutView",
            "align_content": null,
            "align_items": null,
            "align_self": null,
            "border": null,
            "bottom": null,
            "display": null,
            "flex": null,
            "flex_flow": null,
            "grid_area": null,
            "grid_auto_columns": null,
            "grid_auto_flow": null,
            "grid_auto_rows": null,
            "grid_column": null,
            "grid_gap": null,
            "grid_row": null,
            "grid_template_areas": null,
            "grid_template_columns": null,
            "grid_template_rows": null,
            "height": null,
            "justify_content": null,
            "justify_items": null,
            "left": null,
            "margin": null,
            "max_height": null,
            "max_width": null,
            "min_height": null,
            "min_width": null,
            "object_fit": null,
            "object_position": null,
            "order": null,
            "overflow": null,
            "overflow_x": null,
            "overflow_y": null,
            "padding": null,
            "right": null,
            "top": null,
            "visibility": null,
            "width": null
          }
        },
        "64b5a00226644d56a1e3ed6cfb447edc": {
          "model_module": "@jupyter-widgets/controls",
          "model_name": "DescriptionStyleModel",
          "model_module_version": "1.5.0",
          "state": {
            "_model_module": "@jupyter-widgets/controls",
            "_model_module_version": "1.5.0",
            "_model_name": "DescriptionStyleModel",
            "_view_count": null,
            "_view_module": "@jupyter-widgets/base",
            "_view_module_version": "1.2.0",
            "_view_name": "StyleView",
            "description_width": ""
          }
        },
        "855cdbc1864d4c0bab17d0bfb5deb247": {
          "model_module": "@jupyter-widgets/controls",
          "model_name": "HBoxModel",
          "model_module_version": "1.5.0",
          "state": {
            "_dom_classes": [],
            "_model_module": "@jupyter-widgets/controls",
            "_model_module_version": "1.5.0",
            "_model_name": "HBoxModel",
            "_view_count": null,
            "_view_module": "@jupyter-widgets/controls",
            "_view_module_version": "1.5.0",
            "_view_name": "HBoxView",
            "box_style": "",
            "children": [
              "IPY_MODEL_8bf55a16e0e34f23ae07e497f83526a6",
              "IPY_MODEL_c76b11f07b8d41feafc93df8a271d14e",
              "IPY_MODEL_73b95b42e77a4744a5541a59765dbae6"
            ],
            "layout": "IPY_MODEL_a480f90c4b86465b96589c29e946501f"
          }
        },
        "8bf55a16e0e34f23ae07e497f83526a6": {
          "model_module": "@jupyter-widgets/controls",
          "model_name": "HTMLModel",
          "model_module_version": "1.5.0",
          "state": {
            "_dom_classes": [],
            "_model_module": "@jupyter-widgets/controls",
            "_model_module_version": "1.5.0",
            "_model_name": "HTMLModel",
            "_view_count": null,
            "_view_module": "@jupyter-widgets/controls",
            "_view_module_version": "1.5.0",
            "_view_name": "HTMLView",
            "description": "",
            "description_tooltip": null,
            "layout": "IPY_MODEL_f71e6dbf8d714dae95243d59ba9179c0",
            "placeholder": "​",
            "style": "IPY_MODEL_a978d99434cd4440a57f56e31d889c55",
            "value": "  0%"
          }
        },
        "c76b11f07b8d41feafc93df8a271d14e": {
          "model_module": "@jupyter-widgets/controls",
          "model_name": "FloatProgressModel",
          "model_module_version": "1.5.0",
          "state": {
            "_dom_classes": [],
            "_model_module": "@jupyter-widgets/controls",
            "_model_module_version": "1.5.0",
            "_model_name": "FloatProgressModel",
            "_view_count": null,
            "_view_module": "@jupyter-widgets/controls",
            "_view_module_version": "1.5.0",
            "_view_name": "ProgressView",
            "bar_style": "",
            "description": "",
            "description_tooltip": null,
            "layout": "IPY_MODEL_61b36bee9dca4d0a990b984cc7c0155c",
            "max": 1,
            "min": 0,
            "orientation": "horizontal",
            "style": "IPY_MODEL_11f6c98f43fc4be496c8775f09b7ecbc",
            "value": 0
          }
        },
        "73b95b42e77a4744a5541a59765dbae6": {
          "model_module": "@jupyter-widgets/controls",
          "model_name": "HTMLModel",
          "model_module_version": "1.5.0",
          "state": {
            "_dom_classes": [],
            "_model_module": "@jupyter-widgets/controls",
            "_model_module_version": "1.5.0",
            "_model_name": "HTMLModel",
            "_view_count": null,
            "_view_module": "@jupyter-widgets/controls",
            "_view_module_version": "1.5.0",
            "_view_name": "HTMLView",
            "description": "",
            "description_tooltip": null,
            "layout": "IPY_MODEL_9b523080f0a146178446b9ca827d481e",
            "placeholder": "​",
            "style": "IPY_MODEL_9548bfccb1be49e68351ade203ee5842",
            "value": " 0/1 [00:00&lt;?, ?it/s]"
          }
        },
        "a480f90c4b86465b96589c29e946501f": {
          "model_module": "@jupyter-widgets/base",
          "model_name": "LayoutModel",
          "model_module_version": "1.2.0",
          "state": {
            "_model_module": "@jupyter-widgets/base",
            "_model_module_version": "1.2.0",
            "_model_name": "LayoutModel",
            "_view_count": null,
            "_view_module": "@jupyter-widgets/base",
            "_view_module_version": "1.2.0",
            "_view_name": "LayoutView",
            "align_content": null,
            "align_items": null,
            "align_self": null,
            "border": null,
            "bottom": null,
            "display": null,
            "flex": null,
            "flex_flow": null,
            "grid_area": null,
            "grid_auto_columns": null,
            "grid_auto_flow": null,
            "grid_auto_rows": null,
            "grid_column": null,
            "grid_gap": null,
            "grid_row": null,
            "grid_template_areas": null,
            "grid_template_columns": null,
            "grid_template_rows": null,
            "height": null,
            "justify_content": null,
            "justify_items": null,
            "left": null,
            "margin": null,
            "max_height": null,
            "max_width": null,
            "min_height": null,
            "min_width": null,
            "object_fit": null,
            "object_position": null,
            "order": null,
            "overflow": null,
            "overflow_x": null,
            "overflow_y": null,
            "padding": null,
            "right": null,
            "top": null,
            "visibility": null,
            "width": null
          }
        },
        "f71e6dbf8d714dae95243d59ba9179c0": {
          "model_module": "@jupyter-widgets/base",
          "model_name": "LayoutModel",
          "model_module_version": "1.2.0",
          "state": {
            "_model_module": "@jupyter-widgets/base",
            "_model_module_version": "1.2.0",
            "_model_name": "LayoutModel",
            "_view_count": null,
            "_view_module": "@jupyter-widgets/base",
            "_view_module_version": "1.2.0",
            "_view_name": "LayoutView",
            "align_content": null,
            "align_items": null,
            "align_self": null,
            "border": null,
            "bottom": null,
            "display": null,
            "flex": null,
            "flex_flow": null,
            "grid_area": null,
            "grid_auto_columns": null,
            "grid_auto_flow": null,
            "grid_auto_rows": null,
            "grid_column": null,
            "grid_gap": null,
            "grid_row": null,
            "grid_template_areas": null,
            "grid_template_columns": null,
            "grid_template_rows": null,
            "height": null,
            "justify_content": null,
            "justify_items": null,
            "left": null,
            "margin": null,
            "max_height": null,
            "max_width": null,
            "min_height": null,
            "min_width": null,
            "object_fit": null,
            "object_position": null,
            "order": null,
            "overflow": null,
            "overflow_x": null,
            "overflow_y": null,
            "padding": null,
            "right": null,
            "top": null,
            "visibility": null,
            "width": null
          }
        },
        "a978d99434cd4440a57f56e31d889c55": {
          "model_module": "@jupyter-widgets/controls",
          "model_name": "DescriptionStyleModel",
          "model_module_version": "1.5.0",
          "state": {
            "_model_module": "@jupyter-widgets/controls",
            "_model_module_version": "1.5.0",
            "_model_name": "DescriptionStyleModel",
            "_view_count": null,
            "_view_module": "@jupyter-widgets/base",
            "_view_module_version": "1.2.0",
            "_view_name": "StyleView",
            "description_width": ""
          }
        },
        "61b36bee9dca4d0a990b984cc7c0155c": {
          "model_module": "@jupyter-widgets/base",
          "model_name": "LayoutModel",
          "model_module_version": "1.2.0",
          "state": {
            "_model_module": "@jupyter-widgets/base",
            "_model_module_version": "1.2.0",
            "_model_name": "LayoutModel",
            "_view_count": null,
            "_view_module": "@jupyter-widgets/base",
            "_view_module_version": "1.2.0",
            "_view_name": "LayoutView",
            "align_content": null,
            "align_items": null,
            "align_self": null,
            "border": null,
            "bottom": null,
            "display": null,
            "flex": null,
            "flex_flow": null,
            "grid_area": null,
            "grid_auto_columns": null,
            "grid_auto_flow": null,
            "grid_auto_rows": null,
            "grid_column": null,
            "grid_gap": null,
            "grid_row": null,
            "grid_template_areas": null,
            "grid_template_columns": null,
            "grid_template_rows": null,
            "height": null,
            "justify_content": null,
            "justify_items": null,
            "left": null,
            "margin": null,
            "max_height": null,
            "max_width": null,
            "min_height": null,
            "min_width": null,
            "object_fit": null,
            "object_position": null,
            "order": null,
            "overflow": null,
            "overflow_x": null,
            "overflow_y": null,
            "padding": null,
            "right": null,
            "top": null,
            "visibility": null,
            "width": null
          }
        },
        "11f6c98f43fc4be496c8775f09b7ecbc": {
          "model_module": "@jupyter-widgets/controls",
          "model_name": "ProgressStyleModel",
          "model_module_version": "1.5.0",
          "state": {
            "_model_module": "@jupyter-widgets/controls",
            "_model_module_version": "1.5.0",
            "_model_name": "ProgressStyleModel",
            "_view_count": null,
            "_view_module": "@jupyter-widgets/base",
            "_view_module_version": "1.2.0",
            "_view_name": "StyleView",
            "bar_color": null,
            "description_width": ""
          }
        },
        "9b523080f0a146178446b9ca827d481e": {
          "model_module": "@jupyter-widgets/base",
          "model_name": "LayoutModel",
          "model_module_version": "1.2.0",
          "state": {
            "_model_module": "@jupyter-widgets/base",
            "_model_module_version": "1.2.0",
            "_model_name": "LayoutModel",
            "_view_count": null,
            "_view_module": "@jupyter-widgets/base",
            "_view_module_version": "1.2.0",
            "_view_name": "LayoutView",
            "align_content": null,
            "align_items": null,
            "align_self": null,
            "border": null,
            "bottom": null,
            "display": null,
            "flex": null,
            "flex_flow": null,
            "grid_area": null,
            "grid_auto_columns": null,
            "grid_auto_flow": null,
            "grid_auto_rows": null,
            "grid_column": null,
            "grid_gap": null,
            "grid_row": null,
            "grid_template_areas": null,
            "grid_template_columns": null,
            "grid_template_rows": null,
            "height": null,
            "justify_content": null,
            "justify_items": null,
            "left": null,
            "margin": null,
            "max_height": null,
            "max_width": null,
            "min_height": null,
            "min_width": null,
            "object_fit": null,
            "object_position": null,
            "order": null,
            "overflow": null,
            "overflow_x": null,
            "overflow_y": null,
            "padding": null,
            "right": null,
            "top": null,
            "visibility": null,
            "width": null
          }
        },
        "9548bfccb1be49e68351ade203ee5842": {
          "model_module": "@jupyter-widgets/controls",
          "model_name": "DescriptionStyleModel",
          "model_module_version": "1.5.0",
          "state": {
            "_model_module": "@jupyter-widgets/controls",
            "_model_module_version": "1.5.0",
            "_model_name": "DescriptionStyleModel",
            "_view_count": null,
            "_view_module": "@jupyter-widgets/base",
            "_view_module_version": "1.2.0",
            "_view_name": "StyleView",
            "description_width": ""
          }
        }
      }
    }
  },
  "cells": [
    {
      "cell_type": "markdown",
      "metadata": {
        "id": "view-in-github",
        "colab_type": "text"
      },
      "source": [
        "<a href=\"https://colab.research.google.com/github/sean-otoole/HODD/blob/main/PDTx_pipeline/PDTx_03_FineTuning.ipynb\" target=\"_parent\"><img src=\"https://colab.research.google.com/assets/colab-badge.svg\" alt=\"Open In Colab\"/></a>"
      ]
    },
    {
      "cell_type": "code",
      "source": [
        "# downgrade numpy\n",
        "!pip uninstall numpy -y\n",
        "!pip install numpy==1.26.4\n",
        "\n",
        "# fixes a compatibility issue with the PrecollatorForGeneAndCellClassification class\n",
        "!pip install --upgrade transformers==4.41\n",
        "!pip install peft==0.10.0\n",
        "\n",
        "# Uninstall and reinstall scipy and scikit-learn to ensure compatibility with the specified numpy version\n",
        "!pip uninstall scipy -y\n",
        "!pip uninstall scikit-learn -y\n",
        "!pip install scipy\n",
        "!pip install scikit-learn\n",
        "!pip install wandb"
      ],
      "metadata": {
        "id": "6ptj23DKQbgg",
        "collapsed": true
      },
      "execution_count": null,
      "outputs": []
    },
    {
      "cell_type": "code",
      "source": [
        "!rm /content/drive/MyDrive/HODD/geneformer_modified/.git/hooks/post-checkout"
      ],
      "metadata": {
        "colab": {
          "base_uri": "https://localhost:8080/"
        },
        "id": "ECJkdzhZCbFR",
        "outputId": "e57b25ba-14aa-44ad-e8c1-c74633197d46"
      },
      "execution_count": 2,
      "outputs": [
        {
          "output_type": "stream",
          "name": "stdout",
          "text": [
            "rm: cannot remove '/content/drive/MyDrive/HODD/geneformer_modified/.git/hooks/post-checkout': No such file or directory\n"
          ]
        }
      ]
    },
    {
      "cell_type": "markdown",
      "source": [
        "Please note, it is necceesary to restart the session especially after the package downgrades for this code to work properly. So, simply restart after running the previous cell."
      ],
      "metadata": {
        "id": "27C1i-vqruid"
      }
    },
    {
      "cell_type": "code",
      "execution_count": null,
      "metadata": {
        "id": "44VJt_eTgFtC",
        "collapsed": true
      },
      "outputs": [],
      "source": [
        "# mount the drive\n",
        "\n",
        "from google.colab import drive\n",
        "import os\n",
        "\n",
        "# Mount Google Drive to access files\n",
        "drive.mount('/content/drive')\n",
        "\n",
        "# Change the working directory to the project folder in Google Drive\n",
        "os.chdir(\"/content/drive/MyDrive/HODD/\")\n",
        "\n",
        "## cloning the modified verison, to incorporate Weighted cross-entropy loss\n",
        "!git lfs install\n",
        "!git clone https://huggingface.co/sotoole/geneformer_modified\n",
        "%cd geneformer_modified\n",
        "\n",
        "# Install Geneformer modified locally\n",
        "!pip install .\n",
        "\n",
        "# Install required libraries without outputting installation logs\n",
        "!pip install anndata scanpy tdigest datasets\n",
        "\n",
        "# Import necessary modules and libraries\n",
        "import numpy\n",
        "import transformers\n",
        "import sklearn\n",
        "import pickle\n",
        "import sklearn\n",
        "\n",
        "print(numpy.__version__)"
      ]
    },
    {
      "cell_type": "code",
      "source": [
        "import pickle\n",
        "\n",
        "# bulding the mapping dictionary\n",
        "\n",
        "# Define class mapping: 0 = Parkinson's, 1 = Normal\n",
        "new_id_class_dict = {\n",
        "    0: \"normal\",\n",
        "    1: \"Parkinson_disease\",\n",
        "}\n",
        "\n",
        "# Overwrite the existing mapping file\n",
        "file_path = '/content/drive/MyDrive/HODD/datasets/park_classifier_id_class_dict.pkl'\n",
        "with open(file_path, 'wb') as f:\n",
        "    pickle.dump(new_id_class_dict, f)\n",
        "\n",
        "print(\"Mapping file saved.\")\n",
        "\n",
        "# Reload and print to confirm\n",
        "with open(file_path, 'rb') as f:\n",
        "    loaded_dict = pickle.load(f)\n",
        "\n",
        "print(\"Loaded class mapping:\")\n",
        "for k, v in loaded_dict.items():\n",
        "    print(f\"{k}: {v}\")"
      ],
      "metadata": {
        "id": "t2H0Na6V7y1r",
        "outputId": "bcd68a31-c8de-42ed-a84d-be9375c8b836",
        "colab": {
          "base_uri": "https://localhost:8080/"
        }
      },
      "execution_count": 2,
      "outputs": [
        {
          "output_type": "stream",
          "name": "stdout",
          "text": [
            "Mapping file saved.\n",
            "Loaded class mapping:\n",
            "0: normal\n",
            "1: Parkinson_disease\n"
          ]
        }
      ]
    },
    {
      "cell_type": "code",
      "source": [
        "import datetime\n",
        "\n",
        "current_date = datetime.datetime.now()\n",
        "datestamp = f\"{str(current_date.year)[-2:]}{current_date.month:02d}{current_date.day:02d}{current_date.hour:02d}{current_date.minute:02d}{current_date.second:02d}\"\n",
        "datestamp_min = f\"{str(current_date.year)[-2:]}{current_date.month:02d}{current_date.day:02d}\"\n",
        "\n",
        "output_prefix = \"parkinsons\"\n",
        "output_dir = f\"/content/drive/MyDrive/HODD/models/{datestamp}\"\n",
        "\n",
        "!mkdir $output_dir\n",
        "\n",
        "print(output_dir)\n",
        "\n",
        "park_data_path = '/content/drive/MyDrive/HODD/Geneformer_parkinsons_files/dopamine_subset_train_tokenized.dataset/'\n",
        "geneformer_directory = '/content/drive/MyDrive/HODD/Geneformer/gf-12L-95M-i4096'"
      ],
      "metadata": {
        "colab": {
          "base_uri": "https://localhost:8080/"
        },
        "id": "AgHUST_lxK9a",
        "outputId": "1c3a01f3-3126-4e03-f458-4dd7a7fc2c24"
      },
      "execution_count": 3,
      "outputs": [
        {
          "output_type": "stream",
          "name": "stdout",
          "text": [
            "/content/drive/MyDrive/HODD/models/250608210953\n"
          ]
        }
      ]
    },
    {
      "cell_type": "markdown",
      "source": [
        "##Prepare the data"
      ],
      "metadata": {
        "id": "QOwurLE-rYDq"
      }
    },
    {
      "cell_type": "code",
      "source": [
        "from datasets import load_dataset, load_from_disk, ClassLabel, concatenate_datasets\n",
        "import numpy as np\n",
        "from collections import Counter\n",
        "from sklearn.utils.class_weight import compute_class_weight\n",
        "\n",
        "# Load the dataset\n",
        "park_data_path = '/content/drive/MyDrive/HODD/Geneformer_parkinsons_files/dopamine_subset_train_tokenized.dataset/'\n",
        "park_data = load_from_disk(park_data_path)\n",
        "\n",
        "# Add ID column for tracking\n",
        "park_data = park_data.add_column(\"id\", list(range(len(park_data))))\n",
        "\n",
        "# Define classes explicitly\n",
        "classes = [\"normal\", \"Parkinson_disease\"]\n",
        "\n",
        "# Convert label to ClassLabel type\n",
        "park_data = park_data.cast_column(\"disease_state\", ClassLabel(names=classes))\n",
        "park_data = park_data.rename_column(\"disease_state\", \"label\")  # must be named \"label\" for classifier\n",
        "\n",
        "# Split into train/eval\n",
        "split_data = park_data.train_test_split(test_size=0.2, seed=42, stratify_by_column=\"label\")\n",
        "train_data = split_data[\"train\"]\n",
        "eval_data = split_data[\"test\"]\n",
        "\n",
        "# Class distribution in original training data\n",
        "original_counts = Counter(train_data[\"label\"])\n",
        "print(\"Original class distribution:\", original_counts)\n",
        "\n",
        "# ===  COMPUTE CLASS WEIGHTS ===\n",
        "y_train = train_data[\"label\"]\n",
        "unique_labels = np.unique(y_train)\n",
        "weights = compute_class_weight(class_weight=\"balanced\", classes=unique_labels, y=y_train)\n",
        "class_weights_list = weights.tolist()\n",
        "print(\"Computed class weights:\", class_weights_list)\n",
        "\n",
        "# === NO DOWNSAMPLING — keep full training data ===\n",
        "\n",
        "# Prepare merged dataset for later validation\n",
        "park_data_with_id_path = '/content/drive/MyDrive/HODD/Geneformer_parkinsons_files/dopamine_subset_train_with_id_tokenized.dataset/'\n",
        "park_data = concatenate_datasets([train_data, eval_data])\n",
        "park_data.save_to_disk(park_data_with_id_path)\n",
        "\n",
        "print(len(park_data))\n",
        "print(len(train_data))\n",
        "print(len(eval_data))\n",
        "\n",
        "# Prepare ID dictionary\n",
        "train_ids = train_data[\"id\"]\n",
        "eval_ids = eval_data[\"id\"]\n",
        "\n",
        "train_valid_id_split_dict = {\n",
        "    \"attr_key\": \"id\",\n",
        "    \"train\": train_ids,\n",
        "    \"eval\": eval_ids\n",
        "}"
      ],
      "metadata": {
        "colab": {
          "base_uri": "https://localhost:8080/",
          "height": 272,
          "referenced_widgets": [
            "b2b94477c36f4bb09534183d54c1ca5e",
            "485b2034955d47b08c7f8efbaa8b51d7",
            "ff06a22bac2548c8a769690a03e3188a",
            "b1093d7d697941a8886f700b2bd6d8b3",
            "4f8031e7cd804dcb8de6570a40b8500b",
            "a5c7ec9378464193a877209a13b87598",
            "79b7b75dcf054cdea41bd522249ac1e4",
            "730261bf4f8a43cc80fde3da49ee0c46",
            "7384a78205e74c1a8752dda523e06115",
            "71d1b1f6a4b545c98c29c4e233a103a8",
            "6b435830b2ab4e4d8fed0ff7bb62e731",
            "da08540c57524f6793a43f136ebfd1e2",
            "91c87a85c91c414fafacd803136aaae6",
            "8b9613d1dd464a37a4a0eaa422709a80",
            "8ea5c03900144c1ba5bc198065b923d8",
            "2f5ca3f686f544939e458161d91a3002",
            "0586e5eecde1478fa4c84b683645e2c6",
            "f5178f82133940ebaead71c2efd32827",
            "a3bc84844084492785ef026b0888edf2",
            "02dcc924114646fb9a5668455cd9ce20",
            "93a59f19336e4601b948a60dd336b34f",
            "64b5a00226644d56a1e3ed6cfb447edc"
          ]
        },
        "id": "I_ystPjIrLqo",
        "outputId": "18818764-aa7c-49f0-bb2e-02dc50cafae5"
      },
      "execution_count": 4,
      "outputs": [
        {
          "output_type": "stream",
          "name": "stderr",
          "text": [
            "/usr/local/lib/python3.11/dist-packages/datasets/table.py:1387: FutureWarning: promote has been superseded by promote_options='default'.\n",
            "  return cls._concat_blocks(pa_tables_to_concat_vertically, axis=0)\n"
          ]
        },
        {
          "output_type": "display_data",
          "data": {
            "text/plain": [
              "Casting the dataset:   0%|          | 0/13533 [00:00<?, ? examples/s]"
            ],
            "application/vnd.jupyter.widget-view+json": {
              "version_major": 2,
              "version_minor": 0,
              "model_id": "b2b94477c36f4bb09534183d54c1ca5e"
            }
          },
          "metadata": {}
        },
        {
          "output_type": "stream",
          "name": "stdout",
          "text": [
            "Original class distribution: Counter({0: 9269, 1: 1557})\n",
            "Computed class weights: [0.5839896428956738, 3.4765574823378294]\n"
          ]
        },
        {
          "output_type": "stream",
          "name": "stderr",
          "text": [
            "/usr/local/lib/python3.11/dist-packages/datasets/table.py:1395: FutureWarning: promote has been superseded by promote_options='default'.\n",
            "  block_group = [InMemoryTable(cls._concat_blocks(list(block_group), axis=axis))]\n",
            "/usr/local/lib/python3.11/dist-packages/datasets/table.py:1421: FutureWarning: promote has been superseded by promote_options='default'.\n",
            "  table = cls._concat_blocks(blocks, axis=0)\n"
          ]
        },
        {
          "output_type": "display_data",
          "data": {
            "text/plain": [
              "Saving the dataset (0/1 shards):   0%|          | 0/13533 [00:00<?, ? examples/s]"
            ],
            "application/vnd.jupyter.widget-view+json": {
              "version_major": 2,
              "version_minor": 0,
              "model_id": "da08540c57524f6793a43f136ebfd1e2"
            }
          },
          "metadata": {}
        },
        {
          "output_type": "stream",
          "name": "stdout",
          "text": [
            "13533\n",
            "10826\n",
            "2707\n"
          ]
        }
      ]
    },
    {
      "cell_type": "markdown",
      "source": [
        "##Fine-tune the model for cell state classification"
      ],
      "metadata": {
        "id": "6y4j1Eh7c_Cw"
      }
    },
    {
      "cell_type": "code",
      "source": [
        "from geneformer import Classifier\n",
        "from transformers import TrainingArguments\n",
        "\n",
        "training_args = {\n",
        "    \"num_train_epochs\": 4,\n",
        "    \"learning_rate\": 5e-5,\n",
        "    \"lr_scheduler_type\": \"polynomial\",\n",
        "    \"warmup_steps\": 500,\n",
        "    \"weight_decay\":0.01,\n",
        "    \"per_device_train_batch_size\": 12,\n",
        "    \"seed\": 73,\n",
        "    \"class_weights_list\":class_weights_list\n",
        "}\n",
        "\n",
        "cc = Classifier(\n",
        "    classifier=\"cell\",\n",
        "    cell_state_dict={\"state_key\": \"disease_state\", \"states\": \"all\"},\n",
        "    training_args=training_args,  # pass as dict, not object\n",
        "    max_ncells=None,\n",
        "    freeze_layers=2,\n",
        "    num_crossval_splits=1,\n",
        "    forward_batch_size=8,   #dropped from 32\n",
        "    nproc=16\n",
        ")\n",
        "\n",
        "# The print statement should now work as expected if the value was correctly passed\n",
        "print(cc.training_args[\"num_train_epochs\"])\n",
        "\n",
        "print(cc.training_args[\"class_weights_list\"])"
      ],
      "metadata": {
        "colab": {
          "base_uri": "https://localhost:8080/"
        },
        "id": "FnuIsFKTOJnp",
        "outputId": "d8f22746-dd89-439a-9437-9befed8506a6"
      },
      "execution_count": 5,
      "outputs": [
        {
          "output_type": "stream",
          "name": "stdout",
          "text": [
            "4\n",
            "[0.5839896428956738, 3.4765574823378294]\n"
          ]
        }
      ]
    },
    {
      "cell_type": "code",
      "source": [
        "import os\n",
        "import torch\n",
        "torch.cuda.empty_cache()\n",
        "\n",
        "os.environ[\"WANDB_DISABLED\"] = \"true\"\n",
        "\n",
        "# fine tune the model\n",
        "all_metrics = cc.validate(model_directory=geneformer_directory,\n",
        "                          prepared_input_data_file = park_data_with_id_path,\n",
        "                          id_class_dict_file= '/content/drive/MyDrive/HODD/datasets/park_classifier_id_class_dict.pkl',\n",
        "                          output_directory=output_dir,\n",
        "                          output_prefix=output_prefix,\n",
        "                          split_id_dict=train_valid_id_split_dict)"
      ],
      "metadata": {
        "id": "2619aszwWgn-",
        "outputId": "2ae23d0f-46fd-4927-f71f-81b88fa55d27",
        "colab": {
          "base_uri": "https://localhost:8080/",
          "height": 333,
          "referenced_widgets": [
            "855cdbc1864d4c0bab17d0bfb5deb247",
            "8bf55a16e0e34f23ae07e497f83526a6",
            "c76b11f07b8d41feafc93df8a271d14e",
            "73b95b42e77a4744a5541a59765dbae6",
            "a480f90c4b86465b96589c29e946501f",
            "f71e6dbf8d714dae95243d59ba9179c0",
            "a978d99434cd4440a57f56e31d889c55",
            "61b36bee9dca4d0a990b984cc7c0155c",
            "11f6c98f43fc4be496c8775f09b7ecbc",
            "9b523080f0a146178446b9ca827d481e",
            "9548bfccb1be49e68351ade203ee5842"
          ]
        }
      },
      "execution_count": null,
      "outputs": [
        {
          "output_type": "display_data",
          "data": {
            "text/plain": [
              "  0%|          | 0/1 [00:00<?, ?it/s]"
            ],
            "application/vnd.jupyter.widget-view+json": {
              "version_major": 2,
              "version_minor": 0,
              "model_id": "855cdbc1864d4c0bab17d0bfb5deb247"
            }
          },
          "metadata": {}
        },
        {
          "output_type": "stream",
          "name": "stdout",
          "text": [
            "****** Validation split: 1/1 ******\n",
            "\n"
          ]
        },
        {
          "output_type": "stream",
          "name": "stderr",
          "text": [
            "/usr/local/lib/python3.11/dist-packages/datasets/table.py:1421: FutureWarning: promote has been superseded by promote_options='default'.\n",
            "  table = cls._concat_blocks(blocks, axis=0)\n",
            "/usr/local/lib/python3.11/dist-packages/datasets/table.py:1421: FutureWarning: promote has been superseded by promote_options='default'.\n",
            "  table = cls._concat_blocks(blocks, axis=0)\n",
            "Some weights of BertForSequenceClassification were not initialized from the model checkpoint at /content/drive/MyDrive/HODD/Geneformer/gf-12L-95M-i4096 and are newly initialized: ['bert.pooler.dense.bias', 'bert.pooler.dense.weight', 'classifier.bias', 'classifier.weight']\n",
            "You should probably TRAIN this model on a down-stream task to be able to use it for predictions and inference.\n",
            "/usr/local/lib/python3.11/dist-packages/transformers/training_args.py:1474: FutureWarning: `evaluation_strategy` is deprecated and will be removed in version 4.46 of 🤗 Transformers. Use `eval_strategy` instead\n",
            "  warnings.warn(\n",
            "Using the `WANDB_DISABLED` environment variable is deprecated and will be removed in v5. Use the --report_to flag to control the integrations used for logging result (for instance --report_to none).\n",
            "/content/drive/MyDrive/HODD/geneformer_modified/geneformer/collator_for_classification.py:644: UserWarning: To copy construct from a tensor, it is recommended to use sourceTensor.clone().detach() or sourceTensor.clone().detach().requires_grad_(True), rather than torch.tensor(sourceTensor).\n",
            "  batch = {k: torch.tensor(v, dtype=torch.int64) for k, v in batch.items()}\n"
          ]
        },
        {
          "output_type": "display_data",
          "data": {
            "text/plain": [
              "<IPython.core.display.HTML object>"
            ],
            "text/html": [
              "\n",
              "    <div>\n",
              "      \n",
              "      <progress value='52' max='3612' style='width:300px; height:20px; vertical-align: middle;'></progress>\n",
              "      [  52/3612 01:15 < 1:30:04, 0.66 it/s, Epoch 0.06/4]\n",
              "    </div>\n",
              "    <table border=\"1\" class=\"dataframe\">\n",
              "  <thead>\n",
              " <tr style=\"text-align: left;\">\n",
              "      <th>Epoch</th>\n",
              "      <th>Training Loss</th>\n",
              "      <th>Validation Loss</th>\n",
              "    </tr>\n",
              "  </thead>\n",
              "  <tbody>\n",
              "  </tbody>\n",
              "</table><p>"
            ]
          },
          "metadata": {}
        }
      ]
    },
    {
      "cell_type": "code",
      "source": [
        "all_metrics"
      ],
      "metadata": {
        "id": "IlfJ4Pr3zakV"
      },
      "execution_count": null,
      "outputs": []
    },
    {
      "cell_type": "markdown",
      "source": [
        "##Evaluate the model"
      ],
      "metadata": {
        "id": "K2F9xDTIdGBu"
      }
    },
    {
      "cell_type": "code",
      "source": [
        "#add ids to the test data\n",
        "\n",
        "#load the test data\n",
        "park_data_test_path = '/content/drive/MyDrive/HODD/Geneformer_parkinsons_files/dopamine_subset_test_tokenized.dataset/'\n",
        "park_data_test = load_from_disk(park_data_test_path)\n",
        "\n",
        "# Add an 'id' column that stores the original index\n",
        "park_data_test = park_data_test.add_column(\"id\", list(range(len(park_data_test))))\n",
        "\n",
        "# Explicit class ordering: 0 = Normal, 1 = Parkinson's,\n",
        "classes = [\"normal\",\"Parkinson_disease\"]\n",
        "\n",
        "# make the disease state column a classlabel\n",
        "park_data_test = park_data_test.cast_column(\"disease_state\", ClassLabel(names=classes))  #convert the disease state numeric column to a class label\n",
        "\n",
        "#rename the disease_state column as label\n",
        "\n",
        "park_data_test = park_data_test.rename_column(\"disease_state\", \"label\")\n",
        "\n",
        "# save it back to disk\n",
        "\n",
        "park_data_test_with_id_path = '/content/drive/MyDrive/HODD/Geneformer_parkinsons_files/dopamine_subset_test_labeled_tokenized.dataset/'\n",
        "\n",
        "park_data_test.save_to_disk(park_data_test_with_id_path)"
      ],
      "metadata": {
        "id": "d0KnomR0oglc"
      },
      "execution_count": null,
      "outputs": []
    },
    {
      "cell_type": "code",
      "source": [
        "#saved previous model locations due to gpu memory issues\n",
        "\n",
        "current_model = '/content/drive/MyDrive/HODD/models/geneformer_finetuned_v2/250608_geneformer_cellClassifier_park_classifier/ksplit1/'\n",
        "current_dict = '/content/drive/MyDrive/HODD/datasets/park_classifier_id_class_dict.pkl'\n",
        "test_data_file = park_data_test_with_id_path\n",
        "output_dir = '/content/drive/MyDrive/HODD/models/geneformer_finetuned_v2/'\n",
        "output_prefix = \"park_classifier\""
      ],
      "metadata": {
        "id": "N_8q0Wgm3FcP"
      },
      "execution_count": null,
      "outputs": []
    },
    {
      "cell_type": "code",
      "source": [
        "from geneformer import Classifier\n",
        "\n",
        "cc = Classifier(classifier=\"cell\",\n",
        "                cell_state_dict = {\"state_key\": \"disease_state\", \"states\": \"all\"},\n",
        "                forward_batch_size=36,\n",
        "                nproc=16)"
      ],
      "metadata": {
        "id": "o77t4HccdL7f"
      },
      "execution_count": null,
      "outputs": []
    },
    {
      "cell_type": "code",
      "source": [
        "all_metrics_test = cc.evaluate_saved_model(\n",
        "        model_directory=f\"{output_dir}/{datestamp_min}_geneformer_cellClassifier_{output_prefix}/ksplit1/\",\n",
        "        id_class_dict_file=current_dict,\n",
        "        test_data_file=test_data_file,\n",
        "        output_directory=output_dir,\n",
        "        output_prefix=output_prefix,\n",
        "    )"
      ],
      "metadata": {
        "id": "aTmIsLqZdL4n"
      },
      "execution_count": null,
      "outputs": []
    },
    {
      "cell_type": "code",
      "source": [
        "cc.plot_conf_mat(\n",
        "        conf_mat_dict={\"Geneformer\": all_metrics_test[\"conf_matrix\"]},\n",
        "        output_directory=output_dir,\n",
        "        output_prefix=output_prefix,\n",
        ")"
      ],
      "metadata": {
        "id": "ynFJdrCwdL2D"
      },
      "execution_count": null,
      "outputs": []
    },
    {
      "cell_type": "code",
      "source": [
        "cc.plot_predictions(\n",
        "    predictions_file=f\"{output_dir}/{output_prefix}_pred_dict.pkl\",\n",
        "    id_class_dict_file=current_dict,\n",
        "    title=\"disease\",\n",
        "    output_directory=output_dir,\n",
        "    output_prefix=output_prefix,\n",
        ")"
      ],
      "metadata": {
        "id": "X4QCMEqFdLza",
        "collapsed": true
      },
      "execution_count": null,
      "outputs": []
    },
    {
      "cell_type": "code",
      "source": [],
      "metadata": {
        "id": "amShEfNOHJQb"
      },
      "execution_count": 21,
      "outputs": []
    }
  ]
}