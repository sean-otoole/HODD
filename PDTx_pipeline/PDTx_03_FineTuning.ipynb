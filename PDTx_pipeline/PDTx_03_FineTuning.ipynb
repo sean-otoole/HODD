{
  "nbformat": 4,
  "nbformat_minor": 0,
  "metadata": {
    "colab": {
      "provenance": [],
      "machine_shape": "hm",
      "gpuType": "A100",
      "authorship_tag": "ABX9TyNsVOp7EtT/6HdSq0PTkPK5",
      "include_colab_link": true
    },
    "kernelspec": {
      "name": "python3",
      "display_name": "Python 3"
    },
    "language_info": {
      "name": "python"
    },
    "accelerator": "GPU",
    "widgets": {
      "application/vnd.jupyter.widget-state+json": {
        "478b236b89bb4cb8b718658b772bd826": {
          "model_module": "@jupyter-widgets/controls",
          "model_name": "HBoxModel",
          "model_module_version": "1.5.0",
          "state": {
            "_dom_classes": [],
            "_model_module": "@jupyter-widgets/controls",
            "_model_module_version": "1.5.0",
            "_model_name": "HBoxModel",
            "_view_count": null,
            "_view_module": "@jupyter-widgets/controls",
            "_view_module_version": "1.5.0",
            "_view_name": "HBoxView",
            "box_style": "",
            "children": [
              "IPY_MODEL_9d50720640164b5ca8790333990e5895",
              "IPY_MODEL_fab55b19152f48bea536889dc1996786",
              "IPY_MODEL_7fc049c6456a4dfdaabb1b2d040ab462"
            ],
            "layout": "IPY_MODEL_e1822c87b0c642a0b48e0e84954cdf23"
          }
        },
        "9d50720640164b5ca8790333990e5895": {
          "model_module": "@jupyter-widgets/controls",
          "model_name": "HTMLModel",
          "model_module_version": "1.5.0",
          "state": {
            "_dom_classes": [],
            "_model_module": "@jupyter-widgets/controls",
            "_model_module_version": "1.5.0",
            "_model_name": "HTMLModel",
            "_view_count": null,
            "_view_module": "@jupyter-widgets/controls",
            "_view_module_version": "1.5.0",
            "_view_name": "HTMLView",
            "description": "",
            "description_tooltip": null,
            "layout": "IPY_MODEL_4104a6dc793f41d183eec6a7c059a791",
            "placeholder": "​",
            "style": "IPY_MODEL_b6d5a4eb44f04f01ba529e69897b9f07",
            "value": "Casting the dataset: 100%"
          }
        },
        "fab55b19152f48bea536889dc1996786": {
          "model_module": "@jupyter-widgets/controls",
          "model_name": "FloatProgressModel",
          "model_module_version": "1.5.0",
          "state": {
            "_dom_classes": [],
            "_model_module": "@jupyter-widgets/controls",
            "_model_module_version": "1.5.0",
            "_model_name": "FloatProgressModel",
            "_view_count": null,
            "_view_module": "@jupyter-widgets/controls",
            "_view_module_version": "1.5.0",
            "_view_name": "ProgressView",
            "bar_style": "success",
            "description": "",
            "description_tooltip": null,
            "layout": "IPY_MODEL_ce2c863d0449418983dcd460540a39d4",
            "max": 13533,
            "min": 0,
            "orientation": "horizontal",
            "style": "IPY_MODEL_c17d15ab97f54ecaba8a0986fb8e460d",
            "value": 13533
          }
        },
        "7fc049c6456a4dfdaabb1b2d040ab462": {
          "model_module": "@jupyter-widgets/controls",
          "model_name": "HTMLModel",
          "model_module_version": "1.5.0",
          "state": {
            "_dom_classes": [],
            "_model_module": "@jupyter-widgets/controls",
            "_model_module_version": "1.5.0",
            "_model_name": "HTMLModel",
            "_view_count": null,
            "_view_module": "@jupyter-widgets/controls",
            "_view_module_version": "1.5.0",
            "_view_name": "HTMLView",
            "description": "",
            "description_tooltip": null,
            "layout": "IPY_MODEL_38a11ea7502a4e16b77fbcf71980b505",
            "placeholder": "​",
            "style": "IPY_MODEL_0a867a153a1743ebaed4826b0b13c254",
            "value": " 13533/13533 [00:00&lt;00:00, 68620.01 examples/s]"
          }
        },
        "e1822c87b0c642a0b48e0e84954cdf23": {
          "model_module": "@jupyter-widgets/base",
          "model_name": "LayoutModel",
          "model_module_version": "1.2.0",
          "state": {
            "_model_module": "@jupyter-widgets/base",
            "_model_module_version": "1.2.0",
            "_model_name": "LayoutModel",
            "_view_count": null,
            "_view_module": "@jupyter-widgets/base",
            "_view_module_version": "1.2.0",
            "_view_name": "LayoutView",
            "align_content": null,
            "align_items": null,
            "align_self": null,
            "border": null,
            "bottom": null,
            "display": null,
            "flex": null,
            "flex_flow": null,
            "grid_area": null,
            "grid_auto_columns": null,
            "grid_auto_flow": null,
            "grid_auto_rows": null,
            "grid_column": null,
            "grid_gap": null,
            "grid_row": null,
            "grid_template_areas": null,
            "grid_template_columns": null,
            "grid_template_rows": null,
            "height": null,
            "justify_content": null,
            "justify_items": null,
            "left": null,
            "margin": null,
            "max_height": null,
            "max_width": null,
            "min_height": null,
            "min_width": null,
            "object_fit": null,
            "object_position": null,
            "order": null,
            "overflow": null,
            "overflow_x": null,
            "overflow_y": null,
            "padding": null,
            "right": null,
            "top": null,
            "visibility": null,
            "width": null
          }
        },
        "4104a6dc793f41d183eec6a7c059a791": {
          "model_module": "@jupyter-widgets/base",
          "model_name": "LayoutModel",
          "model_module_version": "1.2.0",
          "state": {
            "_model_module": "@jupyter-widgets/base",
            "_model_module_version": "1.2.0",
            "_model_name": "LayoutModel",
            "_view_count": null,
            "_view_module": "@jupyter-widgets/base",
            "_view_module_version": "1.2.0",
            "_view_name": "LayoutView",
            "align_content": null,
            "align_items": null,
            "align_self": null,
            "border": null,
            "bottom": null,
            "display": null,
            "flex": null,
            "flex_flow": null,
            "grid_area": null,
            "grid_auto_columns": null,
            "grid_auto_flow": null,
            "grid_auto_rows": null,
            "grid_column": null,
            "grid_gap": null,
            "grid_row": null,
            "grid_template_areas": null,
            "grid_template_columns": null,
            "grid_template_rows": null,
            "height": null,
            "justify_content": null,
            "justify_items": null,
            "left": null,
            "margin": null,
            "max_height": null,
            "max_width": null,
            "min_height": null,
            "min_width": null,
            "object_fit": null,
            "object_position": null,
            "order": null,
            "overflow": null,
            "overflow_x": null,
            "overflow_y": null,
            "padding": null,
            "right": null,
            "top": null,
            "visibility": null,
            "width": null
          }
        },
        "b6d5a4eb44f04f01ba529e69897b9f07": {
          "model_module": "@jupyter-widgets/controls",
          "model_name": "DescriptionStyleModel",
          "model_module_version": "1.5.0",
          "state": {
            "_model_module": "@jupyter-widgets/controls",
            "_model_module_version": "1.5.0",
            "_model_name": "DescriptionStyleModel",
            "_view_count": null,
            "_view_module": "@jupyter-widgets/base",
            "_view_module_version": "1.2.0",
            "_view_name": "StyleView",
            "description_width": ""
          }
        },
        "ce2c863d0449418983dcd460540a39d4": {
          "model_module": "@jupyter-widgets/base",
          "model_name": "LayoutModel",
          "model_module_version": "1.2.0",
          "state": {
            "_model_module": "@jupyter-widgets/base",
            "_model_module_version": "1.2.0",
            "_model_name": "LayoutModel",
            "_view_count": null,
            "_view_module": "@jupyter-widgets/base",
            "_view_module_version": "1.2.0",
            "_view_name": "LayoutView",
            "align_content": null,
            "align_items": null,
            "align_self": null,
            "border": null,
            "bottom": null,
            "display": null,
            "flex": null,
            "flex_flow": null,
            "grid_area": null,
            "grid_auto_columns": null,
            "grid_auto_flow": null,
            "grid_auto_rows": null,
            "grid_column": null,
            "grid_gap": null,
            "grid_row": null,
            "grid_template_areas": null,
            "grid_template_columns": null,
            "grid_template_rows": null,
            "height": null,
            "justify_content": null,
            "justify_items": null,
            "left": null,
            "margin": null,
            "max_height": null,
            "max_width": null,
            "min_height": null,
            "min_width": null,
            "object_fit": null,
            "object_position": null,
            "order": null,
            "overflow": null,
            "overflow_x": null,
            "overflow_y": null,
            "padding": null,
            "right": null,
            "top": null,
            "visibility": null,
            "width": null
          }
        },
        "c17d15ab97f54ecaba8a0986fb8e460d": {
          "model_module": "@jupyter-widgets/controls",
          "model_name": "ProgressStyleModel",
          "model_module_version": "1.5.0",
          "state": {
            "_model_module": "@jupyter-widgets/controls",
            "_model_module_version": "1.5.0",
            "_model_name": "ProgressStyleModel",
            "_view_count": null,
            "_view_module": "@jupyter-widgets/base",
            "_view_module_version": "1.2.0",
            "_view_name": "StyleView",
            "bar_color": null,
            "description_width": ""
          }
        },
        "38a11ea7502a4e16b77fbcf71980b505": {
          "model_module": "@jupyter-widgets/base",
          "model_name": "LayoutModel",
          "model_module_version": "1.2.0",
          "state": {
            "_model_module": "@jupyter-widgets/base",
            "_model_module_version": "1.2.0",
            "_model_name": "LayoutModel",
            "_view_count": null,
            "_view_module": "@jupyter-widgets/base",
            "_view_module_version": "1.2.0",
            "_view_name": "LayoutView",
            "align_content": null,
            "align_items": null,
            "align_self": null,
            "border": null,
            "bottom": null,
            "display": null,
            "flex": null,
            "flex_flow": null,
            "grid_area": null,
            "grid_auto_columns": null,
            "grid_auto_flow": null,
            "grid_auto_rows": null,
            "grid_column": null,
            "grid_gap": null,
            "grid_row": null,
            "grid_template_areas": null,
            "grid_template_columns": null,
            "grid_template_rows": null,
            "height": null,
            "justify_content": null,
            "justify_items": null,
            "left": null,
            "margin": null,
            "max_height": null,
            "max_width": null,
            "min_height": null,
            "min_width": null,
            "object_fit": null,
            "object_position": null,
            "order": null,
            "overflow": null,
            "overflow_x": null,
            "overflow_y": null,
            "padding": null,
            "right": null,
            "top": null,
            "visibility": null,
            "width": null
          }
        },
        "0a867a153a1743ebaed4826b0b13c254": {
          "model_module": "@jupyter-widgets/controls",
          "model_name": "DescriptionStyleModel",
          "model_module_version": "1.5.0",
          "state": {
            "_model_module": "@jupyter-widgets/controls",
            "_model_module_version": "1.5.0",
            "_model_name": "DescriptionStyleModel",
            "_view_count": null,
            "_view_module": "@jupyter-widgets/base",
            "_view_module_version": "1.2.0",
            "_view_name": "StyleView",
            "description_width": ""
          }
        },
        "2f5012d89ec340e3803a2442733e1142": {
          "model_module": "@jupyter-widgets/controls",
          "model_name": "HBoxModel",
          "model_module_version": "1.5.0",
          "state": {
            "_dom_classes": [],
            "_model_module": "@jupyter-widgets/controls",
            "_model_module_version": "1.5.0",
            "_model_name": "HBoxModel",
            "_view_count": null,
            "_view_module": "@jupyter-widgets/controls",
            "_view_module_version": "1.5.0",
            "_view_name": "HBoxView",
            "box_style": "",
            "children": [
              "IPY_MODEL_727a00a06a1f42ed832799b384dfdf1d",
              "IPY_MODEL_4b437d9d850c46eabc05361d239eef65",
              "IPY_MODEL_c4c318530f75449b8f795e8350481fae"
            ],
            "layout": "IPY_MODEL_e3d0f1692f9a4da3be7f54ea77b7fdd9"
          }
        },
        "727a00a06a1f42ed832799b384dfdf1d": {
          "model_module": "@jupyter-widgets/controls",
          "model_name": "HTMLModel",
          "model_module_version": "1.5.0",
          "state": {
            "_dom_classes": [],
            "_model_module": "@jupyter-widgets/controls",
            "_model_module_version": "1.5.0",
            "_model_name": "HTMLModel",
            "_view_count": null,
            "_view_module": "@jupyter-widgets/controls",
            "_view_module_version": "1.5.0",
            "_view_name": "HTMLView",
            "description": "",
            "description_tooltip": null,
            "layout": "IPY_MODEL_e24036969ad14d599f6f22a1c5b52d47",
            "placeholder": "​",
            "style": "IPY_MODEL_d4ef68959d05487c9c8b2553d3b13fab",
            "value": "Saving the dataset (1/1 shards): 100%"
          }
        },
        "4b437d9d850c46eabc05361d239eef65": {
          "model_module": "@jupyter-widgets/controls",
          "model_name": "FloatProgressModel",
          "model_module_version": "1.5.0",
          "state": {
            "_dom_classes": [],
            "_model_module": "@jupyter-widgets/controls",
            "_model_module_version": "1.5.0",
            "_model_name": "FloatProgressModel",
            "_view_count": null,
            "_view_module": "@jupyter-widgets/controls",
            "_view_module_version": "1.5.0",
            "_view_name": "ProgressView",
            "bar_style": "success",
            "description": "",
            "description_tooltip": null,
            "layout": "IPY_MODEL_48acda52d2b24107a37c65e199575524",
            "max": 13533,
            "min": 0,
            "orientation": "horizontal",
            "style": "IPY_MODEL_d7cc428ac3b14001adff57440ad5cddc",
            "value": 13533
          }
        },
        "c4c318530f75449b8f795e8350481fae": {
          "model_module": "@jupyter-widgets/controls",
          "model_name": "HTMLModel",
          "model_module_version": "1.5.0",
          "state": {
            "_dom_classes": [],
            "_model_module": "@jupyter-widgets/controls",
            "_model_module_version": "1.5.0",
            "_model_name": "HTMLModel",
            "_view_count": null,
            "_view_module": "@jupyter-widgets/controls",
            "_view_module_version": "1.5.0",
            "_view_name": "HTMLView",
            "description": "",
            "description_tooltip": null,
            "layout": "IPY_MODEL_2d5074813ab44abb91df70a90ec468c3",
            "placeholder": "​",
            "style": "IPY_MODEL_b8a9b577aaaa4c6daf07c0251c7e3f2d",
            "value": " 13533/13533 [00:08&lt;00:00, 2982.96 examples/s]"
          }
        },
        "e3d0f1692f9a4da3be7f54ea77b7fdd9": {
          "model_module": "@jupyter-widgets/base",
          "model_name": "LayoutModel",
          "model_module_version": "1.2.0",
          "state": {
            "_model_module": "@jupyter-widgets/base",
            "_model_module_version": "1.2.0",
            "_model_name": "LayoutModel",
            "_view_count": null,
            "_view_module": "@jupyter-widgets/base",
            "_view_module_version": "1.2.0",
            "_view_name": "LayoutView",
            "align_content": null,
            "align_items": null,
            "align_self": null,
            "border": null,
            "bottom": null,
            "display": null,
            "flex": null,
            "flex_flow": null,
            "grid_area": null,
            "grid_auto_columns": null,
            "grid_auto_flow": null,
            "grid_auto_rows": null,
            "grid_column": null,
            "grid_gap": null,
            "grid_row": null,
            "grid_template_areas": null,
            "grid_template_columns": null,
            "grid_template_rows": null,
            "height": null,
            "justify_content": null,
            "justify_items": null,
            "left": null,
            "margin": null,
            "max_height": null,
            "max_width": null,
            "min_height": null,
            "min_width": null,
            "object_fit": null,
            "object_position": null,
            "order": null,
            "overflow": null,
            "overflow_x": null,
            "overflow_y": null,
            "padding": null,
            "right": null,
            "top": null,
            "visibility": null,
            "width": null
          }
        },
        "e24036969ad14d599f6f22a1c5b52d47": {
          "model_module": "@jupyter-widgets/base",
          "model_name": "LayoutModel",
          "model_module_version": "1.2.0",
          "state": {
            "_model_module": "@jupyter-widgets/base",
            "_model_module_version": "1.2.0",
            "_model_name": "LayoutModel",
            "_view_count": null,
            "_view_module": "@jupyter-widgets/base",
            "_view_module_version": "1.2.0",
            "_view_name": "LayoutView",
            "align_content": null,
            "align_items": null,
            "align_self": null,
            "border": null,
            "bottom": null,
            "display": null,
            "flex": null,
            "flex_flow": null,
            "grid_area": null,
            "grid_auto_columns": null,
            "grid_auto_flow": null,
            "grid_auto_rows": null,
            "grid_column": null,
            "grid_gap": null,
            "grid_row": null,
            "grid_template_areas": null,
            "grid_template_columns": null,
            "grid_template_rows": null,
            "height": null,
            "justify_content": null,
            "justify_items": null,
            "left": null,
            "margin": null,
            "max_height": null,
            "max_width": null,
            "min_height": null,
            "min_width": null,
            "object_fit": null,
            "object_position": null,
            "order": null,
            "overflow": null,
            "overflow_x": null,
            "overflow_y": null,
            "padding": null,
            "right": null,
            "top": null,
            "visibility": null,
            "width": null
          }
        },
        "d4ef68959d05487c9c8b2553d3b13fab": {
          "model_module": "@jupyter-widgets/controls",
          "model_name": "DescriptionStyleModel",
          "model_module_version": "1.5.0",
          "state": {
            "_model_module": "@jupyter-widgets/controls",
            "_model_module_version": "1.5.0",
            "_model_name": "DescriptionStyleModel",
            "_view_count": null,
            "_view_module": "@jupyter-widgets/base",
            "_view_module_version": "1.2.0",
            "_view_name": "StyleView",
            "description_width": ""
          }
        },
        "48acda52d2b24107a37c65e199575524": {
          "model_module": "@jupyter-widgets/base",
          "model_name": "LayoutModel",
          "model_module_version": "1.2.0",
          "state": {
            "_model_module": "@jupyter-widgets/base",
            "_model_module_version": "1.2.0",
            "_model_name": "LayoutModel",
            "_view_count": null,
            "_view_module": "@jupyter-widgets/base",
            "_view_module_version": "1.2.0",
            "_view_name": "LayoutView",
            "align_content": null,
            "align_items": null,
            "align_self": null,
            "border": null,
            "bottom": null,
            "display": null,
            "flex": null,
            "flex_flow": null,
            "grid_area": null,
            "grid_auto_columns": null,
            "grid_auto_flow": null,
            "grid_auto_rows": null,
            "grid_column": null,
            "grid_gap": null,
            "grid_row": null,
            "grid_template_areas": null,
            "grid_template_columns": null,
            "grid_template_rows": null,
            "height": null,
            "justify_content": null,
            "justify_items": null,
            "left": null,
            "margin": null,
            "max_height": null,
            "max_width": null,
            "min_height": null,
            "min_width": null,
            "object_fit": null,
            "object_position": null,
            "order": null,
            "overflow": null,
            "overflow_x": null,
            "overflow_y": null,
            "padding": null,
            "right": null,
            "top": null,
            "visibility": null,
            "width": null
          }
        },
        "d7cc428ac3b14001adff57440ad5cddc": {
          "model_module": "@jupyter-widgets/controls",
          "model_name": "ProgressStyleModel",
          "model_module_version": "1.5.0",
          "state": {
            "_model_module": "@jupyter-widgets/controls",
            "_model_module_version": "1.5.0",
            "_model_name": "ProgressStyleModel",
            "_view_count": null,
            "_view_module": "@jupyter-widgets/base",
            "_view_module_version": "1.2.0",
            "_view_name": "StyleView",
            "bar_color": null,
            "description_width": ""
          }
        },
        "2d5074813ab44abb91df70a90ec468c3": {
          "model_module": "@jupyter-widgets/base",
          "model_name": "LayoutModel",
          "model_module_version": "1.2.0",
          "state": {
            "_model_module": "@jupyter-widgets/base",
            "_model_module_version": "1.2.0",
            "_model_name": "LayoutModel",
            "_view_count": null,
            "_view_module": "@jupyter-widgets/base",
            "_view_module_version": "1.2.0",
            "_view_name": "LayoutView",
            "align_content": null,
            "align_items": null,
            "align_self": null,
            "border": null,
            "bottom": null,
            "display": null,
            "flex": null,
            "flex_flow": null,
            "grid_area": null,
            "grid_auto_columns": null,
            "grid_auto_flow": null,
            "grid_auto_rows": null,
            "grid_column": null,
            "grid_gap": null,
            "grid_row": null,
            "grid_template_areas": null,
            "grid_template_columns": null,
            "grid_template_rows": null,
            "height": null,
            "justify_content": null,
            "justify_items": null,
            "left": null,
            "margin": null,
            "max_height": null,
            "max_width": null,
            "min_height": null,
            "min_width": null,
            "object_fit": null,
            "object_position": null,
            "order": null,
            "overflow": null,
            "overflow_x": null,
            "overflow_y": null,
            "padding": null,
            "right": null,
            "top": null,
            "visibility": null,
            "width": null
          }
        },
        "b8a9b577aaaa4c6daf07c0251c7e3f2d": {
          "model_module": "@jupyter-widgets/controls",
          "model_name": "DescriptionStyleModel",
          "model_module_version": "1.5.0",
          "state": {
            "_model_module": "@jupyter-widgets/controls",
            "_model_module_version": "1.5.0",
            "_model_name": "DescriptionStyleModel",
            "_view_count": null,
            "_view_module": "@jupyter-widgets/base",
            "_view_module_version": "1.2.0",
            "_view_name": "StyleView",
            "description_width": ""
          }
        },
        "1d81e6453fc24110ab2f64e437b1b135": {
          "model_module": "@jupyter-widgets/controls",
          "model_name": "HBoxModel",
          "model_module_version": "1.5.0",
          "state": {
            "_dom_classes": [],
            "_model_module": "@jupyter-widgets/controls",
            "_model_module_version": "1.5.0",
            "_model_name": "HBoxModel",
            "_view_count": null,
            "_view_module": "@jupyter-widgets/controls",
            "_view_module_version": "1.5.0",
            "_view_name": "HBoxView",
            "box_style": "",
            "children": [
              "IPY_MODEL_27d55fd9cbf24aa2ba8806cf1622aa21",
              "IPY_MODEL_bd0a856bf511445282da3977ee91d272",
              "IPY_MODEL_6ce87fd4bdd9461b89abe218c7b6cfa1"
            ],
            "layout": "IPY_MODEL_aa587a3bd18e4462b6d8663068877007"
          }
        },
        "27d55fd9cbf24aa2ba8806cf1622aa21": {
          "model_module": "@jupyter-widgets/controls",
          "model_name": "HTMLModel",
          "model_module_version": "1.5.0",
          "state": {
            "_dom_classes": [],
            "_model_module": "@jupyter-widgets/controls",
            "_model_module_version": "1.5.0",
            "_model_name": "HTMLModel",
            "_view_count": null,
            "_view_module": "@jupyter-widgets/controls",
            "_view_module_version": "1.5.0",
            "_view_name": "HTMLView",
            "description": "",
            "description_tooltip": null,
            "layout": "IPY_MODEL_b9abceb1f97246fe86dabcdde7ac3c91",
            "placeholder": "​",
            "style": "IPY_MODEL_f86c4305d2354db2956a81142050077a",
            "value": "  0%"
          }
        },
        "bd0a856bf511445282da3977ee91d272": {
          "model_module": "@jupyter-widgets/controls",
          "model_name": "FloatProgressModel",
          "model_module_version": "1.5.0",
          "state": {
            "_dom_classes": [],
            "_model_module": "@jupyter-widgets/controls",
            "_model_module_version": "1.5.0",
            "_model_name": "FloatProgressModel",
            "_view_count": null,
            "_view_module": "@jupyter-widgets/controls",
            "_view_module_version": "1.5.0",
            "_view_name": "ProgressView",
            "bar_style": "",
            "description": "",
            "description_tooltip": null,
            "layout": "IPY_MODEL_932f5600bc4d460fa5b9f7670ff083eb",
            "max": 1,
            "min": 0,
            "orientation": "horizontal",
            "style": "IPY_MODEL_f895d861d00f4843af2d97932368e02a",
            "value": 0
          }
        },
        "6ce87fd4bdd9461b89abe218c7b6cfa1": {
          "model_module": "@jupyter-widgets/controls",
          "model_name": "HTMLModel",
          "model_module_version": "1.5.0",
          "state": {
            "_dom_classes": [],
            "_model_module": "@jupyter-widgets/controls",
            "_model_module_version": "1.5.0",
            "_model_name": "HTMLModel",
            "_view_count": null,
            "_view_module": "@jupyter-widgets/controls",
            "_view_module_version": "1.5.0",
            "_view_name": "HTMLView",
            "description": "",
            "description_tooltip": null,
            "layout": "IPY_MODEL_8a5a7ca9c4814fc2a27dac5c927a2884",
            "placeholder": "​",
            "style": "IPY_MODEL_00ddfc0e86c8432d9d304b7d76686721",
            "value": " 0/1 [00:00&lt;?, ?it/s]"
          }
        },
        "aa587a3bd18e4462b6d8663068877007": {
          "model_module": "@jupyter-widgets/base",
          "model_name": "LayoutModel",
          "model_module_version": "1.2.0",
          "state": {
            "_model_module": "@jupyter-widgets/base",
            "_model_module_version": "1.2.0",
            "_model_name": "LayoutModel",
            "_view_count": null,
            "_view_module": "@jupyter-widgets/base",
            "_view_module_version": "1.2.0",
            "_view_name": "LayoutView",
            "align_content": null,
            "align_items": null,
            "align_self": null,
            "border": null,
            "bottom": null,
            "display": null,
            "flex": null,
            "flex_flow": null,
            "grid_area": null,
            "grid_auto_columns": null,
            "grid_auto_flow": null,
            "grid_auto_rows": null,
            "grid_column": null,
            "grid_gap": null,
            "grid_row": null,
            "grid_template_areas": null,
            "grid_template_columns": null,
            "grid_template_rows": null,
            "height": null,
            "justify_content": null,
            "justify_items": null,
            "left": null,
            "margin": null,
            "max_height": null,
            "max_width": null,
            "min_height": null,
            "min_width": null,
            "object_fit": null,
            "object_position": null,
            "order": null,
            "overflow": null,
            "overflow_x": null,
            "overflow_y": null,
            "padding": null,
            "right": null,
            "top": null,
            "visibility": null,
            "width": null
          }
        },
        "b9abceb1f97246fe86dabcdde7ac3c91": {
          "model_module": "@jupyter-widgets/base",
          "model_name": "LayoutModel",
          "model_module_version": "1.2.0",
          "state": {
            "_model_module": "@jupyter-widgets/base",
            "_model_module_version": "1.2.0",
            "_model_name": "LayoutModel",
            "_view_count": null,
            "_view_module": "@jupyter-widgets/base",
            "_view_module_version": "1.2.0",
            "_view_name": "LayoutView",
            "align_content": null,
            "align_items": null,
            "align_self": null,
            "border": null,
            "bottom": null,
            "display": null,
            "flex": null,
            "flex_flow": null,
            "grid_area": null,
            "grid_auto_columns": null,
            "grid_auto_flow": null,
            "grid_auto_rows": null,
            "grid_column": null,
            "grid_gap": null,
            "grid_row": null,
            "grid_template_areas": null,
            "grid_template_columns": null,
            "grid_template_rows": null,
            "height": null,
            "justify_content": null,
            "justify_items": null,
            "left": null,
            "margin": null,
            "max_height": null,
            "max_width": null,
            "min_height": null,
            "min_width": null,
            "object_fit": null,
            "object_position": null,
            "order": null,
            "overflow": null,
            "overflow_x": null,
            "overflow_y": null,
            "padding": null,
            "right": null,
            "top": null,
            "visibility": null,
            "width": null
          }
        },
        "f86c4305d2354db2956a81142050077a": {
          "model_module": "@jupyter-widgets/controls",
          "model_name": "DescriptionStyleModel",
          "model_module_version": "1.5.0",
          "state": {
            "_model_module": "@jupyter-widgets/controls",
            "_model_module_version": "1.5.0",
            "_model_name": "DescriptionStyleModel",
            "_view_count": null,
            "_view_module": "@jupyter-widgets/base",
            "_view_module_version": "1.2.0",
            "_view_name": "StyleView",
            "description_width": ""
          }
        },
        "932f5600bc4d460fa5b9f7670ff083eb": {
          "model_module": "@jupyter-widgets/base",
          "model_name": "LayoutModel",
          "model_module_version": "1.2.0",
          "state": {
            "_model_module": "@jupyter-widgets/base",
            "_model_module_version": "1.2.0",
            "_model_name": "LayoutModel",
            "_view_count": null,
            "_view_module": "@jupyter-widgets/base",
            "_view_module_version": "1.2.0",
            "_view_name": "LayoutView",
            "align_content": null,
            "align_items": null,
            "align_self": null,
            "border": null,
            "bottom": null,
            "display": null,
            "flex": null,
            "flex_flow": null,
            "grid_area": null,
            "grid_auto_columns": null,
            "grid_auto_flow": null,
            "grid_auto_rows": null,
            "grid_column": null,
            "grid_gap": null,
            "grid_row": null,
            "grid_template_areas": null,
            "grid_template_columns": null,
            "grid_template_rows": null,
            "height": null,
            "justify_content": null,
            "justify_items": null,
            "left": null,
            "margin": null,
            "max_height": null,
            "max_width": null,
            "min_height": null,
            "min_width": null,
            "object_fit": null,
            "object_position": null,
            "order": null,
            "overflow": null,
            "overflow_x": null,
            "overflow_y": null,
            "padding": null,
            "right": null,
            "top": null,
            "visibility": null,
            "width": null
          }
        },
        "f895d861d00f4843af2d97932368e02a": {
          "model_module": "@jupyter-widgets/controls",
          "model_name": "ProgressStyleModel",
          "model_module_version": "1.5.0",
          "state": {
            "_model_module": "@jupyter-widgets/controls",
            "_model_module_version": "1.5.0",
            "_model_name": "ProgressStyleModel",
            "_view_count": null,
            "_view_module": "@jupyter-widgets/base",
            "_view_module_version": "1.2.0",
            "_view_name": "StyleView",
            "bar_color": null,
            "description_width": ""
          }
        },
        "8a5a7ca9c4814fc2a27dac5c927a2884": {
          "model_module": "@jupyter-widgets/base",
          "model_name": "LayoutModel",
          "model_module_version": "1.2.0",
          "state": {
            "_model_module": "@jupyter-widgets/base",
            "_model_module_version": "1.2.0",
            "_model_name": "LayoutModel",
            "_view_count": null,
            "_view_module": "@jupyter-widgets/base",
            "_view_module_version": "1.2.0",
            "_view_name": "LayoutView",
            "align_content": null,
            "align_items": null,
            "align_self": null,
            "border": null,
            "bottom": null,
            "display": null,
            "flex": null,
            "flex_flow": null,
            "grid_area": null,
            "grid_auto_columns": null,
            "grid_auto_flow": null,
            "grid_auto_rows": null,
            "grid_column": null,
            "grid_gap": null,
            "grid_row": null,
            "grid_template_areas": null,
            "grid_template_columns": null,
            "grid_template_rows": null,
            "height": null,
            "justify_content": null,
            "justify_items": null,
            "left": null,
            "margin": null,
            "max_height": null,
            "max_width": null,
            "min_height": null,
            "min_width": null,
            "object_fit": null,
            "object_position": null,
            "order": null,
            "overflow": null,
            "overflow_x": null,
            "overflow_y": null,
            "padding": null,
            "right": null,
            "top": null,
            "visibility": null,
            "width": null
          }
        },
        "00ddfc0e86c8432d9d304b7d76686721": {
          "model_module": "@jupyter-widgets/controls",
          "model_name": "DescriptionStyleModel",
          "model_module_version": "1.5.0",
          "state": {
            "_model_module": "@jupyter-widgets/controls",
            "_model_module_version": "1.5.0",
            "_model_name": "DescriptionStyleModel",
            "_view_count": null,
            "_view_module": "@jupyter-widgets/base",
            "_view_module_version": "1.2.0",
            "_view_name": "StyleView",
            "description_width": ""
          }
        }
      }
    }
  },
  "cells": [
    {
      "cell_type": "markdown",
      "metadata": {
        "id": "view-in-github",
        "colab_type": "text"
      },
      "source": [
        "<a href=\"https://colab.research.google.com/github/sean-otoole/HODD/blob/main/PDTx_pipeline/PDTx_03_FineTuning.ipynb\" target=\"_parent\"><img src=\"https://colab.research.google.com/assets/colab-badge.svg\" alt=\"Open In Colab\"/></a>"
      ]
    },
    {
      "cell_type": "code",
      "source": [
        "# downgrade numpy\n",
        "!pip uninstall numpy -y\n",
        "!pip install numpy==1.26.4\n",
        "\n",
        "# fixes a compatibility issue with the PrecollatorForGeneAndCellClassification class\n",
        "!pip install --upgrade transformers==4.41\n",
        "!pip install peft==0.10.0\n",
        "\n",
        "# Uninstall and reinstall scipy and scikit-learn to ensure compatibility with the specified numpy version\n",
        "!pip uninstall scipy -y\n",
        "!pip uninstall scikit-learn -y\n",
        "!pip install scipy\n",
        "!pip install scikit-learn\n",
        "!pip install wandb"
      ],
      "metadata": {
        "id": "6ptj23DKQbgg",
        "collapsed": true
      },
      "execution_count": null,
      "outputs": []
    },
    {
      "cell_type": "code",
      "source": [
        "!rm /content/drive/MyDrive/HODD/geneformer_modified/.git/hooks/post-checkout"
      ],
      "metadata": {
        "colab": {
          "base_uri": "https://localhost:8080/"
        },
        "id": "ECJkdzhZCbFR",
        "outputId": "055aff9e-5f41-4597-9cd1-cb93f9377d78"
      },
      "execution_count": 2,
      "outputs": [
        {
          "output_type": "stream",
          "name": "stdout",
          "text": [
            "rm: cannot remove '/content/drive/MyDrive/HODD/geneformer_modified/.git/hooks/post-checkout': No such file or directory\n"
          ]
        }
      ]
    },
    {
      "cell_type": "markdown",
      "source": [
        "Please note, it is necceesary to restart the session especially after the package downgrades for this code to work properly. So, simply restart after running the previous cell."
      ],
      "metadata": {
        "id": "27C1i-vqruid"
      }
    },
    {
      "cell_type": "code",
      "execution_count": null,
      "metadata": {
        "id": "44VJt_eTgFtC",
        "collapsed": true
      },
      "outputs": [],
      "source": [
        "# mount the drive\n",
        "\n",
        "from google.colab import drive\n",
        "import os\n",
        "\n",
        "# Mount Google Drive to access files\n",
        "drive.mount('/content/drive')\n",
        "\n",
        "# Change the working directory to the project folder in Google Drive\n",
        "os.chdir(\"/content/drive/MyDrive/HODD/\")\n",
        "\n",
        "## cloning the modified verison, to incorporate Weighted cross-entropy loss\n",
        "!git lfs install\n",
        "!git clone https://huggingface.co/sotoole/geneformer_modified\n",
        "%cd geneformer_modified\n",
        "\n",
        "# Install Geneformer modified locally\n",
        "!pip install .\n",
        "\n",
        "# Install required libraries without outputting installation logs\n",
        "!pip install anndata scanpy tdigest datasets\n",
        "\n",
        "# Import necessary modules and libraries\n",
        "import numpy\n",
        "import transformers\n",
        "import sklearn\n",
        "import pickle\n",
        "import sklearn\n",
        "\n",
        "print(numpy.__version__)"
      ]
    },
    {
      "cell_type": "code",
      "source": [
        "import pickle\n",
        "\n",
        "# bulding the mapping dictionary\n",
        "\n",
        "# Define class mapping: 0 = Parkinson's, 1 = Normal\n",
        "new_id_class_dict = {\n",
        "    0: \"normal\",\n",
        "    1: \"Parkinson_disease\",\n",
        "}\n",
        "\n",
        "# Overwrite the existing mapping file\n",
        "file_path = '/content/drive/MyDrive/HODD/datasets/park_classifier_id_class_dict.pkl'\n",
        "with open(file_path, 'wb') as f:\n",
        "    pickle.dump(new_id_class_dict, f)\n",
        "\n",
        "print(\"Mapping file saved.\")\n",
        "\n",
        "# Reload and print to confirm\n",
        "with open(file_path, 'rb') as f:\n",
        "    loaded_dict = pickle.load(f)\n",
        "\n",
        "print(\"Loaded class mapping:\")\n",
        "for k, v in loaded_dict.items():\n",
        "    print(f\"{k}: {v}\")"
      ],
      "metadata": {
        "id": "t2H0Na6V7y1r",
        "outputId": "da0741e1-b1e3-47fe-ffeb-f4cc85b1e799",
        "colab": {
          "base_uri": "https://localhost:8080/"
        }
      },
      "execution_count": 2,
      "outputs": [
        {
          "output_type": "stream",
          "name": "stdout",
          "text": [
            "Mapping file saved.\n",
            "Loaded class mapping:\n",
            "0: normal\n",
            "1: Parkinson_disease\n"
          ]
        }
      ]
    },
    {
      "cell_type": "code",
      "source": [
        "import datetime\n",
        "\n",
        "current_date = datetime.datetime.now()\n",
        "datestamp = f\"{str(current_date.year)[-2:]}{current_date.month:02d}{current_date.day:02d}{current_date.hour:02d}{current_date.minute:02d}{current_date.second:02d}\"\n",
        "datestamp_min = f\"{str(current_date.year)[-2:]}{current_date.month:02d}{current_date.day:02d}\"\n",
        "\n",
        "output_prefix = \"parkinsons\"\n",
        "output_dir = f\"/content/drive/MyDrive/HODD/models/{datestamp}\"\n",
        "\n",
        "!mkdir $output_dir\n",
        "\n",
        "print(output_dir)\n",
        "\n",
        "park_data_path = '/content/drive/MyDrive/HODD/Geneformer_parkinsons_files/dopamine_subset_train_tokenized.dataset/'\n",
        "geneformer_directory = '/content/drive/MyDrive/HODD/Geneformer/gf-12L-95M-i4096'"
      ],
      "metadata": {
        "colab": {
          "base_uri": "https://localhost:8080/"
        },
        "id": "AgHUST_lxK9a",
        "outputId": "c30e9764-9ae1-4f0d-d795-6796245659c9"
      },
      "execution_count": 3,
      "outputs": [
        {
          "output_type": "stream",
          "name": "stdout",
          "text": [
            "/content/drive/MyDrive/HODD/models/250608213215\n"
          ]
        }
      ]
    },
    {
      "cell_type": "markdown",
      "source": [
        "##Prepare the data"
      ],
      "metadata": {
        "id": "QOwurLE-rYDq"
      }
    },
    {
      "cell_type": "code",
      "source": [
        "from datasets import load_dataset, load_from_disk, ClassLabel, concatenate_datasets\n",
        "import numpy as np\n",
        "from collections import Counter\n",
        "from sklearn.utils.class_weight import compute_class_weight\n",
        "\n",
        "# Load the dataset\n",
        "park_data_path = '/content/drive/MyDrive/HODD/Geneformer_parkinsons_files/dopamine_subset_train_tokenized.dataset/'\n",
        "park_data = load_from_disk(park_data_path)\n",
        "\n",
        "# Add ID column for tracking\n",
        "park_data = park_data.add_column(\"id\", list(range(len(park_data))))\n",
        "\n",
        "# Define classes explicitly\n",
        "classes = [\"normal\", \"Parkinson_disease\"]\n",
        "\n",
        "# Convert label to ClassLabel type\n",
        "park_data = park_data.cast_column(\"disease_state\", ClassLabel(names=classes))\n",
        "park_data = park_data.rename_column(\"disease_state\", \"label\")  # must be named \"label\" for classifier\n",
        "\n",
        "# Split into train/eval\n",
        "split_data = park_data.train_test_split(test_size=0.2, seed=42, stratify_by_column=\"label\")\n",
        "train_data = split_data[\"train\"]\n",
        "eval_data = split_data[\"test\"]\n",
        "\n",
        "# Class distribution in original training data\n",
        "original_counts = Counter(train_data[\"label\"])\n",
        "print(\"Original class distribution:\", original_counts)\n",
        "\n",
        "# ===  COMPUTE CLASS WEIGHTS ===\n",
        "y_train = train_data[\"label\"]\n",
        "unique_labels = np.unique(y_train)\n",
        "weights = compute_class_weight(class_weight=\"balanced\", classes=unique_labels, y=y_train)\n",
        "class_weights_list = weights.tolist()\n",
        "print(\"Computed class weights:\", class_weights_list)\n",
        "\n",
        "# === NO DOWNSAMPLING — keep full training data ===\n",
        "\n",
        "# Prepare merged dataset for later validation\n",
        "park_data_with_id_path = '/content/drive/MyDrive/HODD/Geneformer_parkinsons_files/dopamine_subset_train_with_id_tokenized.dataset/'\n",
        "park_data = concatenate_datasets([train_data, eval_data])\n",
        "park_data.save_to_disk(park_data_with_id_path)\n",
        "\n",
        "print(len(park_data))\n",
        "print(len(train_data))\n",
        "print(len(eval_data))\n",
        "\n",
        "# Prepare ID dictionary\n",
        "train_ids = train_data[\"id\"]\n",
        "eval_ids = eval_data[\"id\"]\n",
        "\n",
        "train_valid_id_split_dict = {\n",
        "    \"attr_key\": \"id\",\n",
        "    \"train\": train_ids,\n",
        "    \"eval\": eval_ids\n",
        "}"
      ],
      "metadata": {
        "colab": {
          "base_uri": "https://localhost:8080/",
          "height": 272,
          "referenced_widgets": [
            "478b236b89bb4cb8b718658b772bd826",
            "9d50720640164b5ca8790333990e5895",
            "fab55b19152f48bea536889dc1996786",
            "7fc049c6456a4dfdaabb1b2d040ab462",
            "e1822c87b0c642a0b48e0e84954cdf23",
            "4104a6dc793f41d183eec6a7c059a791",
            "b6d5a4eb44f04f01ba529e69897b9f07",
            "ce2c863d0449418983dcd460540a39d4",
            "c17d15ab97f54ecaba8a0986fb8e460d",
            "38a11ea7502a4e16b77fbcf71980b505",
            "0a867a153a1743ebaed4826b0b13c254",
            "2f5012d89ec340e3803a2442733e1142",
            "727a00a06a1f42ed832799b384dfdf1d",
            "4b437d9d850c46eabc05361d239eef65",
            "c4c318530f75449b8f795e8350481fae",
            "e3d0f1692f9a4da3be7f54ea77b7fdd9",
            "e24036969ad14d599f6f22a1c5b52d47",
            "d4ef68959d05487c9c8b2553d3b13fab",
            "48acda52d2b24107a37c65e199575524",
            "d7cc428ac3b14001adff57440ad5cddc",
            "2d5074813ab44abb91df70a90ec468c3",
            "b8a9b577aaaa4c6daf07c0251c7e3f2d"
          ]
        },
        "id": "I_ystPjIrLqo",
        "outputId": "e4cd8056-4991-402b-ac58-1e803437a1aa"
      },
      "execution_count": 4,
      "outputs": [
        {
          "output_type": "stream",
          "name": "stderr",
          "text": [
            "/usr/local/lib/python3.11/dist-packages/datasets/table.py:1387: FutureWarning: promote has been superseded by promote_options='default'.\n",
            "  return cls._concat_blocks(pa_tables_to_concat_vertically, axis=0)\n"
          ]
        },
        {
          "output_type": "display_data",
          "data": {
            "text/plain": [
              "Casting the dataset:   0%|          | 0/13533 [00:00<?, ? examples/s]"
            ],
            "application/vnd.jupyter.widget-view+json": {
              "version_major": 2,
              "version_minor": 0,
              "model_id": "478b236b89bb4cb8b718658b772bd826"
            }
          },
          "metadata": {}
        },
        {
          "output_type": "stream",
          "name": "stdout",
          "text": [
            "Original class distribution: Counter({0: 9269, 1: 1557})\n",
            "Computed class weights: [0.5839896428956738, 3.4765574823378294]\n"
          ]
        },
        {
          "output_type": "stream",
          "name": "stderr",
          "text": [
            "/usr/local/lib/python3.11/dist-packages/datasets/table.py:1395: FutureWarning: promote has been superseded by promote_options='default'.\n",
            "  block_group = [InMemoryTable(cls._concat_blocks(list(block_group), axis=axis))]\n",
            "/usr/local/lib/python3.11/dist-packages/datasets/table.py:1421: FutureWarning: promote has been superseded by promote_options='default'.\n",
            "  table = cls._concat_blocks(blocks, axis=0)\n"
          ]
        },
        {
          "output_type": "display_data",
          "data": {
            "text/plain": [
              "Saving the dataset (0/1 shards):   0%|          | 0/13533 [00:00<?, ? examples/s]"
            ],
            "application/vnd.jupyter.widget-view+json": {
              "version_major": 2,
              "version_minor": 0,
              "model_id": "2f5012d89ec340e3803a2442733e1142"
            }
          },
          "metadata": {}
        },
        {
          "output_type": "stream",
          "name": "stdout",
          "text": [
            "13533\n",
            "10826\n",
            "2707\n"
          ]
        }
      ]
    },
    {
      "cell_type": "markdown",
      "source": [
        "##Fine-tune the model for cell state classification"
      ],
      "metadata": {
        "id": "6y4j1Eh7c_Cw"
      }
    },
    {
      "cell_type": "code",
      "source": [
        "from geneformer import Classifier\n",
        "from transformers import TrainingArguments\n",
        "\n",
        "training_args = {\n",
        "    \"num_train_epochs\": 4,\n",
        "    \"learning_rate\": 5e-5,\n",
        "    \"lr_scheduler_type\": \"polynomial\",\n",
        "    \"warmup_steps\": 500,\n",
        "    \"weight_decay\":0.01,\n",
        "    \"per_device_train_batch_size\": 12,\n",
        "    \"seed\": 73,\n",
        "    \"class_weights_list\":class_weights_list\n",
        "}\n",
        "\n",
        "cc = Classifier(\n",
        "    classifier=\"cell\",\n",
        "    cell_state_dict={\"state_key\": \"disease_state\", \"states\": \"all\"},\n",
        "    training_args=training_args,  # pass as dict, not object\n",
        "    max_ncells=None,\n",
        "    freeze_layers=2,\n",
        "    num_crossval_splits=1,\n",
        "    forward_batch_size=8,   #dropped from 32\n",
        "    nproc=16\n",
        ")\n",
        "\n",
        "# The print statement should now work as expected if the value was correctly passed\n",
        "print(cc.training_args[\"num_train_epochs\"])\n",
        "\n",
        "print(cc.training_args[\"class_weights_list\"])"
      ],
      "metadata": {
        "colab": {
          "base_uri": "https://localhost:8080/"
        },
        "id": "FnuIsFKTOJnp",
        "outputId": "3a75f8f1-4d30-4956-9509-9b3dc2fa00d5"
      },
      "execution_count": 5,
      "outputs": [
        {
          "output_type": "stream",
          "name": "stdout",
          "text": [
            "4\n",
            "[0.5839896428956738, 3.4765574823378294]\n"
          ]
        }
      ]
    },
    {
      "cell_type": "code",
      "source": [
        "import os\n",
        "import torch\n",
        "torch.cuda.empty_cache()\n",
        "\n",
        "os.environ[\"WANDB_DISABLED\"] = \"true\"\n",
        "\n",
        "# fine tune the model\n",
        "all_metrics = cc.validate(model_directory=geneformer_directory,\n",
        "                          prepared_input_data_file = park_data_with_id_path,\n",
        "                          id_class_dict_file= '/content/drive/MyDrive/HODD/datasets/park_classifier_id_class_dict.pkl',\n",
        "                          output_directory=output_dir,\n",
        "                          output_prefix=output_prefix,\n",
        "                          split_id_dict=train_valid_id_split_dict)"
      ],
      "metadata": {
        "id": "2619aszwWgn-",
        "outputId": "b3ddb7d7-37e7-4b68-b992-c0dc28614ce0",
        "colab": {
          "base_uri": "https://localhost:8080/",
          "height": 333,
          "referenced_widgets": [
            "1d81e6453fc24110ab2f64e437b1b135",
            "27d55fd9cbf24aa2ba8806cf1622aa21",
            "bd0a856bf511445282da3977ee91d272",
            "6ce87fd4bdd9461b89abe218c7b6cfa1",
            "aa587a3bd18e4462b6d8663068877007",
            "b9abceb1f97246fe86dabcdde7ac3c91",
            "f86c4305d2354db2956a81142050077a",
            "932f5600bc4d460fa5b9f7670ff083eb",
            "f895d861d00f4843af2d97932368e02a",
            "8a5a7ca9c4814fc2a27dac5c927a2884",
            "00ddfc0e86c8432d9d304b7d76686721"
          ]
        }
      },
      "execution_count": null,
      "outputs": [
        {
          "output_type": "display_data",
          "data": {
            "text/plain": [
              "  0%|          | 0/1 [00:00<?, ?it/s]"
            ],
            "application/vnd.jupyter.widget-view+json": {
              "version_major": 2,
              "version_minor": 0,
              "model_id": "1d81e6453fc24110ab2f64e437b1b135"
            }
          },
          "metadata": {}
        },
        {
          "output_type": "stream",
          "name": "stdout",
          "text": [
            "****** Validation split: 1/1 ******\n",
            "\n"
          ]
        },
        {
          "output_type": "stream",
          "name": "stderr",
          "text": [
            "/usr/local/lib/python3.11/dist-packages/datasets/table.py:1421: FutureWarning: promote has been superseded by promote_options='default'.\n",
            "  table = cls._concat_blocks(blocks, axis=0)\n",
            "/usr/local/lib/python3.11/dist-packages/datasets/table.py:1421: FutureWarning: promote has been superseded by promote_options='default'.\n",
            "  table = cls._concat_blocks(blocks, axis=0)\n",
            "Some weights of BertForSequenceClassification were not initialized from the model checkpoint at /content/drive/MyDrive/HODD/Geneformer/gf-12L-95M-i4096 and are newly initialized: ['bert.pooler.dense.bias', 'bert.pooler.dense.weight', 'classifier.bias', 'classifier.weight']\n",
            "You should probably TRAIN this model on a down-stream task to be able to use it for predictions and inference.\n",
            "/usr/local/lib/python3.11/dist-packages/transformers/training_args.py:1474: FutureWarning: `evaluation_strategy` is deprecated and will be removed in version 4.46 of 🤗 Transformers. Use `eval_strategy` instead\n",
            "  warnings.warn(\n",
            "Using the `WANDB_DISABLED` environment variable is deprecated and will be removed in v5. Use the --report_to flag to control the integrations used for logging result (for instance --report_to none).\n",
            "/content/drive/MyDrive/HODD/geneformer_modified/geneformer/collator_for_classification.py:644: UserWarning: To copy construct from a tensor, it is recommended to use sourceTensor.clone().detach() or sourceTensor.clone().detach().requires_grad_(True), rather than torch.tensor(sourceTensor).\n",
            "  batch = {k: torch.tensor(v, dtype=torch.int64) for k, v in batch.items()}\n"
          ]
        },
        {
          "output_type": "display_data",
          "data": {
            "text/plain": [
              "<IPython.core.display.HTML object>"
            ],
            "text/html": [
              "\n",
              "    <div>\n",
              "      \n",
              "      <progress value='333' max='3612' style='width:300px; height:20px; vertical-align: middle;'></progress>\n",
              "      [ 333/3612 08:17 < 1:22:11, 0.66 it/s, Epoch 0.37/4]\n",
              "    </div>\n",
              "    <table border=\"1\" class=\"dataframe\">\n",
              "  <thead>\n",
              " <tr style=\"text-align: left;\">\n",
              "      <th>Epoch</th>\n",
              "      <th>Training Loss</th>\n",
              "      <th>Validation Loss</th>\n",
              "    </tr>\n",
              "  </thead>\n",
              "  <tbody>\n",
              "  </tbody>\n",
              "</table><p>"
            ]
          },
          "metadata": {}
        }
      ]
    },
    {
      "cell_type": "code",
      "source": [
        "all_metrics"
      ],
      "metadata": {
        "id": "IlfJ4Pr3zakV"
      },
      "execution_count": null,
      "outputs": []
    },
    {
      "cell_type": "markdown",
      "source": [
        "##Evaluate the model"
      ],
      "metadata": {
        "id": "K2F9xDTIdGBu"
      }
    },
    {
      "cell_type": "code",
      "source": [
        "#add ids to the test data\n",
        "\n",
        "#load the test data\n",
        "park_data_test_path = '/content/drive/MyDrive/HODD/Geneformer_parkinsons_files/dopamine_subset_test_tokenized.dataset/'\n",
        "park_data_test = load_from_disk(park_data_test_path)\n",
        "\n",
        "# Add an 'id' column that stores the original index\n",
        "park_data_test = park_data_test.add_column(\"id\", list(range(len(park_data_test))))\n",
        "\n",
        "# Explicit class ordering: 0 = Normal, 1 = Parkinson's,\n",
        "classes = [\"normal\",\"Parkinson_disease\"]\n",
        "\n",
        "# make the disease state column a classlabel\n",
        "park_data_test = park_data_test.cast_column(\"disease_state\", ClassLabel(names=classes))  #convert the disease state numeric column to a class label\n",
        "\n",
        "#rename the disease_state column as label\n",
        "\n",
        "park_data_test = park_data_test.rename_column(\"disease_state\", \"label\")\n",
        "\n",
        "# save it back to disk\n",
        "\n",
        "park_data_test_with_id_path = '/content/drive/MyDrive/HODD/Geneformer_parkinsons_files/dopamine_subset_test_labeled_tokenized.dataset/'\n",
        "\n",
        "park_data_test.save_to_disk(park_data_test_with_id_path)"
      ],
      "metadata": {
        "id": "d0KnomR0oglc"
      },
      "execution_count": null,
      "outputs": []
    },
    {
      "cell_type": "code",
      "source": [
        "#saved previous model locations due to gpu memory issues\n",
        "\n",
        "current_model = '/content/drive/MyDrive/HODD/models/geneformer_finetuned_v2/250608_geneformer_cellClassifier_park_classifier/ksplit1/'\n",
        "current_dict = '/content/drive/MyDrive/HODD/datasets/park_classifier_id_class_dict.pkl'\n",
        "test_data_file = park_data_test_with_id_path\n",
        "output_dir = '/content/drive/MyDrive/HODD/models/geneformer_finetuned_v2/'\n",
        "output_prefix = \"park_classifier\""
      ],
      "metadata": {
        "id": "N_8q0Wgm3FcP"
      },
      "execution_count": null,
      "outputs": []
    },
    {
      "cell_type": "code",
      "source": [
        "from geneformer import Classifier\n",
        "\n",
        "cc = Classifier(classifier=\"cell\",\n",
        "                cell_state_dict = {\"state_key\": \"disease_state\", \"states\": \"all\"},\n",
        "                forward_batch_size=36,\n",
        "                nproc=16)"
      ],
      "metadata": {
        "id": "o77t4HccdL7f"
      },
      "execution_count": null,
      "outputs": []
    },
    {
      "cell_type": "code",
      "source": [
        "all_metrics_test = cc.evaluate_saved_model(\n",
        "        model_directory=f\"{output_dir}/{datestamp_min}_geneformer_cellClassifier_{output_prefix}/ksplit1/\",\n",
        "        id_class_dict_file=current_dict,\n",
        "        test_data_file=test_data_file,\n",
        "        output_directory=output_dir,\n",
        "        output_prefix=output_prefix,\n",
        "    )"
      ],
      "metadata": {
        "id": "aTmIsLqZdL4n"
      },
      "execution_count": null,
      "outputs": []
    },
    {
      "cell_type": "code",
      "source": [
        "cc.plot_conf_mat(\n",
        "        conf_mat_dict={\"Geneformer\": all_metrics_test[\"conf_matrix\"]},\n",
        "        output_directory=output_dir,\n",
        "        output_prefix=output_prefix,\n",
        ")"
      ],
      "metadata": {
        "id": "ynFJdrCwdL2D"
      },
      "execution_count": null,
      "outputs": []
    },
    {
      "cell_type": "code",
      "source": [
        "cc.plot_predictions(\n",
        "    predictions_file=f\"{output_dir}/{output_prefix}_pred_dict.pkl\",\n",
        "    id_class_dict_file=current_dict,\n",
        "    title=\"disease\",\n",
        "    output_directory=output_dir,\n",
        "    output_prefix=output_prefix,\n",
        ")"
      ],
      "metadata": {
        "id": "X4QCMEqFdLza",
        "collapsed": true
      },
      "execution_count": null,
      "outputs": []
    },
    {
      "cell_type": "code",
      "source": [],
      "metadata": {
        "id": "amShEfNOHJQb"
      },
      "execution_count": 21,
      "outputs": []
    }
  ]
}