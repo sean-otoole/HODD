{
  "nbformat": 4,
  "nbformat_minor": 0,
  "metadata": {
    "colab": {
      "provenance": [],
      "machine_shape": "hm",
      "authorship_tag": "ABX9TyOOR/ZZbySpvOoF3yl6m5Va",
      "include_colab_link": true
    },
    "kernelspec": {
      "name": "python3",
      "display_name": "Python 3"
    },
    "language_info": {
      "name": "python"
    }
  },
  "cells": [
    {
      "cell_type": "markdown",
      "metadata": {
        "id": "view-in-github",
        "colab_type": "text"
      },
      "source": [
        "<a href=\"https://colab.research.google.com/github/sean-otoole/HODD/blob/main/PDTx_pipeline/PDTx_03_FineTuning_DA.ipynb\" target=\"_parent\"><img src=\"https://colab.research.google.com/assets/colab-badge.svg\" alt=\"Open In Colab\"/></a>"
      ]
    },
    {
      "cell_type": "code",
      "execution_count": 1,
      "metadata": {
        "id": "44VJt_eTgFtC",
        "colab": {
          "base_uri": "https://localhost:8080/",
          "height": 1000
        },
        "outputId": "0f805a38-e77e-4f30-d5aa-722c12e011a9"
      },
      "outputs": [
        {
          "output_type": "stream",
          "name": "stdout",
          "text": [
            "Mounted at /content/drive\n",
            "Git LFS initialized.\n",
            "/content/drive/MyDrive/HODD/Geneformer\n",
            "Processing /content/drive/MyDrive/HODD/Geneformer\n",
            "  Preparing metadata (setup.py) ... \u001b[?25l\u001b[?25hdone\n",
            "Collecting anndata (from geneformer==0.1.0)\n",
            "  Downloading anndata-0.11.4-py3-none-any.whl.metadata (9.3 kB)\n",
            "Collecting datasets (from geneformer==0.1.0)\n",
            "  Downloading datasets-3.5.0-py3-none-any.whl.metadata (19 kB)\n",
            "Collecting loompy (from geneformer==0.1.0)\n",
            "  Downloading loompy-3.0.8.tar.gz (49 kB)\n",
            "\u001b[2K     \u001b[90m━━━━━━━━━━━━━━━━━━━━━━━━━━━━━━━━━━━━━━━━\u001b[0m \u001b[32m49.6/49.6 kB\u001b[0m \u001b[31m4.2 MB/s\u001b[0m eta \u001b[36m0:00:00\u001b[0m\n",
            "\u001b[?25h  Preparing metadata (setup.py) ... \u001b[?25l\u001b[?25hdone\n",
            "Requirement already satisfied: matplotlib in /usr/local/lib/python3.11/dist-packages (from geneformer==0.1.0) (3.10.0)\n",
            "Requirement already satisfied: numpy in /usr/local/lib/python3.11/dist-packages (from geneformer==0.1.0) (2.0.2)\n",
            "Collecting optuna (from geneformer==0.1.0)\n",
            "  Downloading optuna-4.2.1-py3-none-any.whl.metadata (17 kB)\n",
            "Collecting optuna-integration (from geneformer==0.1.0)\n",
            "  Downloading optuna_integration-4.2.1-py3-none-any.whl.metadata (12 kB)\n",
            "Requirement already satisfied: packaging in /usr/local/lib/python3.11/dist-packages (from geneformer==0.1.0) (24.2)\n",
            "Requirement already satisfied: pandas in /usr/local/lib/python3.11/dist-packages (from geneformer==0.1.0) (2.2.2)\n",
            "Requirement already satisfied: peft in /usr/local/lib/python3.11/dist-packages (from geneformer==0.1.0) (0.14.0)\n",
            "Requirement already satisfied: pyarrow in /usr/local/lib/python3.11/dist-packages (from geneformer==0.1.0) (18.1.0)\n",
            "Requirement already satisfied: pytz in /usr/local/lib/python3.11/dist-packages (from geneformer==0.1.0) (2025.2)\n",
            "Collecting ray (from geneformer==0.1.0)\n",
            "  Downloading ray-2.44.1-cp311-cp311-manylinux2014_x86_64.whl.metadata (19 kB)\n",
            "Collecting scanpy (from geneformer==0.1.0)\n",
            "  Downloading scanpy-1.11.1-py3-none-any.whl.metadata (9.9 kB)\n",
            "Requirement already satisfied: scikit-learn in /usr/local/lib/python3.11/dist-packages (from geneformer==0.1.0) (1.6.1)\n",
            "Requirement already satisfied: scipy in /usr/local/lib/python3.11/dist-packages (from geneformer==0.1.0) (1.14.1)\n",
            "Requirement already satisfied: seaborn in /usr/local/lib/python3.11/dist-packages (from geneformer==0.1.0) (0.13.2)\n",
            "Requirement already satisfied: setuptools in /usr/local/lib/python3.11/dist-packages (from geneformer==0.1.0) (75.2.0)\n",
            "Requirement already satisfied: statsmodels in /usr/local/lib/python3.11/dist-packages (from geneformer==0.1.0) (0.14.4)\n",
            "Collecting tdigest (from geneformer==0.1.0)\n",
            "  Downloading tdigest-0.5.2.2-py3-none-any.whl.metadata (4.9 kB)\n",
            "Requirement already satisfied: tensorboard in /usr/local/lib/python3.11/dist-packages (from geneformer==0.1.0) (2.18.0)\n",
            "Requirement already satisfied: torch in /usr/local/lib/python3.11/dist-packages (from geneformer==0.1.0) (2.6.0+cu124)\n",
            "Requirement already satisfied: tqdm in /usr/local/lib/python3.11/dist-packages (from geneformer==0.1.0) (4.67.1)\n",
            "Requirement already satisfied: transformers in /usr/local/lib/python3.11/dist-packages (from geneformer==0.1.0) (4.50.3)\n",
            "Collecting array-api-compat!=1.5,>1.4 (from anndata->geneformer==0.1.0)\n",
            "  Downloading array_api_compat-1.11.2-py3-none-any.whl.metadata (1.9 kB)\n",
            "Requirement already satisfied: h5py>=3.7 in /usr/local/lib/python3.11/dist-packages (from anndata->geneformer==0.1.0) (3.13.0)\n",
            "Requirement already satisfied: natsort in /usr/local/lib/python3.11/dist-packages (from anndata->geneformer==0.1.0) (8.4.0)\n",
            "Requirement already satisfied: python-dateutil>=2.8.2 in /usr/local/lib/python3.11/dist-packages (from pandas->geneformer==0.1.0) (2.8.2)\n",
            "Requirement already satisfied: tzdata>=2022.7 in /usr/local/lib/python3.11/dist-packages (from pandas->geneformer==0.1.0) (2025.2)\n",
            "Requirement already satisfied: filelock in /usr/local/lib/python3.11/dist-packages (from datasets->geneformer==0.1.0) (3.18.0)\n",
            "Collecting dill<0.3.9,>=0.3.0 (from datasets->geneformer==0.1.0)\n",
            "  Downloading dill-0.3.8-py3-none-any.whl.metadata (10 kB)\n",
            "Requirement already satisfied: requests>=2.32.2 in /usr/local/lib/python3.11/dist-packages (from datasets->geneformer==0.1.0) (2.32.3)\n",
            "Collecting xxhash (from datasets->geneformer==0.1.0)\n",
            "  Downloading xxhash-3.5.0-cp311-cp311-manylinux_2_17_x86_64.manylinux2014_x86_64.whl.metadata (12 kB)\n",
            "Collecting multiprocess<0.70.17 (from datasets->geneformer==0.1.0)\n",
            "  Downloading multiprocess-0.70.16-py311-none-any.whl.metadata (7.2 kB)\n",
            "Collecting fsspec<=2024.12.0,>=2023.1.0 (from fsspec[http]<=2024.12.0,>=2023.1.0->datasets->geneformer==0.1.0)\n",
            "  Downloading fsspec-2024.12.0-py3-none-any.whl.metadata (11 kB)\n",
            "Requirement already satisfied: aiohttp in /usr/local/lib/python3.11/dist-packages (from datasets->geneformer==0.1.0) (3.11.15)\n",
            "Requirement already satisfied: huggingface-hub>=0.24.0 in /usr/local/lib/python3.11/dist-packages (from datasets->geneformer==0.1.0) (0.30.1)\n",
            "Requirement already satisfied: pyyaml>=5.1 in /usr/local/lib/python3.11/dist-packages (from datasets->geneformer==0.1.0) (6.0.2)\n",
            "Requirement already satisfied: numba in /usr/local/lib/python3.11/dist-packages (from loompy->geneformer==0.1.0) (0.60.0)\n",
            "Requirement already satisfied: click in /usr/local/lib/python3.11/dist-packages (from loompy->geneformer==0.1.0) (8.1.8)\n",
            "Collecting numpy-groupies (from loompy->geneformer==0.1.0)\n",
            "  Downloading numpy_groupies-0.11.2-py3-none-any.whl.metadata (18 kB)\n",
            "Requirement already satisfied: contourpy>=1.0.1 in /usr/local/lib/python3.11/dist-packages (from matplotlib->geneformer==0.1.0) (1.3.1)\n",
            "Requirement already satisfied: cycler>=0.10 in /usr/local/lib/python3.11/dist-packages (from matplotlib->geneformer==0.1.0) (0.12.1)\n",
            "Requirement already satisfied: fonttools>=4.22.0 in /usr/local/lib/python3.11/dist-packages (from matplotlib->geneformer==0.1.0) (4.57.0)\n",
            "Requirement already satisfied: kiwisolver>=1.3.1 in /usr/local/lib/python3.11/dist-packages (from matplotlib->geneformer==0.1.0) (1.4.8)\n",
            "Requirement already satisfied: pillow>=8 in /usr/local/lib/python3.11/dist-packages (from matplotlib->geneformer==0.1.0) (11.1.0)\n",
            "Requirement already satisfied: pyparsing>=2.3.1 in /usr/local/lib/python3.11/dist-packages (from matplotlib->geneformer==0.1.0) (3.2.3)\n",
            "Collecting alembic>=1.5.0 (from optuna->geneformer==0.1.0)\n",
            "  Downloading alembic-1.15.2-py3-none-any.whl.metadata (7.3 kB)\n",
            "Collecting colorlog (from optuna->geneformer==0.1.0)\n",
            "  Downloading colorlog-6.9.0-py3-none-any.whl.metadata (10 kB)\n",
            "Requirement already satisfied: sqlalchemy>=1.4.2 in /usr/local/lib/python3.11/dist-packages (from optuna->geneformer==0.1.0) (2.0.40)\n",
            "Requirement already satisfied: psutil in /usr/local/lib/python3.11/dist-packages (from peft->geneformer==0.1.0) (5.9.5)\n",
            "Requirement already satisfied: accelerate>=0.21.0 in /usr/local/lib/python3.11/dist-packages (from peft->geneformer==0.1.0) (1.5.2)\n",
            "Requirement already satisfied: safetensors in /usr/local/lib/python3.11/dist-packages (from peft->geneformer==0.1.0) (0.5.3)\n",
            "Requirement already satisfied: typing-extensions>=4.10.0 in /usr/local/lib/python3.11/dist-packages (from torch->geneformer==0.1.0) (4.13.1)\n",
            "Requirement already satisfied: networkx in /usr/local/lib/python3.11/dist-packages (from torch->geneformer==0.1.0) (3.4.2)\n",
            "Requirement already satisfied: jinja2 in /usr/local/lib/python3.11/dist-packages (from torch->geneformer==0.1.0) (3.1.6)\n",
            "Collecting nvidia-cuda-nvrtc-cu12==12.4.127 (from torch->geneformer==0.1.0)\n",
            "  Downloading nvidia_cuda_nvrtc_cu12-12.4.127-py3-none-manylinux2014_x86_64.whl.metadata (1.5 kB)\n",
            "Collecting nvidia-cuda-runtime-cu12==12.4.127 (from torch->geneformer==0.1.0)\n",
            "  Downloading nvidia_cuda_runtime_cu12-12.4.127-py3-none-manylinux2014_x86_64.whl.metadata (1.5 kB)\n",
            "Collecting nvidia-cuda-cupti-cu12==12.4.127 (from torch->geneformer==0.1.0)\n",
            "  Downloading nvidia_cuda_cupti_cu12-12.4.127-py3-none-manylinux2014_x86_64.whl.metadata (1.6 kB)\n",
            "Collecting nvidia-cudnn-cu12==9.1.0.70 (from torch->geneformer==0.1.0)\n",
            "  Downloading nvidia_cudnn_cu12-9.1.0.70-py3-none-manylinux2014_x86_64.whl.metadata (1.6 kB)\n",
            "Collecting nvidia-cublas-cu12==12.4.5.8 (from torch->geneformer==0.1.0)\n",
            "  Downloading nvidia_cublas_cu12-12.4.5.8-py3-none-manylinux2014_x86_64.whl.metadata (1.5 kB)\n",
            "Collecting nvidia-cufft-cu12==11.2.1.3 (from torch->geneformer==0.1.0)\n",
            "  Downloading nvidia_cufft_cu12-11.2.1.3-py3-none-manylinux2014_x86_64.whl.metadata (1.5 kB)\n",
            "Collecting nvidia-curand-cu12==10.3.5.147 (from torch->geneformer==0.1.0)\n",
            "  Downloading nvidia_curand_cu12-10.3.5.147-py3-none-manylinux2014_x86_64.whl.metadata (1.5 kB)\n",
            "Collecting nvidia-cusolver-cu12==11.6.1.9 (from torch->geneformer==0.1.0)\n",
            "  Downloading nvidia_cusolver_cu12-11.6.1.9-py3-none-manylinux2014_x86_64.whl.metadata (1.6 kB)\n",
            "Collecting nvidia-cusparse-cu12==12.3.1.170 (from torch->geneformer==0.1.0)\n",
            "  Downloading nvidia_cusparse_cu12-12.3.1.170-py3-none-manylinux2014_x86_64.whl.metadata (1.6 kB)\n",
            "Requirement already satisfied: nvidia-cusparselt-cu12==0.6.2 in /usr/local/lib/python3.11/dist-packages (from torch->geneformer==0.1.0) (0.6.2)\n",
            "Requirement already satisfied: nvidia-nccl-cu12==2.21.5 in /usr/local/lib/python3.11/dist-packages (from torch->geneformer==0.1.0) (2.21.5)\n",
            "Requirement already satisfied: nvidia-nvtx-cu12==12.4.127 in /usr/local/lib/python3.11/dist-packages (from torch->geneformer==0.1.0) (12.4.127)\n",
            "Collecting nvidia-nvjitlink-cu12==12.4.127 (from torch->geneformer==0.1.0)\n",
            "  Downloading nvidia_nvjitlink_cu12-12.4.127-py3-none-manylinux2014_x86_64.whl.metadata (1.5 kB)\n",
            "Requirement already satisfied: triton==3.2.0 in /usr/local/lib/python3.11/dist-packages (from torch->geneformer==0.1.0) (3.2.0)\n",
            "Requirement already satisfied: sympy==1.13.1 in /usr/local/lib/python3.11/dist-packages (from torch->geneformer==0.1.0) (1.13.1)\n",
            "Requirement already satisfied: mpmath<1.4,>=1.1.0 in /usr/local/lib/python3.11/dist-packages (from sympy==1.13.1->torch->geneformer==0.1.0) (1.3.0)\n",
            "Requirement already satisfied: jsonschema in /usr/local/lib/python3.11/dist-packages (from ray->geneformer==0.1.0) (4.23.0)\n",
            "Requirement already satisfied: msgpack<2.0.0,>=1.0.0 in /usr/local/lib/python3.11/dist-packages (from ray->geneformer==0.1.0) (1.1.0)\n",
            "Requirement already satisfied: protobuf!=3.19.5,>=3.15.3 in /usr/local/lib/python3.11/dist-packages (from ray->geneformer==0.1.0) (5.29.4)\n",
            "Requirement already satisfied: aiosignal in /usr/local/lib/python3.11/dist-packages (from ray->geneformer==0.1.0) (1.3.2)\n",
            "Requirement already satisfied: frozenlist in /usr/local/lib/python3.11/dist-packages (from ray->geneformer==0.1.0) (1.5.0)\n",
            "Requirement already satisfied: joblib in /usr/local/lib/python3.11/dist-packages (from scanpy->geneformer==0.1.0) (1.4.2)\n",
            "Collecting legacy-api-wrap>=1.4 (from scanpy->geneformer==0.1.0)\n",
            "  Downloading legacy_api_wrap-1.4.1-py3-none-any.whl.metadata (2.1 kB)\n",
            "Requirement already satisfied: patsy!=1.0.0 in /usr/local/lib/python3.11/dist-packages (from scanpy->geneformer==0.1.0) (1.0.1)\n",
            "Requirement already satisfied: pynndescent>=0.5 in /usr/local/lib/python3.11/dist-packages (from scanpy->geneformer==0.1.0) (0.5.13)\n",
            "Collecting scikit-learn (from geneformer==0.1.0)\n",
            "  Downloading scikit_learn-1.5.2-cp311-cp311-manylinux_2_17_x86_64.manylinux2014_x86_64.whl.metadata (13 kB)\n",
            "Collecting session-info2 (from scanpy->geneformer==0.1.0)\n",
            "  Downloading session_info2-0.1.2-py3-none-any.whl.metadata (2.5 kB)\n",
            "Requirement already satisfied: umap-learn!=0.5.0,>=0.5 in /usr/local/lib/python3.11/dist-packages (from scanpy->geneformer==0.1.0) (0.5.7)\n",
            "Requirement already satisfied: threadpoolctl>=3.1.0 in /usr/local/lib/python3.11/dist-packages (from scikit-learn->geneformer==0.1.0) (3.6.0)\n",
            "Collecting accumulation-tree (from tdigest->geneformer==0.1.0)\n",
            "  Downloading accumulation_tree-0.6.4.tar.gz (12 kB)\n",
            "  Installing build dependencies ... \u001b[?25l\u001b[?25hdone\n",
            "  Getting requirements to build wheel ... \u001b[?25l\u001b[?25hdone\n",
            "  Preparing metadata (pyproject.toml) ... \u001b[?25l\u001b[?25hdone\n",
            "Collecting pyudorandom (from tdigest->geneformer==0.1.0)\n",
            "  Downloading pyudorandom-1.0.0.tar.gz (1.6 kB)\n",
            "  Preparing metadata (setup.py) ... \u001b[?25l\u001b[?25hdone\n",
            "Requirement already satisfied: absl-py>=0.4 in /usr/local/lib/python3.11/dist-packages (from tensorboard->geneformer==0.1.0) (1.4.0)\n",
            "Requirement already satisfied: grpcio>=1.48.2 in /usr/local/lib/python3.11/dist-packages (from tensorboard->geneformer==0.1.0) (1.71.0)\n",
            "Requirement already satisfied: markdown>=2.6.8 in /usr/local/lib/python3.11/dist-packages (from tensorboard->geneformer==0.1.0) (3.7)\n",
            "Requirement already satisfied: six>1.9 in /usr/local/lib/python3.11/dist-packages (from tensorboard->geneformer==0.1.0) (1.17.0)\n",
            "Requirement already satisfied: tensorboard-data-server<0.8.0,>=0.7.0 in /usr/local/lib/python3.11/dist-packages (from tensorboard->geneformer==0.1.0) (0.7.2)\n",
            "Requirement already satisfied: werkzeug>=1.0.1 in /usr/local/lib/python3.11/dist-packages (from tensorboard->geneformer==0.1.0) (3.1.3)\n",
            "Requirement already satisfied: regex!=2019.12.17 in /usr/local/lib/python3.11/dist-packages (from transformers->geneformer==0.1.0) (2024.11.6)\n",
            "Requirement already satisfied: tokenizers<0.22,>=0.21 in /usr/local/lib/python3.11/dist-packages (from transformers->geneformer==0.1.0) (0.21.1)\n",
            "Requirement already satisfied: Mako in /usr/lib/python3/dist-packages (from alembic>=1.5.0->optuna->geneformer==0.1.0) (1.1.3)\n",
            "Requirement already satisfied: aiohappyeyeballs>=2.3.0 in /usr/local/lib/python3.11/dist-packages (from aiohttp->datasets->geneformer==0.1.0) (2.6.1)\n",
            "Requirement already satisfied: attrs>=17.3.0 in /usr/local/lib/python3.11/dist-packages (from aiohttp->datasets->geneformer==0.1.0) (25.3.0)\n",
            "Requirement already satisfied: multidict<7.0,>=4.5 in /usr/local/lib/python3.11/dist-packages (from aiohttp->datasets->geneformer==0.1.0) (6.2.0)\n",
            "Requirement already satisfied: propcache>=0.2.0 in /usr/local/lib/python3.11/dist-packages (from aiohttp->datasets->geneformer==0.1.0) (0.3.1)\n",
            "Requirement already satisfied: yarl<2.0,>=1.17.0 in /usr/local/lib/python3.11/dist-packages (from aiohttp->datasets->geneformer==0.1.0) (1.18.3)\n",
            "Requirement already satisfied: llvmlite<0.44,>=0.43.0dev0 in /usr/local/lib/python3.11/dist-packages (from numba->loompy->geneformer==0.1.0) (0.43.0)\n",
            "Requirement already satisfied: charset-normalizer<4,>=2 in /usr/local/lib/python3.11/dist-packages (from requests>=2.32.2->datasets->geneformer==0.1.0) (3.4.1)\n",
            "Requirement already satisfied: idna<4,>=2.5 in /usr/local/lib/python3.11/dist-packages (from requests>=2.32.2->datasets->geneformer==0.1.0) (3.10)\n",
            "Requirement already satisfied: urllib3<3,>=1.21.1 in /usr/local/lib/python3.11/dist-packages (from requests>=2.32.2->datasets->geneformer==0.1.0) (2.3.0)\n",
            "Requirement already satisfied: certifi>=2017.4.17 in /usr/local/lib/python3.11/dist-packages (from requests>=2.32.2->datasets->geneformer==0.1.0) (2025.1.31)\n",
            "Requirement already satisfied: greenlet>=1 in /usr/local/lib/python3.11/dist-packages (from sqlalchemy>=1.4.2->optuna->geneformer==0.1.0) (3.1.1)\n",
            "Requirement already satisfied: MarkupSafe>=2.1.1 in /usr/local/lib/python3.11/dist-packages (from werkzeug>=1.0.1->tensorboard->geneformer==0.1.0) (3.0.2)\n",
            "Requirement already satisfied: jsonschema-specifications>=2023.03.6 in /usr/local/lib/python3.11/dist-packages (from jsonschema->ray->geneformer==0.1.0) (2024.10.1)\n",
            "Requirement already satisfied: referencing>=0.28.4 in /usr/local/lib/python3.11/dist-packages (from jsonschema->ray->geneformer==0.1.0) (0.36.2)\n",
            "Requirement already satisfied: rpds-py>=0.7.1 in /usr/local/lib/python3.11/dist-packages (from jsonschema->ray->geneformer==0.1.0) (0.24.0)\n",
            "Downloading anndata-0.11.4-py3-none-any.whl (144 kB)\n",
            "\u001b[2K   \u001b[90m━━━━━━━━━━━━━━━━━━━━━━━━━━━━━━━━━━━━━━━━\u001b[0m \u001b[32m144.5/144.5 kB\u001b[0m \u001b[31m9.7 MB/s\u001b[0m eta \u001b[36m0:00:00\u001b[0m\n",
            "\u001b[?25hDownloading datasets-3.5.0-py3-none-any.whl (491 kB)\n",
            "\u001b[2K   \u001b[90m━━━━━━━━━━━━━━━━━━━━━━━━━━━━━━━━━━━━━━━━\u001b[0m \u001b[32m491.2/491.2 kB\u001b[0m \u001b[31m30.1 MB/s\u001b[0m eta \u001b[36m0:00:00\u001b[0m\n",
            "\u001b[?25hDownloading optuna-4.2.1-py3-none-any.whl (383 kB)\n",
            "\u001b[2K   \u001b[90m━━━━━━━━━━━━━━━━━━━━━━━━━━━━━━━━━━━━━━━━\u001b[0m \u001b[32m383.6/383.6 kB\u001b[0m \u001b[31m25.8 MB/s\u001b[0m eta \u001b[36m0:00:00\u001b[0m\n",
            "\u001b[?25hDownloading optuna_integration-4.2.1-py3-none-any.whl (97 kB)\n",
            "\u001b[2K   \u001b[90m━━━━━━━━━━━━━━━━━━━━━━━━━━━━━━━━━━━━━━━━\u001b[0m \u001b[32m97.6/97.6 kB\u001b[0m \u001b[31m8.1 MB/s\u001b[0m eta \u001b[36m0:00:00\u001b[0m\n",
            "\u001b[?25hDownloading nvidia_cublas_cu12-12.4.5.8-py3-none-manylinux2014_x86_64.whl (363.4 MB)\n",
            "\u001b[2K   \u001b[90m━━━━━━━━━━━━━━━━━━━━━━━━━━━━━━━━━━━━━━━━\u001b[0m \u001b[32m363.4/363.4 MB\u001b[0m \u001b[31m2.7 MB/s\u001b[0m eta \u001b[36m0:00:00\u001b[0m\n",
            "\u001b[?25hDownloading nvidia_cuda_cupti_cu12-12.4.127-py3-none-manylinux2014_x86_64.whl (13.8 MB)\n",
            "\u001b[2K   \u001b[90m━━━━━━━━━━━━━━━━━━━━━━━━━━━━━━━━━━━━━━━━\u001b[0m \u001b[32m13.8/13.8 MB\u001b[0m \u001b[31m96.8 MB/s\u001b[0m eta \u001b[36m0:00:00\u001b[0m\n",
            "\u001b[?25hDownloading nvidia_cuda_nvrtc_cu12-12.4.127-py3-none-manylinux2014_x86_64.whl (24.6 MB)\n",
            "\u001b[2K   \u001b[90m━━━━━━━━━━━━━━━━━━━━━━━━━━━━━━━━━━━━━━━━\u001b[0m \u001b[32m24.6/24.6 MB\u001b[0m \u001b[31m78.3 MB/s\u001b[0m eta \u001b[36m0:00:00\u001b[0m\n",
            "\u001b[?25hDownloading nvidia_cuda_runtime_cu12-12.4.127-py3-none-manylinux2014_x86_64.whl (883 kB)\n",
            "\u001b[2K   \u001b[90m━━━━━━━━━━━━━━━━━━━━━━━━━━━━━━━━━━━━━━━━\u001b[0m \u001b[32m883.7/883.7 kB\u001b[0m \u001b[31m43.9 MB/s\u001b[0m eta \u001b[36m0:00:00\u001b[0m\n",
            "\u001b[?25hDownloading nvidia_cudnn_cu12-9.1.0.70-py3-none-manylinux2014_x86_64.whl (664.8 MB)\n",
            "\u001b[2K   \u001b[90m━━━━━━━━━━━━━━━━━━━━━━━━━━━━━━━━━━━━━━━━\u001b[0m \u001b[32m664.8/664.8 MB\u001b[0m \u001b[31m2.1 MB/s\u001b[0m eta \u001b[36m0:00:00\u001b[0m\n",
            "\u001b[?25hDownloading nvidia_cufft_cu12-11.2.1.3-py3-none-manylinux2014_x86_64.whl (211.5 MB)\n",
            "\u001b[2K   \u001b[90m━━━━━━━━━━━━━━━━━━━━━━━━━━━━━━━━━━━━━━━━\u001b[0m \u001b[32m211.5/211.5 MB\u001b[0m \u001b[31m4.3 MB/s\u001b[0m eta \u001b[36m0:00:00\u001b[0m\n",
            "\u001b[?25hDownloading nvidia_curand_cu12-10.3.5.147-py3-none-manylinux2014_x86_64.whl (56.3 MB)\n",
            "\u001b[2K   \u001b[90m━━━━━━━━━━━━━━━━━━━━━━━━━━━━━━━━━━━━━━━━\u001b[0m \u001b[32m56.3/56.3 MB\u001b[0m \u001b[31m38.3 MB/s\u001b[0m eta \u001b[36m0:00:00\u001b[0m\n",
            "\u001b[?25hDownloading nvidia_cusolver_cu12-11.6.1.9-py3-none-manylinux2014_x86_64.whl (127.9 MB)\n",
            "\u001b[2K   \u001b[90m━━━━━━━━━━━━━━━━━━━━━━━━━━━━━━━━━━━━━━━━\u001b[0m \u001b[32m127.9/127.9 MB\u001b[0m \u001b[31m16.6 MB/s\u001b[0m eta \u001b[36m0:00:00\u001b[0m\n",
            "\u001b[?25hDownloading nvidia_cusparse_cu12-12.3.1.170-py3-none-manylinux2014_x86_64.whl (207.5 MB)\n",
            "\u001b[2K   \u001b[90m━━━━━━━━━━━━━━━━━━━━━━━━━━━━━━━━━━━━━━━━\u001b[0m \u001b[32m207.5/207.5 MB\u001b[0m \u001b[31m4.6 MB/s\u001b[0m eta \u001b[36m0:00:00\u001b[0m\n",
            "\u001b[?25hDownloading nvidia_nvjitlink_cu12-12.4.127-py3-none-manylinux2014_x86_64.whl (21.1 MB)\n",
            "\u001b[2K   \u001b[90m━━━━━━━━━━━━━━━━━━━━━━━━━━━━━━━━━━━━━━━━\u001b[0m \u001b[32m21.1/21.1 MB\u001b[0m \u001b[31m83.7 MB/s\u001b[0m eta \u001b[36m0:00:00\u001b[0m\n",
            "\u001b[?25hDownloading ray-2.44.1-cp311-cp311-manylinux2014_x86_64.whl (68.1 MB)\n",
            "\u001b[2K   \u001b[90m━━━━━━━━━━━━━━━━━━━━━━━━━━━━━━━━━━━━━━━━\u001b[0m \u001b[32m68.1/68.1 MB\u001b[0m \u001b[31m28.2 MB/s\u001b[0m eta \u001b[36m0:00:00\u001b[0m\n",
            "\u001b[?25hDownloading scanpy-1.11.1-py3-none-any.whl (2.1 MB)\n",
            "\u001b[2K   \u001b[90m━━━━━━━━━━━━━━━━━━━━━━━━━━━━━━━━━━━━━━━━\u001b[0m \u001b[32m2.1/2.1 MB\u001b[0m \u001b[31m67.4 MB/s\u001b[0m eta \u001b[36m0:00:00\u001b[0m\n",
            "\u001b[?25hDownloading scikit_learn-1.5.2-cp311-cp311-manylinux_2_17_x86_64.manylinux2014_x86_64.whl (13.3 MB)\n",
            "\u001b[2K   \u001b[90m━━━━━━━━━━━━━━━━━━━━━━━━━━━━━━━━━━━━━━━━\u001b[0m \u001b[32m13.3/13.3 MB\u001b[0m \u001b[31m94.4 MB/s\u001b[0m eta \u001b[36m0:00:00\u001b[0m\n",
            "\u001b[?25hDownloading tdigest-0.5.2.2-py3-none-any.whl (9.4 kB)\n",
            "Downloading alembic-1.15.2-py3-none-any.whl (231 kB)\n",
            "\u001b[2K   \u001b[90m━━━━━━━━━━━━━━━━━━━━━━━━━━━━━━━━━━━━━━━━\u001b[0m \u001b[32m231.9/231.9 kB\u001b[0m \u001b[31m17.6 MB/s\u001b[0m eta \u001b[36m0:00:00\u001b[0m\n",
            "\u001b[?25hDownloading array_api_compat-1.11.2-py3-none-any.whl (53 kB)\n",
            "\u001b[2K   \u001b[90m━━━━━━━━━━━━━━━━━━━━━━━━━━━━━━━━━━━━━━━━\u001b[0m \u001b[32m53.1/53.1 kB\u001b[0m \u001b[31m4.0 MB/s\u001b[0m eta \u001b[36m0:00:00\u001b[0m\n",
            "\u001b[?25hDownloading dill-0.3.8-py3-none-any.whl (116 kB)\n",
            "\u001b[2K   \u001b[90m━━━━━━━━━━━━━━━━━━━━━━━━━━━━━━━━━━━━━━━━\u001b[0m \u001b[32m116.3/116.3 kB\u001b[0m \u001b[31m9.2 MB/s\u001b[0m eta \u001b[36m0:00:00\u001b[0m\n",
            "\u001b[?25hDownloading fsspec-2024.12.0-py3-none-any.whl (183 kB)\n",
            "\u001b[2K   \u001b[90m━━━━━━━━━━━━━━━━━━━━━━━━━━━━━━━━━━━━━━━━\u001b[0m \u001b[32m183.9/183.9 kB\u001b[0m \u001b[31m14.0 MB/s\u001b[0m eta \u001b[36m0:00:00\u001b[0m\n",
            "\u001b[?25hDownloading legacy_api_wrap-1.4.1-py3-none-any.whl (10.0 kB)\n",
            "Downloading multiprocess-0.70.16-py311-none-any.whl (143 kB)\n",
            "\u001b[2K   \u001b[90m━━━━━━━━━━━━━━━━━━━━━━━━━━━━━━━━━━━━━━━━\u001b[0m \u001b[32m143.5/143.5 kB\u001b[0m \u001b[31m10.4 MB/s\u001b[0m eta \u001b[36m0:00:00\u001b[0m\n",
            "\u001b[?25hDownloading colorlog-6.9.0-py3-none-any.whl (11 kB)\n",
            "Downloading numpy_groupies-0.11.2-py3-none-any.whl (40 kB)\n",
            "\u001b[2K   \u001b[90m━━━━━━━━━━━━━━━━━━━━━━━━━━━━━━━━━━━━━━━━\u001b[0m \u001b[32m40.6/40.6 kB\u001b[0m \u001b[31m2.6 MB/s\u001b[0m eta \u001b[36m0:00:00\u001b[0m\n",
            "\u001b[?25hDownloading session_info2-0.1.2-py3-none-any.whl (14 kB)\n",
            "Downloading xxhash-3.5.0-cp311-cp311-manylinux_2_17_x86_64.manylinux2014_x86_64.whl (194 kB)\n",
            "\u001b[2K   \u001b[90m━━━━━━━━━━━━━━━━━━━━━━━━━━━━━━━━━━━━━━━━\u001b[0m \u001b[32m194.8/194.8 kB\u001b[0m \u001b[31m13.5 MB/s\u001b[0m eta \u001b[36m0:00:00\u001b[0m\n",
            "\u001b[?25hBuilding wheels for collected packages: geneformer, loompy, accumulation-tree, pyudorandom\n",
            "  Building wheel for geneformer (setup.py) ... \u001b[?25l\u001b[?25hdone\n",
            "  Created wheel for geneformer: filename=geneformer-0.1.0-py3-none-any.whl size=2107997 sha256=4749ebb3d657845aa40f37d7dddd74d0e09f4cfa2726f1e19a1d1be1bcf049e4\n",
            "  Stored in directory: /tmp/pip-ephem-wheel-cache-i6fxfme1/wheels/cb/4a/82/85f3ca798e83d69ac023bfad48225e88e8fb2b2d2a968a51b0\n",
            "  Building wheel for loompy (setup.py) ... \u001b[?25l\u001b[?25hdone\n",
            "  Created wheel for loompy: filename=loompy-3.0.8-py3-none-any.whl size=54012 sha256=18c631d8d1c97e194c7b6e28e75d0c09fda51826312b6651b94f025db63e258d\n",
            "  Stored in directory: /root/.cache/pip/wheels/0a/65/00/30ea772562c1e326e9a076e6a526216abc6c5456852cc2e0e4\n",
            "  Building wheel for accumulation-tree (pyproject.toml) ... \u001b[?25l\u001b[?25hdone\n",
            "  Created wheel for accumulation-tree: filename=accumulation_tree-0.6.4-cp311-cp311-linux_x86_64.whl size=385057 sha256=51eba6942826927d16d74782b6fdf067540954f636e0467e99577bb6da33aec2\n",
            "  Stored in directory: /root/.cache/pip/wheels/e9/e7/ee/2d9f17d273e58197be57a017c6f0d7e97a68d8fbe73e472dcb\n",
            "  Building wheel for pyudorandom (setup.py) ... \u001b[?25l\u001b[?25hdone\n",
            "  Created wheel for pyudorandom: filename=pyudorandom-1.0.0-py3-none-any.whl size=2191 sha256=2fa14b358c2990509593928739dfc9da00c5483f2eeb089fd725a1884c1654a0\n",
            "  Stored in directory: /root/.cache/pip/wheels/a5/6d/e9/29f0512b6cb296c100b7459c6c5e0f62deb0451e07a0a70874\n",
            "Successfully built geneformer loompy accumulation-tree pyudorandom\n",
            "Installing collected packages: pyudorandom, accumulation-tree, xxhash, tdigest, session-info2, nvidia-nvjitlink-cu12, nvidia-curand-cu12, nvidia-cufft-cu12, nvidia-cuda-runtime-cu12, nvidia-cuda-nvrtc-cu12, nvidia-cuda-cupti-cu12, nvidia-cublas-cu12, numpy-groupies, legacy-api-wrap, fsspec, dill, colorlog, array-api-compat, scikit-learn, nvidia-cusparse-cu12, nvidia-cudnn-cu12, multiprocess, loompy, alembic, optuna, nvidia-cusolver-cu12, anndata, ray, optuna-integration, datasets, scanpy, geneformer\n",
            "  Attempting uninstall: nvidia-nvjitlink-cu12\n",
            "    Found existing installation: nvidia-nvjitlink-cu12 12.5.82\n",
            "    Uninstalling nvidia-nvjitlink-cu12-12.5.82:\n",
            "      Successfully uninstalled nvidia-nvjitlink-cu12-12.5.82\n",
            "  Attempting uninstall: nvidia-curand-cu12\n",
            "    Found existing installation: nvidia-curand-cu12 10.3.6.82\n",
            "    Uninstalling nvidia-curand-cu12-10.3.6.82:\n",
            "      Successfully uninstalled nvidia-curand-cu12-10.3.6.82\n",
            "  Attempting uninstall: nvidia-cufft-cu12\n",
            "    Found existing installation: nvidia-cufft-cu12 11.2.3.61\n",
            "    Uninstalling nvidia-cufft-cu12-11.2.3.61:\n",
            "      Successfully uninstalled nvidia-cufft-cu12-11.2.3.61\n",
            "  Attempting uninstall: nvidia-cuda-runtime-cu12\n",
            "    Found existing installation: nvidia-cuda-runtime-cu12 12.5.82\n",
            "    Uninstalling nvidia-cuda-runtime-cu12-12.5.82:\n",
            "      Successfully uninstalled nvidia-cuda-runtime-cu12-12.5.82\n",
            "  Attempting uninstall: nvidia-cuda-nvrtc-cu12\n",
            "    Found existing installation: nvidia-cuda-nvrtc-cu12 12.5.82\n",
            "    Uninstalling nvidia-cuda-nvrtc-cu12-12.5.82:\n",
            "      Successfully uninstalled nvidia-cuda-nvrtc-cu12-12.5.82\n",
            "  Attempting uninstall: nvidia-cuda-cupti-cu12\n",
            "    Found existing installation: nvidia-cuda-cupti-cu12 12.5.82\n",
            "    Uninstalling nvidia-cuda-cupti-cu12-12.5.82:\n",
            "      Successfully uninstalled nvidia-cuda-cupti-cu12-12.5.82\n",
            "  Attempting uninstall: nvidia-cublas-cu12\n",
            "    Found existing installation: nvidia-cublas-cu12 12.5.3.2\n",
            "    Uninstalling nvidia-cublas-cu12-12.5.3.2:\n",
            "      Successfully uninstalled nvidia-cublas-cu12-12.5.3.2\n",
            "  Attempting uninstall: fsspec\n",
            "    Found existing installation: fsspec 2025.3.2\n",
            "    Uninstalling fsspec-2025.3.2:\n",
            "      Successfully uninstalled fsspec-2025.3.2\n",
            "  Attempting uninstall: scikit-learn\n",
            "    Found existing installation: scikit-learn 1.6.1\n",
            "    Uninstalling scikit-learn-1.6.1:\n",
            "      Successfully uninstalled scikit-learn-1.6.1\n",
            "  Attempting uninstall: nvidia-cusparse-cu12\n",
            "    Found existing installation: nvidia-cusparse-cu12 12.5.1.3\n",
            "    Uninstalling nvidia-cusparse-cu12-12.5.1.3:\n",
            "      Successfully uninstalled nvidia-cusparse-cu12-12.5.1.3\n",
            "  Attempting uninstall: nvidia-cudnn-cu12\n",
            "    Found existing installation: nvidia-cudnn-cu12 9.3.0.75\n",
            "    Uninstalling nvidia-cudnn-cu12-9.3.0.75:\n",
            "      Successfully uninstalled nvidia-cudnn-cu12-9.3.0.75\n",
            "  Attempting uninstall: nvidia-cusolver-cu12\n",
            "    Found existing installation: nvidia-cusolver-cu12 11.6.3.83\n",
            "    Uninstalling nvidia-cusolver-cu12-11.6.3.83:\n",
            "      Successfully uninstalled nvidia-cusolver-cu12-11.6.3.83\n",
            "\u001b[31mERROR: pip's dependency resolver does not currently take into account all the packages that are installed. This behaviour is the source of the following dependency conflicts.\n",
            "gcsfs 2025.3.2 requires fsspec==2025.3.2, but you have fsspec 2024.12.0 which is incompatible.\u001b[0m\u001b[31m\n",
            "\u001b[0mSuccessfully installed accumulation-tree-0.6.4 alembic-1.15.2 anndata-0.11.4 array-api-compat-1.11.2 colorlog-6.9.0 datasets-3.5.0 dill-0.3.8 fsspec-2024.12.0 geneformer-0.1.0 legacy-api-wrap-1.4.1 loompy-3.0.8 multiprocess-0.70.16 numpy-groupies-0.11.2 nvidia-cublas-cu12-12.4.5.8 nvidia-cuda-cupti-cu12-12.4.127 nvidia-cuda-nvrtc-cu12-12.4.127 nvidia-cuda-runtime-cu12-12.4.127 nvidia-cudnn-cu12-9.1.0.70 nvidia-cufft-cu12-11.2.1.3 nvidia-curand-cu12-10.3.5.147 nvidia-cusolver-cu12-11.6.1.9 nvidia-cusparse-cu12-12.3.1.170 nvidia-nvjitlink-cu12-12.4.127 optuna-4.2.1 optuna-integration-4.2.1 pyudorandom-1.0.0 ray-2.44.1 scanpy-1.11.1 scikit-learn-1.5.2 session-info2-0.1.2 tdigest-0.5.2.2 xxhash-3.5.0\n"
          ]
        },
        {
          "output_type": "error",
          "ename": "ImportError",
          "evalue": "cannot import name 'CellClassifier' from 'geneformer' (/content/drive/MyDrive/HODD/Geneformer/geneformer/__init__.py)",
          "traceback": [
            "\u001b[0;31m---------------------------------------------------------------------------\u001b[0m",
            "\u001b[0;31mImportError\u001b[0m                               Traceback (most recent call last)",
            "\u001b[0;32m<ipython-input-1-3e7ba174d7d8>\u001b[0m in \u001b[0;36m<cell line: 0>\u001b[0;34m()\u001b[0m\n\u001b[1;32m     25\u001b[0m \u001b[0mget_ipython\u001b[0m\u001b[0;34m(\u001b[0m\u001b[0;34m)\u001b[0m\u001b[0;34m.\u001b[0m\u001b[0msystem\u001b[0m\u001b[0;34m(\u001b[0m\u001b[0;34m'pip install .'\u001b[0m\u001b[0;34m)\u001b[0m\u001b[0;34m\u001b[0m\u001b[0;34m\u001b[0m\u001b[0m\n\u001b[1;32m     26\u001b[0m \u001b[0;34m\u001b[0m\u001b[0m\n\u001b[0;32m---> 27\u001b[0;31m \u001b[0;32mfrom\u001b[0m \u001b[0mgeneformer\u001b[0m \u001b[0;32mimport\u001b[0m \u001b[0mCellClassifier\u001b[0m\u001b[0;34m\u001b[0m\u001b[0;34m\u001b[0m\u001b[0m\n\u001b[0m\u001b[1;32m     28\u001b[0m \u001b[0;34m\u001b[0m\u001b[0m\n\u001b[1;32m     29\u001b[0m \u001b[0;31m# classifier = CellClassifier()\u001b[0m\u001b[0;34m\u001b[0m\u001b[0;34m\u001b[0m\u001b[0m\n",
            "\u001b[0;31mImportError\u001b[0m: cannot import name 'CellClassifier' from 'geneformer' (/content/drive/MyDrive/HODD/Geneformer/geneformer/__init__.py)",
            "",
            "\u001b[0;31m---------------------------------------------------------------------------\u001b[0;32m\nNOTE: If your import is failing due to a missing package, you can\nmanually install dependencies using either !pip or !apt.\n\nTo view examples of installing some common dependencies, click the\n\"Open Examples\" button below.\n\u001b[0;31m---------------------------------------------------------------------------\u001b[0m\n"
          ],
          "errorDetails": {
            "actions": [
              {
                "action": "open_url",
                "actionText": "Open Examples",
                "url": "/notebooks/snippets/importing_libraries.ipynb"
              }
            ]
          }
        }
      ],
      "source": [
        "# Install required libraries without outputting installation logs\n",
        "# !pip install transformers==4.40\n",
        "\n",
        "# Import necessary modules and libraries\n",
        "from google.colab import drive\n",
        "import os\n",
        "import pickle\n",
        "\n",
        "# Mount Google Drive to access files\n",
        "drive.mount('/content/drive')\n",
        "\n",
        "# Change the working directory to the project folder in Google Drive\n",
        "os.chdir(\"/content/drive/MyDrive/HODD/\")\n",
        "\n",
        "# Install Git Large File Storage (LFS) for handling large files in Git repositories\n",
        "# !git lfs install\n",
        "\n",
        "#Clone the Geneformer repository (commented out to avoid repeated cloning)\n",
        "# !git clone https://huggingface.co/ctheodoris/Geneformer\n",
        "\n",
        "# Navigate to the Geneformer directory\n",
        "%cd Geneformer\n",
        "\n",
        "# Install Geneformer package locally\n",
        "!pip install .\n",
        "\n",
        "from geneformer import Classifier\n",
        "\n",
        "# classifier = CellClassifier()\n",
        "\n",
        "# train_data = '/content/drive/MyDrive/HODD/Genformer_parkinsons_files/dopamine_subset_tokenzied.dataset/'\n",
        "\n",
        "# classifier.fine_tune(\n",
        "#     train_data_path=\"tokenized_train.json\",\n",
        "#     val_data_path=\"tokenized_val.json\",\n",
        "#     model_save_path=\"fine_tuned_classifier\",\n",
        "#     epochs=3,\n",
        "#     batch_size=32,\n",
        "#     learning_rate=5e-5,\n",
        "#     class_weights=\"balanced\"\n",
        "# )\n",
        "\n",
        "\n",
        "\n",
        "# # Prepare the data using Geneformer Preprocessor\n",
        "# data_directory = '/content/drive/MyDrive/HODD/Geneformer_parkinsons_files'  # Directory containing data\n",
        "# output_path = data_directory  # Output path for processed data\n",
        "# output_prefix = 'dopamine_subset_tokenized'  # Prefix for output files\n",
        "\n",
        "# # Initialize the tokenizer with relevant parameters\n",
        "# tk = TranscriptomeTokenizer({\"disease_state\": \"disease_state_numeric\"}, nproc=4)\n",
        "\n",
        "# # Tokenize the data, saving the output in the specified directory with the given prefix\n",
        "# tk.tokenize_data(data_directory, output_path, output_prefix, file_format=\"h5ad\")"
      ]
    },
    {
      "cell_type": "code",
      "source": [
        "# Import necessary modules and libraries\n",
        "from google.colab import drive\n",
        "import os\n",
        "import pandas as pd\n",
        "import pickle\n",
        "\n",
        "# Mount Google Drive to access files\n",
        "drive.mount('/content/drive')\n",
        "\n",
        "# Change the working directory to the project folder in Google Drive\n",
        "os.chdir(\"/content/drive/MyDrive/HODD/Genformer_parkinsons_files/dopamine_subset_tokenzied.dataset/\")"
      ],
      "metadata": {
        "id": "-Vo96ct7lRUu",
        "outputId": "5e7f06ab-8c48-49e0-ce61-2ea27d79259f",
        "colab": {
          "base_uri": "https://localhost:8080/"
        }
      },
      "execution_count": null,
      "outputs": [
        {
          "output_type": "stream",
          "name": "stdout",
          "text": [
            "Mounted at /content/drive\n"
          ]
        }
      ]
    },
    {
      "cell_type": "code",
      "source": [
        "from geneformer import Classifier\n"
      ],
      "metadata": {
        "id": "NEq4hk2glybY"
      },
      "execution_count": 2,
      "outputs": []
    },
    {
      "cell_type": "code",
      "source": [
        "from datasets import load_from_disk\n",
        "token_dataset = load_from_disk(\"dopamine_subset_tokenized.dataset\")\n",
        "print(type(token_dataset))"
      ],
      "metadata": {
        "id": "_i_qhJJml5B2",
        "outputId": "cd58a281-37a9-4fbc-991a-599a152b4320",
        "colab": {
          "base_uri": "https://localhost:8080/"
        }
      },
      "execution_count": null,
      "outputs": [
        {
          "output_type": "stream",
          "name": "stdout",
          "text": [
            "<class 'datasets.arrow_dataset.Dataset'>\n"
          ]
        }
      ]
    },
    {
      "cell_type": "code",
      "source": [
        "print(token_dataset)\n",
        "print(token_dataset.shape)\n",
        "print(token_dataset[0])\n",
        "print(len(token_dataset[0]['input_ids']))"
      ],
      "metadata": {
        "id": "OzOojEr-mkhj",
        "outputId": "129341fc-ee57-418c-87b2-50906ba905a0",
        "colab": {
          "base_uri": "https://localhost:8080/"
        }
      },
      "execution_count": null,
      "outputs": [
        {
          "output_type": "stream",
          "name": "stdout",
          "text": [
            "Dataset({\n",
            "    features: ['input_ids', 'disease_state_numeric', 'length'],\n",
            "    num_rows: 17198\n",
            "})\n",
            "(17198, 3)\n",
            "{'input_ids': [2, 13407, 15182, 3633, 9962, 18360, 2930, 7452, 4148, 6391, 9161, 9156, 15100, 7421, 19560, 5991, 9278, 8209, 15304, 417, 1016, 9609, 9335, 2169, 13231, 8588, 237, 410, 12449, 15680, 13020, 9455, 697, 2228, 19715, 14719, 9906, 5162, 15684, 8582, 13481, 10675, 1738, 2575, 7685, 8452, 380, 15300, 6818, 3360, 10085, 7587, 4233, 7492, 9546, 6652, 16400, 7979, 16950, 6219, 15339, 10891, 10147, 9276, 17817, 1399, 3808, 12494, 10787, 1505, 9317, 11789, 1842, 13406, 9035, 7656, 14798, 9007, 13207, 13527, 15055, 12492, 970, 8097, 5022, 9102, 11169, 15685, 12197, 1373, 4767, 8573, 1980, 9337, 14212, 9234, 14784, 16200, 6295, 5060, 12435, 3081, 1285, 9776, 10044, 15316, 14657, 5017, 17148, 2527, 18956, 10904, 7973, 8824, 3294, 3910, 1573, 919, 8643, 2902, 9693, 14811, 16717, 4370, 16545, 9252, 9780, 12877, 3034, 3418, 4085, 15115, 7664, 7673, 11456, 9599, 3761, 14697, 10865, 2200, 505, 3167, 1576, 16088, 17688, 13587, 12586, 946, 15732, 1949, 16879, 2659, 13163, 4402, 15799, 11662, 84, 9574, 9674, 379, 6941, 16077, 9560, 2849, 108, 17431, 1673, 9606, 17047, 12708, 6000, 12949, 13403, 6587, 16888, 2548, 12493, 15982, 5919, 1483, 9391, 2263, 15089, 2853, 6936, 13049, 7993, 934, 13000, 3894, 15683, 8474, 128, 7618, 16118, 2411, 6855, 10200, 6533, 12789, 4766, 15513, 15125, 8909, 15153, 1077, 5173, 4256, 2049, 13524, 10545, 4454, 737, 16805, 16094, 171, 635, 8655, 5411, 8321, 11353, 8556, 2728, 8656, 15588, 7437, 3948, 16267, 14259, 9145, 5852, 9795, 10052, 12848, 3461, 9236, 1401, 16506, 7131, 19609, 14779, 2338, 9064, 2638, 1268, 9676, 6723, 4368, 3613, 5648, 15661, 470, 10429, 9865, 13164, 11045, 1320, 6158, 9728, 1569, 8618, 1513, 6203, 1539, 14698, 4474, 17240, 13697, 11745, 9026, 9603, 6029, 14077, 9778, 7094, 9850, 4391, 10139, 10339, 20, 9366, 3655, 5668, 7244, 11750, 12475, 3601, 868, 4309, 2854, 1684, 8061, 7592, 36, 188, 16671, 2454, 157, 6149, 6499, 12515, 2681, 2826, 7670, 1634, 16067, 4770, 782, 728, 10363, 9484, 1244, 15334, 2382, 6601, 13881, 12628, 6316, 18928, 3032, 15154, 10080, 16470, 13899, 10248, 4463, 5721, 14022, 4137, 9463, 1326, 12874, 398, 353, 10186, 9284, 9242, 7262, 15065, 14583, 5034, 7966, 3435, 154, 6890, 8617, 11403, 3045, 9908, 10333, 1224, 9060, 9170, 9322, 293, 15884, 818, 2893, 1389, 11418, 950, 5179, 990, 13791, 5024, 8449, 12224, 12453, 12331, 8585, 5290, 8570, 8592, 14454, 5869, 12851, 8994, 3433, 5718, 12192, 6682, 9245, 11159, 9046, 4223, 6793, 5635, 1777, 10866, 9065, 7783, 302, 3378, 5231, 1043, 1185, 12342, 93, 1559, 4732, 10365, 9543, 13860, 6360, 1700, 9146, 7969, 7844, 8725, 18298, 501, 6596, 5971, 5021, 11105, 7391, 576, 12837, 7495, 3666, 7850, 8178, 4912, 16246, 4116, 3858, 4377, 14553, 10697, 15340, 10880, 3348, 5809, 14709, 4109, 13397, 11354, 11596, 8977, 16001, 1408, 9187, 8434, 10175, 684, 14280, 5862, 7981, 9593, 1685, 4388, 136, 6570, 167, 10637, 9576, 6594, 3627, 5288, 5459, 70, 16158, 3832, 18467, 5019, 2701, 3116, 8727, 16957, 10342, 631, 5982, 7606, 703, 16622, 1004, 1303, 1769, 14316, 4519, 7708, 8841, 3944, 7333, 11328, 1489, 19052, 2246, 4940, 15008, 10117, 11255, 6901, 12505, 11457, 13733, 7003, 9321, 889, 1051, 3416, 7368, 4237, 9526, 3207, 3651, 15923, 6554, 6311, 12366, 11202, 235, 3869, 4754, 16153, 13032, 4215, 12968, 8555, 2960, 1746, 14510, 2613, 7792, 363, 4744, 9790, 5551, 9221, 6478, 8914, 13539, 12923, 8492, 11755, 3662, 7876, 106, 12104, 8469, 4262, 9542, 2813, 712, 9783, 1892, 14726, 5490, 2598, 9544, 2408, 4266, 9162, 12304, 866, 17361, 5041, 9890, 11944, 1406, 9327, 17670, 5806, 16304, 13240, 2353, 13106, 19259, 7847, 13181, 1951, 3919, 3448, 7608, 9262, 7231, 11366, 14636, 11583, 16701, 232, 6307, 13917, 9273, 9197, 7104, 11348, 6895, 13375, 1242, 9251, 6294, 4133, 936, 14416, 667, 17137, 12998, 13566, 8891, 14579, 9255, 4444, 11726, 16886, 7336, 11802, 810, 13322, 6217, 3631, 16307, 11474, 4249, 4560, 11848, 4959, 4863, 958, 358, 8955, 13165, 8877, 481, 15653, 10547, 6519, 18216, 1473, 13605, 16406, 6613, 10788, 823, 5981, 16862, 12940, 7397, 3226, 12672, 6950, 9462, 3284, 9637, 4008, 9180, 1930, 10862, 14785, 2213, 6291, 12333, 2377, 7039, 8511, 9891, 19329, 13152, 12242, 12778, 7574, 5400, 6988, 1571, 11792, 9198, 4285, 2283, 17077, 10896, 3644, 7511, 10472, 6579, 12298, 11510, 10724, 6188, 16814, 12644, 4094, 646, 14771, 1764, 7459, 3637, 9047, 478, 10894, 13264, 12601, 2521, 5276, 11771, 9730, 13945, 9945, 2085, 10250, 2623, 16352, 16942, 10906, 3517, 9017, 8794, 8544, 1417, 553, 7394, 10986, 59, 2327, 3824, 16509, 15531, 4688, 11342, 9195, 15850, 12712, 4978, 8554, 14088, 8569, 4250, 1881, 7789, 15957, 12804, 3325, 2657, 17388, 17053, 9889, 4981, 9777, 5855, 3509, 11404, 15276, 12713, 8704, 368, 9469, 10818, 14011, 1171, 8414, 6376, 643, 16346, 9104, 6696, 2360, 17241, 18507, 9410, 11344, 5886, 17010, 7081, 11041, 7985, 425, 1568, 9503, 12369, 11364, 7988, 4499, 3731, 2671, 16111, 1037, 1239, 15508, 9501, 2803, 3442, 10244, 7237, 12905, 11389, 750, 9577, 15195, 1250, 3476, 11807, 7267, 9453, 7796, 4287, 11047, 4556, 8375, 6801, 4549, 18354, 9861, 10134, 12662, 506, 8419, 15450, 15264, 10796, 15019, 3090, 1021, 1935, 16822, 1910, 1470, 13861, 16173, 11221, 16192, 1230, 4130, 879, 7117, 7469, 9019, 1560, 6739, 7355, 15938, 1309, 12623, 572, 14630, 5849, 1442, 211, 1372, 5816, 4478, 11025, 9056, 3121, 9700, 3607, 14922, 3323, 13296, 14659, 16677, 13010, 4949, 7893, 202, 10065, 5305, 9994, 11016, 2318, 4867, 9316, 2267, 14189, 551, 4293, 1168, 14708, 13866, 6869, 5226, 5268, 567, 11310, 17334, 13006, 11462, 10066, 15208, 7655, 5999, 5950, 9285, 56, 3908, 15476, 3250, 1900, 4396, 6660, 2482, 9977, 8141, 7669, 18387, 5307, 1905, 10518, 992, 15977, 8863, 17687, 1340, 13288, 2562, 12210, 7499, 819, 330, 4060, 5996, 9225, 7644, 726, 3479, 13616, 1897, 8988, 9315, 8478, 629, 8965, 13742, 8432, 1627, 5341, 7890, 14035, 14347, 19157, 2328, 1422, 9493, 4306, 4682, 13670, 7596, 2151, 6181, 1354, 8666, 4667, 1105, 4809, 5138, 8064, 7617, 9292, 19326, 7032, 6467, 9590, 5972, 7790, 3790, 834, 335, 14277, 784, 8427, 17479, 2311, 6441, 5144, 5575, 1065, 8825, 5923, 1820, 9647, 4802, 46, 15275, 10015, 7515, 10740, 2662, 11306, 9417, 6960, 15364, 15336, 156, 14778, 9695, 1630, 9268, 9510, 4837, 1644, 6568, 14662, 4152, 14197, 1593, 459, 9247, 1129, 12046, 236, 4498, 2474, 5281, 6030, 11600, 2800, 16947, 1619, 12830, 2132, 8843, 279, 1082, 10040, 9976, 6608, 3351, 7335, 15517, 9023, 16978, 7999, 14955, 4333, 1574, 488, 375, 8290, 13216, 573, 11204, 1832, 13380, 778, 14187, 7628, 13495, 5378, 2532, 13203, 8429, 3357, 14929, 3983, 16898, 18348, 504, 12068, 17512, 8757, 4897, 3161, 4771, 12514, 8437, 6638, 18538, 3682, 16526, 9567, 6738, 3744, 1246, 5156, 9305, 3459, 9408, 16935, 3843, 10678, 2331, 6635, 8039, 6548, 12474, 11265, 2830, 2432, 6285, 16733, 15348, 13408, 30, 6604, 10261, 17515, 10235, 8560, 9620, 2061, 8428, 1674, 606, 8567, 9389, 5901, 14754, 6772, 6539, 12633, 8957, 12860, 748, 11997, 16740, 11574, 1819, 5329, 9357, 246, 4493, 4024, 11476, 540, 8623, 16801, 2225, 11603, 9506, 439, 5413, 5724, 2851, 2427, 6248, 7619, 10977, 4168, 6616, 2900, 15136, 15087, 9348, 17243, 3373, 1279, 1002, 15041, 3707, 10859, 786, 12086, 7054, 6781, 12932, 4011, 2008, 12263, 12223, 3456, 3993, 16954, 11370, 2650, 12614, 9427, 307, 13504, 11581, 8364, 5289, 8096, 574, 5672, 13891, 9053, 8398, 1639, 1343, 8152, 3493, 9038, 284, 13100, 8033, 6836, 6771, 12892, 12509, 4719, 3708, 5948, 9547, 7552, 845, 1953, 1379, 16763, 1375, 10646, 402, 12409, 3884, 2550, 8777, 10517, 9116, 13352, 7381, 5301, 18189, 1400, 14178, 17802, 4983, 3996, 12096, 1414, 1361, 789, 13655, 16082, 13392, 5283, 7372, 10442, 9605, 137, 13137, 3384, 15922, 9487, 8105, 829, 3046, 9796, 9969, 15515, 3736, 8981, 2678, 214, 9929, 6342, 3256, 7573, 2931, 7010, 3305, 4079, 9227, 12028, 2508, 4541, 17719, 9604, 7188, 2058, 15021, 8444, 6790, 7194, 648, 10814, 1849, 3940, 15391, 9690, 1186, 18494, 4172, 2417, 9228, 11236, 3379, 15134, 15014, 16590, 723, 16508, 11773, 12153, 5155, 7758, 6909, 7699, 1207, 4624, 15555, 1464, 15918, 696, 1677, 15295, 894, 11240, 3522, 6338, 12531, 10630, 3610, 16131, 2425, 5408, 6699, 13473, 8251, 5141, 14397, 5990, 1090, 1033, 3439, 393, 14839, 16932, 16114, 10727, 1726, 11621, 11612, 5576, 5596, 7501, 2953, 5184, 11465, 3131, 3083, 11719, 6382, 6874, 6007, 2791, 7990, 18828, 2405, 503, 15841, 14801, 1496, 3912, 1086, 15074, 8708, 3538, 10243, 262, 5248, 3361, 5049, 3328, 11560, 6184, 16465, 16809, 12871, 8633, 1658, 4610, 12688, 16207, 7621, 9558, 3086, 4801, 12583, 3229, 8381, 16710, 14140, 8631, 556, 7749, 5316, 9380, 6148, 274, 775, 15326, 8527, 1739, 8688, 647, 9527, 12076, 1076, 9334, 16130, 427, 210, 18471, 6742, 6084, 1270, 13289, 5796, 8441, 15419, 6358, 234, 3419, 11505, 6429, 12358, 13173, 15852, 6839, 8917, 5793, 3701, 2707, 19453, 4579, 10923, 5475, 2539, 17473, 5736, 7901, 11071, 13490, 9996, 10286, 974, 528, 16959, 3653, 2866, 7770, 11362, 705, 4930, 2274, 10067, 452, 12434, 4700, 9802, 7222, 12448, 6918, 7198, 558, 9610, 16525, 6269, 6349, 6959, 9338, 15796, 13800, 5870, 9287, 1714, 16141, 6045, 4188, 16904, 1120, 3577, 1426, 11556, 4061, 8522, 3283, 16170, 7413, 5304, 13147, 7097, 5611, 8738, 16936, 7609, 5360, 9106, 623, 252, 10236, 7913, 16270, 1446, 2393, 3580, 3440, 3498, 11104, 3695, 8879, 1407, 9498, 228, 13925, 1555, 1927, 13130, 11677, 4835, 5251, 8489, 10604, 6952, 16016, 12736, 19296, 1890, 1420, 4220, 20155, 4705, 16419, 7023, 15585, 4721, 7290, 2280, 1737, 16856, 3310, 8752, 3687, 10633, 3417, 15313, 6920, 9450, 4200, 10321, 17769, 6348, 8783, 12875, 1008, 16788, 4842, 1144, 17835, 15196, 1730, 4813, 12260, 12802, 10112, 13926, 8256, 2590, 15025, 3462, 3307, 12575, 6914, 5066, 2682, 15214, 3341, 12209, 8855, 16167, 9068, 7992, 10009, 8644, 6736, 16730, 2629, 12312, 17573, 5962, 1475, 8919, 733, 4037, 55, 5344, 3168, 1557, 5878, 3880, 14061, 2552, 7562, 4446, 2708, 16722, 13884, 1782, 11711, 5334, 2492, 1878, 4865, 354, 9375, 4178, 15350, 5085, 7625, 12488, 16890, 9993, 5959, 14381, 14274, 5765, 11082, 7017, 17071, 12682, 2688, 3729, 7883, 426, 1243, 6947, 409, 1194, 9961, 1485, 6014, 14141, 10418, 13210, 9271, 1332, 6779, 6092, 16468, 18278, 15411, 16393, 4551, 795, 12611, 9382, 2137, 10561, 12255, 16839, 9982, 14398, 9582, 10280, 7362, 1631, 983, 3686, 10157, 12337, 22, 9075, 4131, 6773, 6083, 9100, 4014, 16350, 3431, 7640, 16807, 5254, 4096, 4708, 4875, 16323, 3042, 8787, 2032, 6588, 14, 7426, 14550, 2307, 4787, 1847, 941, 7086, 11400, 13182, 6803, 4597, 1896, 10034, 8184, 16241, 6599, 18628, 9581, 7294, 8353, 9295, 17052, 5460, 15669, 902, 2193, 16837, 3162, 1884, 7031, 7962, 6150, 15538, 9919, 2624, 1741, 2709, 16177, 14012, 4927, 4366, 12866, 18344, 11304, 7649, 8575, 10559, 296, 15876, 7058, 1119, 2945, 6857, 6710, 11872, 11978, 5171, 77, 2843, 616, 4234, 11097, 953, 1057, 2068, 1094, 730, 8487, 4980, 4003, 8934, 17682, 99, 11695, 11296, 7219, 16375, 1403, 298, 11913, 4953, 12532, 9978, 9362, 9270, 806, 13533, 11708, 16750, 12303, 1068, 8219, 12027, 12681, 692, 6894, 11100, 1064, 15857, 15, 3825, 907, 11543, 4050, 746, 2314, 13535, 3989, 6564, 15642, 12917, 3225, 5654, 5197, 8090, 4965, 6711, 7853, 4058, 11085, 11705, 17795, 3890, 2670, 8506, 1916, 3022, 1160, 1595, 9286, 1429, 17518, 14607, 514, 4827, 8378, 6378, 2957, 6339, 14034, 9179, 16252, 13251, 7160, 13518, 799, 8488, 275, 4696, 6280, 955, 9768, 15898, 7888, 18379, 8640, 16518, 7296, 9584, 3658, 5366, 8466, 8793, 2108, 12052, 809, 18980, 12087, 16873, 6882, 7087, 15241, 10024, 8350, 10915, 311, 16921, 16734, 5354, 5013, 6250, 14405, 11325, 11264, 16122, 9424, 2795, 4836, 3467, 1889, 5871, 3267, 14930, 9840, 11651, 3674, 11186, 613, 3523, 743, 6634, 9821, 16484, 3505, 16423, 3706, 7680, 187, 7944, 5218, 5220, 11648, 16687, 16329, 11658, 16865, 1778, 1365, 8496, 17054, 796, 1710, 10228, 14527, 19547, 2056, 1646, 7657, 10464, 2190, 12082, 4089, 9371, 9336, 14757, 1310, 8420, 3024, 3752, 2222, 1295, 4503, 4716, 12571, 2250, 13839, 14025, 9072, 9373, 14877, 2341, 16485, 7479, 16819, 15177, 12835, 1175, 3801, 8579, 5247, 5415, 7767, 7266, 614, 11196, 15202, 13198, 745, 6615, 7480, 519, 2704, 8475, 16854, 8291, 13648, 4091, 4268, 9468, 4300, 14794, 4542, 3471, 11649, 14848, 2339, 5850, 11727, 10227, 3981, 16593, 12913, 12673, 16557, 15049, 17595, 3877, 12807, 2581, 1005, 15597, 15739, 12632, 8815, 3428, 5417, 1522, 6466, 16625, 4108, 14989, 7667, 16929, 8447, 2070, 3771, 16877, 17234, 16685, 8532, 1580, 3620, 16802, 3568, 642, 3369, 9441, 1618, 1507, 3326, 13526, 15498, 7460, 19065, 1558, 10567, 2655, 1249, 4213, 7929, 112, 10423, 16269, 2654, 1009, 6026, 10684, 7946, 19441, 1754, 231, 5168, 7412, 8893, 2356, 3415, 4769, 17073, 401, 14439, 383, 1616, 9419, 800, 15945, 15668, 321, 7227, 11146, 4871, 1409, 4528, 8990, 68, 2046, 14457, 8811, 9164, 8211, 3453, 8701, 6986, 6902, 1204, 12470, 15432, 9369, 4062, 4475, 462, 4143, 6506, 289, 9711, 17779, 7176, 8001, 4850, 2473, 10348, 17810, 7942, 4217, 9239, 297, 5172, 17321, 12112, 12694, 16160, 2005, 15607, 1903, 10881, 1500, 7605, 11588, 2330, 12561, 10797, 4469, 9359, 3299, 4110, 1254, 1013, 638, 1291, 5075, 7588, 4315, 16833, 16924, 3233, 12728, 4065, 2542, 8736, 493, 16383, 12899, 69, 9137, 16926, 13341, 8941, 11179, 1999, 15141, 13156, 13386, 6170, 4305, 4158, 9307, 2863, 8980, 9988, 2105, 8089, 4572, 12083, 1648, 11431, 16889, 12051, 9983, 15172, 1956, 1770, 7164, 2358, 13977, 423, 15444, 14715, 4909, 11311, 10590, 758, 2535, 584, 10090, 9580, 16137, 16364, 1964, 3903, 11822, 12213, 8099, 15673, 8608, 776, 9787, 11432, 7879, 1548, 12592, 15285, 10340, 3606, 9991, 8724, 17292, 8227, 16454, 3344, 15305, 13446, 2910, 1854, 1852, 1364, 7776, 44, 6345, 17811, 6700, 17570, 7526, 2894, 11384, 989, 5967, 7005, 9862, 8337, 7777, 3936, 11686, 9706, 5898, 5470, 15323, 4703, 17525, 4504, 8094, 3781, 1370, 8448, 4389, 1988, 11029, 2773, 2121, 3398, 8930, 9754, 11285, 5097, 7029, 7423, 18521, 16559, 18879, 273, 4655, 14135, 2731, 17220, 11666, 8550, 4147, 14348, 16815, 9232, 11086, 10162, 1705, 7327, 4408, 3971, 3868, 1098, 650, 933, 6258, 2880, 4825, 14472, 8403, 8586, 127, 2002, 4051, 4380, 12606, 12459, 3319, 11043, 11211, 1170, 15756, 103, 4780, 674, 2658, 1486, 14891, 3691, 7590, 11209, 3406, 13118, 5525, 9511, 5568, 4206, 6496, 17812, 10210, 4224, 5873, 8038, 4913, 11595, 11184, 10041, 4451, 9437, 16744, 9657, 5533, 9907, 247, 2842, 16362, 12199, 16797, 16756, 11385, 2163, 12645, 1232, 4616, 888, 11007, 8160, 559, 9696, 14264, 11864, 11106, 13022, 4074, 4611, 865, 10728, 8384, 12729, 7900, 16193, 1562, 6206, 1277, 16830, 2857, 7474, 12724, 7424, 13453, 10358, 9253, 16142, 18222, 1575, 3332, 12908, 3295, 45, 4323, 9860, 11107, 5322, 8530, 2879, 11599, 8382, 5112, 11095, 16684, 5430, 3793, 6973, 12158, 8907, 11676, 7522, 16624, 14701, 13711, 948, 7116, 7318, 11819, 686, 11427, 11508, 16923, 2069, 1828, 7190, 2847, 16718, 18404, 5979, 8295, 5657, 7624, 12437, 10330, 3376, 11606, 7157, 16071, 2669, 6003, 8328, 14202, 7997, 8036, 16649, 3322, 1448, 10301, 5224, 10621, 3712, 7482, 15064, 17045, 1578, 1301, 1169, 13196, 9049, 434, 3356, 16330, 8614, 1226, 6856, 1430, 4040, 8495, 11723, 12142, 8161, 3906, 2312, 14449, 17645, 11415, 4453, 2198, 3628, 8394, 90, 7998, 13433, 9973, 13087, 10609, 16903, 848, 254, 4318, 8753, 617, 11703, 9989, 9163, 8992, 7737, 9876, 6022, 541, 4467, 3988, 4348, 16664, 7408, 11376, 3485, 444, 13487, 3796, 5742, 13482, 7575, 1034, 925, 2721, 5781, 8711, 8896, 13120, 12827, 9793, 13319, 1803, 9841, 7956, 12725, 12569, 13248, 9256, 12211, 10156, 3518, 15390, 12745, 1108, 5052, 3990, 7377, 1501, 961, 7578, 13679, 7091, 12735, 9872, 19315, 4921, 2921, 9512, 9911, 10414, 2277, 13036, 3895, 2290, 8987, 13631, 6175, 18039, 16928, 9330, 3646, 16239, 14137, 5122, 4781, 12816, 12247, 12772, 16804, 6964, 4815, 8731, 14739, 12274, 3626, 4303, 11657, 1665, 9806, 17763, 620, 18554, 3061, 8486, 914, 1265, 3146, 3480, 4621, 19566, 8323, 7623, 18555, 12464, 16702, 17529, 8335, 2288, 8299, 11897, 9415, 14925, 4710, 7433, 6591, 6685, 1415, 10628, 7475, 16828, 14173, 3657, 18475, 9794, 11401, 4472, 2794, 7213, 6448, 1766, 8678, 6879, 5764, 6225, 15640, 5369, 5615, 4577, 15415, 3684, 7059, 2364, 4331, 7108, 8539, 18939, 16705, 1102, 10736, 16681, 14435, 2821, 10306, 18563, 201, 9826, 13849, 6255, 16148, 4554, 11162, 11002, 3103, 7049, 13424, 474, 1607, 16215, 9755, 13249, 15060, 1724, 4531, 5542, 438, 876, 5065, 14568, 8526, 9747, 9622, 3281, 1583, 16742, 10524, 1504, 13367, 2120, 4762, 8663, 8781, 1886, 494, 1427, 6778, 17913, 16646, 131, 11247, 1255, 8821, 4381, 14959, 2238, 9171, 10305, 17183, 4216, 7764, 3659, 4466, 5908, 1718, 10750, 8210, 8968, 1491, 979, 9392, 4857, 9681, 11051, 2060, 7203, 706, 7556, 4461, 12, 9215, 7216, 13256, 14493, 10308, 12550, 9240, 3334, 846, 10556, 17722, 6627, 18083, 4858, 4507, 9758, 547, 9062, 14317, 11562, 8303, 2762, 8662, 3602, 10360, 508, 3285, 1298, 2582, 1282, 9903, 4228, 15412, 15686, 7177, 3172, 6846, 12092, 2873, 7106, 7090, 2796, 6777, 10791, 9764, 17546, 6845, 16939, 7502, 4430, 5513, 3562, 11088, 1342, 7420, 14349, 10025, 7833, 7638, 15489, 11528, 11181, 1590, 8333, 1536, 11102, 15230, 8010, 7046, 525, 11177, 14121, 8604, 8025, 11797, 2683, 12469, 16172, 1200, 16915, 3393, 12742, 9395, 2620, 11312, 4084, 14318, 7843, 6754, 7636, 1621, 4290, 4796, 4046, 12960, 12436, 8341, 6671, 1111, 6794, 7902, 7924, 7170, 16179, 8973, 2092, 665, 1521, 672, 7451, 7858, 11937, 3377, 1609, 714, 4585, 15146, 2380, 13501, 9554, 7637, 777, 17925, 1982, 1492, 5808, 3664, 9918, 1103, 14518, 986, 3889, 13268, 2366, 7968, 496, 13172, 7757, 9486, 11393, 1802, 16587, 8367, 1874, 10119, 10972, 15407, 17376, 11539, 9588, 594, 523, 3973, 8393, 6784, 8950, 862, 11557, 12813, 4553, 6037, 14380, 400, 890, 1663, 327, 7611, 8399, 11481, 1431, 13863, 8924, 5340, 2665, 15157, 9477, 13846, 7554, 9739, 16107, 5716, 12702, 1591, 4028, 334, 6590, 13575, 11136, 5779, 2672, 7085, 15335, 2938, 9492, 15256, 9952, 9688, 14885, 16611, 7472, 16401, 7648, 1368, 9564, 6502, 17080, 8786, 12616, 8197, 4557, 15293, 11428, 13628, 2742, 4702, 9461, 7846, 12810, 1602, 18226, 12280, 13189, 4191, 2453, 2342, 2907, 7358, 15358, 1652, 2354, 14674, 10836, 14602, 16225, 14352, 7269, 305, 12975, 763, 11566, 5210, 2371, 1276, 844, 12284, 19433, 13410, 5723, 1349, 14471, 12071, 7444, 5031, 14536, 12978, 6702, 15949, 5230, 11010, 19598, 1317, 4665, 8284, 17245, 359, 1812, 7715, 11846, 4950, 15105, 4833, 14752, 13765, 15503, 2824, 719, 6932, 1444, 7481, 11108, 4885, 5431, 6647, 1319, 13784, 766, 13685, 18785, 18308, 6795, 9413, 8229, 10304, 15067, 1133, 17503, 16738, 9854, 38, 14710, 4656, 5845, 2828, 2833, 6796, 16397, 5205, 14623, 7312, 2470, 6140, 12218, 16895, 6368, 6512, 13570, 9500, 2189, 7369, 2816, 9536, 9353, 16548, 17232, 8547, 11309, 5900, 7659, 16917, 11672, 18167, 5569, 8619, 4135, 14067, 996, 4182, 12166, 3343, 3198, 3804, 17314, 18882, 773, 3477, 7561, 11551, 1202, 11288, 7927, 9555, 8553, 16476, 2734, 3321, 16908, 1944, 8497, 16595, 18306, 6985, 6718, 5956, 3625, 6585, 3949, 14311, 16490, 5994, 9355, 9194, 3401, 2585, 10759, 2019, 6954, 15191, 10132, 3763, 1181, 10919, 7832, 14365, 8412, 17385, 9685, 7768, 12869, 8004, 17510, 15996, 632, 292, 5444, 4275, 5050, 5693, 3914, 14097, 4870, 2410, 7052, 622, 13970, 3813, 15940, 1792, 5042, 12113, 104, 11256, 8728, 4668, 9388, 1633, 2403, 14320, 11656, 1432, 6328, 7819, 16614, 14599, 7740, 10729, 10626, 12580, 3947, 227, 14029, 7078, 10316, 19304, 11292, 1085, 5020, 10720, 11200, 10903, 8566, 911, 7380, 5358, 3555, 11062, 8996, 1608, 2442, 8922, 11359, 12432, 9713, 3536, 3566, 9483, 12174, 8840, 8440, 16654, 13727, 475, 1152, 3823, 17470, 18617, 3397, 2943, 5550, 3941, 1669, 3540, 4127, 11625, 11646, 3463, 11442, 11520, 16670, 9249, 9818, 10290, 12457, 14420, 11396, 13772, 15720, 15962, 12980, 6663, 8215, 13357, 13508, 7257, 107, 13992, 1127, 618, 16, 473, 1721, 15337, 5272, 14796, 938, 17581, 10978, 11987, 6572, 476, 5113, 3503, 9274, 2738, 3484, 532, 10185, 3737, 356, 14871, 1385, 984, 19321, 6303, 12584, 15547, 3892, 7295, 8788, 4327, 1732, 173, 14125, 6759, 3670, 13299, 6695, 13107, 3962, 17521, 13469, 7773, 14737, 13768, 5562, 9341, 1582, 13273, 1338, 10285, 5955, 10131, 3524, 12030, 7926, 9612, 8715, 11969, 15465, 12154, 6812, 9845, 9515, 4035, 6131, 2684, 3753, 8354, 1139, 15036, 9393, 6678, 12010, 2903, 16376, 6093, 3614, 1273, 15472, 8110, 7083, 8587, 13645, 14575, 2746, 6411, 10050, 4640, 4169, 11876, 4738, 2471, 13350, 1629, 6394, 702, 1056, 10220, 5526, 13935, 3062, 11710, 13850, 16047, 133, 522, 997, 1954, 1024, 13821, 3454, 5665, 9627, 15464, 11838, 5219, 6190, 430, 9211, 14594, 8060, 2293, 13426, 2784, 13514, 10909, 14052, 5486, 9923, 11005, 18975, 6807, 742, 17313, 14919, 1104, 5757, 11610, 1214, 17107, 14613, 8700, 11875, 4001, 16946, 4282, 8498, 8315, 897, 12200, 7589, 7099, 17611, 8476, 5619, 16606, 17733, 840, 3254, 3408, 4887, 7948, 2959, 4473, 13785, 2676, 6489, 15294, 17692, 8513, 7439, 2747, 820, 9926, 10783, 15545, 10723, 4302, 11387, 3745, 15427, 2296, 3405, 1390, 1260, 7019, 4685, 8051, 12350, 8446, 10926, 1861, 3185, 4971, 16194, 2370, 4543, 10113, 14134, 1556, 14668, 16651, 928, 1369, 1585, 14190, 18394, 10408, 880, 3609, 14761, 13609, 3742, 2188, 6464, 6516, 2227, 13603, 4928, 5897, 18565, 5892, 10509, 9757, 5803, 4136, 10197, 4122, 16463, 11449, 1067, 9070, 14866, 20239, 7461, 17079, 6829, 16281, 1963, 7541, 6910, 15117, 17305, 2537, 16405, 4477, 4712, 7402, 9401, 13297, 6720, 13190, 6935, 2571, 14627, 6504, 14036, 1263, 6479, 3774, 11580, 11850, 10615, 17185, 15644, 8137, 3719, 13572, 5348, 7363, 11503, 3135, 3975, 10867, 7274, 7349, 9447, 11334, 1300, 14208, 8377, 10948, 6630, 10585, 2856, 13335, 153, 15372, 3930, 7528, 11275, 8170, 13065, 16358, 8345, 12226, 11332, 8028, 1979, 1351, 1188, 40, 4000, 7353, 15641, 6289, 604, 19231, 2216, 7584, 3492, 1022, 8669, 7597, 5646, 4782, 4495, 16357, 2547, 3882, 740, 13373, 8095, 2116, 6484, 6923, 2273, 1176, 14619, 9956, 13382, 9733, 15393, 2905, 12999, 2545, 1706, 14923, 724, 6492, 54, 6172, 9052, 1199, 12011, 7080, 16227, 19364, 9364, 13882, 392, 12610, 4171, 5145, 326, 8045, 3667, 191, 8562, 3228, 2490, 9960, 8250, 7166, 17059, 9663, 18548, 7614, 3741, 13833, 4915, 7224, 14143, 6404, 9210, 8003, 5199, 14076, 15753, 1911, 445, 2530, 11273, 17064, 6, 16195, 11461, 18803, 10063, 15266, 4862, 9139, 5583, 2270, 339, 5624, 8676, 16911, 11220, 5274, 10566, 447, 15708, 11111, 5866, 7014, 18391, 9701, 6113, 1922, 1853, 1697, 1537, 19043, 10870, 10221, 3037, 6085, 972, 5896, 5069, 15856, 8422, 6896, 3501, 16157, 16108, 3586, 6405, 15959, 3950, 11650, 16916, 9858, 11154, 6346, 2373, 14103, 3960, 6183, 10051, 8831, 19087, 10829, 6881, 12069, 5883, 7260, 16909, 10523, 5164, 4382, 16290, 16577, 2768, 1272, 18952, 13437, 5084, 565, 6445, 4321, 17153, 2823, 3768, 9912, 7560, 9054, 5029, 9077, 15831, 785, 1742, 5799, 929, 4160, 12649, 9150, 12602, 7132, 7960, 16450, 9167, 6670, 10718, 2349, 4356, 7042, 8859, 5271, 9272, 5847, 6692, 1716, 1680, 5048, 14162, 3114, 4140, 19028, 3053, 9812, 10279, 6166, 11950, 16951, 11, 15386, 502, 10425, 95, 10356, 7065, 3732, 6534, 16699, 12278, 9385, 15431, 15494, 2541, 10334, 16220, 4029, 4002, 7040, 1069, 11099, 3466, 12287, 4575, 14601, 13060, 6072, 10768, 6766, 4179, 1210, 10990, 7292, 13438, 821, 31, 4520, 11120, 291, 3739, 14228, 3787, 480, 6999, 11594, 5076, 11500, 5244, 17327, 6002, 7273, 1137, 295, 11284, 8520, 9951, 5771, 10893, 336, 8103, 10433, 12110, 17421, 6174, 15164, 9345, 2363, 117, 1040, 10184, 3481, 13671, 7346, 483, 15371, 3152, 18444, 3407, 2862, 6428, 1791, 16842, 2533, 12723, 16224, 11544, 513, 19585, 7595, 6051, 451, 17193, 6577, 780, 1287, 7109, 6297, 1055, 420, 12202, 10980, 2113, 6419, 2042, 12336, 6412, 7567, 11245, 7466, 10091, 3720, 10758, 10932, 3438, 2027, 7057, 10145, 1321, 7600, 17456, 1695, 3410, 4884, 17369, 14092, 2990, 1924, 2918, 7845, 16569, 7720, 2413, 9694, 10141, 3010, 10313, 831, 4595, 7825, 3810, 6942, 3151, 6350, 7374, 3525, 12141, 10309, 17943, 4500, 8637, 993, 6274, 17, 141, 3309, 7754, 16760, 13608, 5881, 15002, 9660, 14556, 6231, 15890, 7028, 11257, 2287, 1837, 3374, 13976, 4629, 17320, 8830, 8832, 17862, 2264, 17325, 7746, 1387, 6025, 8686, 1727, 10974, 11092, 3268, 4671, 5221, 5769, 4844, 4817, 11189, 10731, 96, 13197, 1909, 144, 11910, 6207, 12352, 4853, 16276, 5040, 8083, 3097, 16273, 16305, 2390, 14907, 2426, 3584, 7322, 13633, 1597, 19594, 10211, 18627, 5938, 9332, 9494, 8430, 3335, 17106, 4407, 707, 4155, 8363, 3668, 2084, 2939, 2846, 16927, 2781, 9815, 9920, 9863, 931, 7557, 5478, 17735, 12300, 3570, 16789, 5479, 14973, 14958, 7834, 8621, 12323, 16091, 3698, 11330, 5158, 7119, 10851, 15666, 7146, 2769, 8594, 11319, 2467, 18162, 14043, 4745, 8332, 5487, 14418, 4670, 13687, 6013, 8510, 11371, 5270, 7905, 6171, 5670, 16233, 7103, 5006, 10917, 17393, 8997, 5768, 9666, 9021, 1096, 10028, 7675, 412, 2367, 13920, 12286, 7221, 2333, 10760, 5194, 6252, 1451, 6868, 12384, 9390, 2757, 4313, 1458, 14481, 5429, 7631, 1870, 792, 6526, 11762, 14800, 11859, 3444, 7026, 6813, 3288, 16190, 9411, 1192, 126, 12504, 13964, 8882, 12035, 5026, 1862, 1337, 15361, 1636, 7724, 5339, 9269, 1487, 11814, 17188, 6906, 1547, 16887, 7630, 15804, 4587, 5177, 11668, 14548, 10716, 531, 1612, 386, 10329, 6050, 13477, 1545, 15613, 11286, 15235, 10947, 4841, 1095, 9898, 6892, 14123, 4038, 82, 6024, 2343, 536, 7247, 3292, 13372, 16095, 11936, 6741, 8609, 5228, 16395, 13440, 5507, 10693, 17717, 9611, 7272, 6010, 11828, 7281, 6709, 6278, 13178, 5257, 11992, 6851, 11074, 13734, 1062, 10820, 10902, 12872, 14295, 12152, 13177, 7150, 14211, 14358, 5480, 3441, 203, 5854, 8646, 1211, 11629, 585, 2519, 12301, 1471, 5613, 13155, 1045, 16922, 16767, 16387, 8649, 10369, 13111, 6322, 11438, 8336, 6780, 10140, 19367, 13799, 16861, 4605, 12222, 3], 'disease_state_numeric': 'normal', 'length': 4096}\n",
            "4096\n"
          ]
        }
      ]
    },
    {
      "cell_type": "code",
      "source": [],
      "metadata": {
        "id": "w0GbBtn4moJc",
        "outputId": "0b4ebac6-9399-48f3-c47f-270f7d1598cb",
        "colab": {
          "base_uri": "https://localhost:8080/"
        }
      },
      "execution_count": null,
      "outputs": [
        {
          "output_type": "stream",
          "name": "stdout",
          "text": [
            "4096\n"
          ]
        }
      ]
    },
    {
      "cell_type": "code",
      "source": [
        "import geneformer\n",
        "\n",
        "print(geneformer.__version__)"
      ],
      "metadata": {
        "id": "7nfv3lwQmy5a",
        "colab": {
          "base_uri": "https://localhost:8080/",
          "height": 585
        },
        "outputId": "463b39db-868c-431f-f2e9-bcf856a9ddad"
      },
      "execution_count": 3,
      "outputs": [
        {
          "output_type": "stream",
          "name": "stderr",
          "text": [
            "/usr/local/lib/python3.11/dist-packages/transformers/utils/generic.py:441: FutureWarning: `torch.utils._pytree._register_pytree_node` is deprecated. Please use `torch.utils._pytree.register_pytree_node` instead.\n",
            "  _torch_pytree._register_pytree_node(\n",
            "/usr/local/lib/python3.11/dist-packages/transformers/utils/generic.py:309: FutureWarning: `torch.utils._pytree._register_pytree_node` is deprecated. Please use `torch.utils._pytree.register_pytree_node` instead.\n",
            "  _torch_pytree._register_pytree_node(\n"
          ]
        },
        {
          "output_type": "error",
          "ename": "ImportError",
          "evalue": "cannot import name 'Cache' from 'transformers' (/usr/local/lib/python3.11/dist-packages/transformers/__init__.py)",
          "traceback": [
            "\u001b[0;31m---------------------------------------------------------------------------\u001b[0m",
            "\u001b[0;31mImportError\u001b[0m                               Traceback (most recent call last)",
            "\u001b[0;32m<ipython-input-3-e35030d23164>\u001b[0m in \u001b[0;36m<cell line: 0>\u001b[0;34m()\u001b[0m\n\u001b[0;32m----> 1\u001b[0;31m \u001b[0;32mimport\u001b[0m \u001b[0mgeneformer\u001b[0m\u001b[0;34m\u001b[0m\u001b[0;34m\u001b[0m\u001b[0m\n\u001b[0m\u001b[1;32m      2\u001b[0m \u001b[0;34m\u001b[0m\u001b[0m\n\u001b[1;32m      3\u001b[0m \u001b[0mprint\u001b[0m\u001b[0;34m(\u001b[0m\u001b[0mgeneformer\u001b[0m\u001b[0;34m.\u001b[0m\u001b[0m__version__\u001b[0m\u001b[0;34m)\u001b[0m\u001b[0;34m\u001b[0m\u001b[0;34m\u001b[0m\u001b[0m\n",
            "\u001b[0;32m/content/drive/MyDrive/HODD/Geneformer/geneformer/__init__.py\u001b[0m in \u001b[0;36m<module>\u001b[0;34m\u001b[0m\n\u001b[1;32m     10\u001b[0m \u001b[0mENSEMBL_MAPPING_FILE\u001b[0m \u001b[0;34m=\u001b[0m \u001b[0mPath\u001b[0m\u001b[0;34m(\u001b[0m\u001b[0m__file__\u001b[0m\u001b[0;34m)\u001b[0m\u001b[0;34m.\u001b[0m\u001b[0mparent\u001b[0m \u001b[0;34m/\u001b[0m \u001b[0;34m\"ensembl_mapping_dict_gc95M.pkl\"\u001b[0m\u001b[0;34m\u001b[0m\u001b[0;34m\u001b[0m\u001b[0m\n\u001b[1;32m     11\u001b[0m \u001b[0;34m\u001b[0m\u001b[0m\n\u001b[0;32m---> 12\u001b[0;31m from . import (\n\u001b[0m\u001b[1;32m     13\u001b[0m     \u001b[0mcollator_for_classification\u001b[0m\u001b[0;34m,\u001b[0m\u001b[0;34m\u001b[0m\u001b[0;34m\u001b[0m\u001b[0m\n\u001b[1;32m     14\u001b[0m     \u001b[0memb_extractor\u001b[0m\u001b[0;34m,\u001b[0m\u001b[0;34m\u001b[0m\u001b[0;34m\u001b[0m\u001b[0m\n",
            "\u001b[0;32m/content/drive/MyDrive/HODD/Geneformer/geneformer/emb_extractor.py\u001b[0m in \u001b[0;36m<module>\u001b[0;34m\u001b[0m\n\u001b[1;32m     26\u001b[0m \u001b[0;34m\u001b[0m\u001b[0m\n\u001b[1;32m     27\u001b[0m \u001b[0;32mfrom\u001b[0m \u001b[0;34m.\u001b[0m \u001b[0;32mimport\u001b[0m \u001b[0mTOKEN_DICTIONARY_FILE\u001b[0m\u001b[0;34m\u001b[0m\u001b[0;34m\u001b[0m\u001b[0m\n\u001b[0;32m---> 28\u001b[0;31m \u001b[0;32mfrom\u001b[0m \u001b[0;34m.\u001b[0m \u001b[0;32mimport\u001b[0m \u001b[0mperturber_utils\u001b[0m \u001b[0;32mas\u001b[0m \u001b[0mpu\u001b[0m\u001b[0;34m\u001b[0m\u001b[0;34m\u001b[0m\u001b[0m\n\u001b[0m\u001b[1;32m     29\u001b[0m \u001b[0;34m\u001b[0m\u001b[0m\n\u001b[1;32m     30\u001b[0m \u001b[0mlogger\u001b[0m \u001b[0;34m=\u001b[0m \u001b[0mlogging\u001b[0m\u001b[0;34m.\u001b[0m\u001b[0mgetLogger\u001b[0m\u001b[0;34m(\u001b[0m\u001b[0m__name__\u001b[0m\u001b[0;34m)\u001b[0m\u001b[0;34m\u001b[0m\u001b[0;34m\u001b[0m\u001b[0m\n",
            "\u001b[0;32m/content/drive/MyDrive/HODD/Geneformer/geneformer/perturber_utils.py\u001b[0m in \u001b[0;36m<module>\u001b[0;34m\u001b[0m\n\u001b[1;32m     10\u001b[0m \u001b[0;32mimport\u001b[0m \u001b[0mtorch\u001b[0m\u001b[0;34m\u001b[0m\u001b[0;34m\u001b[0m\u001b[0m\n\u001b[1;32m     11\u001b[0m \u001b[0;32mfrom\u001b[0m \u001b[0mdatasets\u001b[0m \u001b[0;32mimport\u001b[0m \u001b[0mDataset\u001b[0m\u001b[0;34m,\u001b[0m \u001b[0mload_from_disk\u001b[0m\u001b[0;34m\u001b[0m\u001b[0;34m\u001b[0m\u001b[0m\n\u001b[0;32m---> 12\u001b[0;31m \u001b[0;32mfrom\u001b[0m \u001b[0mpeft\u001b[0m \u001b[0;32mimport\u001b[0m \u001b[0mLoraConfig\u001b[0m\u001b[0;34m,\u001b[0m \u001b[0mget_peft_model\u001b[0m\u001b[0;34m\u001b[0m\u001b[0;34m\u001b[0m\u001b[0m\n\u001b[0m\u001b[1;32m     13\u001b[0m from transformers import (\n\u001b[1;32m     14\u001b[0m     \u001b[0mBertForMaskedLM\u001b[0m\u001b[0;34m,\u001b[0m\u001b[0;34m\u001b[0m\u001b[0;34m\u001b[0m\u001b[0m\n",
            "\u001b[0;32m/usr/local/lib/python3.11/dist-packages/peft/__init__.py\u001b[0m in \u001b[0;36m<module>\u001b[0;34m\u001b[0m\n\u001b[1;32m     20\u001b[0m \u001b[0m__version__\u001b[0m \u001b[0;34m=\u001b[0m \u001b[0;34m\"0.14.0\"\u001b[0m\u001b[0;34m\u001b[0m\u001b[0;34m\u001b[0m\u001b[0m\n\u001b[1;32m     21\u001b[0m \u001b[0;34m\u001b[0m\u001b[0m\n\u001b[0;32m---> 22\u001b[0;31m from .auto import (\n\u001b[0m\u001b[1;32m     23\u001b[0m     \u001b[0mAutoPeftModel\u001b[0m\u001b[0;34m,\u001b[0m\u001b[0;34m\u001b[0m\u001b[0;34m\u001b[0m\u001b[0m\n\u001b[1;32m     24\u001b[0m     \u001b[0mAutoPeftModelForCausalLM\u001b[0m\u001b[0;34m,\u001b[0m\u001b[0;34m\u001b[0m\u001b[0;34m\u001b[0m\u001b[0m\n",
            "\u001b[0;32m/usr/local/lib/python3.11/dist-packages/peft/auto.py\u001b[0m in \u001b[0;36m<module>\u001b[0;34m\u001b[0m\n\u001b[1;32m     30\u001b[0m \u001b[0;34m\u001b[0m\u001b[0m\n\u001b[1;32m     31\u001b[0m \u001b[0;32mfrom\u001b[0m \u001b[0;34m.\u001b[0m\u001b[0mconfig\u001b[0m \u001b[0;32mimport\u001b[0m \u001b[0mPeftConfig\u001b[0m\u001b[0;34m\u001b[0m\u001b[0;34m\u001b[0m\u001b[0m\n\u001b[0;32m---> 32\u001b[0;31m \u001b[0;32mfrom\u001b[0m \u001b[0;34m.\u001b[0m\u001b[0mmapping\u001b[0m \u001b[0;32mimport\u001b[0m \u001b[0mMODEL_TYPE_TO_PEFT_MODEL_MAPPING\u001b[0m\u001b[0;34m\u001b[0m\u001b[0;34m\u001b[0m\u001b[0m\n\u001b[0m\u001b[1;32m     33\u001b[0m from .peft_model import (\n\u001b[1;32m     34\u001b[0m     \u001b[0mPeftModel\u001b[0m\u001b[0;34m,\u001b[0m\u001b[0;34m\u001b[0m\u001b[0;34m\u001b[0m\u001b[0m\n",
            "\u001b[0;32m/usr/local/lib/python3.11/dist-packages/peft/mapping.py\u001b[0m in \u001b[0;36m<module>\u001b[0;34m\u001b[0m\n\u001b[1;32m     23\u001b[0m \u001b[0;34m\u001b[0m\u001b[0m\n\u001b[1;32m     24\u001b[0m \u001b[0;32mfrom\u001b[0m \u001b[0;34m.\u001b[0m\u001b[0mconfig\u001b[0m \u001b[0;32mimport\u001b[0m \u001b[0mPeftConfig\u001b[0m\u001b[0;34m\u001b[0m\u001b[0;34m\u001b[0m\u001b[0m\n\u001b[0;32m---> 25\u001b[0;31m \u001b[0;32mfrom\u001b[0m \u001b[0;34m.\u001b[0m\u001b[0mmixed_model\u001b[0m \u001b[0;32mimport\u001b[0m \u001b[0mPeftMixedModel\u001b[0m\u001b[0;34m\u001b[0m\u001b[0;34m\u001b[0m\u001b[0m\n\u001b[0m\u001b[1;32m     26\u001b[0m from .peft_model import (\n\u001b[1;32m     27\u001b[0m     \u001b[0mPeftModel\u001b[0m\u001b[0;34m,\u001b[0m\u001b[0;34m\u001b[0m\u001b[0;34m\u001b[0m\u001b[0m\n",
            "\u001b[0;32m/usr/local/lib/python3.11/dist-packages/peft/mixed_model.py\u001b[0m in \u001b[0;36m<module>\u001b[0;34m\u001b[0m\n\u001b[1;32m     27\u001b[0m \u001b[0;34m\u001b[0m\u001b[0m\n\u001b[1;32m     28\u001b[0m \u001b[0;32mfrom\u001b[0m \u001b[0;34m.\u001b[0m\u001b[0mconfig\u001b[0m \u001b[0;32mimport\u001b[0m \u001b[0mPeftConfig\u001b[0m\u001b[0;34m\u001b[0m\u001b[0;34m\u001b[0m\u001b[0m\n\u001b[0;32m---> 29\u001b[0;31m \u001b[0;32mfrom\u001b[0m \u001b[0;34m.\u001b[0m\u001b[0mpeft_model\u001b[0m \u001b[0;32mimport\u001b[0m \u001b[0mPeftModel\u001b[0m\u001b[0;34m\u001b[0m\u001b[0;34m\u001b[0m\u001b[0m\n\u001b[0m\u001b[1;32m     30\u001b[0m from .tuners import (\n\u001b[1;32m     31\u001b[0m     \u001b[0mAdaLoraModel\u001b[0m\u001b[0;34m,\u001b[0m\u001b[0;34m\u001b[0m\u001b[0;34m\u001b[0m\u001b[0m\n",
            "\u001b[0;32m/usr/local/lib/python3.11/dist-packages/peft/peft_model.py\u001b[0m in \u001b[0;36m<module>\u001b[0;34m\u001b[0m\n\u001b[1;32m     35\u001b[0m \u001b[0;32mfrom\u001b[0m \u001b[0msafetensors\u001b[0m\u001b[0;34m.\u001b[0m\u001b[0mtorch\u001b[0m \u001b[0;32mimport\u001b[0m \u001b[0msave_file\u001b[0m \u001b[0;32mas\u001b[0m \u001b[0msafe_save_file\u001b[0m\u001b[0;34m\u001b[0m\u001b[0;34m\u001b[0m\u001b[0m\n\u001b[1;32m     36\u001b[0m \u001b[0;32mfrom\u001b[0m \u001b[0mtorch\u001b[0m\u001b[0;34m.\u001b[0m\u001b[0mnn\u001b[0m \u001b[0;32mimport\u001b[0m \u001b[0mBCEWithLogitsLoss\u001b[0m\u001b[0;34m,\u001b[0m \u001b[0mCrossEntropyLoss\u001b[0m\u001b[0;34m,\u001b[0m \u001b[0mMSELoss\u001b[0m\u001b[0;34m\u001b[0m\u001b[0;34m\u001b[0m\u001b[0m\n\u001b[0;32m---> 37\u001b[0;31m \u001b[0;32mfrom\u001b[0m \u001b[0mtransformers\u001b[0m \u001b[0;32mimport\u001b[0m \u001b[0mCache\u001b[0m\u001b[0;34m,\u001b[0m \u001b[0mDynamicCache\u001b[0m\u001b[0;34m,\u001b[0m \u001b[0mEncoderDecoderCache\u001b[0m\u001b[0;34m,\u001b[0m \u001b[0mPreTrainedModel\u001b[0m\u001b[0;34m\u001b[0m\u001b[0;34m\u001b[0m\u001b[0m\n\u001b[0m\u001b[1;32m     38\u001b[0m \u001b[0;32mfrom\u001b[0m \u001b[0mtransformers\u001b[0m\u001b[0;34m.\u001b[0m\u001b[0mmodeling_outputs\u001b[0m \u001b[0;32mimport\u001b[0m \u001b[0mQuestionAnsweringModelOutput\u001b[0m\u001b[0;34m,\u001b[0m \u001b[0mSequenceClassifierOutput\u001b[0m\u001b[0;34m,\u001b[0m \u001b[0mTokenClassifierOutput\u001b[0m\u001b[0;34m\u001b[0m\u001b[0;34m\u001b[0m\u001b[0m\n\u001b[1;32m     39\u001b[0m \u001b[0;32mfrom\u001b[0m \u001b[0mtransformers\u001b[0m\u001b[0;34m.\u001b[0m\u001b[0mutils\u001b[0m \u001b[0;32mimport\u001b[0m \u001b[0mPushToHubMixin\u001b[0m\u001b[0;34m\u001b[0m\u001b[0;34m\u001b[0m\u001b[0m\n",
            "\u001b[0;31mImportError\u001b[0m: cannot import name 'Cache' from 'transformers' (/usr/local/lib/python3.11/dist-packages/transformers/__init__.py)",
            "",
            "\u001b[0;31m---------------------------------------------------------------------------\u001b[0;32m\nNOTE: If your import is failing due to a missing package, you can\nmanually install dependencies using either !pip or !apt.\n\nTo view examples of installing some common dependencies, click the\n\"Open Examples\" button below.\n\u001b[0;31m---------------------------------------------------------------------------\u001b[0m\n"
          ],
          "errorDetails": {
            "actions": [
              {
                "action": "open_url",
                "actionText": "Open Examples",
                "url": "/notebooks/snippets/importing_libraries.ipynb"
              }
            ]
          }
        }
      ]
    },
    {
      "cell_type": "code",
      "source": [],
      "metadata": {
        "id": "_fY4yg5XlDrF"
      },
      "execution_count": null,
      "outputs": []
    }
  ]
}