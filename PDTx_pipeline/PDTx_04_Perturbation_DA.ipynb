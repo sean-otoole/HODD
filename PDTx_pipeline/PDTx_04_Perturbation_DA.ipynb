{
  "nbformat": 4,
  "nbformat_minor": 0,
  "metadata": {
    "colab": {
      "provenance": [],
      "include_colab_link": true
    },
    "kernelspec": {
      "name": "python3",
      "display_name": "Python 3"
    },
    "language_info": {
      "name": "python"
    }
  },
  "cells": [
    {
      "cell_type": "markdown",
      "metadata": {
        "id": "view-in-github",
        "colab_type": "text"
      },
      "source": [
        "<a href=\"https://colab.research.google.com/github/sean-otoole/HODD/blob/main/PDTx_pipeline/PDTx_04_Perturbation_DA.ipynb\" target=\"_parent\"><img src=\"https://colab.research.google.com/assets/colab-badge.svg\" alt=\"Open In Colab\"/></a>"
      ]
    },
    {
      "cell_type": "code",
      "execution_count": null,
      "metadata": {
        "id": "5vOU4oac0Un0"
      },
      "outputs": [],
      "source": [
        "#fixes a compatibility issue with the PrecollatorForGeneAndCellClassification class\n",
        "\n",
        "!pip install --upgrade transformers==4.41\n",
        "!pip install peft==0.10.0"
      ]
    },
    {
      "cell_type": "code",
      "source": [
        "#first mount the drive\n",
        "\n",
        "from google.colab import drive\n",
        "import os\n",
        "\n",
        "# Mount Google Drive to access files\n",
        "drive.mount('/content/drive')\n",
        "\n",
        "# Change the working directory to the project folder in Google Drive\n",
        "os.chdir(\"/content/drive/MyDrive/HODD/\")\n",
        "\n",
        "# Install Git Large File Storage (LFS) for handling large files in Git repositories\n",
        "# !git lfs install\n",
        "\n",
        "#Clone the Geneformer repository (commented out to avoid repeated cloning)\n",
        "# !git clone https://huggingface.co/ctheodoris/Geneformer\n",
        "\n",
        "# Navigate to the Geneformer directory\n",
        "%cd Geneformer\n",
        "\n",
        "# Install Geneformer package locally\n",
        "# I found that installing Genformer first helped with a lot of the version conflict issues\n",
        "!pip install .\n",
        "\n",
        "# Install required libraries without outputting installation logs\n",
        "!pip install anndata scanpy tdigest datasets\n",
        "\n",
        "# Import necessary modules and libraries\n",
        "import numpy\n",
        "import transformers\n",
        "import sklearn\n",
        "import pickle\n",
        "import sklearn"
      ],
      "metadata": {
        "id": "9FSCPAf60ZhJ"
      },
      "execution_count": null,
      "outputs": []
    },
    {
      "cell_type": "code",
      "source": [
        "from geneformer import InSilicoPerturber\n",
        "from geneformer import InSilicoPerturberStats\n",
        "from geneformer import EmbExtractor"
      ],
      "metadata": {
        "id": "AENUI41ZaPpc"
      },
      "execution_count": null,
      "outputs": []
    },
    {
      "cell_type": "code",
      "source": [
        "# first obtain start, goal, and alt embedding positions\n",
        "# this function was changed to be separate from perturb_data\n",
        "# to avoid repeating calcuations when parallelizing perturb_data\n",
        "cell_states_to_model={\"state_key\": \"disease\",\n",
        "                      \"start_state\": \"Parkinson_disease\",\n",
        "                      \"goal_state\": \"normal\"}"
      ],
      "metadata": {
        "id": "kXpC5sPawN5I"
      },
      "execution_count": null,
      "outputs": []
    },
    {
      "cell_type": "code",
      "source": [
        "# OF NOTE: token_dictionary_file must be set to the gc-30M token dictionary if using a 30M series model\n",
        "# (otherwise the EmbExtractor will use the current default model dictionary)\n",
        "# 30M token dictionary: https://huggingface.co/ctheodoris/Geneformer/blob/main/geneformer/gene_dictionaries_30m/token_dictionary_gc30M.pkl\n",
        "embex = EmbExtractor(model_type=\"CellClassifier\", # if using previously fine-tuned cell classifier model\n",
        "                     num_classes=2,\n",
        "                     filter_data=filter_data_dict,\n",
        "                     max_ncells=1000,\n",
        "                     emb_layer=0,\n",
        "                     summary_stat=\"exact_mean\",\n",
        "                     forward_batch_size=256,\n",
        "                     nproc=16)"
      ],
      "metadata": {
        "id": "O6eDN9M5wQDj"
      },
      "execution_count": null,
      "outputs": []
    },
    {
      "cell_type": "code",
      "source": [
        "state_embs_dict = embex.get_state_embs(cell_states_to_model,\n",
        "                                       \"../fine_tuned_models/gf-6L-30M-i2048_CellClassifier_cardiomyopathies_220224\", # example 30M fine-tuned model\n",
        "                                       \"path/to/input_data\",\n",
        "                                       \"path/to/output_directory\",\n",
        "                                       \"output_prefix\")"
      ],
      "metadata": {
        "id": "kxzvvmQXwQM8"
      },
      "execution_count": null,
      "outputs": []
    },
    {
      "cell_type": "code",
      "source": [
        "# OF NOTE: token_dictionary_file must be set to the gc-30M token dictionary if using a 30M series model\n",
        "# (otherwise the InSilicoPerturber will use the current default model dictionary)\n",
        "# 30M token dictionary: https://huggingface.co/ctheodoris/Geneformer/blob/main/geneformer/gene_dictionaries_30m/token_dictionary_gc30M.pkl\n",
        "isp = InSilicoPerturber(perturb_type=\"delete\",\n",
        "                        perturb_rank_shift=None,\n",
        "                        genes_to_perturb=\"all\",\n",
        "                        combos=0,\n",
        "                        anchor_gene=None,\n",
        "                        model_type=\"CellClassifier\", # if using previously fine-tuned cell classifier model\n",
        "                        num_classes=3,\n",
        "                        emb_mode=\"cell\",\n",
        "                        cell_emb_style=\"mean_pool\",\n",
        "                        filter_data=filter_data_dict,\n",
        "                        cell_states_to_model=cell_states_to_model,\n",
        "                        state_embs_dict=state_embs_dict,\n",
        "                        max_ncells=2000,\n",
        "                        emb_layer=0,\n",
        "                        forward_batch_size=400,\n",
        "                        nproc=16)"
      ],
      "metadata": {
        "id": "Q6rb8_mMwZUx"
      },
      "execution_count": null,
      "outputs": []
    },
    {
      "cell_type": "code",
      "source": [
        "# outputs intermediate files from in silico perturbation\n",
        "\n",
        "isp.perturb_data(\"../fine_tuned_models/gf-6L-30M-i2048_CellClassifier_cardiomyopathies_220224\", # example 30M fine-tuned model\n",
        "                 \"path/to/input_data\",\n",
        "                 \"path/to/isp_output_directory\",\n",
        "                 \"output_prefix\")"
      ],
      "metadata": {
        "id": "1R-26Tn2wcAO"
      },
      "execution_count": null,
      "outputs": []
    },
    {
      "cell_type": "code",
      "source": [
        "# OF NOTE: token_dictionary_file must be set to the gc-30M token dictionary if using a 30M series model\n",
        "# (otherwise the InSilicoPerturberStats will use the current default model dictionary)\n",
        "# 30M token dictionary: https://huggingface.co/ctheodoris/Geneformer/blob/main/geneformer/gene_dictionaries_30m/token_dictionary_gc30M.pkl\n",
        "ispstats = InSilicoPerturberStats(mode=\"goal_state_shift\",\n",
        "                                  genes_perturbed=\"all\",\n",
        "                                  combos=0,\n",
        "                                  anchor_gene=None,\n",
        "                                  cell_states_to_model=cell_states_to_model)"
      ],
      "metadata": {
        "id": "38lFa_J9welf"
      },
      "execution_count": null,
      "outputs": []
    },
    {
      "cell_type": "code",
      "source": [
        "# extracts data from intermediate files and processes stats to output in final .csv\n",
        "ispstats.get_stats(\"path/to/isp_output_directory\", # this should be the directory\n",
        "                   None,\n",
        "                   \"path/to/isp_stats_output_directory\",\n",
        "                   \"output_prefix\")"
      ],
      "metadata": {
        "id": "mzZl-G4_wevJ"
      },
      "execution_count": null,
      "outputs": []
    }
  ]
}