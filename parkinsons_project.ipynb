{
  "nbformat": 4,
  "nbformat_minor": 0,
  "metadata": {
    "colab": {
      "provenance": [],
      "mount_file_id": "1nh0YAl3JjQWajP71nXc825JvwpQf5PBU",
      "authorship_tag": "ABX9TyPpvKyDlMnEwV+ZJs0si5QI",
      "include_colab_link": true
    },
    "kernelspec": {
      "name": "python3",
      "display_name": "Python 3"
    },
    "language_info": {
      "name": "python"
    }
  },
  "cells": [
    {
      "cell_type": "markdown",
      "metadata": {
        "id": "view-in-github",
        "colab_type": "text"
      },
      "source": [
        "<a href=\"https://colab.research.google.com/github/sean-otoole/HODD/blob/main/parkinsons_project.ipynb\" target=\"_parent\"><img src=\"https://colab.research.google.com/assets/colab-badge.svg\" alt=\"Open In Colab\"/></a>"
      ]
    },
    {
      "cell_type": "code",
      "execution_count": null,
      "metadata": {
        "colab": {
          "base_uri": "https://localhost:8080/"
        },
        "id": "5-9QugKYEdVk",
        "outputId": "7047d07d-21d0-4646-e47e-a8fed2e79206"
      },
      "outputs": [
        {
          "output_type": "stream",
          "name": "stdout",
          "text": [
            "    RP11-34P13.3 RP11-34P13.3.1  Gene Expression\n",
            "0        FAM138A        FAM138A  Gene Expression\n",
            "1          OR4F5          OR4F5  Gene Expression\n",
            "2   RP11-34P13.7   RP11-34P13.7  Gene Expression\n",
            "3   RP11-34P13.8   RP11-34P13.8  Gene Expression\n",
            "4  RP11-34P13.14  RP11-34P13.14  Gene Expression\n",
            "(41624, 3)\n"
          ]
        }
      ],
      "source": [
        "import pandas as pd\n",
        "\n",
        "tsv_path = '/content/drive/MyDrive/HODD/Kamath_et_al_2022/Homo_features.tsv'\n",
        "df = pd.read_csv(tsv_path, sep='\\t')\n",
        "print(df.head())\n",
        "\n",
        "print(df.shape)"
      ]
    },
    {
      "cell_type": "code",
      "source": [],
      "metadata": {
        "id": "y6f8VYypEin0"
      },
      "execution_count": null,
      "outputs": []
    },
    {
      "cell_type": "code",
      "source": [],
      "metadata": {
        "id": "1EGfIqbn3AKn"
      },
      "execution_count": null,
      "outputs": []
    }
  ]
}